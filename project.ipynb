{
 "cells": [
  {
   "cell_type": "markdown",
   "metadata": {},
   "source": [
    "**Imports**"
   ]
  },
  {
   "cell_type": "code",
   "execution_count": 49,
   "metadata": {},
   "outputs": [],
   "source": [
    "import time\n",
    "import numpy as np\n",
    "import optuna\n",
    "import optuna.visualization as vis\n",
    "from sklearn.datasets import load_digits\n",
    "from sklearn.model_selection import train_test_split, cross_val_score\n",
    "from sklearn.ensemble import RandomForestClassifier\n",
    "from sklearn.metrics import accuracy_score\n",
    "import matplotlib.pyplot as plt"
   ]
  },
  {
   "cell_type": "markdown",
   "metadata": {},
   "source": [
    "**Load data**"
   ]
  },
  {
   "cell_type": "code",
   "execution_count": 50,
   "metadata": {},
   "outputs": [],
   "source": [
    "def load_data():\n",
    "    digits = load_digits()\n",
    "    X_train, X_test, y_train, y_test = train_test_split(\n",
    "        digits.data, digits.target, test_size=0.2, random_state=42\n",
    "    )\n",
    "    return X_train, X_test, y_train, y_test\n",
    "\n",
    "X_train, X_test, y_train, y_test = load_data()\n"
   ]
  },
  {
   "cell_type": "markdown",
   "metadata": {},
   "source": [
    "**OPTIMIZATIONS**"
   ]
  },
  {
   "cell_type": "code",
   "execution_count": null,
   "metadata": {},
   "outputs": [],
   "source": [
    "SEED = 42"
   ]
  },
  {
   "cell_type": "markdown",
   "metadata": {},
   "source": [
    "**Grid Search**"
   ]
  },
  {
   "cell_type": "code",
   "execution_count": null,
   "metadata": {},
   "outputs": [],
   "source": [
    "def grid_search(trial):\n",
    "    n_estimators = trial.suggest_categorical(\"n_estimators\", [50, 100, 200])\n",
    "    max_depth = trial.suggest_categorical(\"max_depth\", [None, 10, 20])\n",
    "    min_samples_split = trial.suggest_categorical(\"min_samples_split\", [2, 5, 10])\n",
    "    \n",
    "    clf = RandomForestClassifier(\n",
    "        n_estimators=n_estimators, max_depth=max_depth, min_samples_split=min_samples_split, random_state=SEED\n",
    "    )\n",
    "    return np.mean(cross_val_score(clf, X_train, y_train, cv=3, n_jobs=-1))"
   ]
  },
  {
   "cell_type": "markdown",
   "metadata": {},
   "source": [
    "**Random Search**"
   ]
  },
  {
   "cell_type": "code",
   "execution_count": null,
   "metadata": {},
   "outputs": [],
   "source": [
    "def random_search(trial):\n",
    "    n_estimators = trial.suggest_int(\"n_estimators\", 50, 200, step=50)\n",
    "    max_depth = trial.suggest_categorical(\"max_depth\", [None, 10, 20])\n",
    "    min_samples_split = trial.suggest_int(\"min_samples_split\", 2, 10, step=3)\n",
    "    \n",
    "    clf = RandomForestClassifier(\n",
    "        n_estimators=n_estimators, max_depth=max_depth, min_samples_split=min_samples_split, random_state=SEED\n",
    "    )\n",
    "    return np.mean(cross_val_score(clf, X_train, y_train, cv=3, n_jobs=-1))"
   ]
  },
  {
   "cell_type": "markdown",
   "metadata": {},
   "source": [
    "**Bayesian Search**"
   ]
  },
  {
   "cell_type": "code",
   "execution_count": 53,
   "metadata": {},
   "outputs": [],
   "source": [
    "def bayesian_search(trial):\n",
    "    n_estimators = trial.suggest_int(\"n_estimators\", 50, 200, step=50)\n",
    "    max_depth = trial.suggest_categorical(\"max_depth\", [None, 10, 20])\n",
    "    min_samples_split = trial.suggest_int(\"min_samples_split\", 2, 10, step=3)\n",
    "    \n",
    "    clf = RandomForestClassifier(\n",
    "        n_estimators=n_estimators, max_depth=max_depth, min_samples_split=min_samples_split, random_state=42\n",
    "    )\n",
    "    return np.mean(cross_val_score(clf, X_train, y_train, cv=3, n_jobs=-1))"
   ]
  },
  {
   "cell_type": "markdown",
   "metadata": {},
   "source": [
    "**Base model**"
   ]
  },
  {
   "cell_type": "code",
   "execution_count": null,
   "metadata": {},
   "outputs": [],
   "source": [
    "def baseline_model():\n",
    "    clf = RandomForestClassifier(random_state=SEED)\n",
    "    return np.mean(cross_val_score(clf, X_train, y_train, cv=3, n_jobs=-1))"
   ]
  },
  {
   "cell_type": "markdown",
   "metadata": {},
   "source": [
    "**Run the optimizations**"
   ]
  },
  {
   "cell_type": "code",
   "execution_count": 55,
   "metadata": {},
   "outputs": [],
   "source": [
    "def run_optimization():\n",
    "    global X_train, X_test, y_train, y_test\n",
    "    X_train, X_test, y_train, y_test = load_data()\n",
    "    \n",
    "    studies = {}\n",
    "    execution_times = {}\n",
    "    \n",
    "    print(\"Running Baseline Model...\")\n",
    "    start_time = time.time()\n",
    "    baseline_accuracy = baseline_model()\n",
    "    end_time = time.time()\n",
    "    baseline_time = end_time - start_time\n",
    "    print(f\"Baseline Model Accuracy: {baseline_accuracy:.4f}, Time: {baseline_time:.2f}s\")\n",
    "    \n",
    "    execution_times[\"Baseline\"] = baseline_time\n",
    "    \n",
    "    for name, objective in zip([\"Grid search\", \"Random search\", \"Bayesian search\"], \n",
    "                               [grid_search, random_search, bayesian_search]):\n",
    "        print(f\"Running {name} Optimization...\")\n",
    "        study = optuna.create_study(direction=\"maximize\")\n",
    "        start_time = time.time()\n",
    "        study.optimize(objective, n_trials=50)\n",
    "        end_time = time.time()\n",
    "        execution_time = end_time - start_time\n",
    "        print(f\"Best Parameters ({name}): {study.best_params}, Time: {execution_time:.2f}s\")\n",
    "        studies[name] = study\n",
    "        execution_times[name] = execution_time\n",
    "    \n",
    "    return studies, execution_times\n"
   ]
  },
  {
   "cell_type": "markdown",
   "metadata": {},
   "source": [
    "**List of Searches for the plotting**"
   ]
  },
  {
   "cell_type": "code",
   "execution_count": 56,
   "metadata": {},
   "outputs": [
    {
     "name": "stderr",
     "output_type": "stream",
     "text": [
      "[I 2025-03-29 00:36:38,821] A new study created in memory with name: no-name-bae8afff-9475-46bf-84cd-8f5fb84474da\n",
      "[I 2025-03-29 00:36:38,823] A new study created in memory with name: no-name-f223f130-1535-4fd9-9932-390fd7c739a4\n",
      "[I 2025-03-29 00:36:38,825] A new study created in memory with name: no-name-b999d6f1-a063-4d43-91cc-bb32415c803f\n"
     ]
    }
   ],
   "source": [
    "execution_times = {}\n",
    "\n",
    "# Run the optimization and get the studies and execution times and set the seed to ensure reproducibility\n",
    "studies = {\n",
    "    \"grid\": optuna.create_study(direction=\"maximize\", sampler=optuna.samplers.TPESampler(seed=42)),\n",
    "    \"random\": optuna.create_study(direction=\"maximize\", sampler=optuna.samplers.TPESampler(seed=42)),\n",
    "    \"bayesian\": optuna.create_study(direction=\"maximize\", sampler=optuna.samplers.TPESampler(seed=42)),\n",
    "}\n",
    "\n",
    "for name, study in studies.items():\n",
    "    study.study_name = name"
   ]
  },
  {
   "cell_type": "markdown",
   "metadata": {},
   "source": [
    "**Plotting**"
   ]
  },
  {
   "cell_type": "code",
<<<<<<< HEAD
   "execution_count": null,
=======
   "execution_count": 57,
>>>>>>> cb0f7f0bcb20e222c246b7b4614caf87cb743d22
   "metadata": {},
   "outputs": [
    {
     "name": "stdout",
     "output_type": "stream",
     "text": [
      "Running Baseline Model...\n"
     ]
    },
    {
     "name": "stderr",
     "output_type": "stream",
     "text": [
      "[I 2025-03-29 00:36:51,695] A new study created in memory with name: no-name-752458b7-e722-474e-b512-4b6f20748b25\n"
     ]
    },
    {
     "name": "stdout",
     "output_type": "stream",
     "text": [
      "Baseline Model Accuracy: 0.9701, Time: 12.83s\n",
      "Running Grid search Optimization...\n"
     ]
    },
    {
     "name": "stderr",
     "output_type": "stream",
     "text": [
      "[I 2025-03-29 00:36:54,029] Trial 0 finished with value: 0.9624217118997912 and parameters: {'n_estimators': 200, 'max_depth': 10, 'min_samples_split': 10}. Best is trial 0 with value: 0.9624217118997912.\n",
      "[I 2025-03-29 00:36:55,799] Trial 1 finished with value: 0.9589422407794016 and parameters: {'n_estimators': 50, 'max_depth': 10, 'min_samples_split': 5}. Best is trial 0 with value: 0.9624217118997912.\n",
      "[I 2025-03-29 00:36:58,376] Trial 2 finished with value: 0.9728601252609604 and parameters: {'n_estimators': 200, 'max_depth': 10, 'min_samples_split': 2}. Best is trial 2 with value: 0.9728601252609604.\n",
      "[I 2025-03-29 00:36:58,660] Trial 3 finished with value: 0.9631176061238692 and parameters: {'n_estimators': 50, 'max_depth': None, 'min_samples_split': 2}. Best is trial 2 with value: 0.9728601252609604.\n",
      "[I 2025-03-29 00:36:59,560] Trial 4 finished with value: 0.9728601252609604 and parameters: {'n_estimators': 200, 'max_depth': 10, 'min_samples_split': 2}. Best is trial 2 with value: 0.9728601252609604.\n",
      "[I 2025-03-29 00:36:59,973] Trial 5 finished with value: 0.9700765483646486 and parameters: {'n_estimators': 100, 'max_depth': None, 'min_samples_split': 2}. Best is trial 2 with value: 0.9728601252609604.\n",
      "[I 2025-03-29 00:37:00,458] Trial 6 finished with value: 0.9659011830201809 and parameters: {'n_estimators': 100, 'max_depth': 20, 'min_samples_split': 5}. Best is trial 2 with value: 0.9728601252609604.\n",
      "[I 2025-03-29 00:37:01,445] Trial 7 finished with value: 0.9686847599164926 and parameters: {'n_estimators': 200, 'max_depth': 20, 'min_samples_split': 2}. Best is trial 2 with value: 0.9728601252609604.\n",
      "[I 2025-03-29 00:37:02,362] Trial 8 finished with value: 0.9686847599164926 and parameters: {'n_estimators': 200, 'max_depth': None, 'min_samples_split': 2}. Best is trial 2 with value: 0.9728601252609604.\n",
      "[I 2025-03-29 00:37:02,623] Trial 9 finished with value: 0.9631176061238692 and parameters: {'n_estimators': 50, 'max_depth': 20, 'min_samples_split': 2}. Best is trial 2 with value: 0.9728601252609604.\n",
      "[I 2025-03-29 00:37:03,515] Trial 10 finished with value: 0.9624217118997912 and parameters: {'n_estimators': 200, 'max_depth': 10, 'min_samples_split': 10}. Best is trial 2 with value: 0.9728601252609604.\n",
      "[I 2025-03-29 00:37:04,304] Trial 11 finished with value: 0.9728601252609604 and parameters: {'n_estimators': 200, 'max_depth': 10, 'min_samples_split': 2}. Best is trial 2 with value: 0.9728601252609604.\n",
      "[I 2025-03-29 00:37:05,056] Trial 12 finished with value: 0.9728601252609604 and parameters: {'n_estimators': 200, 'max_depth': 10, 'min_samples_split': 2}. Best is trial 2 with value: 0.9728601252609604.\n",
      "[I 2025-03-29 00:37:05,790] Trial 13 finished with value: 0.9624217118997912 and parameters: {'n_estimators': 200, 'max_depth': 10, 'min_samples_split': 10}. Best is trial 2 with value: 0.9728601252609604.\n",
      "[I 2025-03-29 00:37:06,587] Trial 14 finished with value: 0.9728601252609604 and parameters: {'n_estimators': 200, 'max_depth': 10, 'min_samples_split': 2}. Best is trial 2 with value: 0.9728601252609604.\n",
      "[I 2025-03-29 00:37:06,978] Trial 15 finished with value: 0.9638135003479471 and parameters: {'n_estimators': 100, 'max_depth': 10, 'min_samples_split': 5}. Best is trial 2 with value: 0.9728601252609604.\n",
      "[I 2025-03-29 00:37:07,765] Trial 16 finished with value: 0.9728601252609604 and parameters: {'n_estimators': 200, 'max_depth': 10, 'min_samples_split': 2}. Best is trial 2 with value: 0.9728601252609604.\n",
      "[I 2025-03-29 00:37:08,520] Trial 17 finished with value: 0.9728601252609604 and parameters: {'n_estimators': 200, 'max_depth': 10, 'min_samples_split': 2}. Best is trial 2 with value: 0.9728601252609604.\n",
      "[I 2025-03-29 00:37:08,712] Trial 18 finished with value: 0.9540709812108559 and parameters: {'n_estimators': 50, 'max_depth': 20, 'min_samples_split': 10}. Best is trial 2 with value: 0.9728601252609604.\n",
      "[I 2025-03-29 00:37:09,104] Trial 19 finished with value: 0.9659011830201809 and parameters: {'n_estimators': 100, 'max_depth': None, 'min_samples_split': 5}. Best is trial 2 with value: 0.9728601252609604.\n",
      "[I 2025-03-29 00:37:09,879] Trial 20 finished with value: 0.9728601252609604 and parameters: {'n_estimators': 200, 'max_depth': 10, 'min_samples_split': 2}. Best is trial 2 with value: 0.9728601252609604.\n",
      "[I 2025-03-29 00:37:10,655] Trial 21 finished with value: 0.9728601252609604 and parameters: {'n_estimators': 200, 'max_depth': 10, 'min_samples_split': 2}. Best is trial 2 with value: 0.9728601252609604.\n",
      "[I 2025-03-29 00:37:11,678] Trial 22 finished with value: 0.9728601252609604 and parameters: {'n_estimators': 200, 'max_depth': 10, 'min_samples_split': 2}. Best is trial 2 with value: 0.9728601252609604.\n",
      "[I 2025-03-29 00:37:12,478] Trial 23 finished with value: 0.9728601252609604 and parameters: {'n_estimators': 200, 'max_depth': 10, 'min_samples_split': 2}. Best is trial 2 with value: 0.9728601252609604.\n",
      "[I 2025-03-29 00:37:13,294] Trial 24 finished with value: 0.9728601252609604 and parameters: {'n_estimators': 200, 'max_depth': 10, 'min_samples_split': 2}. Best is trial 2 with value: 0.9728601252609604.\n",
      "[I 2025-03-29 00:37:14,123] Trial 25 finished with value: 0.9728601252609604 and parameters: {'n_estimators': 200, 'max_depth': 10, 'min_samples_split': 2}. Best is trial 2 with value: 0.9728601252609604.\n",
      "[I 2025-03-29 00:37:14,897] Trial 26 finished with value: 0.9728601252609604 and parameters: {'n_estimators': 200, 'max_depth': 10, 'min_samples_split': 2}. Best is trial 2 with value: 0.9728601252609604.\n",
      "[I 2025-03-29 00:37:15,669] Trial 27 finished with value: 0.9728601252609604 and parameters: {'n_estimators': 200, 'max_depth': 10, 'min_samples_split': 2}. Best is trial 2 with value: 0.9728601252609604.\n",
      "[I 2025-03-29 00:37:16,038] Trial 28 finished with value: 0.9561586638830897 and parameters: {'n_estimators': 100, 'max_depth': 20, 'min_samples_split': 10}. Best is trial 2 with value: 0.9728601252609604.\n",
      "[I 2025-03-29 00:37:16,245] Trial 29 finished with value: 0.9631176061238692 and parameters: {'n_estimators': 50, 'max_depth': None, 'min_samples_split': 5}. Best is trial 2 with value: 0.9728601252609604.\n",
      "[I 2025-03-29 00:37:17,093] Trial 30 finished with value: 0.9624217118997912 and parameters: {'n_estimators': 200, 'max_depth': 10, 'min_samples_split': 10}. Best is trial 2 with value: 0.9728601252609604.\n",
      "[I 2025-03-29 00:37:17,845] Trial 31 finished with value: 0.9728601252609604 and parameters: {'n_estimators': 200, 'max_depth': 10, 'min_samples_split': 2}. Best is trial 2 with value: 0.9728601252609604.\n",
      "[I 2025-03-29 00:37:18,676] Trial 32 finished with value: 0.9728601252609604 and parameters: {'n_estimators': 200, 'max_depth': 10, 'min_samples_split': 2}. Best is trial 2 with value: 0.9728601252609604.\n",
      "[I 2025-03-29 00:37:19,520] Trial 33 finished with value: 0.9728601252609604 and parameters: {'n_estimators': 200, 'max_depth': 10, 'min_samples_split': 2}. Best is trial 2 with value: 0.9728601252609604.\n",
      "[I 2025-03-29 00:37:19,736] Trial 34 finished with value: 0.965205288796103 and parameters: {'n_estimators': 50, 'max_depth': 10, 'min_samples_split': 2}. Best is trial 2 with value: 0.9728601252609604.\n",
      "[I 2025-03-29 00:37:20,445] Trial 35 finished with value: 0.9728601252609604 and parameters: {'n_estimators': 200, 'max_depth': 10, 'min_samples_split': 2}. Best is trial 2 with value: 0.9728601252609604.\n",
      "[I 2025-03-29 00:37:21,268] Trial 36 finished with value: 0.964509394572025 and parameters: {'n_estimators': 200, 'max_depth': None, 'min_samples_split': 5}. Best is trial 2 with value: 0.9728601252609604.\n",
      "[I 2025-03-29 00:37:21,628] Trial 37 finished with value: 0.9707724425887264 and parameters: {'n_estimators': 100, 'max_depth': 10, 'min_samples_split': 2}. Best is trial 2 with value: 0.9728601252609604.\n",
      "[I 2025-03-29 00:37:22,350] Trial 38 finished with value: 0.9686847599164926 and parameters: {'n_estimators': 200, 'max_depth': 20, 'min_samples_split': 2}. Best is trial 2 with value: 0.9728601252609604.\n",
      "[I 2025-03-29 00:37:22,555] Trial 39 finished with value: 0.9631176061238692 and parameters: {'n_estimators': 50, 'max_depth': None, 'min_samples_split': 2}. Best is trial 2 with value: 0.9728601252609604.\n",
      "[I 2025-03-29 00:37:23,559] Trial 40 finished with value: 0.9728601252609604 and parameters: {'n_estimators': 200, 'max_depth': 10, 'min_samples_split': 2}. Best is trial 2 with value: 0.9728601252609604.\n",
      "[I 2025-03-29 00:37:24,336] Trial 41 finished with value: 0.9728601252609604 and parameters: {'n_estimators': 200, 'max_depth': 10, 'min_samples_split': 2}. Best is trial 2 with value: 0.9728601252609604.\n",
      "[I 2025-03-29 00:37:25,042] Trial 42 finished with value: 0.9728601252609604 and parameters: {'n_estimators': 200, 'max_depth': 10, 'min_samples_split': 2}. Best is trial 2 with value: 0.9728601252609604.\n",
      "[I 2025-03-29 00:37:25,764] Trial 43 finished with value: 0.9728601252609604 and parameters: {'n_estimators': 200, 'max_depth': 10, 'min_samples_split': 2}. Best is trial 2 with value: 0.9728601252609604.\n",
      "[I 2025-03-29 00:37:26,496] Trial 44 finished with value: 0.9728601252609604 and parameters: {'n_estimators': 200, 'max_depth': 10, 'min_samples_split': 2}. Best is trial 2 with value: 0.9728601252609604.\n",
      "[I 2025-03-29 00:37:27,226] Trial 45 finished with value: 0.964509394572025 and parameters: {'n_estimators': 200, 'max_depth': 10, 'min_samples_split': 5}. Best is trial 2 with value: 0.9728601252609604.\n",
      "[I 2025-03-29 00:37:27,619] Trial 46 finished with value: 0.9561586638830897 and parameters: {'n_estimators': 100, 'max_depth': 20, 'min_samples_split': 10}. Best is trial 2 with value: 0.9728601252609604.\n",
      "[I 2025-03-29 00:37:28,548] Trial 47 finished with value: 0.9728601252609604 and parameters: {'n_estimators': 200, 'max_depth': 10, 'min_samples_split': 2}. Best is trial 2 with value: 0.9728601252609604.\n",
      "[I 2025-03-29 00:37:29,393] Trial 48 finished with value: 0.9728601252609604 and parameters: {'n_estimators': 200, 'max_depth': 10, 'min_samples_split': 2}. Best is trial 2 with value: 0.9728601252609604.\n",
      "[I 2025-03-29 00:37:29,610] Trial 49 finished with value: 0.9631176061238692 and parameters: {'n_estimators': 50, 'max_depth': None, 'min_samples_split': 2}. Best is trial 2 with value: 0.9728601252609604.\n",
      "[I 2025-03-29 00:37:29,611] A new study created in memory with name: no-name-e761f15a-9964-4a36-889b-6b1011f8cd5f\n",
      "c:\\Users\\901219015\\Desktop\\UNI\\Master\\Spring_Semester\\Optimization_for_ML\\venv\\Lib\\site-packages\\optuna\\distributions.py:699: UserWarning:\n",
      "\n",
      "The distribution is specified by [2, 10] and step=3, but the range is not divisible by `step`. It will be replaced by [2, 8].\n",
      "\n"
     ]
    },
    {
     "name": "stdout",
     "output_type": "stream",
     "text": [
      "Best Parameters (Grid search): {'n_estimators': 200, 'max_depth': 10, 'min_samples_split': 2}, Time: 37.92s\n",
      "Running Random search Optimization...\n"
     ]
    },
    {
     "name": "stderr",
     "output_type": "stream",
     "text": [
      "[I 2025-03-29 00:37:30,022] Trial 0 finished with value: 0.9659011830201809 and parameters: {'n_estimators': 100, 'max_depth': None, 'min_samples_split': 5}. Best is trial 0 with value: 0.9659011830201809.\n",
      "c:\\Users\\901219015\\Desktop\\UNI\\Master\\Spring_Semester\\Optimization_for_ML\\venv\\Lib\\site-packages\\optuna\\distributions.py:699: UserWarning:\n",
      "\n",
      "The distribution is specified by [2, 10] and step=3, but the range is not divisible by `step`. It will be replaced by [2, 8].\n",
      "\n",
      "[I 2025-03-29 00:37:30,226] Trial 1 finished with value: 0.9617258176757133 and parameters: {'n_estimators': 50, 'max_depth': None, 'min_samples_split': 8}. Best is trial 0 with value: 0.9659011830201809.\n",
      "c:\\Users\\901219015\\Desktop\\UNI\\Master\\Spring_Semester\\Optimization_for_ML\\venv\\Lib\\site-packages\\optuna\\distributions.py:699: UserWarning:\n",
      "\n",
      "The distribution is specified by [2, 10] and step=3, but the range is not divisible by `step`. It will be replaced by [2, 8].\n",
      "\n",
      "[I 2025-03-29 00:37:30,439] Trial 2 finished with value: 0.9617258176757133 and parameters: {'n_estimators': 50, 'max_depth': None, 'min_samples_split': 8}. Best is trial 0 with value: 0.9659011830201809.\n",
      "c:\\Users\\901219015\\Desktop\\UNI\\Master\\Spring_Semester\\Optimization_for_ML\\venv\\Lib\\site-packages\\optuna\\distributions.py:699: UserWarning:\n",
      "\n",
      "The distribution is specified by [2, 10] and step=3, but the range is not divisible by `step`. It will be replaced by [2, 8].\n",
      "\n",
      "[I 2025-03-29 00:37:31,381] Trial 3 finished with value: 0.9686847599164926 and parameters: {'n_estimators': 200, 'max_depth': None, 'min_samples_split': 2}. Best is trial 3 with value: 0.9686847599164926.\n",
      "c:\\Users\\901219015\\Desktop\\UNI\\Master\\Spring_Semester\\Optimization_for_ML\\venv\\Lib\\site-packages\\optuna\\distributions.py:699: UserWarning:\n",
      "\n",
      "The distribution is specified by [2, 10] and step=3, but the range is not divisible by `step`. It will be replaced by [2, 8].\n",
      "\n",
      "[I 2025-03-29 00:37:32,165] Trial 4 finished with value: 0.9686847599164926 and parameters: {'n_estimators': 200, 'max_depth': None, 'min_samples_split': 2}. Best is trial 3 with value: 0.9686847599164926.\n",
      "c:\\Users\\901219015\\Desktop\\UNI\\Master\\Spring_Semester\\Optimization_for_ML\\venv\\Lib\\site-packages\\optuna\\distributions.py:699: UserWarning:\n",
      "\n",
      "The distribution is specified by [2, 10] and step=3, but the range is not divisible by `step`. It will be replaced by [2, 8].\n",
      "\n",
      "[I 2025-03-29 00:37:32,369] Trial 5 finished with value: 0.9631176061238692 and parameters: {'n_estimators': 50, 'max_depth': None, 'min_samples_split': 5}. Best is trial 3 with value: 0.9686847599164926.\n",
      "c:\\Users\\901219015\\Desktop\\UNI\\Master\\Spring_Semester\\Optimization_for_ML\\venv\\Lib\\site-packages\\optuna\\distributions.py:699: UserWarning:\n",
      "\n",
      "The distribution is specified by [2, 10] and step=3, but the range is not divisible by `step`. It will be replaced by [2, 8].\n",
      "\n",
      "[I 2025-03-29 00:37:32,759] Trial 6 finished with value: 0.9659011830201809 and parameters: {'n_estimators': 100, 'max_depth': 20, 'min_samples_split': 5}. Best is trial 3 with value: 0.9686847599164926.\n",
      "c:\\Users\\901219015\\Desktop\\UNI\\Master\\Spring_Semester\\Optimization_for_ML\\venv\\Lib\\site-packages\\optuna\\distributions.py:699: UserWarning:\n",
      "\n",
      "The distribution is specified by [2, 10] and step=3, but the range is not divisible by `step`. It will be replaced by [2, 8].\n",
      "\n",
      "[I 2025-03-29 00:37:33,534] Trial 7 finished with value: 0.9665970772442588 and parameters: {'n_estimators': 200, 'max_depth': None, 'min_samples_split': 8}. Best is trial 3 with value: 0.9686847599164926.\n",
      "c:\\Users\\901219015\\Desktop\\UNI\\Master\\Spring_Semester\\Optimization_for_ML\\venv\\Lib\\site-packages\\optuna\\distributions.py:699: UserWarning:\n",
      "\n",
      "The distribution is specified by [2, 10] and step=3, but the range is not divisible by `step`. It will be replaced by [2, 8].\n",
      "\n",
      "[I 2025-03-29 00:37:33,782] Trial 8 finished with value: 0.9631176061238692 and parameters: {'n_estimators': 50, 'max_depth': 20, 'min_samples_split': 5}. Best is trial 3 with value: 0.9686847599164926.\n",
      "c:\\Users\\901219015\\Desktop\\UNI\\Master\\Spring_Semester\\Optimization_for_ML\\venv\\Lib\\site-packages\\optuna\\distributions.py:699: UserWarning:\n",
      "\n",
      "The distribution is specified by [2, 10] and step=3, but the range is not divisible by `step`. It will be replaced by [2, 8].\n",
      "\n",
      "[I 2025-03-29 00:37:34,020] Trial 9 finished with value: 0.9561586638830898 and parameters: {'n_estimators': 50, 'max_depth': 10, 'min_samples_split': 8}. Best is trial 3 with value: 0.9686847599164926.\n",
      "c:\\Users\\901219015\\Desktop\\UNI\\Master\\Spring_Semester\\Optimization_for_ML\\venv\\Lib\\site-packages\\optuna\\distributions.py:699: UserWarning:\n",
      "\n",
      "The distribution is specified by [2, 10] and step=3, but the range is not divisible by `step`. It will be replaced by [2, 8].\n",
      "\n",
      "[I 2025-03-29 00:37:34,697] Trial 10 finished with value: 0.9700765483646485 and parameters: {'n_estimators': 150, 'max_depth': 10, 'min_samples_split': 2}. Best is trial 10 with value: 0.9700765483646485.\n",
      "c:\\Users\\901219015\\Desktop\\UNI\\Master\\Spring_Semester\\Optimization_for_ML\\venv\\Lib\\site-packages\\optuna\\distributions.py:699: UserWarning:\n",
      "\n",
      "The distribution is specified by [2, 10] and step=3, but the range is not divisible by `step`. It will be replaced by [2, 8].\n",
      "\n",
      "[I 2025-03-29 00:37:35,388] Trial 11 finished with value: 0.9700765483646485 and parameters: {'n_estimators': 150, 'max_depth': 10, 'min_samples_split': 2}. Best is trial 10 with value: 0.9700765483646485.\n",
      "c:\\Users\\901219015\\Desktop\\UNI\\Master\\Spring_Semester\\Optimization_for_ML\\venv\\Lib\\site-packages\\optuna\\distributions.py:699: UserWarning:\n",
      "\n",
      "The distribution is specified by [2, 10] and step=3, but the range is not divisible by `step`. It will be replaced by [2, 8].\n",
      "\n",
      "[I 2025-03-29 00:37:35,998] Trial 12 finished with value: 0.9700765483646485 and parameters: {'n_estimators': 150, 'max_depth': 10, 'min_samples_split': 2}. Best is trial 10 with value: 0.9700765483646485.\n",
      "c:\\Users\\901219015\\Desktop\\UNI\\Master\\Spring_Semester\\Optimization_for_ML\\venv\\Lib\\site-packages\\optuna\\distributions.py:699: UserWarning:\n",
      "\n",
      "The distribution is specified by [2, 10] and step=3, but the range is not divisible by `step`. It will be replaced by [2, 8].\n",
      "\n",
      "[I 2025-03-29 00:37:36,590] Trial 13 finished with value: 0.9700765483646485 and parameters: {'n_estimators': 150, 'max_depth': 10, 'min_samples_split': 2}. Best is trial 10 with value: 0.9700765483646485.\n",
      "c:\\Users\\901219015\\Desktop\\UNI\\Master\\Spring_Semester\\Optimization_for_ML\\venv\\Lib\\site-packages\\optuna\\distributions.py:699: UserWarning:\n",
      "\n",
      "The distribution is specified by [2, 10] and step=3, but the range is not divisible by `step`. It will be replaced by [2, 8].\n",
      "\n",
      "[I 2025-03-29 00:37:37,280] Trial 14 finished with value: 0.9700765483646485 and parameters: {'n_estimators': 150, 'max_depth': 10, 'min_samples_split': 2}. Best is trial 10 with value: 0.9700765483646485.\n",
      "c:\\Users\\901219015\\Desktop\\UNI\\Master\\Spring_Semester\\Optimization_for_ML\\venv\\Lib\\site-packages\\optuna\\distributions.py:699: UserWarning:\n",
      "\n",
      "The distribution is specified by [2, 10] and step=3, but the range is not divisible by `step`. It will be replaced by [2, 8].\n",
      "\n",
      "[I 2025-03-29 00:37:37,937] Trial 15 finished with value: 0.9700765483646485 and parameters: {'n_estimators': 150, 'max_depth': 10, 'min_samples_split': 2}. Best is trial 10 with value: 0.9700765483646485.\n",
      "c:\\Users\\901219015\\Desktop\\UNI\\Master\\Spring_Semester\\Optimization_for_ML\\venv\\Lib\\site-packages\\optuna\\distributions.py:699: UserWarning:\n",
      "\n",
      "The distribution is specified by [2, 10] and step=3, but the range is not divisible by `step`. It will be replaced by [2, 8].\n",
      "\n",
      "[I 2025-03-29 00:37:38,328] Trial 16 finished with value: 0.9638135003479471 and parameters: {'n_estimators': 100, 'max_depth': 10, 'min_samples_split': 5}. Best is trial 10 with value: 0.9700765483646485.\n",
      "c:\\Users\\901219015\\Desktop\\UNI\\Master\\Spring_Semester\\Optimization_for_ML\\venv\\Lib\\site-packages\\optuna\\distributions.py:699: UserWarning:\n",
      "\n",
      "The distribution is specified by [2, 10] and step=3, but the range is not divisible by `step`. It will be replaced by [2, 8].\n",
      "\n",
      "[I 2025-03-29 00:37:38,892] Trial 17 finished with value: 0.9700765483646485 and parameters: {'n_estimators': 150, 'max_depth': 10, 'min_samples_split': 2}. Best is trial 10 with value: 0.9700765483646485.\n",
      "c:\\Users\\901219015\\Desktop\\UNI\\Master\\Spring_Semester\\Optimization_for_ML\\venv\\Lib\\site-packages\\optuna\\distributions.py:699: UserWarning:\n",
      "\n",
      "The distribution is specified by [2, 10] and step=3, but the range is not divisible by `step`. It will be replaced by [2, 8].\n",
      "\n",
      "[I 2025-03-29 00:37:39,510] Trial 18 finished with value: 0.9707724425887264 and parameters: {'n_estimators': 100, 'max_depth': 10, 'min_samples_split': 2}. Best is trial 18 with value: 0.9707724425887264.\n",
      "c:\\Users\\901219015\\Desktop\\UNI\\Master\\Spring_Semester\\Optimization_for_ML\\venv\\Lib\\site-packages\\optuna\\distributions.py:699: UserWarning:\n",
      "\n",
      "The distribution is specified by [2, 10] and step=3, but the range is not divisible by `step`. It will be replaced by [2, 8].\n",
      "\n",
      "[I 2025-03-29 00:37:39,955] Trial 19 finished with value: 0.9659011830201809 and parameters: {'n_estimators': 100, 'max_depth': 20, 'min_samples_split': 5}. Best is trial 18 with value: 0.9707724425887264.\n",
      "c:\\Users\\901219015\\Desktop\\UNI\\Master\\Spring_Semester\\Optimization_for_ML\\venv\\Lib\\site-packages\\optuna\\distributions.py:699: UserWarning:\n",
      "\n",
      "The distribution is specified by [2, 10] and step=3, but the range is not divisible by `step`. It will be replaced by [2, 8].\n",
      "\n",
      "[I 2025-03-29 00:37:40,436] Trial 20 finished with value: 0.9707724425887264 and parameters: {'n_estimators': 100, 'max_depth': 10, 'min_samples_split': 2}. Best is trial 18 with value: 0.9707724425887264.\n",
      "c:\\Users\\901219015\\Desktop\\UNI\\Master\\Spring_Semester\\Optimization_for_ML\\venv\\Lib\\site-packages\\optuna\\distributions.py:699: UserWarning:\n",
      "\n",
      "The distribution is specified by [2, 10] and step=3, but the range is not divisible by `step`. It will be replaced by [2, 8].\n",
      "\n",
      "[I 2025-03-29 00:37:40,839] Trial 21 finished with value: 0.9707724425887264 and parameters: {'n_estimators': 100, 'max_depth': 10, 'min_samples_split': 2}. Best is trial 18 with value: 0.9707724425887264.\n",
      "c:\\Users\\901219015\\Desktop\\UNI\\Master\\Spring_Semester\\Optimization_for_ML\\venv\\Lib\\site-packages\\optuna\\distributions.py:699: UserWarning:\n",
      "\n",
      "The distribution is specified by [2, 10] and step=3, but the range is not divisible by `step`. It will be replaced by [2, 8].\n",
      "\n",
      "[I 2025-03-29 00:37:41,285] Trial 22 finished with value: 0.9707724425887264 and parameters: {'n_estimators': 100, 'max_depth': 10, 'min_samples_split': 2}. Best is trial 18 with value: 0.9707724425887264.\n",
      "c:\\Users\\901219015\\Desktop\\UNI\\Master\\Spring_Semester\\Optimization_for_ML\\venv\\Lib\\site-packages\\optuna\\distributions.py:699: UserWarning:\n",
      "\n",
      "The distribution is specified by [2, 10] and step=3, but the range is not divisible by `step`. It will be replaced by [2, 8].\n",
      "\n",
      "[I 2025-03-29 00:37:41,686] Trial 23 finished with value: 0.9707724425887264 and parameters: {'n_estimators': 100, 'max_depth': 10, 'min_samples_split': 2}. Best is trial 18 with value: 0.9707724425887264.\n",
      "c:\\Users\\901219015\\Desktop\\UNI\\Master\\Spring_Semester\\Optimization_for_ML\\venv\\Lib\\site-packages\\optuna\\distributions.py:699: UserWarning:\n",
      "\n",
      "The distribution is specified by [2, 10] and step=3, but the range is not divisible by `step`. It will be replaced by [2, 8].\n",
      "\n",
      "[I 2025-03-29 00:37:42,144] Trial 24 finished with value: 0.9707724425887264 and parameters: {'n_estimators': 100, 'max_depth': 10, 'min_samples_split': 2}. Best is trial 18 with value: 0.9707724425887264.\n",
      "c:\\Users\\901219015\\Desktop\\UNI\\Master\\Spring_Semester\\Optimization_for_ML\\venv\\Lib\\site-packages\\optuna\\distributions.py:699: UserWarning:\n",
      "\n",
      "The distribution is specified by [2, 10] and step=3, but the range is not divisible by `step`. It will be replaced by [2, 8].\n",
      "\n",
      "[I 2025-03-29 00:37:42,583] Trial 25 finished with value: 0.9707724425887264 and parameters: {'n_estimators': 100, 'max_depth': 10, 'min_samples_split': 2}. Best is trial 18 with value: 0.9707724425887264.\n",
      "c:\\Users\\901219015\\Desktop\\UNI\\Master\\Spring_Semester\\Optimization_for_ML\\venv\\Lib\\site-packages\\optuna\\distributions.py:699: UserWarning:\n",
      "\n",
      "The distribution is specified by [2, 10] and step=3, but the range is not divisible by `step`. It will be replaced by [2, 8].\n",
      "\n",
      "[I 2025-03-29 00:37:43,061] Trial 26 finished with value: 0.9659011830201809 and parameters: {'n_estimators': 100, 'max_depth': 20, 'min_samples_split': 5}. Best is trial 18 with value: 0.9707724425887264.\n",
      "c:\\Users\\901219015\\Desktop\\UNI\\Master\\Spring_Semester\\Optimization_for_ML\\venv\\Lib\\site-packages\\optuna\\distributions.py:699: UserWarning:\n",
      "\n",
      "The distribution is specified by [2, 10] and step=3, but the range is not divisible by `step`. It will be replaced by [2, 8].\n",
      "\n",
      "[I 2025-03-29 00:37:43,498] Trial 27 finished with value: 0.9707724425887264 and parameters: {'n_estimators': 100, 'max_depth': 10, 'min_samples_split': 2}. Best is trial 18 with value: 0.9707724425887264.\n",
      "c:\\Users\\901219015\\Desktop\\UNI\\Master\\Spring_Semester\\Optimization_for_ML\\venv\\Lib\\site-packages\\optuna\\distributions.py:699: UserWarning:\n",
      "\n",
      "The distribution is specified by [2, 10] and step=3, but the range is not divisible by `step`. It will be replaced by [2, 8].\n",
      "\n",
      "[I 2025-03-29 00:37:43,727] Trial 28 finished with value: 0.9589422407794016 and parameters: {'n_estimators': 50, 'max_depth': 10, 'min_samples_split': 5}. Best is trial 18 with value: 0.9707724425887264.\n",
      "c:\\Users\\901219015\\Desktop\\UNI\\Master\\Spring_Semester\\Optimization_for_ML\\venv\\Lib\\site-packages\\optuna\\distributions.py:699: UserWarning:\n",
      "\n",
      "The distribution is specified by [2, 10] and step=3, but the range is not divisible by `step`. It will be replaced by [2, 8].\n",
      "\n",
      "[I 2025-03-29 00:37:44,140] Trial 29 finished with value: 0.9707724425887264 and parameters: {'n_estimators': 100, 'max_depth': 10, 'min_samples_split': 2}. Best is trial 18 with value: 0.9707724425887264.\n",
      "c:\\Users\\901219015\\Desktop\\UNI\\Master\\Spring_Semester\\Optimization_for_ML\\venv\\Lib\\site-packages\\optuna\\distributions.py:699: UserWarning:\n",
      "\n",
      "The distribution is specified by [2, 10] and step=3, but the range is not divisible by `step`. It will be replaced by [2, 8].\n",
      "\n",
      "[I 2025-03-29 00:37:44,606] Trial 30 finished with value: 0.9659011830201809 and parameters: {'n_estimators': 100, 'max_depth': 20, 'min_samples_split': 5}. Best is trial 18 with value: 0.9707724425887264.\n",
      "c:\\Users\\901219015\\Desktop\\UNI\\Master\\Spring_Semester\\Optimization_for_ML\\venv\\Lib\\site-packages\\optuna\\distributions.py:699: UserWarning:\n",
      "\n",
      "The distribution is specified by [2, 10] and step=3, but the range is not divisible by `step`. It will be replaced by [2, 8].\n",
      "\n",
      "[I 2025-03-29 00:37:45,084] Trial 31 finished with value: 0.9707724425887264 and parameters: {'n_estimators': 100, 'max_depth': 10, 'min_samples_split': 2}. Best is trial 18 with value: 0.9707724425887264.\n",
      "c:\\Users\\901219015\\Desktop\\UNI\\Master\\Spring_Semester\\Optimization_for_ML\\venv\\Lib\\site-packages\\optuna\\distributions.py:699: UserWarning:\n",
      "\n",
      "The distribution is specified by [2, 10] and step=3, but the range is not divisible by `step`. It will be replaced by [2, 8].\n",
      "\n",
      "[I 2025-03-29 00:37:45,543] Trial 32 finished with value: 0.9707724425887264 and parameters: {'n_estimators': 100, 'max_depth': 10, 'min_samples_split': 2}. Best is trial 18 with value: 0.9707724425887264.\n",
      "c:\\Users\\901219015\\Desktop\\UNI\\Master\\Spring_Semester\\Optimization_for_ML\\venv\\Lib\\site-packages\\optuna\\distributions.py:699: UserWarning:\n",
      "\n",
      "The distribution is specified by [2, 10] and step=3, but the range is not divisible by `step`. It will be replaced by [2, 8].\n",
      "\n",
      "[I 2025-03-29 00:37:45,803] Trial 33 finished with value: 0.965205288796103 and parameters: {'n_estimators': 50, 'max_depth': 10, 'min_samples_split': 2}. Best is trial 18 with value: 0.9707724425887264.\n",
      "c:\\Users\\901219015\\Desktop\\UNI\\Master\\Spring_Semester\\Optimization_for_ML\\venv\\Lib\\site-packages\\optuna\\distributions.py:699: UserWarning:\n",
      "\n",
      "The distribution is specified by [2, 10] and step=3, but the range is not divisible by `step`. It will be replaced by [2, 8].\n",
      "\n",
      "[I 2025-03-29 00:37:46,206] Trial 34 finished with value: 0.9707724425887264 and parameters: {'n_estimators': 100, 'max_depth': 10, 'min_samples_split': 2}. Best is trial 18 with value: 0.9707724425887264.\n",
      "c:\\Users\\901219015\\Desktop\\UNI\\Master\\Spring_Semester\\Optimization_for_ML\\venv\\Lib\\site-packages\\optuna\\distributions.py:699: UserWarning:\n",
      "\n",
      "The distribution is specified by [2, 10] and step=3, but the range is not divisible by `step`. It will be replaced by [2, 8].\n",
      "\n",
      "[I 2025-03-29 00:37:46,411] Trial 35 finished with value: 0.965205288796103 and parameters: {'n_estimators': 50, 'max_depth': 10, 'min_samples_split': 2}. Best is trial 18 with value: 0.9707724425887264.\n",
      "c:\\Users\\901219015\\Desktop\\UNI\\Master\\Spring_Semester\\Optimization_for_ML\\venv\\Lib\\site-packages\\optuna\\distributions.py:699: UserWarning:\n",
      "\n",
      "The distribution is specified by [2, 10] and step=3, but the range is not divisible by `step`. It will be replaced by [2, 8].\n",
      "\n",
      "[I 2025-03-29 00:37:46,822] Trial 36 finished with value: 0.9700765483646486 and parameters: {'n_estimators': 100, 'max_depth': None, 'min_samples_split': 2}. Best is trial 18 with value: 0.9707724425887264.\n",
      "c:\\Users\\901219015\\Desktop\\UNI\\Master\\Spring_Semester\\Optimization_for_ML\\venv\\Lib\\site-packages\\optuna\\distributions.py:699: UserWarning:\n",
      "\n",
      "The distribution is specified by [2, 10] and step=3, but the range is not divisible by `step`. It will be replaced by [2, 8].\n",
      "\n",
      "[I 2025-03-29 00:37:47,291] Trial 37 finished with value: 0.9707724425887264 and parameters: {'n_estimators': 100, 'max_depth': 10, 'min_samples_split': 2}. Best is trial 18 with value: 0.9707724425887264.\n",
      "c:\\Users\\901219015\\Desktop\\UNI\\Master\\Spring_Semester\\Optimization_for_ML\\venv\\Lib\\site-packages\\optuna\\distributions.py:699: UserWarning:\n",
      "\n",
      "The distribution is specified by [2, 10] and step=3, but the range is not divisible by `step`. It will be replaced by [2, 8].\n",
      "\n",
      "[I 2025-03-29 00:37:47,563] Trial 38 finished with value: 0.9631176061238692 and parameters: {'n_estimators': 50, 'max_depth': None, 'min_samples_split': 2}. Best is trial 18 with value: 0.9707724425887264.\n",
      "c:\\Users\\901219015\\Desktop\\UNI\\Master\\Spring_Semester\\Optimization_for_ML\\venv\\Lib\\site-packages\\optuna\\distributions.py:699: UserWarning:\n",
      "\n",
      "The distribution is specified by [2, 10] and step=3, but the range is not divisible by `step`. It will be replaced by [2, 8].\n",
      "\n",
      "[I 2025-03-29 00:37:47,988] Trial 39 finished with value: 0.9638135003479471 and parameters: {'n_estimators': 100, 'max_depth': 10, 'min_samples_split': 5}. Best is trial 18 with value: 0.9707724425887264.\n",
      "c:\\Users\\901219015\\Desktop\\UNI\\Master\\Spring_Semester\\Optimization_for_ML\\venv\\Lib\\site-packages\\optuna\\distributions.py:699: UserWarning:\n",
      "\n",
      "The distribution is specified by [2, 10] and step=3, but the range is not divisible by `step`. It will be replaced by [2, 8].\n",
      "\n",
      "[I 2025-03-29 00:37:48,238] Trial 40 finished with value: 0.9617258176757133 and parameters: {'n_estimators': 50, 'max_depth': None, 'min_samples_split': 8}. Best is trial 18 with value: 0.9707724425887264.\n",
      "c:\\Users\\901219015\\Desktop\\UNI\\Master\\Spring_Semester\\Optimization_for_ML\\venv\\Lib\\site-packages\\optuna\\distributions.py:699: UserWarning:\n",
      "\n",
      "The distribution is specified by [2, 10] and step=3, but the range is not divisible by `step`. It will be replaced by [2, 8].\n",
      "\n",
      "[I 2025-03-29 00:37:48,871] Trial 41 finished with value: 0.9707724425887264 and parameters: {'n_estimators': 100, 'max_depth': 10, 'min_samples_split': 2}. Best is trial 18 with value: 0.9707724425887264.\n",
      "c:\\Users\\901219015\\Desktop\\UNI\\Master\\Spring_Semester\\Optimization_for_ML\\venv\\Lib\\site-packages\\optuna\\distributions.py:699: UserWarning:\n",
      "\n",
      "The distribution is specified by [2, 10] and step=3, but the range is not divisible by `step`. It will be replaced by [2, 8].\n",
      "\n",
      "[I 2025-03-29 00:37:49,400] Trial 42 finished with value: 0.9707724425887264 and parameters: {'n_estimators': 100, 'max_depth': 10, 'min_samples_split': 2}. Best is trial 18 with value: 0.9707724425887264.\n",
      "c:\\Users\\901219015\\Desktop\\UNI\\Master\\Spring_Semester\\Optimization_for_ML\\venv\\Lib\\site-packages\\optuna\\distributions.py:699: UserWarning:\n",
      "\n",
      "The distribution is specified by [2, 10] and step=3, but the range is not divisible by `step`. It will be replaced by [2, 8].\n",
      "\n",
      "[I 2025-03-29 00:37:49,837] Trial 43 finished with value: 0.9707724425887264 and parameters: {'n_estimators': 100, 'max_depth': 10, 'min_samples_split': 2}. Best is trial 18 with value: 0.9707724425887264.\n",
      "c:\\Users\\901219015\\Desktop\\UNI\\Master\\Spring_Semester\\Optimization_for_ML\\venv\\Lib\\site-packages\\optuna\\distributions.py:699: UserWarning:\n",
      "\n",
      "The distribution is specified by [2, 10] and step=3, but the range is not divisible by `step`. It will be replaced by [2, 8].\n",
      "\n",
      "[I 2025-03-29 00:37:50,275] Trial 44 finished with value: 0.9707724425887264 and parameters: {'n_estimators': 100, 'max_depth': 10, 'min_samples_split': 2}. Best is trial 18 with value: 0.9707724425887264.\n",
      "c:\\Users\\901219015\\Desktop\\UNI\\Master\\Spring_Semester\\Optimization_for_ML\\venv\\Lib\\site-packages\\optuna\\distributions.py:699: UserWarning:\n",
      "\n",
      "The distribution is specified by [2, 10] and step=3, but the range is not divisible by `step`. It will be replaced by [2, 8].\n",
      "\n",
      "[I 2025-03-29 00:37:50,896] Trial 45 finished with value: 0.9665970772442588 and parameters: {'n_estimators': 150, 'max_depth': 20, 'min_samples_split': 2}. Best is trial 18 with value: 0.9707724425887264.\n",
      "c:\\Users\\901219015\\Desktop\\UNI\\Master\\Spring_Semester\\Optimization_for_ML\\venv\\Lib\\site-packages\\optuna\\distributions.py:699: UserWarning:\n",
      "\n",
      "The distribution is specified by [2, 10] and step=3, but the range is not divisible by `step`. It will be replaced by [2, 8].\n",
      "\n",
      "[I 2025-03-29 00:37:51,301] Trial 46 finished with value: 0.9707724425887264 and parameters: {'n_estimators': 100, 'max_depth': 10, 'min_samples_split': 2}. Best is trial 18 with value: 0.9707724425887264.\n",
      "c:\\Users\\901219015\\Desktop\\UNI\\Master\\Spring_Semester\\Optimization_for_ML\\venv\\Lib\\site-packages\\optuna\\distributions.py:699: UserWarning:\n",
      "\n",
      "The distribution is specified by [2, 10] and step=3, but the range is not divisible by `step`. It will be replaced by [2, 8].\n",
      "\n",
      "[I 2025-03-29 00:37:52,169] Trial 47 finished with value: 0.964509394572025 and parameters: {'n_estimators': 200, 'max_depth': 10, 'min_samples_split': 5}. Best is trial 18 with value: 0.9707724425887264.\n",
      "c:\\Users\\901219015\\Desktop\\UNI\\Master\\Spring_Semester\\Optimization_for_ML\\venv\\Lib\\site-packages\\optuna\\distributions.py:699: UserWarning:\n",
      "\n",
      "The distribution is specified by [2, 10] and step=3, but the range is not divisible by `step`. It will be replaced by [2, 8].\n",
      "\n",
      "[I 2025-03-29 00:37:52,783] Trial 48 finished with value: 0.9700765483646485 and parameters: {'n_estimators': 150, 'max_depth': 10, 'min_samples_split': 2}. Best is trial 18 with value: 0.9707724425887264.\n",
      "c:\\Users\\901219015\\Desktop\\UNI\\Master\\Spring_Semester\\Optimization_for_ML\\venv\\Lib\\site-packages\\optuna\\distributions.py:699: UserWarning:\n",
      "\n",
      "The distribution is specified by [2, 10] and step=3, but the range is not divisible by `step`. It will be replaced by [2, 8].\n",
      "\n",
      "[I 2025-03-29 00:37:52,997] Trial 49 finished with value: 0.9631176061238692 and parameters: {'n_estimators': 50, 'max_depth': None, 'min_samples_split': 2}. Best is trial 18 with value: 0.9707724425887264.\n",
      "[I 2025-03-29 00:37:52,998] A new study created in memory with name: no-name-400e4951-1aa8-4d45-b4a1-82dc77767f7d\n",
      "c:\\Users\\901219015\\Desktop\\UNI\\Master\\Spring_Semester\\Optimization_for_ML\\venv\\Lib\\site-packages\\optuna\\distributions.py:699: UserWarning:\n",
      "\n",
      "The distribution is specified by [2, 10] and step=3, but the range is not divisible by `step`. It will be replaced by [2, 8].\n",
      "\n",
      "[I 2025-03-29 00:37:53,202] Trial 0 finished with value: 0.9617258176757133 and parameters: {'n_estimators': 50, 'max_depth': None, 'min_samples_split': 8}. Best is trial 0 with value: 0.9617258176757133.\n"
     ]
    },
    {
     "name": "stdout",
     "output_type": "stream",
     "text": [
      "Best Parameters (Random search): {'n_estimators': 100, 'max_depth': 10, 'min_samples_split': 2}, Time: 23.39s\n",
      "Running Bayesian search Optimization...\n"
     ]
    },
    {
     "name": "stderr",
     "output_type": "stream",
     "text": [
      "c:\\Users\\901219015\\Desktop\\UNI\\Master\\Spring_Semester\\Optimization_for_ML\\venv\\Lib\\site-packages\\optuna\\distributions.py:699: UserWarning:\n",
      "\n",
      "The distribution is specified by [2, 10] and step=3, but the range is not divisible by `step`. It will be replaced by [2, 8].\n",
      "\n",
      "[I 2025-03-29 00:37:53,943] Trial 1 finished with value: 0.964509394572025 and parameters: {'n_estimators': 200, 'max_depth': 10, 'min_samples_split': 5}. Best is trial 1 with value: 0.964509394572025.\n",
      "c:\\Users\\901219015\\Desktop\\UNI\\Master\\Spring_Semester\\Optimization_for_ML\\venv\\Lib\\site-packages\\optuna\\distributions.py:699: UserWarning:\n",
      "\n",
      "The distribution is specified by [2, 10] and step=3, but the range is not divisible by `step`. It will be replaced by [2, 8].\n",
      "\n",
      "[I 2025-03-29 00:37:54,147] Trial 2 finished with value: 0.9631176061238692 and parameters: {'n_estimators': 50, 'max_depth': 20, 'min_samples_split': 2}. Best is trial 1 with value: 0.964509394572025.\n",
      "c:\\Users\\901219015\\Desktop\\UNI\\Master\\Spring_Semester\\Optimization_for_ML\\venv\\Lib\\site-packages\\optuna\\distributions.py:699: UserWarning:\n",
      "\n",
      "The distribution is specified by [2, 10] and step=3, but the range is not divisible by `step`. It will be replaced by [2, 8].\n",
      "\n",
      "[I 2025-03-29 00:37:54,362] Trial 3 finished with value: 0.9631176061238692 and parameters: {'n_estimators': 50, 'max_depth': 20, 'min_samples_split': 2}. Best is trial 1 with value: 0.964509394572025.\n",
      "c:\\Users\\901219015\\Desktop\\UNI\\Master\\Spring_Semester\\Optimization_for_ML\\venv\\Lib\\site-packages\\optuna\\distributions.py:699: UserWarning:\n",
      "\n",
      "The distribution is specified by [2, 10] and step=3, but the range is not divisible by `step`. It will be replaced by [2, 8].\n",
      "\n",
      "[I 2025-03-29 00:37:54,911] Trial 4 finished with value: 0.9624217118997912 and parameters: {'n_estimators': 150, 'max_depth': 20, 'min_samples_split': 8}. Best is trial 1 with value: 0.964509394572025.\n",
      "c:\\Users\\901219015\\Desktop\\UNI\\Master\\Spring_Semester\\Optimization_for_ML\\venv\\Lib\\site-packages\\optuna\\distributions.py:699: UserWarning:\n",
      "\n",
      "The distribution is specified by [2, 10] and step=3, but the range is not divisible by `step`. It will be replaced by [2, 8].\n",
      "\n",
      "[I 2025-03-29 00:37:55,530] Trial 5 finished with value: 0.9700765483646486 and parameters: {'n_estimators': 100, 'max_depth': None, 'min_samples_split': 2}. Best is trial 5 with value: 0.9700765483646486.\n",
      "c:\\Users\\901219015\\Desktop\\UNI\\Master\\Spring_Semester\\Optimization_for_ML\\venv\\Lib\\site-packages\\optuna\\distributions.py:699: UserWarning:\n",
      "\n",
      "The distribution is specified by [2, 10] and step=3, but the range is not divisible by `step`. It will be replaced by [2, 8].\n",
      "\n",
      "[I 2025-03-29 00:37:56,324] Trial 6 finished with value: 0.964509394572025 and parameters: {'n_estimators': 200, 'max_depth': None, 'min_samples_split': 5}. Best is trial 5 with value: 0.9700765483646486.\n",
      "c:\\Users\\901219015\\Desktop\\UNI\\Master\\Spring_Semester\\Optimization_for_ML\\venv\\Lib\\site-packages\\optuna\\distributions.py:699: UserWarning:\n",
      "\n",
      "The distribution is specified by [2, 10] and step=3, but the range is not divisible by `step`. It will be replaced by [2, 8].\n",
      "\n",
      "[I 2025-03-29 00:37:56,858] Trial 7 finished with value: 0.965205288796103 and parameters: {'n_estimators': 150, 'max_depth': 10, 'min_samples_split': 5}. Best is trial 5 with value: 0.9700765483646486.\n",
      "c:\\Users\\901219015\\Desktop\\UNI\\Master\\Spring_Semester\\Optimization_for_ML\\venv\\Lib\\site-packages\\optuna\\distributions.py:699: UserWarning:\n",
      "\n",
      "The distribution is specified by [2, 10] and step=3, but the range is not divisible by `step`. It will be replaced by [2, 8].\n",
      "\n",
      "[I 2025-03-29 00:37:57,226] Trial 8 finished with value: 0.9700765483646486 and parameters: {'n_estimators': 100, 'max_depth': 20, 'min_samples_split': 2}. Best is trial 5 with value: 0.9700765483646486.\n",
      "c:\\Users\\901219015\\Desktop\\UNI\\Master\\Spring_Semester\\Optimization_for_ML\\venv\\Lib\\site-packages\\optuna\\distributions.py:699: UserWarning:\n",
      "\n",
      "The distribution is specified by [2, 10] and step=3, but the range is not divisible by `step`. It will be replaced by [2, 8].\n",
      "\n",
      "[I 2025-03-29 00:37:57,755] Trial 9 finished with value: 0.9624217118997912 and parameters: {'n_estimators': 150, 'max_depth': 20, 'min_samples_split': 8}. Best is trial 5 with value: 0.9700765483646486.\n",
      "c:\\Users\\901219015\\Desktop\\UNI\\Master\\Spring_Semester\\Optimization_for_ML\\venv\\Lib\\site-packages\\optuna\\distributions.py:699: UserWarning:\n",
      "\n",
      "The distribution is specified by [2, 10] and step=3, but the range is not divisible by `step`. It will be replaced by [2, 8].\n",
      "\n",
      "[I 2025-03-29 00:37:58,146] Trial 10 finished with value: 0.9700765483646486 and parameters: {'n_estimators': 100, 'max_depth': None, 'min_samples_split': 2}. Best is trial 5 with value: 0.9700765483646486.\n",
      "c:\\Users\\901219015\\Desktop\\UNI\\Master\\Spring_Semester\\Optimization_for_ML\\venv\\Lib\\site-packages\\optuna\\distributions.py:699: UserWarning:\n",
      "\n",
      "The distribution is specified by [2, 10] and step=3, but the range is not divisible by `step`. It will be replaced by [2, 8].\n",
      "\n",
      "[I 2025-03-29 00:37:58,548] Trial 11 finished with value: 0.9700765483646486 and parameters: {'n_estimators': 100, 'max_depth': None, 'min_samples_split': 2}. Best is trial 5 with value: 0.9700765483646486.\n",
      "c:\\Users\\901219015\\Desktop\\UNI\\Master\\Spring_Semester\\Optimization_for_ML\\venv\\Lib\\site-packages\\optuna\\distributions.py:699: UserWarning:\n",
      "\n",
      "The distribution is specified by [2, 10] and step=3, but the range is not divisible by `step`. It will be replaced by [2, 8].\n",
      "\n",
      "[I 2025-03-29 00:37:58,949] Trial 12 finished with value: 0.9700765483646486 and parameters: {'n_estimators': 100, 'max_depth': 20, 'min_samples_split': 2}. Best is trial 5 with value: 0.9700765483646486.\n",
      "c:\\Users\\901219015\\Desktop\\UNI\\Master\\Spring_Semester\\Optimization_for_ML\\venv\\Lib\\site-packages\\optuna\\distributions.py:699: UserWarning:\n",
      "\n",
      "The distribution is specified by [2, 10] and step=3, but the range is not divisible by `step`. It will be replaced by [2, 8].\n",
      "\n",
      "[I 2025-03-29 00:37:59,342] Trial 13 finished with value: 0.9700765483646486 and parameters: {'n_estimators': 100, 'max_depth': None, 'min_samples_split': 2}. Best is trial 5 with value: 0.9700765483646486.\n",
      "c:\\Users\\901219015\\Desktop\\UNI\\Master\\Spring_Semester\\Optimization_for_ML\\venv\\Lib\\site-packages\\optuna\\distributions.py:699: UserWarning:\n",
      "\n",
      "The distribution is specified by [2, 10] and step=3, but the range is not divisible by `step`. It will be replaced by [2, 8].\n",
      "\n",
      "[I 2025-03-29 00:37:59,699] Trial 14 finished with value: 0.9638135003479471 and parameters: {'n_estimators': 100, 'max_depth': 10, 'min_samples_split': 5}. Best is trial 5 with value: 0.9700765483646486.\n",
      "c:\\Users\\901219015\\Desktop\\UNI\\Master\\Spring_Semester\\Optimization_for_ML\\venv\\Lib\\site-packages\\optuna\\distributions.py:699: UserWarning:\n",
      "\n",
      "The distribution is specified by [2, 10] and step=3, but the range is not divisible by `step`. It will be replaced by [2, 8].\n",
      "\n",
      "[I 2025-03-29 00:38:00,238] Trial 15 finished with value: 0.9631176061238692 and parameters: {'n_estimators': 150, 'max_depth': 20, 'min_samples_split': 5}. Best is trial 5 with value: 0.9700765483646486.\n",
      "c:\\Users\\901219015\\Desktop\\UNI\\Master\\Spring_Semester\\Optimization_for_ML\\venv\\Lib\\site-packages\\optuna\\distributions.py:699: UserWarning:\n",
      "\n",
      "The distribution is specified by [2, 10] and step=3, but the range is not divisible by `step`. It will be replaced by [2, 8].\n",
      "\n",
      "[I 2025-03-29 00:38:00,441] Trial 16 finished with value: 0.9631176061238692 and parameters: {'n_estimators': 50, 'max_depth': None, 'min_samples_split': 2}. Best is trial 5 with value: 0.9700765483646486.\n",
      "c:\\Users\\901219015\\Desktop\\UNI\\Master\\Spring_Semester\\Optimization_for_ML\\venv\\Lib\\site-packages\\optuna\\distributions.py:699: UserWarning:\n",
      "\n",
      "The distribution is specified by [2, 10] and step=3, but the range is not divisible by `step`. It will be replaced by [2, 8].\n",
      "\n",
      "[I 2025-03-29 00:38:00,818] Trial 17 finished with value: 0.9700765483646486 and parameters: {'n_estimators': 100, 'max_depth': 20, 'min_samples_split': 2}. Best is trial 5 with value: 0.9700765483646486.\n",
      "c:\\Users\\901219015\\Desktop\\UNI\\Master\\Spring_Semester\\Optimization_for_ML\\venv\\Lib\\site-packages\\optuna\\distributions.py:699: UserWarning:\n",
      "\n",
      "The distribution is specified by [2, 10] and step=3, but the range is not divisible by `step`. It will be replaced by [2, 8].\n",
      "\n",
      "[I 2025-03-29 00:38:01,361] Trial 18 finished with value: 0.9665970772442588 and parameters: {'n_estimators': 150, 'max_depth': None, 'min_samples_split': 2}. Best is trial 5 with value: 0.9700765483646486.\n",
      "c:\\Users\\901219015\\Desktop\\UNI\\Master\\Spring_Semester\\Optimization_for_ML\\venv\\Lib\\site-packages\\optuna\\distributions.py:699: UserWarning:\n",
      "\n",
      "The distribution is specified by [2, 10] and step=3, but the range is not divisible by `step`. It will be replaced by [2, 8].\n",
      "\n",
      "[I 2025-03-29 00:38:01,553] Trial 19 finished with value: 0.9589422407794016 and parameters: {'n_estimators': 50, 'max_depth': 10, 'min_samples_split': 5}. Best is trial 5 with value: 0.9700765483646486.\n",
      "c:\\Users\\901219015\\Desktop\\UNI\\Master\\Spring_Semester\\Optimization_for_ML\\venv\\Lib\\site-packages\\optuna\\distributions.py:699: UserWarning:\n",
      "\n",
      "The distribution is specified by [2, 10] and step=3, but the range is not divisible by `step`. It will be replaced by [2, 8].\n",
      "\n",
      "[I 2025-03-29 00:38:01,920] Trial 20 finished with value: 0.9659011830201809 and parameters: {'n_estimators': 100, 'max_depth': 20, 'min_samples_split': 5}. Best is trial 5 with value: 0.9700765483646486.\n",
      "c:\\Users\\901219015\\Desktop\\UNI\\Master\\Spring_Semester\\Optimization_for_ML\\venv\\Lib\\site-packages\\optuna\\distributions.py:699: UserWarning:\n",
      "\n",
      "The distribution is specified by [2, 10] and step=3, but the range is not divisible by `step`. It will be replaced by [2, 8].\n",
      "\n",
      "[I 2025-03-29 00:38:02,301] Trial 21 finished with value: 0.9700765483646486 and parameters: {'n_estimators': 100, 'max_depth': None, 'min_samples_split': 2}. Best is trial 5 with value: 0.9700765483646486.\n",
      "c:\\Users\\901219015\\Desktop\\UNI\\Master\\Spring_Semester\\Optimization_for_ML\\venv\\Lib\\site-packages\\optuna\\distributions.py:699: UserWarning:\n",
      "\n",
      "The distribution is specified by [2, 10] and step=3, but the range is not divisible by `step`. It will be replaced by [2, 8].\n",
      "\n",
      "[I 2025-03-29 00:38:02,754] Trial 22 finished with value: 0.9700765483646486 and parameters: {'n_estimators': 100, 'max_depth': None, 'min_samples_split': 2}. Best is trial 5 with value: 0.9700765483646486.\n",
      "c:\\Users\\901219015\\Desktop\\UNI\\Master\\Spring_Semester\\Optimization_for_ML\\venv\\Lib\\site-packages\\optuna\\distributions.py:699: UserWarning:\n",
      "\n",
      "The distribution is specified by [2, 10] and step=3, but the range is not divisible by `step`. It will be replaced by [2, 8].\n",
      "\n",
      "[I 2025-03-29 00:38:03,188] Trial 23 finished with value: 0.9700765483646486 and parameters: {'n_estimators': 100, 'max_depth': None, 'min_samples_split': 2}. Best is trial 5 with value: 0.9700765483646486.\n",
      "c:\\Users\\901219015\\Desktop\\UNI\\Master\\Spring_Semester\\Optimization_for_ML\\venv\\Lib\\site-packages\\optuna\\distributions.py:699: UserWarning:\n",
      "\n",
      "The distribution is specified by [2, 10] and step=3, but the range is not divisible by `step`. It will be replaced by [2, 8].\n",
      "\n",
      "[I 2025-03-29 00:38:03,804] Trial 24 finished with value: 0.9665970772442588 and parameters: {'n_estimators': 150, 'max_depth': None, 'min_samples_split': 2}. Best is trial 5 with value: 0.9700765483646486.\n",
      "c:\\Users\\901219015\\Desktop\\UNI\\Master\\Spring_Semester\\Optimization_for_ML\\venv\\Lib\\site-packages\\optuna\\distributions.py:699: UserWarning:\n",
      "\n",
      "The distribution is specified by [2, 10] and step=3, but the range is not divisible by `step`. It will be replaced by [2, 8].\n",
      "\n",
      "[I 2025-03-29 00:38:04,210] Trial 25 finished with value: 0.9700765483646486 and parameters: {'n_estimators': 100, 'max_depth': None, 'min_samples_split': 2}. Best is trial 5 with value: 0.9700765483646486.\n",
      "c:\\Users\\901219015\\Desktop\\UNI\\Master\\Spring_Semester\\Optimization_for_ML\\venv\\Lib\\site-packages\\optuna\\distributions.py:699: UserWarning:\n",
      "\n",
      "The distribution is specified by [2, 10] and step=3, but the range is not divisible by `step`. It will be replaced by [2, 8].\n",
      "\n",
      "[I 2025-03-29 00:38:04,412] Trial 26 finished with value: 0.9631176061238692 and parameters: {'n_estimators': 50, 'max_depth': None, 'min_samples_split': 2}. Best is trial 5 with value: 0.9700765483646486.\n",
      "c:\\Users\\901219015\\Desktop\\UNI\\Master\\Spring_Semester\\Optimization_for_ML\\venv\\Lib\\site-packages\\optuna\\distributions.py:699: UserWarning:\n",
      "\n",
      "The distribution is specified by [2, 10] and step=3, but the range is not divisible by `step`. It will be replaced by [2, 8].\n",
      "\n",
      "[I 2025-03-29 00:38:04,821] Trial 27 finished with value: 0.9659011830201809 and parameters: {'n_estimators': 100, 'max_depth': None, 'min_samples_split': 5}. Best is trial 5 with value: 0.9700765483646486.\n",
      "c:\\Users\\901219015\\Desktop\\UNI\\Master\\Spring_Semester\\Optimization_for_ML\\venv\\Lib\\site-packages\\optuna\\distributions.py:699: UserWarning:\n",
      "\n",
      "The distribution is specified by [2, 10] and step=3, but the range is not divisible by `step`. It will be replaced by [2, 8].\n",
      "\n",
      "[I 2025-03-29 00:38:05,386] Trial 28 finished with value: 0.9700765483646485 and parameters: {'n_estimators': 150, 'max_depth': 10, 'min_samples_split': 2}. Best is trial 5 with value: 0.9700765483646486.\n",
      "c:\\Users\\901219015\\Desktop\\UNI\\Master\\Spring_Semester\\Optimization_for_ML\\venv\\Lib\\site-packages\\optuna\\distributions.py:699: UserWarning:\n",
      "\n",
      "The distribution is specified by [2, 10] and step=3, but the range is not divisible by `step`. It will be replaced by [2, 8].\n",
      "\n",
      "[I 2025-03-29 00:38:05,580] Trial 29 finished with value: 0.9617258176757133 and parameters: {'n_estimators': 50, 'max_depth': 20, 'min_samples_split': 8}. Best is trial 5 with value: 0.9700765483646486.\n",
      "c:\\Users\\901219015\\Desktop\\UNI\\Master\\Spring_Semester\\Optimization_for_ML\\venv\\Lib\\site-packages\\optuna\\distributions.py:699: UserWarning:\n",
      "\n",
      "The distribution is specified by [2, 10] and step=3, but the range is not divisible by `step`. It will be replaced by [2, 8].\n",
      "\n",
      "[I 2025-03-29 00:38:05,772] Trial 30 finished with value: 0.9631176061238692 and parameters: {'n_estimators': 50, 'max_depth': None, 'min_samples_split': 2}. Best is trial 5 with value: 0.9700765483646486.\n",
      "c:\\Users\\901219015\\Desktop\\UNI\\Master\\Spring_Semester\\Optimization_for_ML\\venv\\Lib\\site-packages\\optuna\\distributions.py:699: UserWarning:\n",
      "\n",
      "The distribution is specified by [2, 10] and step=3, but the range is not divisible by `step`. It will be replaced by [2, 8].\n",
      "\n",
      "[I 2025-03-29 00:38:06,149] Trial 31 finished with value: 0.9700765483646486 and parameters: {'n_estimators': 100, 'max_depth': None, 'min_samples_split': 2}. Best is trial 5 with value: 0.9700765483646486.\n",
      "c:\\Users\\901219015\\Desktop\\UNI\\Master\\Spring_Semester\\Optimization_for_ML\\venv\\Lib\\site-packages\\optuna\\distributions.py:699: UserWarning:\n",
      "\n",
      "The distribution is specified by [2, 10] and step=3, but the range is not divisible by `step`. It will be replaced by [2, 8].\n",
      "\n",
      "[I 2025-03-29 00:38:06,552] Trial 32 finished with value: 0.9700765483646486 and parameters: {'n_estimators': 100, 'max_depth': None, 'min_samples_split': 2}. Best is trial 5 with value: 0.9700765483646486.\n",
      "c:\\Users\\901219015\\Desktop\\UNI\\Master\\Spring_Semester\\Optimization_for_ML\\venv\\Lib\\site-packages\\optuna\\distributions.py:699: UserWarning:\n",
      "\n",
      "The distribution is specified by [2, 10] and step=3, but the range is not divisible by `step`. It will be replaced by [2, 8].\n",
      "\n",
      "[I 2025-03-29 00:38:06,949] Trial 33 finished with value: 0.9700765483646486 and parameters: {'n_estimators': 100, 'max_depth': None, 'min_samples_split': 2}. Best is trial 5 with value: 0.9700765483646486.\n",
      "c:\\Users\\901219015\\Desktop\\UNI\\Master\\Spring_Semester\\Optimization_for_ML\\venv\\Lib\\site-packages\\optuna\\distributions.py:699: UserWarning:\n",
      "\n",
      "The distribution is specified by [2, 10] and step=3, but the range is not divisible by `step`. It will be replaced by [2, 8].\n",
      "\n",
      "[I 2025-03-29 00:38:07,375] Trial 34 finished with value: 0.9700765483646486 and parameters: {'n_estimators': 100, 'max_depth': None, 'min_samples_split': 2}. Best is trial 5 with value: 0.9700765483646486.\n",
      "c:\\Users\\901219015\\Desktop\\UNI\\Master\\Spring_Semester\\Optimization_for_ML\\venv\\Lib\\site-packages\\optuna\\distributions.py:699: UserWarning:\n",
      "\n",
      "The distribution is specified by [2, 10] and step=3, but the range is not divisible by `step`. It will be replaced by [2, 8].\n",
      "\n",
      "[I 2025-03-29 00:38:07,971] Trial 35 finished with value: 0.9700765483646486 and parameters: {'n_estimators': 100, 'max_depth': 20, 'min_samples_split': 2}. Best is trial 5 with value: 0.9700765483646486.\n",
      "c:\\Users\\901219015\\Desktop\\UNI\\Master\\Spring_Semester\\Optimization_for_ML\\venv\\Lib\\site-packages\\optuna\\distributions.py:699: UserWarning:\n",
      "\n",
      "The distribution is specified by [2, 10] and step=3, but the range is not divisible by `step`. It will be replaced by [2, 8].\n",
      "\n",
      "[I 2025-03-29 00:38:08,734] Trial 36 finished with value: 0.9686847599164926 and parameters: {'n_estimators': 200, 'max_depth': None, 'min_samples_split': 2}. Best is trial 5 with value: 0.9700765483646486.\n",
      "c:\\Users\\901219015\\Desktop\\UNI\\Master\\Spring_Semester\\Optimization_for_ML\\venv\\Lib\\site-packages\\optuna\\distributions.py:699: UserWarning:\n",
      "\n",
      "The distribution is specified by [2, 10] and step=3, but the range is not divisible by `step`. It will be replaced by [2, 8].\n",
      "\n",
      "[I 2025-03-29 00:38:08,951] Trial 37 finished with value: 0.9589422407794016 and parameters: {'n_estimators': 50, 'max_depth': 10, 'min_samples_split': 5}. Best is trial 5 with value: 0.9700765483646486.\n",
      "c:\\Users\\901219015\\Desktop\\UNI\\Master\\Spring_Semester\\Optimization_for_ML\\venv\\Lib\\site-packages\\optuna\\distributions.py:699: UserWarning:\n",
      "\n",
      "The distribution is specified by [2, 10] and step=3, but the range is not divisible by `step`. It will be replaced by [2, 8].\n",
      "\n",
      "[I 2025-03-29 00:38:09,541] Trial 38 finished with value: 0.9665970772442588 and parameters: {'n_estimators': 150, 'max_depth': 20, 'min_samples_split': 2}. Best is trial 5 with value: 0.9700765483646486.\n",
      "c:\\Users\\901219015\\Desktop\\UNI\\Master\\Spring_Semester\\Optimization_for_ML\\venv\\Lib\\site-packages\\optuna\\distributions.py:699: UserWarning:\n",
      "\n",
      "The distribution is specified by [2, 10] and step=3, but the range is not divisible by `step`. It will be replaced by [2, 8].\n",
      "\n",
      "[I 2025-03-29 00:38:09,923] Trial 39 finished with value: 0.9631176061238692 and parameters: {'n_estimators': 100, 'max_depth': None, 'min_samples_split': 8}. Best is trial 5 with value: 0.9700765483646486.\n",
      "c:\\Users\\901219015\\Desktop\\UNI\\Master\\Spring_Semester\\Optimization_for_ML\\venv\\Lib\\site-packages\\optuna\\distributions.py:699: UserWarning:\n",
      "\n",
      "The distribution is specified by [2, 10] and step=3, but the range is not divisible by `step`. It will be replaced by [2, 8].\n",
      "\n",
      "[I 2025-03-29 00:38:10,499] Trial 40 finished with value: 0.9665970772442588 and parameters: {'n_estimators': 150, 'max_depth': 20, 'min_samples_split': 2}. Best is trial 5 with value: 0.9700765483646486.\n",
      "c:\\Users\\901219015\\Desktop\\UNI\\Master\\Spring_Semester\\Optimization_for_ML\\venv\\Lib\\site-packages\\optuna\\distributions.py:699: UserWarning:\n",
      "\n",
      "The distribution is specified by [2, 10] and step=3, but the range is not divisible by `step`. It will be replaced by [2, 8].\n",
      "\n",
      "[I 2025-03-29 00:38:10,897] Trial 41 finished with value: 0.9700765483646486 and parameters: {'n_estimators': 100, 'max_depth': 20, 'min_samples_split': 2}. Best is trial 5 with value: 0.9700765483646486.\n",
      "c:\\Users\\901219015\\Desktop\\UNI\\Master\\Spring_Semester\\Optimization_for_ML\\venv\\Lib\\site-packages\\optuna\\distributions.py:699: UserWarning:\n",
      "\n",
      "The distribution is specified by [2, 10] and step=3, but the range is not divisible by `step`. It will be replaced by [2, 8].\n",
      "\n",
      "[I 2025-03-29 00:38:11,290] Trial 42 finished with value: 0.9700765483646486 and parameters: {'n_estimators': 100, 'max_depth': 20, 'min_samples_split': 2}. Best is trial 5 with value: 0.9700765483646486.\n",
      "c:\\Users\\901219015\\Desktop\\UNI\\Master\\Spring_Semester\\Optimization_for_ML\\venv\\Lib\\site-packages\\optuna\\distributions.py:699: UserWarning:\n",
      "\n",
      "The distribution is specified by [2, 10] and step=3, but the range is not divisible by `step`. It will be replaced by [2, 8].\n",
      "\n",
      "[I 2025-03-29 00:38:11,694] Trial 43 finished with value: 0.9700765483646486 and parameters: {'n_estimators': 100, 'max_depth': 20, 'min_samples_split': 2}. Best is trial 5 with value: 0.9700765483646486.\n",
      "c:\\Users\\901219015\\Desktop\\UNI\\Master\\Spring_Semester\\Optimization_for_ML\\venv\\Lib\\site-packages\\optuna\\distributions.py:699: UserWarning:\n",
      "\n",
      "The distribution is specified by [2, 10] and step=3, but the range is not divisible by `step`. It will be replaced by [2, 8].\n",
      "\n",
      "[I 2025-03-29 00:38:12,117] Trial 44 finished with value: 0.9700765483646486 and parameters: {'n_estimators': 100, 'max_depth': 20, 'min_samples_split': 2}. Best is trial 5 with value: 0.9700765483646486.\n",
      "c:\\Users\\901219015\\Desktop\\UNI\\Master\\Spring_Semester\\Optimization_for_ML\\venv\\Lib\\site-packages\\optuna\\distributions.py:699: UserWarning:\n",
      "\n",
      "The distribution is specified by [2, 10] and step=3, but the range is not divisible by `step`. It will be replaced by [2, 8].\n",
      "\n",
      "[I 2025-03-29 00:38:12,532] Trial 45 finished with value: 0.9700765483646486 and parameters: {'n_estimators': 100, 'max_depth': 20, 'min_samples_split': 2}. Best is trial 5 with value: 0.9700765483646486.\n",
      "c:\\Users\\901219015\\Desktop\\UNI\\Master\\Spring_Semester\\Optimization_for_ML\\venv\\Lib\\site-packages\\optuna\\distributions.py:699: UserWarning:\n",
      "\n",
      "The distribution is specified by [2, 10] and step=3, but the range is not divisible by `step`. It will be replaced by [2, 8].\n",
      "\n",
      "[I 2025-03-29 00:38:12,747] Trial 46 finished with value: 0.9589422407794016 and parameters: {'n_estimators': 50, 'max_depth': 10, 'min_samples_split': 5}. Best is trial 5 with value: 0.9700765483646486.\n",
      "c:\\Users\\901219015\\Desktop\\UNI\\Master\\Spring_Semester\\Optimization_for_ML\\venv\\Lib\\site-packages\\optuna\\distributions.py:699: UserWarning:\n",
      "\n",
      "The distribution is specified by [2, 10] and step=3, but the range is not divisible by `step`. It will be replaced by [2, 8].\n",
      "\n",
      "[I 2025-03-29 00:38:13,478] Trial 47 finished with value: 0.964509394572025 and parameters: {'n_estimators': 200, 'max_depth': None, 'min_samples_split': 5}. Best is trial 5 with value: 0.9700765483646486.\n",
      "c:\\Users\\901219015\\Desktop\\UNI\\Master\\Spring_Semester\\Optimization_for_ML\\venv\\Lib\\site-packages\\optuna\\distributions.py:699: UserWarning:\n",
      "\n",
      "The distribution is specified by [2, 10] and step=3, but the range is not divisible by `step`. It will be replaced by [2, 8].\n",
      "\n",
      "[I 2025-03-29 00:38:13,848] Trial 48 finished with value: 0.9700765483646486 and parameters: {'n_estimators': 100, 'max_depth': 20, 'min_samples_split': 2}. Best is trial 5 with value: 0.9700765483646486.\n",
      "c:\\Users\\901219015\\Desktop\\UNI\\Master\\Spring_Semester\\Optimization_for_ML\\venv\\Lib\\site-packages\\optuna\\distributions.py:699: UserWarning:\n",
      "\n",
      "The distribution is specified by [2, 10] and step=3, but the range is not divisible by `step`. It will be replaced by [2, 8].\n",
      "\n",
      "[I 2025-03-29 00:38:14,389] Trial 49 finished with value: 0.9665970772442588 and parameters: {'n_estimators': 150, 'max_depth': None, 'min_samples_split': 2}. Best is trial 5 with value: 0.9700765483646486.\n"
     ]
    },
    {
     "name": "stdout",
     "output_type": "stream",
     "text": [
      "Best Parameters (Bayesian search): {'n_estimators': 100, 'max_depth': None, 'min_samples_split': 2}, Time: 21.39s\n"
     ]
    }
   ],
   "source": [
    "def plot_results(studies):\n",
    "    optuna_studies = {name: study for name, study in studies.items() if name != \"Baseline\"}\n",
    "\n",
    "    for name, study in optuna_studies.items():\n",
    "        study.study_name = name  \n",
    "\n",
    "    vis.plot_optimization_history(list(optuna_studies.values())).show()\n",
    "\n",
    "    best_scores = {name: study.best_value for name, study in optuna_studies.items()}\n",
    "\n",
    "    print(\"Best Accuracy Scores:\")\n",
    "    for name, score in best_scores.items():\n",
    "        print(f\"{name}: {score:.4f}\")\n",
    "        \n",
    "studies, execution_times = run_optimization()"
   ]
  },
  {
   "cell_type": "code",
   "execution_count": 58,
   "metadata": {},
   "outputs": [
    {
     "data": {
      "image/png": "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",
      "text/plain": [
       "<Figure size 800x600 with 1 Axes>"
      ]
     },
     "metadata": {},
     "output_type": "display_data"
    }
   ],
   "source": [
    "methods = list(execution_times.keys())\n",
    "times = list(execution_times.values())\n",
    "\n",
    "colors = ['lightgrey', '#FF9999', '#FFCC99', 'lightgreen']\n",
    "plt.figure(figsize=(8, 6))\n",
    "plt.barh(methods, times, color=colors)\n",
    "plt.xlabel(\"Time (seconds)\")\n",
    "plt.title(\"Execution Time Comparison\")\n",
    "plt.show()"
   ]
  },
  {
   "cell_type": "code",
   "execution_count": 59,
   "metadata": {},
   "outputs": [
    {
     "data": {
      "application/vnd.plotly.v1+json": {
       "config": {
        "plotlyServerURL": "https://plot.ly"
       },
       "data": [
        {
         "mode": "markers",
         "name": "Objective Value of Grid search",
         "type": "scatter",
         "x": [
          0,
          1,
          2,
          3,
          4,
          5,
          6,
          7,
          8,
          9,
          10,
          11,
          12,
          13,
          14,
          15,
          16,
          17,
          18,
          19,
          20,
          21,
          22,
          23,
          24,
          25,
          26,
          27,
          28,
          29,
          30,
          31,
          32,
          33,
          34,
          35,
          36,
          37,
          38,
          39,
          40,
          41,
          42,
          43,
          44,
          45,
          46,
          47,
          48,
          49
         ],
         "y": [
          0.9624217118997912,
          0.9589422407794016,
          0.9728601252609604,
          0.9631176061238692,
          0.9728601252609604,
          0.9700765483646486,
          0.9659011830201809,
          0.9686847599164926,
          0.9686847599164926,
          0.9631176061238692,
          0.9624217118997912,
          0.9728601252609604,
          0.9728601252609604,
          0.9624217118997912,
          0.9728601252609604,
          0.9638135003479471,
          0.9728601252609604,
          0.9728601252609604,
          0.9540709812108559,
          0.9659011830201809,
          0.9728601252609604,
          0.9728601252609604,
          0.9728601252609604,
          0.9728601252609604,
          0.9728601252609604,
          0.9728601252609604,
          0.9728601252609604,
          0.9728601252609604,
          0.9561586638830897,
          0.9631176061238692,
          0.9624217118997912,
          0.9728601252609604,
          0.9728601252609604,
          0.9728601252609604,
          0.965205288796103,
          0.9728601252609604,
          0.964509394572025,
          0.9707724425887264,
          0.9686847599164926,
          0.9631176061238692,
          0.9728601252609604,
          0.9728601252609604,
          0.9728601252609604,
          0.9728601252609604,
          0.9728601252609604,
          0.964509394572025,
          0.9561586638830897,
          0.9728601252609604,
          0.9728601252609604,
          0.9631176061238692
         ]
        },
        {
         "mode": "lines",
         "name": "Best Value of Grid search",
         "type": "scatter",
         "x": [
          0,
          1,
          2,
          3,
          4,
          5,
          6,
          7,
          8,
          9,
          10,
          11,
          12,
          13,
          14,
          15,
          16,
          17,
          18,
          19,
          20,
          21,
          22,
          23,
          24,
          25,
          26,
          27,
          28,
          29,
          30,
          31,
          32,
          33,
          34,
          35,
          36,
          37,
          38,
          39,
          40,
          41,
          42,
          43,
          44,
          45,
          46,
          47,
          48,
          49
         ],
         "y": [
          0.9624217118997912,
          0.9624217118997912,
          0.9728601252609604,
          0.9728601252609604,
          0.9728601252609604,
          0.9728601252609604,
          0.9728601252609604,
          0.9728601252609604,
          0.9728601252609604,
          0.9728601252609604,
          0.9728601252609604,
          0.9728601252609604,
          0.9728601252609604,
          0.9728601252609604,
          0.9728601252609604,
          0.9728601252609604,
          0.9728601252609604,
          0.9728601252609604,
          0.9728601252609604,
          0.9728601252609604,
          0.9728601252609604,
          0.9728601252609604,
          0.9728601252609604,
          0.9728601252609604,
          0.9728601252609604,
          0.9728601252609604,
          0.9728601252609604,
          0.9728601252609604,
          0.9728601252609604,
          0.9728601252609604,
          0.9728601252609604,
          0.9728601252609604,
          0.9728601252609604,
          0.9728601252609604,
          0.9728601252609604,
          0.9728601252609604,
          0.9728601252609604,
          0.9728601252609604,
          0.9728601252609604,
          0.9728601252609604,
          0.9728601252609604,
          0.9728601252609604,
          0.9728601252609604,
          0.9728601252609604,
          0.9728601252609604,
          0.9728601252609604,
          0.9728601252609604,
          0.9728601252609604,
          0.9728601252609604,
          0.9728601252609604
         ]
        },
        {
         "marker": {
          "color": "#cccccc"
         },
         "mode": "markers",
         "name": "Infeasible Trial",
         "showlegend": false,
         "type": "scatter",
         "x": [],
         "y": []
        },
        {
         "mode": "markers",
         "name": "Objective Value of Random search",
         "type": "scatter",
         "x": [
          0,
          1,
          2,
          3,
          4,
          5,
          6,
          7,
          8,
          9,
          10,
          11,
          12,
          13,
          14,
          15,
          16,
          17,
          18,
          19,
          20,
          21,
          22,
          23,
          24,
          25,
          26,
          27,
          28,
          29,
          30,
          31,
          32,
          33,
          34,
          35,
          36,
          37,
          38,
          39,
          40,
          41,
          42,
          43,
          44,
          45,
          46,
          47,
          48,
          49
         ],
         "y": [
          0.9659011830201809,
          0.9617258176757133,
          0.9617258176757133,
          0.9686847599164926,
          0.9686847599164926,
          0.9631176061238692,
          0.9659011830201809,
          0.9665970772442588,
          0.9631176061238692,
          0.9561586638830898,
          0.9700765483646485,
          0.9700765483646485,
          0.9700765483646485,
          0.9700765483646485,
          0.9700765483646485,
          0.9700765483646485,
          0.9638135003479471,
          0.9700765483646485,
          0.9707724425887264,
          0.9659011830201809,
          0.9707724425887264,
          0.9707724425887264,
          0.9707724425887264,
          0.9707724425887264,
          0.9707724425887264,
          0.9707724425887264,
          0.9659011830201809,
          0.9707724425887264,
          0.9589422407794016,
          0.9707724425887264,
          0.9659011830201809,
          0.9707724425887264,
          0.9707724425887264,
          0.965205288796103,
          0.9707724425887264,
          0.965205288796103,
          0.9700765483646486,
          0.9707724425887264,
          0.9631176061238692,
          0.9638135003479471,
          0.9617258176757133,
          0.9707724425887264,
          0.9707724425887264,
          0.9707724425887264,
          0.9707724425887264,
          0.9665970772442588,
          0.9707724425887264,
          0.964509394572025,
          0.9700765483646485,
          0.9631176061238692
         ]
        },
        {
         "mode": "lines",
         "name": "Best Value of Random search",
         "type": "scatter",
         "x": [
          0,
          1,
          2,
          3,
          4,
          5,
          6,
          7,
          8,
          9,
          10,
          11,
          12,
          13,
          14,
          15,
          16,
          17,
          18,
          19,
          20,
          21,
          22,
          23,
          24,
          25,
          26,
          27,
          28,
          29,
          30,
          31,
          32,
          33,
          34,
          35,
          36,
          37,
          38,
          39,
          40,
          41,
          42,
          43,
          44,
          45,
          46,
          47,
          48,
          49
         ],
         "y": [
          0.9659011830201809,
          0.9659011830201809,
          0.9659011830201809,
          0.9686847599164926,
          0.9686847599164926,
          0.9686847599164926,
          0.9686847599164926,
          0.9686847599164926,
          0.9686847599164926,
          0.9686847599164926,
          0.9700765483646485,
          0.9700765483646485,
          0.9700765483646485,
          0.9700765483646485,
          0.9700765483646485,
          0.9700765483646485,
          0.9700765483646485,
          0.9700765483646485,
          0.9707724425887264,
          0.9707724425887264,
          0.9707724425887264,
          0.9707724425887264,
          0.9707724425887264,
          0.9707724425887264,
          0.9707724425887264,
          0.9707724425887264,
          0.9707724425887264,
          0.9707724425887264,
          0.9707724425887264,
          0.9707724425887264,
          0.9707724425887264,
          0.9707724425887264,
          0.9707724425887264,
          0.9707724425887264,
          0.9707724425887264,
          0.9707724425887264,
          0.9707724425887264,
          0.9707724425887264,
          0.9707724425887264,
          0.9707724425887264,
          0.9707724425887264,
          0.9707724425887264,
          0.9707724425887264,
          0.9707724425887264,
          0.9707724425887264,
          0.9707724425887264,
          0.9707724425887264,
          0.9707724425887264,
          0.9707724425887264,
          0.9707724425887264
         ]
        },
        {
         "marker": {
          "color": "#cccccc"
         },
         "mode": "markers",
         "name": "Infeasible Trial",
         "showlegend": false,
         "type": "scatter",
         "x": [],
         "y": []
        },
        {
         "mode": "markers",
         "name": "Objective Value of Bayesian search",
         "type": "scatter",
         "x": [
          0,
          1,
          2,
          3,
          4,
          5,
          6,
          7,
          8,
          9,
          10,
          11,
          12,
          13,
          14,
          15,
          16,
          17,
          18,
          19,
          20,
          21,
          22,
          23,
          24,
          25,
          26,
          27,
          28,
          29,
          30,
          31,
          32,
          33,
          34,
          35,
          36,
          37,
          38,
          39,
          40,
          41,
          42,
          43,
          44,
          45,
          46,
          47,
          48,
          49
         ],
         "y": [
          0.9617258176757133,
          0.964509394572025,
          0.9631176061238692,
          0.9631176061238692,
          0.9624217118997912,
          0.9700765483646486,
          0.964509394572025,
          0.965205288796103,
          0.9700765483646486,
          0.9624217118997912,
          0.9700765483646486,
          0.9700765483646486,
          0.9700765483646486,
          0.9700765483646486,
          0.9638135003479471,
          0.9631176061238692,
          0.9631176061238692,
          0.9700765483646486,
          0.9665970772442588,
          0.9589422407794016,
          0.9659011830201809,
          0.9700765483646486,
          0.9700765483646486,
          0.9700765483646486,
          0.9665970772442588,
          0.9700765483646486,
          0.9631176061238692,
          0.9659011830201809,
          0.9700765483646485,
          0.9617258176757133,
          0.9631176061238692,
          0.9700765483646486,
          0.9700765483646486,
          0.9700765483646486,
          0.9700765483646486,
          0.9700765483646486,
          0.9686847599164926,
          0.9589422407794016,
          0.9665970772442588,
          0.9631176061238692,
          0.9665970772442588,
          0.9700765483646486,
          0.9700765483646486,
          0.9700765483646486,
          0.9700765483646486,
          0.9700765483646486,
          0.9589422407794016,
          0.964509394572025,
          0.9700765483646486,
          0.9665970772442588
         ]
        },
        {
         "mode": "lines",
         "name": "Best Value of Bayesian search",
         "type": "scatter",
         "x": [
          0,
          1,
          2,
          3,
          4,
          5,
          6,
          7,
          8,
          9,
          10,
          11,
          12,
          13,
          14,
          15,
          16,
          17,
          18,
          19,
          20,
          21,
          22,
          23,
          24,
          25,
          26,
          27,
          28,
          29,
          30,
          31,
          32,
          33,
          34,
          35,
          36,
          37,
          38,
          39,
          40,
          41,
          42,
          43,
          44,
          45,
          46,
          47,
          48,
          49
         ],
         "y": [
          0.9617258176757133,
          0.964509394572025,
          0.964509394572025,
          0.964509394572025,
          0.964509394572025,
          0.9700765483646486,
          0.9700765483646486,
          0.9700765483646486,
          0.9700765483646486,
          0.9700765483646486,
          0.9700765483646486,
          0.9700765483646486,
          0.9700765483646486,
          0.9700765483646486,
          0.9700765483646486,
          0.9700765483646486,
          0.9700765483646486,
          0.9700765483646486,
          0.9700765483646486,
          0.9700765483646486,
          0.9700765483646486,
          0.9700765483646486,
          0.9700765483646486,
          0.9700765483646486,
          0.9700765483646486,
          0.9700765483646486,
          0.9700765483646486,
          0.9700765483646486,
          0.9700765483646486,
          0.9700765483646486,
          0.9700765483646486,
          0.9700765483646486,
          0.9700765483646486,
          0.9700765483646486,
          0.9700765483646486,
          0.9700765483646486,
          0.9700765483646486,
          0.9700765483646486,
          0.9700765483646486,
          0.9700765483646486,
          0.9700765483646486,
          0.9700765483646486,
          0.9700765483646486,
          0.9700765483646486,
          0.9700765483646486,
          0.9700765483646486,
          0.9700765483646486,
          0.9700765483646486,
          0.9700765483646486,
          0.9700765483646486
         ]
        },
        {
         "marker": {
          "color": "#cccccc"
         },
         "mode": "markers",
         "name": "Infeasible Trial",
         "showlegend": false,
         "type": "scatter",
         "x": [],
         "y": []
        }
       ],
       "layout": {
        "template": {
         "data": {
          "bar": [
           {
            "error_x": {
             "color": "#2a3f5f"
            },
            "error_y": {
             "color": "#2a3f5f"
            },
            "marker": {
             "line": {
              "color": "#E5ECF6",
              "width": 0.5
             },
             "pattern": {
              "fillmode": "overlay",
              "size": 10,
              "solidity": 0.2
             }
            },
            "type": "bar"
           }
          ],
          "barpolar": [
           {
            "marker": {
             "line": {
              "color": "#E5ECF6",
              "width": 0.5
             },
             "pattern": {
              "fillmode": "overlay",
              "size": 10,
              "solidity": 0.2
             }
            },
            "type": "barpolar"
           }
          ],
          "carpet": [
           {
            "aaxis": {
             "endlinecolor": "#2a3f5f",
             "gridcolor": "white",
             "linecolor": "white",
             "minorgridcolor": "white",
             "startlinecolor": "#2a3f5f"
            },
            "baxis": {
             "endlinecolor": "#2a3f5f",
             "gridcolor": "white",
             "linecolor": "white",
             "minorgridcolor": "white",
             "startlinecolor": "#2a3f5f"
            },
            "type": "carpet"
           }
          ],
          "choropleth": [
           {
            "colorbar": {
             "outlinewidth": 0,
             "ticks": ""
            },
            "type": "choropleth"
           }
          ],
          "contour": [
           {
            "colorbar": {
             "outlinewidth": 0,
             "ticks": ""
            },
            "colorscale": [
             [
              0,
              "#0d0887"
             ],
             [
              0.1111111111111111,
              "#46039f"
             ],
             [
              0.2222222222222222,
              "#7201a8"
             ],
             [
              0.3333333333333333,
              "#9c179e"
             ],
             [
              0.4444444444444444,
              "#bd3786"
             ],
             [
              0.5555555555555556,
              "#d8576b"
             ],
             [
              0.6666666666666666,
              "#ed7953"
             ],
             [
              0.7777777777777778,
              "#fb9f3a"
             ],
             [
              0.8888888888888888,
              "#fdca26"
             ],
             [
              1,
              "#f0f921"
             ]
            ],
            "type": "contour"
           }
          ],
          "contourcarpet": [
           {
            "colorbar": {
             "outlinewidth": 0,
             "ticks": ""
            },
            "type": "contourcarpet"
           }
          ],
          "heatmap": [
           {
            "colorbar": {
             "outlinewidth": 0,
             "ticks": ""
            },
            "colorscale": [
             [
              0,
              "#0d0887"
             ],
             [
              0.1111111111111111,
              "#46039f"
             ],
             [
              0.2222222222222222,
              "#7201a8"
             ],
             [
              0.3333333333333333,
              "#9c179e"
             ],
             [
              0.4444444444444444,
              "#bd3786"
             ],
             [
              0.5555555555555556,
              "#d8576b"
             ],
             [
              0.6666666666666666,
              "#ed7953"
             ],
             [
              0.7777777777777778,
              "#fb9f3a"
             ],
             [
              0.8888888888888888,
              "#fdca26"
             ],
             [
              1,
              "#f0f921"
             ]
            ],
            "type": "heatmap"
           }
          ],
          "histogram": [
           {
            "marker": {
             "pattern": {
              "fillmode": "overlay",
              "size": 10,
              "solidity": 0.2
             }
            },
            "type": "histogram"
           }
          ],
          "histogram2d": [
           {
            "colorbar": {
             "outlinewidth": 0,
             "ticks": ""
            },
            "colorscale": [
             [
              0,
              "#0d0887"
             ],
             [
              0.1111111111111111,
              "#46039f"
             ],
             [
              0.2222222222222222,
              "#7201a8"
             ],
             [
              0.3333333333333333,
              "#9c179e"
             ],
             [
              0.4444444444444444,
              "#bd3786"
             ],
             [
              0.5555555555555556,
              "#d8576b"
             ],
             [
              0.6666666666666666,
              "#ed7953"
             ],
             [
              0.7777777777777778,
              "#fb9f3a"
             ],
             [
              0.8888888888888888,
              "#fdca26"
             ],
             [
              1,
              "#f0f921"
             ]
            ],
            "type": "histogram2d"
           }
          ],
          "histogram2dcontour": [
           {
            "colorbar": {
             "outlinewidth": 0,
             "ticks": ""
            },
            "colorscale": [
             [
              0,
              "#0d0887"
             ],
             [
              0.1111111111111111,
              "#46039f"
             ],
             [
              0.2222222222222222,
              "#7201a8"
             ],
             [
              0.3333333333333333,
              "#9c179e"
             ],
             [
              0.4444444444444444,
              "#bd3786"
             ],
             [
              0.5555555555555556,
              "#d8576b"
             ],
             [
              0.6666666666666666,
              "#ed7953"
             ],
             [
              0.7777777777777778,
              "#fb9f3a"
             ],
             [
              0.8888888888888888,
              "#fdca26"
             ],
             [
              1,
              "#f0f921"
             ]
            ],
            "type": "histogram2dcontour"
           }
          ],
          "mesh3d": [
           {
            "colorbar": {
             "outlinewidth": 0,
             "ticks": ""
            },
            "type": "mesh3d"
           }
          ],
          "parcoords": [
           {
            "line": {
             "colorbar": {
              "outlinewidth": 0,
              "ticks": ""
             }
            },
            "type": "parcoords"
           }
          ],
          "pie": [
           {
            "automargin": true,
            "type": "pie"
           }
          ],
          "scatter": [
           {
            "fillpattern": {
             "fillmode": "overlay",
             "size": 10,
             "solidity": 0.2
            },
            "type": "scatter"
           }
          ],
          "scatter3d": [
           {
            "line": {
             "colorbar": {
              "outlinewidth": 0,
              "ticks": ""
             }
            },
            "marker": {
             "colorbar": {
              "outlinewidth": 0,
              "ticks": ""
             }
            },
            "type": "scatter3d"
           }
          ],
          "scattercarpet": [
           {
            "marker": {
             "colorbar": {
              "outlinewidth": 0,
              "ticks": ""
             }
            },
            "type": "scattercarpet"
           }
          ],
          "scattergeo": [
           {
            "marker": {
             "colorbar": {
              "outlinewidth": 0,
              "ticks": ""
             }
            },
            "type": "scattergeo"
           }
          ],
          "scattergl": [
           {
            "marker": {
             "colorbar": {
              "outlinewidth": 0,
              "ticks": ""
             }
            },
            "type": "scattergl"
           }
          ],
          "scattermap": [
           {
            "marker": {
             "colorbar": {
              "outlinewidth": 0,
              "ticks": ""
             }
            },
            "type": "scattermap"
           }
          ],
          "scattermapbox": [
           {
            "marker": {
             "colorbar": {
              "outlinewidth": 0,
              "ticks": ""
             }
            },
            "type": "scattermapbox"
           }
          ],
          "scatterpolar": [
           {
            "marker": {
             "colorbar": {
              "outlinewidth": 0,
              "ticks": ""
             }
            },
            "type": "scatterpolar"
           }
          ],
          "scatterpolargl": [
           {
            "marker": {
             "colorbar": {
              "outlinewidth": 0,
              "ticks": ""
             }
            },
            "type": "scatterpolargl"
           }
          ],
          "scatterternary": [
           {
            "marker": {
             "colorbar": {
              "outlinewidth": 0,
              "ticks": ""
             }
            },
            "type": "scatterternary"
           }
          ],
          "surface": [
           {
            "colorbar": {
             "outlinewidth": 0,
             "ticks": ""
            },
            "colorscale": [
             [
              0,
              "#0d0887"
             ],
             [
              0.1111111111111111,
              "#46039f"
             ],
             [
              0.2222222222222222,
              "#7201a8"
             ],
             [
              0.3333333333333333,
              "#9c179e"
             ],
             [
              0.4444444444444444,
              "#bd3786"
             ],
             [
              0.5555555555555556,
              "#d8576b"
             ],
             [
              0.6666666666666666,
              "#ed7953"
             ],
             [
              0.7777777777777778,
              "#fb9f3a"
             ],
             [
              0.8888888888888888,
              "#fdca26"
             ],
             [
              1,
              "#f0f921"
             ]
            ],
            "type": "surface"
           }
          ],
          "table": [
           {
            "cells": {
             "fill": {
              "color": "#EBF0F8"
             },
             "line": {
              "color": "white"
             }
            },
            "header": {
             "fill": {
              "color": "#C8D4E3"
             },
             "line": {
              "color": "white"
             }
            },
            "type": "table"
           }
          ]
         },
         "layout": {
          "annotationdefaults": {
           "arrowcolor": "#2a3f5f",
           "arrowhead": 0,
           "arrowwidth": 1
          },
          "autotypenumbers": "strict",
          "coloraxis": {
           "colorbar": {
            "outlinewidth": 0,
            "ticks": ""
           }
          },
          "colorscale": {
           "diverging": [
            [
             0,
             "#8e0152"
            ],
            [
             0.1,
             "#c51b7d"
            ],
            [
             0.2,
             "#de77ae"
            ],
            [
             0.3,
             "#f1b6da"
            ],
            [
             0.4,
             "#fde0ef"
            ],
            [
             0.5,
             "#f7f7f7"
            ],
            [
             0.6,
             "#e6f5d0"
            ],
            [
             0.7,
             "#b8e186"
            ],
            [
             0.8,
             "#7fbc41"
            ],
            [
             0.9,
             "#4d9221"
            ],
            [
             1,
             "#276419"
            ]
           ],
           "sequential": [
            [
             0,
             "#0d0887"
            ],
            [
             0.1111111111111111,
             "#46039f"
            ],
            [
             0.2222222222222222,
             "#7201a8"
            ],
            [
             0.3333333333333333,
             "#9c179e"
            ],
            [
             0.4444444444444444,
             "#bd3786"
            ],
            [
             0.5555555555555556,
             "#d8576b"
            ],
            [
             0.6666666666666666,
             "#ed7953"
            ],
            [
             0.7777777777777778,
             "#fb9f3a"
            ],
            [
             0.8888888888888888,
             "#fdca26"
            ],
            [
             1,
             "#f0f921"
            ]
           ],
           "sequentialminus": [
            [
             0,
             "#0d0887"
            ],
            [
             0.1111111111111111,
             "#46039f"
            ],
            [
             0.2222222222222222,
             "#7201a8"
            ],
            [
             0.3333333333333333,
             "#9c179e"
            ],
            [
             0.4444444444444444,
             "#bd3786"
            ],
            [
             0.5555555555555556,
             "#d8576b"
            ],
            [
             0.6666666666666666,
             "#ed7953"
            ],
            [
             0.7777777777777778,
             "#fb9f3a"
            ],
            [
             0.8888888888888888,
             "#fdca26"
            ],
            [
             1,
             "#f0f921"
            ]
           ]
          },
          "colorway": [
           "#636efa",
           "#EF553B",
           "#00cc96",
           "#ab63fa",
           "#FFA15A",
           "#19d3f3",
           "#FF6692",
           "#B6E880",
           "#FF97FF",
           "#FECB52"
          ],
          "font": {
           "color": "#2a3f5f"
          },
          "geo": {
           "bgcolor": "white",
           "lakecolor": "white",
           "landcolor": "#E5ECF6",
           "showlakes": true,
           "showland": true,
           "subunitcolor": "white"
          },
          "hoverlabel": {
           "align": "left"
          },
          "hovermode": "closest",
          "mapbox": {
           "style": "light"
          },
          "paper_bgcolor": "white",
          "plot_bgcolor": "#E5ECF6",
          "polar": {
           "angularaxis": {
            "gridcolor": "white",
            "linecolor": "white",
            "ticks": ""
           },
           "bgcolor": "#E5ECF6",
           "radialaxis": {
            "gridcolor": "white",
            "linecolor": "white",
            "ticks": ""
           }
          },
          "scene": {
           "xaxis": {
            "backgroundcolor": "#E5ECF6",
            "gridcolor": "white",
            "gridwidth": 2,
            "linecolor": "white",
            "showbackground": true,
            "ticks": "",
            "zerolinecolor": "white"
           },
           "yaxis": {
            "backgroundcolor": "#E5ECF6",
            "gridcolor": "white",
            "gridwidth": 2,
            "linecolor": "white",
            "showbackground": true,
            "ticks": "",
            "zerolinecolor": "white"
           },
           "zaxis": {
            "backgroundcolor": "#E5ECF6",
            "gridcolor": "white",
            "gridwidth": 2,
            "linecolor": "white",
            "showbackground": true,
            "ticks": "",
            "zerolinecolor": "white"
           }
          },
          "shapedefaults": {
           "line": {
            "color": "#2a3f5f"
           }
          },
          "ternary": {
           "aaxis": {
            "gridcolor": "white",
            "linecolor": "white",
            "ticks": ""
           },
           "baxis": {
            "gridcolor": "white",
            "linecolor": "white",
            "ticks": ""
           },
           "bgcolor": "#E5ECF6",
           "caxis": {
            "gridcolor": "white",
            "linecolor": "white",
            "ticks": ""
           }
          },
          "title": {
           "x": 0.05
          },
          "xaxis": {
           "automargin": true,
           "gridcolor": "white",
           "linecolor": "white",
           "ticks": "",
           "title": {
            "standoff": 15
           },
           "zerolinecolor": "white",
           "zerolinewidth": 2
          },
          "yaxis": {
           "automargin": true,
           "gridcolor": "white",
           "linecolor": "white",
           "ticks": "",
           "title": {
            "standoff": 15
           },
           "zerolinecolor": "white",
           "zerolinewidth": 2
          }
         }
        },
        "title": {
         "text": "Optimization History Plot"
        },
        "xaxis": {
         "title": {
          "text": "Trial"
         }
        },
        "yaxis": {
         "title": {
          "text": "Objective Value"
         }
        }
       }
      }
     },
     "metadata": {},
     "output_type": "display_data"
    },
    {
     "name": "stdout",
     "output_type": "stream",
     "text": [
      "Best Accuracy Scores:\n",
      "Grid search: 0.9729\n",
      "Random search: 0.9708\n",
      "Bayesian search: 0.9701\n"
     ]
    }
   ],
   "source": [
    "plot_results(studies);        "
   ]
  },
  {
   "cell_type": "code",
   "execution_count": 60,
   "metadata": {},
   "outputs": [
    {
     "data": {
      "application/vnd.plotly.v1+json": {
       "config": {
        "plotlyServerURL": "https://plot.ly"
       },
       "data": [
        {
         "cliponaxis": false,
         "hovertemplate": [
          "max_depth (CategoricalDistribution): 0.07720264974060398<extra></extra>",
          "n_estimators (CategoricalDistribution): 0.2974367544530444<extra></extra>",
          "min_samples_split (CategoricalDistribution): 0.6253605958063516<extra></extra>"
         ],
         "name": "Objective Value",
         "orientation": "h",
         "text": [
          "0.08",
          "0.30",
          "0.63"
         ],
         "textposition": "outside",
         "type": "bar",
         "x": [
          0.07720264974060398,
          0.2974367544530444,
          0.6253605958063516
         ],
         "y": [
          "max_depth",
          "n_estimators",
          "min_samples_split"
         ]
        }
       ],
       "layout": {
        "template": {
         "data": {
          "bar": [
           {
            "error_x": {
             "color": "#2a3f5f"
            },
            "error_y": {
             "color": "#2a3f5f"
            },
            "marker": {
             "line": {
              "color": "#E5ECF6",
              "width": 0.5
             },
             "pattern": {
              "fillmode": "overlay",
              "size": 10,
              "solidity": 0.2
             }
            },
            "type": "bar"
           }
          ],
          "barpolar": [
           {
            "marker": {
             "line": {
              "color": "#E5ECF6",
              "width": 0.5
             },
             "pattern": {
              "fillmode": "overlay",
              "size": 10,
              "solidity": 0.2
             }
            },
            "type": "barpolar"
           }
          ],
          "carpet": [
           {
            "aaxis": {
             "endlinecolor": "#2a3f5f",
             "gridcolor": "white",
             "linecolor": "white",
             "minorgridcolor": "white",
             "startlinecolor": "#2a3f5f"
            },
            "baxis": {
             "endlinecolor": "#2a3f5f",
             "gridcolor": "white",
             "linecolor": "white",
             "minorgridcolor": "white",
             "startlinecolor": "#2a3f5f"
            },
            "type": "carpet"
           }
          ],
          "choropleth": [
           {
            "colorbar": {
             "outlinewidth": 0,
             "ticks": ""
            },
            "type": "choropleth"
           }
          ],
          "contour": [
           {
            "colorbar": {
             "outlinewidth": 0,
             "ticks": ""
            },
            "colorscale": [
             [
              0,
              "#0d0887"
             ],
             [
              0.1111111111111111,
              "#46039f"
             ],
             [
              0.2222222222222222,
              "#7201a8"
             ],
             [
              0.3333333333333333,
              "#9c179e"
             ],
             [
              0.4444444444444444,
              "#bd3786"
             ],
             [
              0.5555555555555556,
              "#d8576b"
             ],
             [
              0.6666666666666666,
              "#ed7953"
             ],
             [
              0.7777777777777778,
              "#fb9f3a"
             ],
             [
              0.8888888888888888,
              "#fdca26"
             ],
             [
              1,
              "#f0f921"
             ]
            ],
            "type": "contour"
           }
          ],
          "contourcarpet": [
           {
            "colorbar": {
             "outlinewidth": 0,
             "ticks": ""
            },
            "type": "contourcarpet"
           }
          ],
          "heatmap": [
           {
            "colorbar": {
             "outlinewidth": 0,
             "ticks": ""
            },
            "colorscale": [
             [
              0,
              "#0d0887"
             ],
             [
              0.1111111111111111,
              "#46039f"
             ],
             [
              0.2222222222222222,
              "#7201a8"
             ],
             [
              0.3333333333333333,
              "#9c179e"
             ],
             [
              0.4444444444444444,
              "#bd3786"
             ],
             [
              0.5555555555555556,
              "#d8576b"
             ],
             [
              0.6666666666666666,
              "#ed7953"
             ],
             [
              0.7777777777777778,
              "#fb9f3a"
             ],
             [
              0.8888888888888888,
              "#fdca26"
             ],
             [
              1,
              "#f0f921"
             ]
            ],
            "type": "heatmap"
           }
          ],
          "histogram": [
           {
            "marker": {
             "pattern": {
              "fillmode": "overlay",
              "size": 10,
              "solidity": 0.2
             }
            },
            "type": "histogram"
           }
          ],
          "histogram2d": [
           {
            "colorbar": {
             "outlinewidth": 0,
             "ticks": ""
            },
            "colorscale": [
             [
              0,
              "#0d0887"
             ],
             [
              0.1111111111111111,
              "#46039f"
             ],
             [
              0.2222222222222222,
              "#7201a8"
             ],
             [
              0.3333333333333333,
              "#9c179e"
             ],
             [
              0.4444444444444444,
              "#bd3786"
             ],
             [
              0.5555555555555556,
              "#d8576b"
             ],
             [
              0.6666666666666666,
              "#ed7953"
             ],
             [
              0.7777777777777778,
              "#fb9f3a"
             ],
             [
              0.8888888888888888,
              "#fdca26"
             ],
             [
              1,
              "#f0f921"
             ]
            ],
            "type": "histogram2d"
           }
          ],
          "histogram2dcontour": [
           {
            "colorbar": {
             "outlinewidth": 0,
             "ticks": ""
            },
            "colorscale": [
             [
              0,
              "#0d0887"
             ],
             [
              0.1111111111111111,
              "#46039f"
             ],
             [
              0.2222222222222222,
              "#7201a8"
             ],
             [
              0.3333333333333333,
              "#9c179e"
             ],
             [
              0.4444444444444444,
              "#bd3786"
             ],
             [
              0.5555555555555556,
              "#d8576b"
             ],
             [
              0.6666666666666666,
              "#ed7953"
             ],
             [
              0.7777777777777778,
              "#fb9f3a"
             ],
             [
              0.8888888888888888,
              "#fdca26"
             ],
             [
              1,
              "#f0f921"
             ]
            ],
            "type": "histogram2dcontour"
           }
          ],
          "mesh3d": [
           {
            "colorbar": {
             "outlinewidth": 0,
             "ticks": ""
            },
            "type": "mesh3d"
           }
          ],
          "parcoords": [
           {
            "line": {
             "colorbar": {
              "outlinewidth": 0,
              "ticks": ""
             }
            },
            "type": "parcoords"
           }
          ],
          "pie": [
           {
            "automargin": true,
            "type": "pie"
           }
          ],
          "scatter": [
           {
            "fillpattern": {
             "fillmode": "overlay",
             "size": 10,
             "solidity": 0.2
            },
            "type": "scatter"
           }
          ],
          "scatter3d": [
           {
            "line": {
             "colorbar": {
              "outlinewidth": 0,
              "ticks": ""
             }
            },
            "marker": {
             "colorbar": {
              "outlinewidth": 0,
              "ticks": ""
             }
            },
            "type": "scatter3d"
           }
          ],
          "scattercarpet": [
           {
            "marker": {
             "colorbar": {
              "outlinewidth": 0,
              "ticks": ""
             }
            },
            "type": "scattercarpet"
           }
          ],
          "scattergeo": [
           {
            "marker": {
             "colorbar": {
              "outlinewidth": 0,
              "ticks": ""
             }
            },
            "type": "scattergeo"
           }
          ],
          "scattergl": [
           {
            "marker": {
             "colorbar": {
              "outlinewidth": 0,
              "ticks": ""
             }
            },
            "type": "scattergl"
           }
          ],
          "scattermap": [
           {
            "marker": {
             "colorbar": {
              "outlinewidth": 0,
              "ticks": ""
             }
            },
            "type": "scattermap"
           }
          ],
          "scattermapbox": [
           {
            "marker": {
             "colorbar": {
              "outlinewidth": 0,
              "ticks": ""
             }
            },
            "type": "scattermapbox"
           }
          ],
          "scatterpolar": [
           {
            "marker": {
             "colorbar": {
              "outlinewidth": 0,
              "ticks": ""
             }
            },
            "type": "scatterpolar"
           }
          ],
          "scatterpolargl": [
           {
            "marker": {
             "colorbar": {
              "outlinewidth": 0,
              "ticks": ""
             }
            },
            "type": "scatterpolargl"
           }
          ],
          "scatterternary": [
           {
            "marker": {
             "colorbar": {
              "outlinewidth": 0,
              "ticks": ""
             }
            },
            "type": "scatterternary"
           }
          ],
          "surface": [
           {
            "colorbar": {
             "outlinewidth": 0,
             "ticks": ""
            },
            "colorscale": [
             [
              0,
              "#0d0887"
             ],
             [
              0.1111111111111111,
              "#46039f"
             ],
             [
              0.2222222222222222,
              "#7201a8"
             ],
             [
              0.3333333333333333,
              "#9c179e"
             ],
             [
              0.4444444444444444,
              "#bd3786"
             ],
             [
              0.5555555555555556,
              "#d8576b"
             ],
             [
              0.6666666666666666,
              "#ed7953"
             ],
             [
              0.7777777777777778,
              "#fb9f3a"
             ],
             [
              0.8888888888888888,
              "#fdca26"
             ],
             [
              1,
              "#f0f921"
             ]
            ],
            "type": "surface"
           }
          ],
          "table": [
           {
            "cells": {
             "fill": {
              "color": "#EBF0F8"
             },
             "line": {
              "color": "white"
             }
            },
            "header": {
             "fill": {
              "color": "#C8D4E3"
             },
             "line": {
              "color": "white"
             }
            },
            "type": "table"
           }
          ]
         },
         "layout": {
          "annotationdefaults": {
           "arrowcolor": "#2a3f5f",
           "arrowhead": 0,
           "arrowwidth": 1
          },
          "autotypenumbers": "strict",
          "coloraxis": {
           "colorbar": {
            "outlinewidth": 0,
            "ticks": ""
           }
          },
          "colorscale": {
           "diverging": [
            [
             0,
             "#8e0152"
            ],
            [
             0.1,
             "#c51b7d"
            ],
            [
             0.2,
             "#de77ae"
            ],
            [
             0.3,
             "#f1b6da"
            ],
            [
             0.4,
             "#fde0ef"
            ],
            [
             0.5,
             "#f7f7f7"
            ],
            [
             0.6,
             "#e6f5d0"
            ],
            [
             0.7,
             "#b8e186"
            ],
            [
             0.8,
             "#7fbc41"
            ],
            [
             0.9,
             "#4d9221"
            ],
            [
             1,
             "#276419"
            ]
           ],
           "sequential": [
            [
             0,
             "#0d0887"
            ],
            [
             0.1111111111111111,
             "#46039f"
            ],
            [
             0.2222222222222222,
             "#7201a8"
            ],
            [
             0.3333333333333333,
             "#9c179e"
            ],
            [
             0.4444444444444444,
             "#bd3786"
            ],
            [
             0.5555555555555556,
             "#d8576b"
            ],
            [
             0.6666666666666666,
             "#ed7953"
            ],
            [
             0.7777777777777778,
             "#fb9f3a"
            ],
            [
             0.8888888888888888,
             "#fdca26"
            ],
            [
             1,
             "#f0f921"
            ]
           ],
           "sequentialminus": [
            [
             0,
             "#0d0887"
            ],
            [
             0.1111111111111111,
             "#46039f"
            ],
            [
             0.2222222222222222,
             "#7201a8"
            ],
            [
             0.3333333333333333,
             "#9c179e"
            ],
            [
             0.4444444444444444,
             "#bd3786"
            ],
            [
             0.5555555555555556,
             "#d8576b"
            ],
            [
             0.6666666666666666,
             "#ed7953"
            ],
            [
             0.7777777777777778,
             "#fb9f3a"
            ],
            [
             0.8888888888888888,
             "#fdca26"
            ],
            [
             1,
             "#f0f921"
            ]
           ]
          },
          "colorway": [
           "#636efa",
           "#EF553B",
           "#00cc96",
           "#ab63fa",
           "#FFA15A",
           "#19d3f3",
           "#FF6692",
           "#B6E880",
           "#FF97FF",
           "#FECB52"
          ],
          "font": {
           "color": "#2a3f5f"
          },
          "geo": {
           "bgcolor": "white",
           "lakecolor": "white",
           "landcolor": "#E5ECF6",
           "showlakes": true,
           "showland": true,
           "subunitcolor": "white"
          },
          "hoverlabel": {
           "align": "left"
          },
          "hovermode": "closest",
          "mapbox": {
           "style": "light"
          },
          "paper_bgcolor": "white",
          "plot_bgcolor": "#E5ECF6",
          "polar": {
           "angularaxis": {
            "gridcolor": "white",
            "linecolor": "white",
            "ticks": ""
           },
           "bgcolor": "#E5ECF6",
           "radialaxis": {
            "gridcolor": "white",
            "linecolor": "white",
            "ticks": ""
           }
          },
          "scene": {
           "xaxis": {
            "backgroundcolor": "#E5ECF6",
            "gridcolor": "white",
            "gridwidth": 2,
            "linecolor": "white",
            "showbackground": true,
            "ticks": "",
            "zerolinecolor": "white"
           },
           "yaxis": {
            "backgroundcolor": "#E5ECF6",
            "gridcolor": "white",
            "gridwidth": 2,
            "linecolor": "white",
            "showbackground": true,
            "ticks": "",
            "zerolinecolor": "white"
           },
           "zaxis": {
            "backgroundcolor": "#E5ECF6",
            "gridcolor": "white",
            "gridwidth": 2,
            "linecolor": "white",
            "showbackground": true,
            "ticks": "",
            "zerolinecolor": "white"
           }
          },
          "shapedefaults": {
           "line": {
            "color": "#2a3f5f"
           }
          },
          "ternary": {
           "aaxis": {
            "gridcolor": "white",
            "linecolor": "white",
            "ticks": ""
           },
           "baxis": {
            "gridcolor": "white",
            "linecolor": "white",
            "ticks": ""
           },
           "bgcolor": "#E5ECF6",
           "caxis": {
            "gridcolor": "white",
            "linecolor": "white",
            "ticks": ""
           }
          },
          "title": {
           "x": 0.05
          },
          "xaxis": {
           "automargin": true,
           "gridcolor": "white",
           "linecolor": "white",
           "ticks": "",
           "title": {
            "standoff": 15
           },
           "zerolinecolor": "white",
           "zerolinewidth": 2
          },
          "yaxis": {
           "automargin": true,
           "gridcolor": "white",
           "linecolor": "white",
           "ticks": "",
           "title": {
            "standoff": 15
           },
           "zerolinecolor": "white",
           "zerolinewidth": 2
          }
         }
        },
        "title": {
         "text": "Grid search"
        },
        "xaxis": {
         "title": {
          "text": "Hyperparameter Importance"
         }
        },
        "yaxis": {
         "title": {
          "text": "Hyperparameter"
         }
        }
       }
      }
     },
     "metadata": {},
     "output_type": "display_data"
    },
    {
     "data": {
      "application/vnd.plotly.v1+json": {
       "config": {
        "plotlyServerURL": "https://plot.ly"
       },
       "data": [
        {
         "cliponaxis": false,
         "hovertemplate": [
          "max_depth (CategoricalDistribution): 0.088593674259358<extra></extra>",
          "n_estimators (IntDistribution): 0.4402861830934421<extra></extra>",
          "min_samples_split (IntDistribution): 0.4711201426471998<extra></extra>"
         ],
         "name": "Objective Value",
         "orientation": "h",
         "text": [
          "0.09",
          "0.44",
          "0.47"
         ],
         "textposition": "outside",
         "type": "bar",
         "x": [
          0.088593674259358,
          0.4402861830934421,
          0.4711201426471998
         ],
         "y": [
          "max_depth",
          "n_estimators",
          "min_samples_split"
         ]
        }
       ],
       "layout": {
        "template": {
         "data": {
          "bar": [
           {
            "error_x": {
             "color": "#2a3f5f"
            },
            "error_y": {
             "color": "#2a3f5f"
            },
            "marker": {
             "line": {
              "color": "#E5ECF6",
              "width": 0.5
             },
             "pattern": {
              "fillmode": "overlay",
              "size": 10,
              "solidity": 0.2
             }
            },
            "type": "bar"
           }
          ],
          "barpolar": [
           {
            "marker": {
             "line": {
              "color": "#E5ECF6",
              "width": 0.5
             },
             "pattern": {
              "fillmode": "overlay",
              "size": 10,
              "solidity": 0.2
             }
            },
            "type": "barpolar"
           }
          ],
          "carpet": [
           {
            "aaxis": {
             "endlinecolor": "#2a3f5f",
             "gridcolor": "white",
             "linecolor": "white",
             "minorgridcolor": "white",
             "startlinecolor": "#2a3f5f"
            },
            "baxis": {
             "endlinecolor": "#2a3f5f",
             "gridcolor": "white",
             "linecolor": "white",
             "minorgridcolor": "white",
             "startlinecolor": "#2a3f5f"
            },
            "type": "carpet"
           }
          ],
          "choropleth": [
           {
            "colorbar": {
             "outlinewidth": 0,
             "ticks": ""
            },
            "type": "choropleth"
           }
          ],
          "contour": [
           {
            "colorbar": {
             "outlinewidth": 0,
             "ticks": ""
            },
            "colorscale": [
             [
              0,
              "#0d0887"
             ],
             [
              0.1111111111111111,
              "#46039f"
             ],
             [
              0.2222222222222222,
              "#7201a8"
             ],
             [
              0.3333333333333333,
              "#9c179e"
             ],
             [
              0.4444444444444444,
              "#bd3786"
             ],
             [
              0.5555555555555556,
              "#d8576b"
             ],
             [
              0.6666666666666666,
              "#ed7953"
             ],
             [
              0.7777777777777778,
              "#fb9f3a"
             ],
             [
              0.8888888888888888,
              "#fdca26"
             ],
             [
              1,
              "#f0f921"
             ]
            ],
            "type": "contour"
           }
          ],
          "contourcarpet": [
           {
            "colorbar": {
             "outlinewidth": 0,
             "ticks": ""
            },
            "type": "contourcarpet"
           }
          ],
          "heatmap": [
           {
            "colorbar": {
             "outlinewidth": 0,
             "ticks": ""
            },
            "colorscale": [
             [
              0,
              "#0d0887"
             ],
             [
              0.1111111111111111,
              "#46039f"
             ],
             [
              0.2222222222222222,
              "#7201a8"
             ],
             [
              0.3333333333333333,
              "#9c179e"
             ],
             [
              0.4444444444444444,
              "#bd3786"
             ],
             [
              0.5555555555555556,
              "#d8576b"
             ],
             [
              0.6666666666666666,
              "#ed7953"
             ],
             [
              0.7777777777777778,
              "#fb9f3a"
             ],
             [
              0.8888888888888888,
              "#fdca26"
             ],
             [
              1,
              "#f0f921"
             ]
            ],
            "type": "heatmap"
           }
          ],
          "histogram": [
           {
            "marker": {
             "pattern": {
              "fillmode": "overlay",
              "size": 10,
              "solidity": 0.2
             }
            },
            "type": "histogram"
           }
          ],
          "histogram2d": [
           {
            "colorbar": {
             "outlinewidth": 0,
             "ticks": ""
            },
            "colorscale": [
             [
              0,
              "#0d0887"
             ],
             [
              0.1111111111111111,
              "#46039f"
             ],
             [
              0.2222222222222222,
              "#7201a8"
             ],
             [
              0.3333333333333333,
              "#9c179e"
             ],
             [
              0.4444444444444444,
              "#bd3786"
             ],
             [
              0.5555555555555556,
              "#d8576b"
             ],
             [
              0.6666666666666666,
              "#ed7953"
             ],
             [
              0.7777777777777778,
              "#fb9f3a"
             ],
             [
              0.8888888888888888,
              "#fdca26"
             ],
             [
              1,
              "#f0f921"
             ]
            ],
            "type": "histogram2d"
           }
          ],
          "histogram2dcontour": [
           {
            "colorbar": {
             "outlinewidth": 0,
             "ticks": ""
            },
            "colorscale": [
             [
              0,
              "#0d0887"
             ],
             [
              0.1111111111111111,
              "#46039f"
             ],
             [
              0.2222222222222222,
              "#7201a8"
             ],
             [
              0.3333333333333333,
              "#9c179e"
             ],
             [
              0.4444444444444444,
              "#bd3786"
             ],
             [
              0.5555555555555556,
              "#d8576b"
             ],
             [
              0.6666666666666666,
              "#ed7953"
             ],
             [
              0.7777777777777778,
              "#fb9f3a"
             ],
             [
              0.8888888888888888,
              "#fdca26"
             ],
             [
              1,
              "#f0f921"
             ]
            ],
            "type": "histogram2dcontour"
           }
          ],
          "mesh3d": [
           {
            "colorbar": {
             "outlinewidth": 0,
             "ticks": ""
            },
            "type": "mesh3d"
           }
          ],
          "parcoords": [
           {
            "line": {
             "colorbar": {
              "outlinewidth": 0,
              "ticks": ""
             }
            },
            "type": "parcoords"
           }
          ],
          "pie": [
           {
            "automargin": true,
            "type": "pie"
           }
          ],
          "scatter": [
           {
            "fillpattern": {
             "fillmode": "overlay",
             "size": 10,
             "solidity": 0.2
            },
            "type": "scatter"
           }
          ],
          "scatter3d": [
           {
            "line": {
             "colorbar": {
              "outlinewidth": 0,
              "ticks": ""
             }
            },
            "marker": {
             "colorbar": {
              "outlinewidth": 0,
              "ticks": ""
             }
            },
            "type": "scatter3d"
           }
          ],
          "scattercarpet": [
           {
            "marker": {
             "colorbar": {
              "outlinewidth": 0,
              "ticks": ""
             }
            },
            "type": "scattercarpet"
           }
          ],
          "scattergeo": [
           {
            "marker": {
             "colorbar": {
              "outlinewidth": 0,
              "ticks": ""
             }
            },
            "type": "scattergeo"
           }
          ],
          "scattergl": [
           {
            "marker": {
             "colorbar": {
              "outlinewidth": 0,
              "ticks": ""
             }
            },
            "type": "scattergl"
           }
          ],
          "scattermap": [
           {
            "marker": {
             "colorbar": {
              "outlinewidth": 0,
              "ticks": ""
             }
            },
            "type": "scattermap"
           }
          ],
          "scattermapbox": [
           {
            "marker": {
             "colorbar": {
              "outlinewidth": 0,
              "ticks": ""
             }
            },
            "type": "scattermapbox"
           }
          ],
          "scatterpolar": [
           {
            "marker": {
             "colorbar": {
              "outlinewidth": 0,
              "ticks": ""
             }
            },
            "type": "scatterpolar"
           }
          ],
          "scatterpolargl": [
           {
            "marker": {
             "colorbar": {
              "outlinewidth": 0,
              "ticks": ""
             }
            },
            "type": "scatterpolargl"
           }
          ],
          "scatterternary": [
           {
            "marker": {
             "colorbar": {
              "outlinewidth": 0,
              "ticks": ""
             }
            },
            "type": "scatterternary"
           }
          ],
          "surface": [
           {
            "colorbar": {
             "outlinewidth": 0,
             "ticks": ""
            },
            "colorscale": [
             [
              0,
              "#0d0887"
             ],
             [
              0.1111111111111111,
              "#46039f"
             ],
             [
              0.2222222222222222,
              "#7201a8"
             ],
             [
              0.3333333333333333,
              "#9c179e"
             ],
             [
              0.4444444444444444,
              "#bd3786"
             ],
             [
              0.5555555555555556,
              "#d8576b"
             ],
             [
              0.6666666666666666,
              "#ed7953"
             ],
             [
              0.7777777777777778,
              "#fb9f3a"
             ],
             [
              0.8888888888888888,
              "#fdca26"
             ],
             [
              1,
              "#f0f921"
             ]
            ],
            "type": "surface"
           }
          ],
          "table": [
           {
            "cells": {
             "fill": {
              "color": "#EBF0F8"
             },
             "line": {
              "color": "white"
             }
            },
            "header": {
             "fill": {
              "color": "#C8D4E3"
             },
             "line": {
              "color": "white"
             }
            },
            "type": "table"
           }
          ]
         },
         "layout": {
          "annotationdefaults": {
           "arrowcolor": "#2a3f5f",
           "arrowhead": 0,
           "arrowwidth": 1
          },
          "autotypenumbers": "strict",
          "coloraxis": {
           "colorbar": {
            "outlinewidth": 0,
            "ticks": ""
           }
          },
          "colorscale": {
           "diverging": [
            [
             0,
             "#8e0152"
            ],
            [
             0.1,
             "#c51b7d"
            ],
            [
             0.2,
             "#de77ae"
            ],
            [
             0.3,
             "#f1b6da"
            ],
            [
             0.4,
             "#fde0ef"
            ],
            [
             0.5,
             "#f7f7f7"
            ],
            [
             0.6,
             "#e6f5d0"
            ],
            [
             0.7,
             "#b8e186"
            ],
            [
             0.8,
             "#7fbc41"
            ],
            [
             0.9,
             "#4d9221"
            ],
            [
             1,
             "#276419"
            ]
           ],
           "sequential": [
            [
             0,
             "#0d0887"
            ],
            [
             0.1111111111111111,
             "#46039f"
            ],
            [
             0.2222222222222222,
             "#7201a8"
            ],
            [
             0.3333333333333333,
             "#9c179e"
            ],
            [
             0.4444444444444444,
             "#bd3786"
            ],
            [
             0.5555555555555556,
             "#d8576b"
            ],
            [
             0.6666666666666666,
             "#ed7953"
            ],
            [
             0.7777777777777778,
             "#fb9f3a"
            ],
            [
             0.8888888888888888,
             "#fdca26"
            ],
            [
             1,
             "#f0f921"
            ]
           ],
           "sequentialminus": [
            [
             0,
             "#0d0887"
            ],
            [
             0.1111111111111111,
             "#46039f"
            ],
            [
             0.2222222222222222,
             "#7201a8"
            ],
            [
             0.3333333333333333,
             "#9c179e"
            ],
            [
             0.4444444444444444,
             "#bd3786"
            ],
            [
             0.5555555555555556,
             "#d8576b"
            ],
            [
             0.6666666666666666,
             "#ed7953"
            ],
            [
             0.7777777777777778,
             "#fb9f3a"
            ],
            [
             0.8888888888888888,
             "#fdca26"
            ],
            [
             1,
             "#f0f921"
            ]
           ]
          },
          "colorway": [
           "#636efa",
           "#EF553B",
           "#00cc96",
           "#ab63fa",
           "#FFA15A",
           "#19d3f3",
           "#FF6692",
           "#B6E880",
           "#FF97FF",
           "#FECB52"
          ],
          "font": {
           "color": "#2a3f5f"
          },
          "geo": {
           "bgcolor": "white",
           "lakecolor": "white",
           "landcolor": "#E5ECF6",
           "showlakes": true,
           "showland": true,
           "subunitcolor": "white"
          },
          "hoverlabel": {
           "align": "left"
          },
          "hovermode": "closest",
          "mapbox": {
           "style": "light"
          },
          "paper_bgcolor": "white",
          "plot_bgcolor": "#E5ECF6",
          "polar": {
           "angularaxis": {
            "gridcolor": "white",
            "linecolor": "white",
            "ticks": ""
           },
           "bgcolor": "#E5ECF6",
           "radialaxis": {
            "gridcolor": "white",
            "linecolor": "white",
            "ticks": ""
           }
          },
          "scene": {
           "xaxis": {
            "backgroundcolor": "#E5ECF6",
            "gridcolor": "white",
            "gridwidth": 2,
            "linecolor": "white",
            "showbackground": true,
            "ticks": "",
            "zerolinecolor": "white"
           },
           "yaxis": {
            "backgroundcolor": "#E5ECF6",
            "gridcolor": "white",
            "gridwidth": 2,
            "linecolor": "white",
            "showbackground": true,
            "ticks": "",
            "zerolinecolor": "white"
           },
           "zaxis": {
            "backgroundcolor": "#E5ECF6",
            "gridcolor": "white",
            "gridwidth": 2,
            "linecolor": "white",
            "showbackground": true,
            "ticks": "",
            "zerolinecolor": "white"
           }
          },
          "shapedefaults": {
           "line": {
            "color": "#2a3f5f"
           }
          },
          "ternary": {
           "aaxis": {
            "gridcolor": "white",
            "linecolor": "white",
            "ticks": ""
           },
           "baxis": {
            "gridcolor": "white",
            "linecolor": "white",
            "ticks": ""
           },
           "bgcolor": "#E5ECF6",
           "caxis": {
            "gridcolor": "white",
            "linecolor": "white",
            "ticks": ""
           }
          },
          "title": {
           "x": 0.05
          },
          "xaxis": {
           "automargin": true,
           "gridcolor": "white",
           "linecolor": "white",
           "ticks": "",
           "title": {
            "standoff": 15
           },
           "zerolinecolor": "white",
           "zerolinewidth": 2
          },
          "yaxis": {
           "automargin": true,
           "gridcolor": "white",
           "linecolor": "white",
           "ticks": "",
           "title": {
            "standoff": 15
           },
           "zerolinecolor": "white",
           "zerolinewidth": 2
          }
         }
        },
        "title": {
         "text": "Random search"
        },
        "xaxis": {
         "title": {
          "text": "Hyperparameter Importance"
         }
        },
        "yaxis": {
         "title": {
          "text": "Hyperparameter"
         }
        }
       }
      }
     },
     "metadata": {},
     "output_type": "display_data"
    },
    {
     "data": {
      "application/vnd.plotly.v1+json": {
       "config": {
        "plotlyServerURL": "https://plot.ly"
       },
       "data": [
        {
         "cliponaxis": false,
         "hovertemplate": [
          "max_depth (CategoricalDistribution): 0.02141142022257365<extra></extra>",
          "n_estimators (IntDistribution): 0.4350606857052897<extra></extra>",
          "min_samples_split (IntDistribution): 0.5435278940721368<extra></extra>"
         ],
         "name": "Objective Value",
         "orientation": "h",
         "text": [
          "0.02",
          "0.44",
          "0.54"
         ],
         "textposition": "outside",
         "type": "bar",
         "x": [
          0.02141142022257365,
          0.4350606857052897,
          0.5435278940721368
         ],
         "y": [
          "max_depth",
          "n_estimators",
          "min_samples_split"
         ]
        }
       ],
       "layout": {
        "template": {
         "data": {
          "bar": [
           {
            "error_x": {
             "color": "#2a3f5f"
            },
            "error_y": {
             "color": "#2a3f5f"
            },
            "marker": {
             "line": {
              "color": "#E5ECF6",
              "width": 0.5
             },
             "pattern": {
              "fillmode": "overlay",
              "size": 10,
              "solidity": 0.2
             }
            },
            "type": "bar"
           }
          ],
          "barpolar": [
           {
            "marker": {
             "line": {
              "color": "#E5ECF6",
              "width": 0.5
             },
             "pattern": {
              "fillmode": "overlay",
              "size": 10,
              "solidity": 0.2
             }
            },
            "type": "barpolar"
           }
          ],
          "carpet": [
           {
            "aaxis": {
             "endlinecolor": "#2a3f5f",
             "gridcolor": "white",
             "linecolor": "white",
             "minorgridcolor": "white",
             "startlinecolor": "#2a3f5f"
            },
            "baxis": {
             "endlinecolor": "#2a3f5f",
             "gridcolor": "white",
             "linecolor": "white",
             "minorgridcolor": "white",
             "startlinecolor": "#2a3f5f"
            },
            "type": "carpet"
           }
          ],
          "choropleth": [
           {
            "colorbar": {
             "outlinewidth": 0,
             "ticks": ""
            },
            "type": "choropleth"
           }
          ],
          "contour": [
           {
            "colorbar": {
             "outlinewidth": 0,
             "ticks": ""
            },
            "colorscale": [
             [
              0,
              "#0d0887"
             ],
             [
              0.1111111111111111,
              "#46039f"
             ],
             [
              0.2222222222222222,
              "#7201a8"
             ],
             [
              0.3333333333333333,
              "#9c179e"
             ],
             [
              0.4444444444444444,
              "#bd3786"
             ],
             [
              0.5555555555555556,
              "#d8576b"
             ],
             [
              0.6666666666666666,
              "#ed7953"
             ],
             [
              0.7777777777777778,
              "#fb9f3a"
             ],
             [
              0.8888888888888888,
              "#fdca26"
             ],
             [
              1,
              "#f0f921"
             ]
            ],
            "type": "contour"
           }
          ],
          "contourcarpet": [
           {
            "colorbar": {
             "outlinewidth": 0,
             "ticks": ""
            },
            "type": "contourcarpet"
           }
          ],
          "heatmap": [
           {
            "colorbar": {
             "outlinewidth": 0,
             "ticks": ""
            },
            "colorscale": [
             [
              0,
              "#0d0887"
             ],
             [
              0.1111111111111111,
              "#46039f"
             ],
             [
              0.2222222222222222,
              "#7201a8"
             ],
             [
              0.3333333333333333,
              "#9c179e"
             ],
             [
              0.4444444444444444,
              "#bd3786"
             ],
             [
              0.5555555555555556,
              "#d8576b"
             ],
             [
              0.6666666666666666,
              "#ed7953"
             ],
             [
              0.7777777777777778,
              "#fb9f3a"
             ],
             [
              0.8888888888888888,
              "#fdca26"
             ],
             [
              1,
              "#f0f921"
             ]
            ],
            "type": "heatmap"
           }
          ],
          "histogram": [
           {
            "marker": {
             "pattern": {
              "fillmode": "overlay",
              "size": 10,
              "solidity": 0.2
             }
            },
            "type": "histogram"
           }
          ],
          "histogram2d": [
           {
            "colorbar": {
             "outlinewidth": 0,
             "ticks": ""
            },
            "colorscale": [
             [
              0,
              "#0d0887"
             ],
             [
              0.1111111111111111,
              "#46039f"
             ],
             [
              0.2222222222222222,
              "#7201a8"
             ],
             [
              0.3333333333333333,
              "#9c179e"
             ],
             [
              0.4444444444444444,
              "#bd3786"
             ],
             [
              0.5555555555555556,
              "#d8576b"
             ],
             [
              0.6666666666666666,
              "#ed7953"
             ],
             [
              0.7777777777777778,
              "#fb9f3a"
             ],
             [
              0.8888888888888888,
              "#fdca26"
             ],
             [
              1,
              "#f0f921"
             ]
            ],
            "type": "histogram2d"
           }
          ],
          "histogram2dcontour": [
           {
            "colorbar": {
             "outlinewidth": 0,
             "ticks": ""
            },
            "colorscale": [
             [
              0,
              "#0d0887"
             ],
             [
              0.1111111111111111,
              "#46039f"
             ],
             [
              0.2222222222222222,
              "#7201a8"
             ],
             [
              0.3333333333333333,
              "#9c179e"
             ],
             [
              0.4444444444444444,
              "#bd3786"
             ],
             [
              0.5555555555555556,
              "#d8576b"
             ],
             [
              0.6666666666666666,
              "#ed7953"
             ],
             [
              0.7777777777777778,
              "#fb9f3a"
             ],
             [
              0.8888888888888888,
              "#fdca26"
             ],
             [
              1,
              "#f0f921"
             ]
            ],
            "type": "histogram2dcontour"
           }
          ],
          "mesh3d": [
           {
            "colorbar": {
             "outlinewidth": 0,
             "ticks": ""
            },
            "type": "mesh3d"
           }
          ],
          "parcoords": [
           {
            "line": {
             "colorbar": {
              "outlinewidth": 0,
              "ticks": ""
             }
            },
            "type": "parcoords"
           }
          ],
          "pie": [
           {
            "automargin": true,
            "type": "pie"
           }
          ],
          "scatter": [
           {
            "fillpattern": {
             "fillmode": "overlay",
             "size": 10,
             "solidity": 0.2
            },
            "type": "scatter"
           }
          ],
          "scatter3d": [
           {
            "line": {
             "colorbar": {
              "outlinewidth": 0,
              "ticks": ""
             }
            },
            "marker": {
             "colorbar": {
              "outlinewidth": 0,
              "ticks": ""
             }
            },
            "type": "scatter3d"
           }
          ],
          "scattercarpet": [
           {
            "marker": {
             "colorbar": {
              "outlinewidth": 0,
              "ticks": ""
             }
            },
            "type": "scattercarpet"
           }
          ],
          "scattergeo": [
           {
            "marker": {
             "colorbar": {
              "outlinewidth": 0,
              "ticks": ""
             }
            },
            "type": "scattergeo"
           }
          ],
          "scattergl": [
           {
            "marker": {
             "colorbar": {
              "outlinewidth": 0,
              "ticks": ""
             }
            },
            "type": "scattergl"
           }
          ],
          "scattermap": [
           {
            "marker": {
             "colorbar": {
              "outlinewidth": 0,
              "ticks": ""
             }
            },
            "type": "scattermap"
           }
          ],
          "scattermapbox": [
           {
            "marker": {
             "colorbar": {
              "outlinewidth": 0,
              "ticks": ""
             }
            },
            "type": "scattermapbox"
           }
          ],
          "scatterpolar": [
           {
            "marker": {
             "colorbar": {
              "outlinewidth": 0,
              "ticks": ""
             }
            },
            "type": "scatterpolar"
           }
          ],
          "scatterpolargl": [
           {
            "marker": {
             "colorbar": {
              "outlinewidth": 0,
              "ticks": ""
             }
            },
            "type": "scatterpolargl"
           }
          ],
          "scatterternary": [
           {
            "marker": {
             "colorbar": {
              "outlinewidth": 0,
              "ticks": ""
             }
            },
            "type": "scatterternary"
           }
          ],
          "surface": [
           {
            "colorbar": {
             "outlinewidth": 0,
             "ticks": ""
            },
            "colorscale": [
             [
              0,
              "#0d0887"
             ],
             [
              0.1111111111111111,
              "#46039f"
             ],
             [
              0.2222222222222222,
              "#7201a8"
             ],
             [
              0.3333333333333333,
              "#9c179e"
             ],
             [
              0.4444444444444444,
              "#bd3786"
             ],
             [
              0.5555555555555556,
              "#d8576b"
             ],
             [
              0.6666666666666666,
              "#ed7953"
             ],
             [
              0.7777777777777778,
              "#fb9f3a"
             ],
             [
              0.8888888888888888,
              "#fdca26"
             ],
             [
              1,
              "#f0f921"
             ]
            ],
            "type": "surface"
           }
          ],
          "table": [
           {
            "cells": {
             "fill": {
              "color": "#EBF0F8"
             },
             "line": {
              "color": "white"
             }
            },
            "header": {
             "fill": {
              "color": "#C8D4E3"
             },
             "line": {
              "color": "white"
             }
            },
            "type": "table"
           }
          ]
         },
         "layout": {
          "annotationdefaults": {
           "arrowcolor": "#2a3f5f",
           "arrowhead": 0,
           "arrowwidth": 1
          },
          "autotypenumbers": "strict",
          "coloraxis": {
           "colorbar": {
            "outlinewidth": 0,
            "ticks": ""
           }
          },
          "colorscale": {
           "diverging": [
            [
             0,
             "#8e0152"
            ],
            [
             0.1,
             "#c51b7d"
            ],
            [
             0.2,
             "#de77ae"
            ],
            [
             0.3,
             "#f1b6da"
            ],
            [
             0.4,
             "#fde0ef"
            ],
            [
             0.5,
             "#f7f7f7"
            ],
            [
             0.6,
             "#e6f5d0"
            ],
            [
             0.7,
             "#b8e186"
            ],
            [
             0.8,
             "#7fbc41"
            ],
            [
             0.9,
             "#4d9221"
            ],
            [
             1,
             "#276419"
            ]
           ],
           "sequential": [
            [
             0,
             "#0d0887"
            ],
            [
             0.1111111111111111,
             "#46039f"
            ],
            [
             0.2222222222222222,
             "#7201a8"
            ],
            [
             0.3333333333333333,
             "#9c179e"
            ],
            [
             0.4444444444444444,
             "#bd3786"
            ],
            [
             0.5555555555555556,
             "#d8576b"
            ],
            [
             0.6666666666666666,
             "#ed7953"
            ],
            [
             0.7777777777777778,
             "#fb9f3a"
            ],
            [
             0.8888888888888888,
             "#fdca26"
            ],
            [
             1,
             "#f0f921"
            ]
           ],
           "sequentialminus": [
            [
             0,
             "#0d0887"
            ],
            [
             0.1111111111111111,
             "#46039f"
            ],
            [
             0.2222222222222222,
             "#7201a8"
            ],
            [
             0.3333333333333333,
             "#9c179e"
            ],
            [
             0.4444444444444444,
             "#bd3786"
            ],
            [
             0.5555555555555556,
             "#d8576b"
            ],
            [
             0.6666666666666666,
             "#ed7953"
            ],
            [
             0.7777777777777778,
             "#fb9f3a"
            ],
            [
             0.8888888888888888,
             "#fdca26"
            ],
            [
             1,
             "#f0f921"
            ]
           ]
          },
          "colorway": [
           "#636efa",
           "#EF553B",
           "#00cc96",
           "#ab63fa",
           "#FFA15A",
           "#19d3f3",
           "#FF6692",
           "#B6E880",
           "#FF97FF",
           "#FECB52"
          ],
          "font": {
           "color": "#2a3f5f"
          },
          "geo": {
           "bgcolor": "white",
           "lakecolor": "white",
           "landcolor": "#E5ECF6",
           "showlakes": true,
           "showland": true,
           "subunitcolor": "white"
          },
          "hoverlabel": {
           "align": "left"
          },
          "hovermode": "closest",
          "mapbox": {
           "style": "light"
          },
          "paper_bgcolor": "white",
          "plot_bgcolor": "#E5ECF6",
          "polar": {
           "angularaxis": {
            "gridcolor": "white",
            "linecolor": "white",
            "ticks": ""
           },
           "bgcolor": "#E5ECF6",
           "radialaxis": {
            "gridcolor": "white",
            "linecolor": "white",
            "ticks": ""
           }
          },
          "scene": {
           "xaxis": {
            "backgroundcolor": "#E5ECF6",
            "gridcolor": "white",
            "gridwidth": 2,
            "linecolor": "white",
            "showbackground": true,
            "ticks": "",
            "zerolinecolor": "white"
           },
           "yaxis": {
            "backgroundcolor": "#E5ECF6",
            "gridcolor": "white",
            "gridwidth": 2,
            "linecolor": "white",
            "showbackground": true,
            "ticks": "",
            "zerolinecolor": "white"
           },
           "zaxis": {
            "backgroundcolor": "#E5ECF6",
            "gridcolor": "white",
            "gridwidth": 2,
            "linecolor": "white",
            "showbackground": true,
            "ticks": "",
            "zerolinecolor": "white"
           }
          },
          "shapedefaults": {
           "line": {
            "color": "#2a3f5f"
           }
          },
          "ternary": {
           "aaxis": {
            "gridcolor": "white",
            "linecolor": "white",
            "ticks": ""
           },
           "baxis": {
            "gridcolor": "white",
            "linecolor": "white",
            "ticks": ""
           },
           "bgcolor": "#E5ECF6",
           "caxis": {
            "gridcolor": "white",
            "linecolor": "white",
            "ticks": ""
           }
          },
          "title": {
           "x": 0.05
          },
          "xaxis": {
           "automargin": true,
           "gridcolor": "white",
           "linecolor": "white",
           "ticks": "",
           "title": {
            "standoff": 15
           },
           "zerolinecolor": "white",
           "zerolinewidth": 2
          },
          "yaxis": {
           "automargin": true,
           "gridcolor": "white",
           "linecolor": "white",
           "ticks": "",
           "title": {
            "standoff": 15
           },
           "zerolinecolor": "white",
           "zerolinewidth": 2
          }
         }
        },
        "title": {
         "text": "Bayesian search"
        },
        "xaxis": {
         "title": {
          "text": "Hyperparameter Importance"
         }
        },
        "yaxis": {
         "title": {
          "text": "Hyperparameter"
         }
        }
       }
      }
     },
     "metadata": {},
     "output_type": "display_data"
    }
   ],
   "source": [
    "def plot_params(studies):\n",
    "    for name, study in studies.items():\n",
    "        if name == \"Baseline\":\n",
    "            print(f\"Baseline Model Accuracy: {study:.4f}\")\n",
    "        else:\n",
    "            fig = vis.plot_param_importances(study)  # Get the Plotly figure\n",
    "            fig.update_layout(title_text=f\"{name}\")\n",
    "            fig.show()  # Display the figure\n",
    "\n",
    "plot_params(studies)"
   ]
  },
  {
   "cell_type": "code",
   "execution_count": null,
   "metadata": {},
   "outputs": [
    {
     "data": {
      "image/png": "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",
      "text/plain": [
       "<Figure size 800x500 with 1 Axes>"
      ]
     },
     "metadata": {},
     "output_type": "display_data"
    }
   ],
   "source": [
    "def calculate_overfitting_potential(studies):\n",
    "    train_accuracies = []\n",
    "    test_accuracies = []\n",
    "    method_names = []\n",
    "\n",
    "    for name, study in studies.items():\n",
    "        if name == \"Baseline\":\n",
    "            continue  # Skip baseline\n",
    "\n",
    "        if not study.best_params:\n",
    "            print(f\"Skipping {name} due to missing best parameters.\")\n",
    "            continue\n",
    "\n",
    "        # Get best parameters and train model\n",
    "        best_params = study.best_params\n",
    "        clf = RandomForestClassifier(**best_params, random_state=SEED)\n",
    "        clf.fit(X_train, y_train)\n",
    "\n",
    "        # Compute training and test accuracy\n",
    "        train_acc = accuracy_score(y_train, clf.predict(X_train))\n",
    "        test_acc = accuracy_score(y_test, clf.predict(X_test))\n",
    "\n",
    "        train_accuracies.append(train_acc)\n",
    "        test_accuracies.append(test_acc)\n",
    "        method_names.append(name)\n",
    "\n",
    "    # Compute overfitting potential (train-test accuracy gap)\n",
    "    overfitting_potential = [train - test for train, test in zip(train_accuracies, test_accuracies)]\n",
    "\n",
    "    # Plot Overfitting Potential\n",
    "    plt.figure(figsize=(8, 5))\n",
    "    bars = plt.bar(method_names, overfitting_potential, color=['#FF9999', '#FFCC99', 'lightgreen'])\n",
    "\n",
    "    # Add value labels on top of bars\n",
    "    for bar in bars:\n",
    "        plt.text(bar.get_x() + bar.get_width() / 2, bar.get_height(),\n",
    "                 f\"{bar.get_height():.4f}\", ha='center', va='bottom', fontsize=12)\n",
    "\n",
    "    plt.xlabel(\"Hyperparameter Search Method\")\n",
    "    plt.ylabel(\"Train-Test Accuracy Gap\")\n",
    "    plt.title(\"Overfitting Potential (Train-Test Gap)\")\n",
    "    plt.ylim(0, max(overfitting_potential) + 0.005)\n",
    "    plt.show()\n",
    "\n",
    "# Run the function after optimization\n",
    "calculate_overfitting_potential(studies)\n"
   ]
  }
 ],
 "metadata": {
  "kernelspec": {
   "display_name": "Python 3",
   "language": "python",
   "name": "python3"
  },
  "language_info": {
   "codemirror_mode": {
    "name": "ipython",
    "version": 3
   },
   "file_extension": ".py",
   "mimetype": "text/x-python",
   "name": "python",
   "nbconvert_exporter": "python",
   "pygments_lexer": "ipython3",
   "version": "3.12.6"
  }
 },
 "nbformat": 4,
 "nbformat_minor": 2
}
