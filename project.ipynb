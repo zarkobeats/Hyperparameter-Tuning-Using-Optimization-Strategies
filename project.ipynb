{
 "cells": [
  {
   "cell_type": "markdown",
   "metadata": {},
   "source": [
    "**Imports**"
   ]
  },
  {
   "cell_type": "code",
   "execution_count": 1,
   "metadata": {},
   "outputs": [
    {
     "name": "stderr",
     "output_type": "stream",
     "text": [
      "c:\\Users\\901219015\\Desktop\\UNI\\Master\\Spring_Semester\\Optimization_for_ML\\venv\\Lib\\site-packages\\tqdm\\auto.py:21: TqdmWarning: IProgress not found. Please update jupyter and ipywidgets. See https://ipywidgets.readthedocs.io/en/stable/user_install.html\n",
      "  from .autonotebook import tqdm as notebook_tqdm\n"
     ]
    }
   ],
   "source": [
    "import time\n",
    "import numpy as np\n",
    "import optuna\n",
    "import optuna.visualization as vis\n",
    "from sklearn.datasets import load_digits\n",
    "from sklearn.model_selection import train_test_split, cross_val_score\n",
    "from sklearn.ensemble import RandomForestClassifier\n",
    "from sklearn.metrics import accuracy_score\n",
    "import matplotlib.pyplot as plt"
   ]
  },
  {
   "cell_type": "markdown",
   "metadata": {},
   "source": [
    "**Load data**"
   ]
  },
  {
   "cell_type": "code",
   "execution_count": 2,
   "metadata": {},
   "outputs": [],
   "source": [
    "def load_data():\n",
    "    digits = load_digits()\n",
    "    X_train, X_test, y_train, y_test = train_test_split(\n",
    "        digits.data, digits.target, test_size=0.2, random_state=42\n",
    "    )\n",
    "    return X_train, X_test, y_train, y_test\n",
    "\n",
    "X_train, X_test, y_train, y_test = load_data()\n"
   ]
  },
  {
   "cell_type": "markdown",
   "metadata": {},
   "source": [
    "**OPTIMIZATIONS**"
   ]
  },
  {
   "cell_type": "code",
   "execution_count": 3,
   "metadata": {},
   "outputs": [],
   "source": [
    "SEED = 42"
   ]
  },
  {
   "cell_type": "markdown",
   "metadata": {},
   "source": [
    "**Grid Search**"
   ]
  },
  {
   "cell_type": "code",
   "execution_count": 4,
   "metadata": {},
   "outputs": [],
   "source": [
    "def grid_search(trial):\n",
    "    n_estimators = trial.suggest_categorical(\"n_estimators\", [50, 100, 200])\n",
    "    max_depth = trial.suggest_categorical(\"max_depth\", [None, 10, 20])\n",
    "    min_samples_split = trial.suggest_categorical(\"min_samples_split\", [2, 5, 10])\n",
    "    \n",
    "    clf = RandomForestClassifier(\n",
    "        n_estimators=n_estimators, max_depth=max_depth, min_samples_split=min_samples_split, random_state=SEED\n",
    "    )\n",
    "    return np.mean(cross_val_score(clf, X_train, y_train, cv=3, n_jobs=-1))"
   ]
  },
  {
   "cell_type": "markdown",
   "metadata": {},
   "source": [
    "**Random Search**"
   ]
  },
  {
   "cell_type": "code",
   "execution_count": 5,
   "metadata": {},
   "outputs": [],
   "source": [
    "def random_search(trial):\n",
    "    n_estimators = trial.suggest_int(\"n_estimators\", 50, 200, step=50)\n",
    "    max_depth = trial.suggest_categorical(\"max_depth\", [None, 10, 20])\n",
    "    min_samples_split = trial.suggest_int(\"min_samples_split\", 2, 10, step=3)\n",
    "    \n",
    "    clf = RandomForestClassifier(\n",
    "        n_estimators=n_estimators, max_depth=max_depth, min_samples_split=min_samples_split, random_state=SEED\n",
    "    )\n",
    "    return np.mean(cross_val_score(clf, X_train, y_train, cv=3, n_jobs=-1))"
   ]
  },
  {
   "cell_type": "markdown",
   "metadata": {},
   "source": [
    "**Bayesian Search**"
   ]
  },
  {
   "cell_type": "code",
   "execution_count": 6,
   "metadata": {},
   "outputs": [],
   "source": [
    "def bayesian_search(trial):\n",
    "    n_estimators = trial.suggest_int(\"n_estimators\", 50, 200, step=50)\n",
    "    max_depth = trial.suggest_categorical(\"max_depth\", [None, 10, 20])\n",
    "    min_samples_split = trial.suggest_int(\"min_samples_split\", 2, 10, step=3)\n",
    "    \n",
    "    clf = RandomForestClassifier(\n",
    "        n_estimators=n_estimators, max_depth=max_depth, min_samples_split=min_samples_split, random_state=42\n",
    "    )\n",
    "    return np.mean(cross_val_score(clf, X_train, y_train, cv=3, n_jobs=-1))"
   ]
  },
  {
   "cell_type": "markdown",
   "metadata": {},
   "source": [
    "**Base model**"
   ]
  },
  {
   "cell_type": "code",
   "execution_count": 7,
   "metadata": {},
   "outputs": [],
   "source": [
    "def baseline_model():\n",
    "    clf = RandomForestClassifier(random_state=SEED)\n",
    "    return np.mean(cross_val_score(clf, X_train, y_train, cv=3, n_jobs=-1))"
   ]
  },
  {
   "cell_type": "markdown",
   "metadata": {},
   "source": [
    "**Run the optimizations**"
   ]
  },
  {
   "cell_type": "code",
   "execution_count": null,
   "metadata": {},
   "outputs": [],
   "source": [
    "def run_optimization():\n",
    "    global X_train, X_test, y_train, y_test\n",
    "    X_train, X_test, y_train, y_test = load_data()\n",
    "    \n",
    "    studies = {}\n",
    "    execution_times = {}\n",
    "    \n",
    "    print(\"Running Baseline Model...\")\n",
    "    start_time = time.time()\n",
    "    baseline_accuracy = baseline_model()\n",
    "    end_time = time.time()\n",
    "    baseline_time = end_time - start_time\n",
    "    print(f\"Baseline Model Accuracy: {baseline_accuracy:.4f}, Time: {baseline_time:.2f}s\")\n",
    "    \n",
    "    execution_times[\"Baseline\"] = baseline_time\n",
    "    \n",
    "    for name, objective in zip([\"Grid search\", \"Random search\", \"Bayesian search\"], \n",
    "                               [grid_search, random_search, bayesian_search]):\n",
    "        print(f\"Running {name} Optimization...\")\n",
    "        study = optuna.create_study(direction=\"maximize\")\n",
    "        start_time = time.time()\n",
    "        study.optimize(objective, n_trials=100)\n",
    "        end_time = time.time()\n",
    "        execution_time = end_time - start_time\n",
    "        print(f\"Best Parameters ({name}): {study.best_params}, Time: {execution_time:.2f}s\")\n",
    "        studies[name] = study\n",
    "        execution_times[name] = execution_time\n",
    "    \n",
    "    return studies, execution_times\n"
   ]
  },
  {
   "cell_type": "markdown",
   "metadata": {},
   "source": []
  },
  {
   "cell_type": "markdown",
   "metadata": {},
   "source": [
    "**List of Searches for the plotting**"
   ]
  },
  {
   "cell_type": "code",
   "execution_count": 9,
   "metadata": {},
   "outputs": [
    {
     "name": "stderr",
     "output_type": "stream",
     "text": [
      "[I 2025-03-29 01:41:36,487] A new study created in memory with name: no-name-8f5efd47-8ab3-4263-b35d-196e20285dd4\n",
      "[I 2025-03-29 01:41:36,489] A new study created in memory with name: no-name-bfabee5d-2675-4ce2-9f71-374c02a0f1d4\n",
      "[I 2025-03-29 01:41:36,491] A new study created in memory with name: no-name-501d7fae-82c9-4240-af7d-ae0dd742d6b4\n"
     ]
    }
   ],
   "source": [
    "execution_times = {}\n",
    "\n",
    "# Run the optimization and get the studies and execution times and set the seed to ensure reproducibility\n",
    "studies = {\n",
    "    \"grid\": optuna.create_study(direction=\"maximize\", sampler=optuna.samplers.TPESampler(seed=42)),\n",
    "    \"random\": optuna.create_study(direction=\"maximize\", sampler=optuna.samplers.TPESampler(seed=42)),\n",
    "    \"bayesian\": optuna.create_study(direction=\"maximize\", sampler=optuna.samplers.TPESampler(seed=42)),\n",
    "}\n",
    "\n",
    "for name, study in studies.items():\n",
    "    study.study_name = name"
   ]
  },
  {
   "cell_type": "markdown",
   "metadata": {},
   "source": [
    "**Plotting**"
   ]
  },
  {
   "cell_type": "code",
   "execution_count": 10,
   "metadata": {},
   "outputs": [
    {
     "name": "stdout",
     "output_type": "stream",
     "text": [
      "Running Baseline Model...\n"
     ]
    },
    {
     "name": "stderr",
     "output_type": "stream",
     "text": [
      "[I 2025-03-29 01:41:38,934] A new study created in memory with name: no-name-42b505ce-011a-4af6-bcd6-51bac867b4ca\n"
     ]
    },
    {
     "name": "stdout",
     "output_type": "stream",
     "text": [
      "Baseline Model Accuracy: 0.9701, Time: 2.40s\n",
      "Running Grid search Optimization...\n"
     ]
    },
    {
     "name": "stderr",
     "output_type": "stream",
     "text": [
      "[I 2025-03-29 01:41:40,578] Trial 0 finished with value: 0.9700765483646486 and parameters: {'n_estimators': 100, 'max_depth': 20, 'min_samples_split': 2}. Best is trial 0 with value: 0.9700765483646486.\n",
      "[I 2025-03-29 01:41:42,175] Trial 1 finished with value: 0.9659011830201809 and parameters: {'n_estimators': 100, 'max_depth': None, 'min_samples_split': 5}. Best is trial 0 with value: 0.9700765483646486.\n",
      "[I 2025-03-29 01:41:43,899] Trial 2 finished with value: 0.9561586638830897 and parameters: {'n_estimators': 100, 'max_depth': 20, 'min_samples_split': 10}. Best is trial 0 with value: 0.9700765483646486.\n",
      "[I 2025-03-29 01:41:44,081] Trial 3 finished with value: 0.965205288796103 and parameters: {'n_estimators': 50, 'max_depth': 10, 'min_samples_split': 2}. Best is trial 0 with value: 0.9700765483646486.\n",
      "[I 2025-03-29 01:41:44,383] Trial 4 finished with value: 0.9561586638830897 and parameters: {'n_estimators': 100, 'max_depth': 20, 'min_samples_split': 10}. Best is trial 0 with value: 0.9700765483646486.\n",
      "[I 2025-03-29 01:41:44,762] Trial 5 finished with value: 0.9638135003479471 and parameters: {'n_estimators': 100, 'max_depth': 10, 'min_samples_split': 5}. Best is trial 0 with value: 0.9700765483646486.\n",
      "[I 2025-03-29 01:41:45,141] Trial 6 finished with value: 0.9561586638830897 and parameters: {'n_estimators': 100, 'max_depth': 20, 'min_samples_split': 10}. Best is trial 0 with value: 0.9700765483646486.\n",
      "[I 2025-03-29 01:41:45,515] Trial 7 finished with value: 0.9610299234516354 and parameters: {'n_estimators': 100, 'max_depth': 10, 'min_samples_split': 10}. Best is trial 0 with value: 0.9700765483646486.\n",
      "[I 2025-03-29 01:41:46,307] Trial 8 finished with value: 0.9686847599164926 and parameters: {'n_estimators': 200, 'max_depth': 20, 'min_samples_split': 2}. Best is trial 0 with value: 0.9700765483646486.\n",
      "[I 2025-03-29 01:41:46,676] Trial 9 finished with value: 0.9659011830201809 and parameters: {'n_estimators': 100, 'max_depth': 20, 'min_samples_split': 5}. Best is trial 0 with value: 0.9700765483646486.\n",
      "[I 2025-03-29 01:41:46,882] Trial 10 finished with value: 0.9631176061238692 and parameters: {'n_estimators': 50, 'max_depth': None, 'min_samples_split': 2}. Best is trial 0 with value: 0.9700765483646486.\n",
      "[I 2025-03-29 01:41:47,493] Trial 11 finished with value: 0.9686847599164926 and parameters: {'n_estimators': 200, 'max_depth': 20, 'min_samples_split': 2}. Best is trial 0 with value: 0.9700765483646486.\n",
      "[I 2025-03-29 01:41:48,122] Trial 12 finished with value: 0.9686847599164926 and parameters: {'n_estimators': 200, 'max_depth': 20, 'min_samples_split': 2}. Best is trial 0 with value: 0.9700765483646486.\n",
      "[I 2025-03-29 01:41:48,875] Trial 13 finished with value: 0.9686847599164926 and parameters: {'n_estimators': 200, 'max_depth': 20, 'min_samples_split': 2}. Best is trial 0 with value: 0.9700765483646486.\n",
      "[I 2025-03-29 01:41:49,530] Trial 14 finished with value: 0.9686847599164926 and parameters: {'n_estimators': 200, 'max_depth': 20, 'min_samples_split': 2}. Best is trial 0 with value: 0.9700765483646486.\n",
      "[I 2025-03-29 01:41:50,217] Trial 15 finished with value: 0.9686847599164926 and parameters: {'n_estimators': 200, 'max_depth': None, 'min_samples_split': 2}. Best is trial 0 with value: 0.9700765483646486.\n",
      "[I 2025-03-29 01:41:50,399] Trial 16 finished with value: 0.9631176061238692 and parameters: {'n_estimators': 50, 'max_depth': 20, 'min_samples_split': 2}. Best is trial 0 with value: 0.9700765483646486.\n",
      "[I 2025-03-29 01:41:51,089] Trial 17 finished with value: 0.9686847599164926 and parameters: {'n_estimators': 200, 'max_depth': 20, 'min_samples_split': 2}. Best is trial 0 with value: 0.9700765483646486.\n",
      "[I 2025-03-29 01:41:51,751] Trial 18 finished with value: 0.9728601252609604 and parameters: {'n_estimators': 200, 'max_depth': 10, 'min_samples_split': 2}. Best is trial 18 with value: 0.9728601252609604.\n",
      "[I 2025-03-29 01:41:51,939] Trial 19 finished with value: 0.9589422407794016 and parameters: {'n_estimators': 50, 'max_depth': 10, 'min_samples_split': 5}. Best is trial 18 with value: 0.9728601252609604.\n",
      "[I 2025-03-29 01:41:52,619] Trial 20 finished with value: 0.9728601252609604 and parameters: {'n_estimators': 200, 'max_depth': 10, 'min_samples_split': 2}. Best is trial 18 with value: 0.9728601252609604.\n",
      "[I 2025-03-29 01:41:53,231] Trial 21 finished with value: 0.9728601252609604 and parameters: {'n_estimators': 200, 'max_depth': 10, 'min_samples_split': 2}. Best is trial 18 with value: 0.9728601252609604.\n",
      "[I 2025-03-29 01:41:53,830] Trial 22 finished with value: 0.9728601252609604 and parameters: {'n_estimators': 200, 'max_depth': 10, 'min_samples_split': 2}. Best is trial 18 with value: 0.9728601252609604.\n",
      "[I 2025-03-29 01:41:54,419] Trial 23 finished with value: 0.9728601252609604 and parameters: {'n_estimators': 200, 'max_depth': 10, 'min_samples_split': 2}. Best is trial 18 with value: 0.9728601252609604.\n",
      "[I 2025-03-29 01:41:55,071] Trial 24 finished with value: 0.9728601252609604 and parameters: {'n_estimators': 200, 'max_depth': 10, 'min_samples_split': 2}. Best is trial 18 with value: 0.9728601252609604.\n",
      "[I 2025-03-29 01:41:55,721] Trial 25 finished with value: 0.9728601252609604 and parameters: {'n_estimators': 200, 'max_depth': 10, 'min_samples_split': 2}. Best is trial 18 with value: 0.9728601252609604.\n",
      "[I 2025-03-29 01:41:56,464] Trial 26 finished with value: 0.9728601252609604 and parameters: {'n_estimators': 200, 'max_depth': 10, 'min_samples_split': 2}. Best is trial 18 with value: 0.9728601252609604.\n",
      "[I 2025-03-29 01:41:57,129] Trial 27 finished with value: 0.964509394572025 and parameters: {'n_estimators': 200, 'max_depth': 10, 'min_samples_split': 5}. Best is trial 18 with value: 0.9728601252609604.\n",
      "[I 2025-03-29 01:41:57,795] Trial 28 finished with value: 0.9624217118997912 and parameters: {'n_estimators': 200, 'max_depth': 10, 'min_samples_split': 10}. Best is trial 18 with value: 0.9728601252609604.\n",
      "[I 2025-03-29 01:41:58,448] Trial 29 finished with value: 0.9728601252609604 and parameters: {'n_estimators': 200, 'max_depth': 10, 'min_samples_split': 2}. Best is trial 18 with value: 0.9728601252609604.\n",
      "[I 2025-03-29 01:41:59,059] Trial 30 finished with value: 0.9728601252609604 and parameters: {'n_estimators': 200, 'max_depth': 10, 'min_samples_split': 2}. Best is trial 18 with value: 0.9728601252609604.\n",
      "[I 2025-03-29 01:41:59,670] Trial 31 finished with value: 0.9728601252609604 and parameters: {'n_estimators': 200, 'max_depth': 10, 'min_samples_split': 2}. Best is trial 18 with value: 0.9728601252609604.\n",
      "[I 2025-03-29 01:42:00,301] Trial 32 finished with value: 0.9728601252609604 and parameters: {'n_estimators': 200, 'max_depth': 10, 'min_samples_split': 2}. Best is trial 18 with value: 0.9728601252609604.\n",
      "[I 2025-03-29 01:42:00,901] Trial 33 finished with value: 0.9686847599164926 and parameters: {'n_estimators': 200, 'max_depth': None, 'min_samples_split': 2}. Best is trial 18 with value: 0.9728601252609604.\n",
      "[I 2025-03-29 01:42:01,508] Trial 34 finished with value: 0.9728601252609604 and parameters: {'n_estimators': 200, 'max_depth': 10, 'min_samples_split': 2}. Best is trial 18 with value: 0.9728601252609604.\n",
      "[I 2025-03-29 01:42:01,701] Trial 35 finished with value: 0.965205288796103 and parameters: {'n_estimators': 50, 'max_depth': 10, 'min_samples_split': 2}. Best is trial 18 with value: 0.9728601252609604.\n",
      "[I 2025-03-29 01:42:02,300] Trial 36 finished with value: 0.964509394572025 and parameters: {'n_estimators': 200, 'max_depth': 10, 'min_samples_split': 5}. Best is trial 18 with value: 0.9728601252609604.\n",
      "[I 2025-03-29 01:42:02,889] Trial 37 finished with value: 0.9624217118997912 and parameters: {'n_estimators': 200, 'max_depth': 10, 'min_samples_split': 10}. Best is trial 18 with value: 0.9728601252609604.\n",
      "[I 2025-03-29 01:42:03,214] Trial 38 finished with value: 0.9700765483646486 and parameters: {'n_estimators': 100, 'max_depth': None, 'min_samples_split': 2}. Best is trial 18 with value: 0.9728601252609604.\n",
      "[I 2025-03-29 01:42:03,773] Trial 39 finished with value: 0.9624217118997912 and parameters: {'n_estimators': 200, 'max_depth': 10, 'min_samples_split': 10}. Best is trial 18 with value: 0.9728601252609604.\n",
      "[I 2025-03-29 01:42:03,935] Trial 40 finished with value: 0.965205288796103 and parameters: {'n_estimators': 50, 'max_depth': 10, 'min_samples_split': 2}. Best is trial 18 with value: 0.9728601252609604.\n",
      "[I 2025-03-29 01:42:04,531] Trial 41 finished with value: 0.9728601252609604 and parameters: {'n_estimators': 200, 'max_depth': 10, 'min_samples_split': 2}. Best is trial 18 with value: 0.9728601252609604.\n",
      "[I 2025-03-29 01:42:05,120] Trial 42 finished with value: 0.9728601252609604 and parameters: {'n_estimators': 200, 'max_depth': 10, 'min_samples_split': 2}. Best is trial 18 with value: 0.9728601252609604.\n",
      "[I 2025-03-29 01:42:05,796] Trial 43 finished with value: 0.9728601252609604 and parameters: {'n_estimators': 200, 'max_depth': 10, 'min_samples_split': 2}. Best is trial 18 with value: 0.9728601252609604.\n",
      "[I 2025-03-29 01:42:06,144] Trial 44 finished with value: 0.9707724425887264 and parameters: {'n_estimators': 100, 'max_depth': 10, 'min_samples_split': 2}. Best is trial 18 with value: 0.9728601252609604.\n",
      "[I 2025-03-29 01:42:06,722] Trial 45 finished with value: 0.964509394572025 and parameters: {'n_estimators': 200, 'max_depth': 10, 'min_samples_split': 5}. Best is trial 18 with value: 0.9728601252609604.\n",
      "[I 2025-03-29 01:42:07,332] Trial 46 finished with value: 0.9728601252609604 and parameters: {'n_estimators': 200, 'max_depth': 10, 'min_samples_split': 2}. Best is trial 18 with value: 0.9728601252609604.\n",
      "[I 2025-03-29 01:42:07,660] Trial 47 finished with value: 0.9700765483646486 and parameters: {'n_estimators': 100, 'max_depth': None, 'min_samples_split': 2}. Best is trial 18 with value: 0.9728601252609604.\n",
      "[I 2025-03-29 01:42:08,227] Trial 48 finished with value: 0.9624217118997912 and parameters: {'n_estimators': 200, 'max_depth': 10, 'min_samples_split': 10}. Best is trial 18 with value: 0.9728601252609604.\n",
      "[I 2025-03-29 01:42:08,816] Trial 49 finished with value: 0.9728601252609604 and parameters: {'n_estimators': 200, 'max_depth': 10, 'min_samples_split': 2}. Best is trial 18 with value: 0.9728601252609604.\n",
      "[I 2025-03-29 01:42:08,817] A new study created in memory with name: no-name-50398ee4-65e8-4c90-99cf-462717d61ce3\n",
      "c:\\Users\\901219015\\Desktop\\UNI\\Master\\Spring_Semester\\Optimization_for_ML\\venv\\Lib\\site-packages\\optuna\\distributions.py:699: UserWarning: The distribution is specified by [2, 10] and step=3, but the range is not divisible by `step`. It will be replaced by [2, 8].\n",
      "  warnings.warn(\n"
     ]
    },
    {
     "name": "stdout",
     "output_type": "stream",
     "text": [
      "Best Parameters (Grid search): {'n_estimators': 200, 'max_depth': 10, 'min_samples_split': 2}, Time: 29.88s\n",
      "Running Random search Optimization...\n"
     ]
    },
    {
     "name": "stderr",
     "output_type": "stream",
     "text": [
      "[I 2025-03-29 01:42:09,417] Trial 0 finished with value: 0.964509394572025 and parameters: {'n_estimators': 200, 'max_depth': 10, 'min_samples_split': 5}. Best is trial 0 with value: 0.964509394572025.\n",
      "c:\\Users\\901219015\\Desktop\\UNI\\Master\\Spring_Semester\\Optimization_for_ML\\venv\\Lib\\site-packages\\optuna\\distributions.py:699: UserWarning: The distribution is specified by [2, 10] and step=3, but the range is not divisible by `step`. It will be replaced by [2, 8].\n",
      "  warnings.warn(\n",
      "[I 2025-03-29 01:42:09,744] Trial 1 finished with value: 0.9700765483646486 and parameters: {'n_estimators': 100, 'max_depth': None, 'min_samples_split': 2}. Best is trial 1 with value: 0.9700765483646486.\n",
      "c:\\Users\\901219015\\Desktop\\UNI\\Master\\Spring_Semester\\Optimization_for_ML\\venv\\Lib\\site-packages\\optuna\\distributions.py:699: UserWarning: The distribution is specified by [2, 10] and step=3, but the range is not divisible by `step`. It will be replaced by [2, 8].\n",
      "  warnings.warn(\n",
      "[I 2025-03-29 01:42:09,913] Trial 2 finished with value: 0.9631176061238692 and parameters: {'n_estimators': 50, 'max_depth': None, 'min_samples_split': 5}. Best is trial 1 with value: 0.9700765483646486.\n",
      "c:\\Users\\901219015\\Desktop\\UNI\\Master\\Spring_Semester\\Optimization_for_ML\\venv\\Lib\\site-packages\\optuna\\distributions.py:699: UserWarning: The distribution is specified by [2, 10] and step=3, but the range is not divisible by `step`. It will be replaced by [2, 8].\n",
      "  warnings.warn(\n",
      "[I 2025-03-29 01:42:10,558] Trial 3 finished with value: 0.9686847599164926 and parameters: {'n_estimators': 200, 'max_depth': None, 'min_samples_split': 2}. Best is trial 1 with value: 0.9700765483646486.\n",
      "c:\\Users\\901219015\\Desktop\\UNI\\Master\\Spring_Semester\\Optimization_for_ML\\venv\\Lib\\site-packages\\optuna\\distributions.py:699: UserWarning: The distribution is specified by [2, 10] and step=3, but the range is not divisible by `step`. It will be replaced by [2, 8].\n",
      "  warnings.warn(\n",
      "[I 2025-03-29 01:42:11,160] Trial 4 finished with value: 0.9617258176757133 and parameters: {'n_estimators': 200, 'max_depth': 10, 'min_samples_split': 8}. Best is trial 1 with value: 0.9700765483646486.\n",
      "c:\\Users\\901219015\\Desktop\\UNI\\Master\\Spring_Semester\\Optimization_for_ML\\venv\\Lib\\site-packages\\optuna\\distributions.py:699: UserWarning: The distribution is specified by [2, 10] and step=3, but the range is not divisible by `step`. It will be replaced by [2, 8].\n",
      "  warnings.warn(\n",
      "[I 2025-03-29 01:42:11,770] Trial 5 finished with value: 0.964509394572025 and parameters: {'n_estimators': 200, 'max_depth': None, 'min_samples_split': 5}. Best is trial 1 with value: 0.9700765483646486.\n",
      "c:\\Users\\901219015\\Desktop\\UNI\\Master\\Spring_Semester\\Optimization_for_ML\\venv\\Lib\\site-packages\\optuna\\distributions.py:699: UserWarning: The distribution is specified by [2, 10] and step=3, but the range is not divisible by `step`. It will be replaced by [2, 8].\n",
      "  warnings.warn(\n",
      "[I 2025-03-29 01:42:12,236] Trial 6 finished with value: 0.9665970772442588 and parameters: {'n_estimators': 150, 'max_depth': None, 'min_samples_split': 2}. Best is trial 1 with value: 0.9700765483646486.\n",
      "c:\\Users\\901219015\\Desktop\\UNI\\Master\\Spring_Semester\\Optimization_for_ML\\venv\\Lib\\site-packages\\optuna\\distributions.py:699: UserWarning: The distribution is specified by [2, 10] and step=3, but the range is not divisible by `step`. It will be replaced by [2, 8].\n",
      "  warnings.warn(\n",
      "[I 2025-03-29 01:42:12,822] Trial 7 finished with value: 0.964509394572025 and parameters: {'n_estimators': 200, 'max_depth': 20, 'min_samples_split': 5}. Best is trial 1 with value: 0.9700765483646486.\n",
      "c:\\Users\\901219015\\Desktop\\UNI\\Master\\Spring_Semester\\Optimization_for_ML\\venv\\Lib\\site-packages\\optuna\\distributions.py:699: UserWarning: The distribution is specified by [2, 10] and step=3, but the range is not divisible by `step`. It will be replaced by [2, 8].\n",
      "  warnings.warn(\n",
      "[I 2025-03-29 01:42:13,420] Trial 8 finished with value: 0.964509394572025 and parameters: {'n_estimators': 200, 'max_depth': 20, 'min_samples_split': 5}. Best is trial 1 with value: 0.9700765483646486.\n",
      "c:\\Users\\901219015\\Desktop\\UNI\\Master\\Spring_Semester\\Optimization_for_ML\\venv\\Lib\\site-packages\\optuna\\distributions.py:699: UserWarning: The distribution is specified by [2, 10] and step=3, but the range is not divisible by `step`. It will be replaced by [2, 8].\n",
      "  warnings.warn(\n",
      "[I 2025-03-29 01:42:13,721] Trial 9 finished with value: 0.9659011830201809 and parameters: {'n_estimators': 100, 'max_depth': None, 'min_samples_split': 5}. Best is trial 1 with value: 0.9700765483646486.\n",
      "c:\\Users\\901219015\\Desktop\\UNI\\Master\\Spring_Semester\\Optimization_for_ML\\venv\\Lib\\site-packages\\optuna\\distributions.py:699: UserWarning: The distribution is specified by [2, 10] and step=3, but the range is not divisible by `step`. It will be replaced by [2, 8].\n",
      "  warnings.warn(\n",
      "[I 2025-03-29 01:42:13,899] Trial 10 finished with value: 0.965205288796103 and parameters: {'n_estimators': 50, 'max_depth': 10, 'min_samples_split': 2}. Best is trial 1 with value: 0.9700765483646486.\n",
      "c:\\Users\\901219015\\Desktop\\UNI\\Master\\Spring_Semester\\Optimization_for_ML\\venv\\Lib\\site-packages\\optuna\\distributions.py:699: UserWarning: The distribution is specified by [2, 10] and step=3, but the range is not divisible by `step`. It will be replaced by [2, 8].\n",
      "  warnings.warn(\n",
      "[I 2025-03-29 01:42:14,230] Trial 11 finished with value: 0.9700765483646486 and parameters: {'n_estimators': 100, 'max_depth': None, 'min_samples_split': 2}. Best is trial 1 with value: 0.9700765483646486.\n",
      "c:\\Users\\901219015\\Desktop\\UNI\\Master\\Spring_Semester\\Optimization_for_ML\\venv\\Lib\\site-packages\\optuna\\distributions.py:699: UserWarning: The distribution is specified by [2, 10] and step=3, but the range is not divisible by `step`. It will be replaced by [2, 8].\n",
      "  warnings.warn(\n",
      "[I 2025-03-29 01:42:14,541] Trial 12 finished with value: 0.9700765483646486 and parameters: {'n_estimators': 100, 'max_depth': None, 'min_samples_split': 2}. Best is trial 1 with value: 0.9700765483646486.\n",
      "c:\\Users\\901219015\\Desktop\\UNI\\Master\\Spring_Semester\\Optimization_for_ML\\venv\\Lib\\site-packages\\optuna\\distributions.py:699: UserWarning: The distribution is specified by [2, 10] and step=3, but the range is not divisible by `step`. It will be replaced by [2, 8].\n",
      "  warnings.warn(\n",
      "[I 2025-03-29 01:42:14,858] Trial 13 finished with value: 0.9700765483646486 and parameters: {'n_estimators': 100, 'max_depth': None, 'min_samples_split': 2}. Best is trial 1 with value: 0.9700765483646486.\n",
      "c:\\Users\\901219015\\Desktop\\UNI\\Master\\Spring_Semester\\Optimization_for_ML\\venv\\Lib\\site-packages\\optuna\\distributions.py:699: UserWarning: The distribution is specified by [2, 10] and step=3, but the range is not divisible by `step`. It will be replaced by [2, 8].\n",
      "  warnings.warn(\n",
      "[I 2025-03-29 01:42:15,310] Trial 14 finished with value: 0.9624217118997912 and parameters: {'n_estimators': 150, 'max_depth': None, 'min_samples_split': 8}. Best is trial 1 with value: 0.9700765483646486.\n",
      "c:\\Users\\901219015\\Desktop\\UNI\\Master\\Spring_Semester\\Optimization_for_ML\\venv\\Lib\\site-packages\\optuna\\distributions.py:699: UserWarning: The distribution is specified by [2, 10] and step=3, but the range is not divisible by `step`. It will be replaced by [2, 8].\n",
      "  warnings.warn(\n",
      "[I 2025-03-29 01:42:15,619] Trial 15 finished with value: 0.9700765483646486 and parameters: {'n_estimators': 100, 'max_depth': 20, 'min_samples_split': 2}. Best is trial 1 with value: 0.9700765483646486.\n",
      "c:\\Users\\901219015\\Desktop\\UNI\\Master\\Spring_Semester\\Optimization_for_ML\\venv\\Lib\\site-packages\\optuna\\distributions.py:699: UserWarning: The distribution is specified by [2, 10] and step=3, but the range is not divisible by `step`. It will be replaced by [2, 8].\n",
      "  warnings.warn(\n",
      "[I 2025-03-29 01:42:15,786] Trial 16 finished with value: 0.9631176061238692 and parameters: {'n_estimators': 50, 'max_depth': None, 'min_samples_split': 2}. Best is trial 1 with value: 0.9700765483646486.\n",
      "c:\\Users\\901219015\\Desktop\\UNI\\Master\\Spring_Semester\\Optimization_for_ML\\venv\\Lib\\site-packages\\optuna\\distributions.py:699: UserWarning: The distribution is specified by [2, 10] and step=3, but the range is not divisible by `step`. It will be replaced by [2, 8].\n",
      "  warnings.warn(\n",
      "[I 2025-03-29 01:42:16,239] Trial 17 finished with value: 0.9665970772442588 and parameters: {'n_estimators': 150, 'max_depth': None, 'min_samples_split': 2}. Best is trial 1 with value: 0.9700765483646486.\n",
      "c:\\Users\\901219015\\Desktop\\UNI\\Master\\Spring_Semester\\Optimization_for_ML\\venv\\Lib\\site-packages\\optuna\\distributions.py:699: UserWarning: The distribution is specified by [2, 10] and step=3, but the range is not divisible by `step`. It will be replaced by [2, 8].\n",
      "  warnings.warn(\n",
      "[I 2025-03-29 01:42:16,537] Trial 18 finished with value: 0.9617258176757133 and parameters: {'n_estimators': 100, 'max_depth': 10, 'min_samples_split': 8}. Best is trial 1 with value: 0.9700765483646486.\n",
      "c:\\Users\\901219015\\Desktop\\UNI\\Master\\Spring_Semester\\Optimization_for_ML\\venv\\Lib\\site-packages\\optuna\\distributions.py:699: UserWarning: The distribution is specified by [2, 10] and step=3, but the range is not divisible by `step`. It will be replaced by [2, 8].\n",
      "  warnings.warn(\n",
      "[I 2025-03-29 01:42:17,037] Trial 19 finished with value: 0.9665970772442588 and parameters: {'n_estimators': 150, 'max_depth': 20, 'min_samples_split': 2}. Best is trial 1 with value: 0.9700765483646486.\n",
      "c:\\Users\\901219015\\Desktop\\UNI\\Master\\Spring_Semester\\Optimization_for_ML\\venv\\Lib\\site-packages\\optuna\\distributions.py:699: UserWarning: The distribution is specified by [2, 10] and step=3, but the range is not divisible by `step`. It will be replaced by [2, 8].\n",
      "  warnings.warn(\n",
      "[I 2025-03-29 01:42:17,202] Trial 20 finished with value: 0.9631176061238692 and parameters: {'n_estimators': 50, 'max_depth': None, 'min_samples_split': 5}. Best is trial 1 with value: 0.9700765483646486.\n",
      "c:\\Users\\901219015\\Desktop\\UNI\\Master\\Spring_Semester\\Optimization_for_ML\\venv\\Lib\\site-packages\\optuna\\distributions.py:699: UserWarning: The distribution is specified by [2, 10] and step=3, but the range is not divisible by `step`. It will be replaced by [2, 8].\n",
      "  warnings.warn(\n",
      "[I 2025-03-29 01:42:17,510] Trial 21 finished with value: 0.9700765483646486 and parameters: {'n_estimators': 100, 'max_depth': None, 'min_samples_split': 2}. Best is trial 1 with value: 0.9700765483646486.\n",
      "c:\\Users\\901219015\\Desktop\\UNI\\Master\\Spring_Semester\\Optimization_for_ML\\venv\\Lib\\site-packages\\optuna\\distributions.py:699: UserWarning: The distribution is specified by [2, 10] and step=3, but the range is not divisible by `step`. It will be replaced by [2, 8].\n",
      "  warnings.warn(\n",
      "[I 2025-03-29 01:42:17,831] Trial 22 finished with value: 0.9700765483646486 and parameters: {'n_estimators': 100, 'max_depth': None, 'min_samples_split': 2}. Best is trial 1 with value: 0.9700765483646486.\n",
      "c:\\Users\\901219015\\Desktop\\UNI\\Master\\Spring_Semester\\Optimization_for_ML\\venv\\Lib\\site-packages\\optuna\\distributions.py:699: UserWarning: The distribution is specified by [2, 10] and step=3, but the range is not divisible by `step`. It will be replaced by [2, 8].\n",
      "  warnings.warn(\n",
      "[I 2025-03-29 01:42:18,150] Trial 23 finished with value: 0.9700765483646486 and parameters: {'n_estimators': 100, 'max_depth': None, 'min_samples_split': 2}. Best is trial 1 with value: 0.9700765483646486.\n",
      "c:\\Users\\901219015\\Desktop\\UNI\\Master\\Spring_Semester\\Optimization_for_ML\\venv\\Lib\\site-packages\\optuna\\distributions.py:699: UserWarning: The distribution is specified by [2, 10] and step=3, but the range is not divisible by `step`. It will be replaced by [2, 8].\n",
      "  warnings.warn(\n",
      "[I 2025-03-29 01:42:18,459] Trial 24 finished with value: 0.9700765483646486 and parameters: {'n_estimators': 100, 'max_depth': None, 'min_samples_split': 2}. Best is trial 1 with value: 0.9700765483646486.\n",
      "c:\\Users\\901219015\\Desktop\\UNI\\Master\\Spring_Semester\\Optimization_for_ML\\venv\\Lib\\site-packages\\optuna\\distributions.py:699: UserWarning: The distribution is specified by [2, 10] and step=3, but the range is not divisible by `step`. It will be replaced by [2, 8].\n",
      "  warnings.warn(\n",
      "[I 2025-03-29 01:42:18,921] Trial 25 finished with value: 0.9665970772442588 and parameters: {'n_estimators': 150, 'max_depth': None, 'min_samples_split': 2}. Best is trial 1 with value: 0.9700765483646486.\n",
      "c:\\Users\\901219015\\Desktop\\UNI\\Master\\Spring_Semester\\Optimization_for_ML\\venv\\Lib\\site-packages\\optuna\\distributions.py:699: UserWarning: The distribution is specified by [2, 10] and step=3, but the range is not divisible by `step`. It will be replaced by [2, 8].\n",
      "  warnings.warn(\n",
      "[I 2025-03-29 01:42:19,100] Trial 26 finished with value: 0.9631176061238692 and parameters: {'n_estimators': 50, 'max_depth': None, 'min_samples_split': 2}. Best is trial 1 with value: 0.9700765483646486.\n",
      "c:\\Users\\901219015\\Desktop\\UNI\\Master\\Spring_Semester\\Optimization_for_ML\\venv\\Lib\\site-packages\\optuna\\distributions.py:699: UserWarning: The distribution is specified by [2, 10] and step=3, but the range is not divisible by `step`. It will be replaced by [2, 8].\n",
      "  warnings.warn(\n",
      "[I 2025-03-29 01:42:19,399] Trial 27 finished with value: 0.9659011830201809 and parameters: {'n_estimators': 100, 'max_depth': None, 'min_samples_split': 5}. Best is trial 1 with value: 0.9700765483646486.\n",
      "c:\\Users\\901219015\\Desktop\\UNI\\Master\\Spring_Semester\\Optimization_for_ML\\venv\\Lib\\site-packages\\optuna\\distributions.py:699: UserWarning: The distribution is specified by [2, 10] and step=3, but the range is not divisible by `step`. It will be replaced by [2, 8].\n",
      "  warnings.warn(\n",
      "[I 2025-03-29 01:42:19,852] Trial 28 finished with value: 0.9700765483646485 and parameters: {'n_estimators': 150, 'max_depth': 10, 'min_samples_split': 2}. Best is trial 1 with value: 0.9700765483646486.\n",
      "c:\\Users\\901219015\\Desktop\\UNI\\Master\\Spring_Semester\\Optimization_for_ML\\venv\\Lib\\site-packages\\optuna\\distributions.py:699: UserWarning: The distribution is specified by [2, 10] and step=3, but the range is not divisible by `step`. It will be replaced by [2, 8].\n",
      "  warnings.warn(\n",
      "[I 2025-03-29 01:42:20,171] Trial 29 finished with value: 0.9659011830201809 and parameters: {'n_estimators': 100, 'max_depth': 20, 'min_samples_split': 5}. Best is trial 1 with value: 0.9700765483646486.\n",
      "c:\\Users\\901219015\\Desktop\\UNI\\Master\\Spring_Semester\\Optimization_for_ML\\venv\\Lib\\site-packages\\optuna\\distributions.py:699: UserWarning: The distribution is specified by [2, 10] and step=3, but the range is not divisible by `step`. It will be replaced by [2, 8].\n",
      "  warnings.warn(\n",
      "[I 2025-03-29 01:42:20,337] Trial 30 finished with value: 0.965205288796103 and parameters: {'n_estimators': 50, 'max_depth': 10, 'min_samples_split': 2}. Best is trial 1 with value: 0.9700765483646486.\n",
      "c:\\Users\\901219015\\Desktop\\UNI\\Master\\Spring_Semester\\Optimization_for_ML\\venv\\Lib\\site-packages\\optuna\\distributions.py:699: UserWarning: The distribution is specified by [2, 10] and step=3, but the range is not divisible by `step`. It will be replaced by [2, 8].\n",
      "  warnings.warn(\n",
      "[I 2025-03-29 01:42:20,668] Trial 31 finished with value: 0.9700765483646486 and parameters: {'n_estimators': 100, 'max_depth': None, 'min_samples_split': 2}. Best is trial 1 with value: 0.9700765483646486.\n",
      "c:\\Users\\901219015\\Desktop\\UNI\\Master\\Spring_Semester\\Optimization_for_ML\\venv\\Lib\\site-packages\\optuna\\distributions.py:699: UserWarning: The distribution is specified by [2, 10] and step=3, but the range is not divisible by `step`. It will be replaced by [2, 8].\n",
      "  warnings.warn(\n",
      "[I 2025-03-29 01:42:21,000] Trial 32 finished with value: 0.9700765483646486 and parameters: {'n_estimators': 100, 'max_depth': None, 'min_samples_split': 2}. Best is trial 1 with value: 0.9700765483646486.\n",
      "c:\\Users\\901219015\\Desktop\\UNI\\Master\\Spring_Semester\\Optimization_for_ML\\venv\\Lib\\site-packages\\optuna\\distributions.py:699: UserWarning: The distribution is specified by [2, 10] and step=3, but the range is not divisible by `step`. It will be replaced by [2, 8].\n",
      "  warnings.warn(\n",
      "[I 2025-03-29 01:42:21,325] Trial 33 finished with value: 0.9700765483646486 and parameters: {'n_estimators': 100, 'max_depth': None, 'min_samples_split': 2}. Best is trial 1 with value: 0.9700765483646486.\n",
      "c:\\Users\\901219015\\Desktop\\UNI\\Master\\Spring_Semester\\Optimization_for_ML\\venv\\Lib\\site-packages\\optuna\\distributions.py:699: UserWarning: The distribution is specified by [2, 10] and step=3, but the range is not divisible by `step`. It will be replaced by [2, 8].\n",
      "  warnings.warn(\n",
      "[I 2025-03-29 01:42:21,655] Trial 34 finished with value: 0.9700765483646486 and parameters: {'n_estimators': 100, 'max_depth': None, 'min_samples_split': 2}. Best is trial 1 with value: 0.9700765483646486.\n",
      "c:\\Users\\901219015\\Desktop\\UNI\\Master\\Spring_Semester\\Optimization_for_ML\\venv\\Lib\\site-packages\\optuna\\distributions.py:699: UserWarning: The distribution is specified by [2, 10] and step=3, but the range is not divisible by `step`. It will be replaced by [2, 8].\n",
      "  warnings.warn(\n",
      "[I 2025-03-29 01:42:21,824] Trial 35 finished with value: 0.9631176061238692 and parameters: {'n_estimators': 50, 'max_depth': None, 'min_samples_split': 2}. Best is trial 1 with value: 0.9700765483646486.\n",
      "c:\\Users\\901219015\\Desktop\\UNI\\Master\\Spring_Semester\\Optimization_for_ML\\venv\\Lib\\site-packages\\optuna\\distributions.py:699: UserWarning: The distribution is specified by [2, 10] and step=3, but the range is not divisible by `step`. It will be replaced by [2, 8].\n",
      "  warnings.warn(\n",
      "[I 2025-03-29 01:42:22,287] Trial 36 finished with value: 0.9665970772442588 and parameters: {'n_estimators': 150, 'max_depth': None, 'min_samples_split': 2}. Best is trial 1 with value: 0.9700765483646486.\n",
      "c:\\Users\\901219015\\Desktop\\UNI\\Master\\Spring_Semester\\Optimization_for_ML\\venv\\Lib\\site-packages\\optuna\\distributions.py:699: UserWarning: The distribution is specified by [2, 10] and step=3, but the range is not divisible by `step`. It will be replaced by [2, 8].\n",
      "  warnings.warn(\n",
      "[I 2025-03-29 01:42:22,585] Trial 37 finished with value: 0.9631176061238692 and parameters: {'n_estimators': 100, 'max_depth': None, 'min_samples_split': 8}. Best is trial 1 with value: 0.9700765483646486.\n",
      "c:\\Users\\901219015\\Desktop\\UNI\\Master\\Spring_Semester\\Optimization_for_ML\\venv\\Lib\\site-packages\\optuna\\distributions.py:699: UserWarning: The distribution is specified by [2, 10] and step=3, but the range is not divisible by `step`. It will be replaced by [2, 8].\n",
      "  warnings.warn(\n",
      "[I 2025-03-29 01:42:22,885] Trial 38 finished with value: 0.9659011830201809 and parameters: {'n_estimators': 100, 'max_depth': None, 'min_samples_split': 5}. Best is trial 1 with value: 0.9700765483646486.\n",
      "c:\\Users\\901219015\\Desktop\\UNI\\Master\\Spring_Semester\\Optimization_for_ML\\venv\\Lib\\site-packages\\optuna\\distributions.py:699: UserWarning: The distribution is specified by [2, 10] and step=3, but the range is not divisible by `step`. It will be replaced by [2, 8].\n",
      "  warnings.warn(\n",
      "[I 2025-03-29 01:42:23,061] Trial 39 finished with value: 0.965205288796103 and parameters: {'n_estimators': 50, 'max_depth': 10, 'min_samples_split': 2}. Best is trial 1 with value: 0.9700765483646486.\n",
      "c:\\Users\\901219015\\Desktop\\UNI\\Master\\Spring_Semester\\Optimization_for_ML\\venv\\Lib\\site-packages\\optuna\\distributions.py:699: UserWarning: The distribution is specified by [2, 10] and step=3, but the range is not divisible by `step`. It will be replaced by [2, 8].\n",
      "  warnings.warn(\n",
      "[I 2025-03-29 01:42:23,515] Trial 40 finished with value: 0.9631176061238692 and parameters: {'n_estimators': 150, 'max_depth': 20, 'min_samples_split': 5}. Best is trial 1 with value: 0.9700765483646486.\n",
      "c:\\Users\\901219015\\Desktop\\UNI\\Master\\Spring_Semester\\Optimization_for_ML\\venv\\Lib\\site-packages\\optuna\\distributions.py:699: UserWarning: The distribution is specified by [2, 10] and step=3, but the range is not divisible by `step`. It will be replaced by [2, 8].\n",
      "  warnings.warn(\n",
      "[I 2025-03-29 01:42:23,835] Trial 41 finished with value: 0.9700765483646486 and parameters: {'n_estimators': 100, 'max_depth': 20, 'min_samples_split': 2}. Best is trial 1 with value: 0.9700765483646486.\n",
      "c:\\Users\\901219015\\Desktop\\UNI\\Master\\Spring_Semester\\Optimization_for_ML\\venv\\Lib\\site-packages\\optuna\\distributions.py:699: UserWarning: The distribution is specified by [2, 10] and step=3, but the range is not divisible by `step`. It will be replaced by [2, 8].\n",
      "  warnings.warn(\n",
      "[I 2025-03-29 01:42:24,155] Trial 42 finished with value: 0.9700765483646486 and parameters: {'n_estimators': 100, 'max_depth': 20, 'min_samples_split': 2}. Best is trial 1 with value: 0.9700765483646486.\n",
      "c:\\Users\\901219015\\Desktop\\UNI\\Master\\Spring_Semester\\Optimization_for_ML\\venv\\Lib\\site-packages\\optuna\\distributions.py:699: UserWarning: The distribution is specified by [2, 10] and step=3, but the range is not divisible by `step`. It will be replaced by [2, 8].\n",
      "  warnings.warn(\n",
      "[I 2025-03-29 01:42:24,573] Trial 43 finished with value: 0.9700765483646486 and parameters: {'n_estimators': 100, 'max_depth': 20, 'min_samples_split': 2}. Best is trial 1 with value: 0.9700765483646486.\n",
      "c:\\Users\\901219015\\Desktop\\UNI\\Master\\Spring_Semester\\Optimization_for_ML\\venv\\Lib\\site-packages\\optuna\\distributions.py:699: UserWarning: The distribution is specified by [2, 10] and step=3, but the range is not divisible by `step`. It will be replaced by [2, 8].\n",
      "  warnings.warn(\n",
      "[I 2025-03-29 01:42:24,940] Trial 44 finished with value: 0.9700765483646486 and parameters: {'n_estimators': 100, 'max_depth': 20, 'min_samples_split': 2}. Best is trial 1 with value: 0.9700765483646486.\n",
      "c:\\Users\\901219015\\Desktop\\UNI\\Master\\Spring_Semester\\Optimization_for_ML\\venv\\Lib\\site-packages\\optuna\\distributions.py:699: UserWarning: The distribution is specified by [2, 10] and step=3, but the range is not divisible by `step`. It will be replaced by [2, 8].\n",
      "  warnings.warn(\n",
      "[I 2025-03-29 01:42:25,288] Trial 45 finished with value: 0.9700765483646486 and parameters: {'n_estimators': 100, 'max_depth': 20, 'min_samples_split': 2}. Best is trial 1 with value: 0.9700765483646486.\n",
      "c:\\Users\\901219015\\Desktop\\UNI\\Master\\Spring_Semester\\Optimization_for_ML\\venv\\Lib\\site-packages\\optuna\\distributions.py:699: UserWarning: The distribution is specified by [2, 10] and step=3, but the range is not divisible by `step`. It will be replaced by [2, 8].\n",
      "  warnings.warn(\n",
      "[I 2025-03-29 01:42:25,621] Trial 46 finished with value: 0.9700765483646486 and parameters: {'n_estimators': 100, 'max_depth': None, 'min_samples_split': 2}. Best is trial 1 with value: 0.9700765483646486.\n",
      "c:\\Users\\901219015\\Desktop\\UNI\\Master\\Spring_Semester\\Optimization_for_ML\\venv\\Lib\\site-packages\\optuna\\distributions.py:699: UserWarning: The distribution is specified by [2, 10] and step=3, but the range is not divisible by `step`. It will be replaced by [2, 8].\n",
      "  warnings.warn(\n",
      "[I 2025-03-29 01:42:26,150] Trial 47 finished with value: 0.9631176061238692 and parameters: {'n_estimators': 150, 'max_depth': None, 'min_samples_split': 5}. Best is trial 1 with value: 0.9700765483646486.\n",
      "c:\\Users\\901219015\\Desktop\\UNI\\Master\\Spring_Semester\\Optimization_for_ML\\venv\\Lib\\site-packages\\optuna\\distributions.py:699: UserWarning: The distribution is specified by [2, 10] and step=3, but the range is not divisible by `step`. It will be replaced by [2, 8].\n",
      "  warnings.warn(\n",
      "[I 2025-03-29 01:42:26,370] Trial 48 finished with value: 0.9631176061238692 and parameters: {'n_estimators': 50, 'max_depth': None, 'min_samples_split': 2}. Best is trial 1 with value: 0.9700765483646486.\n",
      "c:\\Users\\901219015\\Desktop\\UNI\\Master\\Spring_Semester\\Optimization_for_ML\\venv\\Lib\\site-packages\\optuna\\distributions.py:699: UserWarning: The distribution is specified by [2, 10] and step=3, but the range is not divisible by `step`. It will be replaced by [2, 8].\n",
      "  warnings.warn(\n",
      "[I 2025-03-29 01:42:26,723] Trial 49 finished with value: 0.9700765483646486 and parameters: {'n_estimators': 100, 'max_depth': 20, 'min_samples_split': 2}. Best is trial 1 with value: 0.9700765483646486.\n",
      "[I 2025-03-29 01:42:26,724] A new study created in memory with name: no-name-533e85c2-cfb4-4e75-87c2-67e77f1e5153\n",
      "c:\\Users\\901219015\\Desktop\\UNI\\Master\\Spring_Semester\\Optimization_for_ML\\venv\\Lib\\site-packages\\optuna\\distributions.py:699: UserWarning: The distribution is specified by [2, 10] and step=3, but the range is not divisible by `step`. It will be replaced by [2, 8].\n",
      "  warnings.warn(\n",
      "[I 2025-03-29 01:42:26,904] Trial 0 finished with value: 0.9589422407794016 and parameters: {'n_estimators': 50, 'max_depth': 10, 'min_samples_split': 5}. Best is trial 0 with value: 0.9589422407794016.\n"
     ]
    },
    {
     "name": "stdout",
     "output_type": "stream",
     "text": [
      "Best Parameters (Random search): {'n_estimators': 100, 'max_depth': None, 'min_samples_split': 2}, Time: 17.91s\n",
      "Running Bayesian search Optimization...\n"
     ]
    },
    {
     "name": "stderr",
     "output_type": "stream",
     "text": [
      "c:\\Users\\901219015\\Desktop\\UNI\\Master\\Spring_Semester\\Optimization_for_ML\\venv\\Lib\\site-packages\\optuna\\distributions.py:699: UserWarning: The distribution is specified by [2, 10] and step=3, but the range is not divisible by `step`. It will be replaced by [2, 8].\n",
      "  warnings.warn(\n",
      "[I 2025-03-29 01:42:27,575] Trial 1 finished with value: 0.964509394572025 and parameters: {'n_estimators': 200, 'max_depth': 10, 'min_samples_split': 5}. Best is trial 1 with value: 0.964509394572025.\n",
      "c:\\Users\\901219015\\Desktop\\UNI\\Master\\Spring_Semester\\Optimization_for_ML\\venv\\Lib\\site-packages\\optuna\\distributions.py:699: UserWarning: The distribution is specified by [2, 10] and step=3, but the range is not divisible by `step`. It will be replaced by [2, 8].\n",
      "  warnings.warn(\n",
      "[I 2025-03-29 01:42:28,270] Trial 2 finished with value: 0.964509394572025 and parameters: {'n_estimators': 200, 'max_depth': 10, 'min_samples_split': 5}. Best is trial 1 with value: 0.964509394572025.\n",
      "c:\\Users\\901219015\\Desktop\\UNI\\Master\\Spring_Semester\\Optimization_for_ML\\venv\\Lib\\site-packages\\optuna\\distributions.py:699: UserWarning: The distribution is specified by [2, 10] and step=3, but the range is not divisible by `step`. It will be replaced by [2, 8].\n",
      "  warnings.warn(\n",
      "[I 2025-03-29 01:42:28,901] Trial 3 finished with value: 0.964509394572025 and parameters: {'n_estimators': 200, 'max_depth': None, 'min_samples_split': 5}. Best is trial 1 with value: 0.964509394572025.\n",
      "c:\\Users\\901219015\\Desktop\\UNI\\Master\\Spring_Semester\\Optimization_for_ML\\venv\\Lib\\site-packages\\optuna\\distributions.py:699: UserWarning: The distribution is specified by [2, 10] and step=3, but the range is not divisible by `step`. It will be replaced by [2, 8].\n",
      "  warnings.warn(\n",
      "[I 2025-03-29 01:42:29,215] Trial 4 finished with value: 0.9617258176757133 and parameters: {'n_estimators': 100, 'max_depth': 10, 'min_samples_split': 8}. Best is trial 1 with value: 0.964509394572025.\n",
      "c:\\Users\\901219015\\Desktop\\UNI\\Master\\Spring_Semester\\Optimization_for_ML\\venv\\Lib\\site-packages\\optuna\\distributions.py:699: UserWarning: The distribution is specified by [2, 10] and step=3, but the range is not divisible by `step`. It will be replaced by [2, 8].\n",
      "  warnings.warn(\n",
      "[I 2025-03-29 01:42:29,389] Trial 5 finished with value: 0.965205288796103 and parameters: {'n_estimators': 50, 'max_depth': 10, 'min_samples_split': 2}. Best is trial 5 with value: 0.965205288796103.\n",
      "c:\\Users\\901219015\\Desktop\\UNI\\Master\\Spring_Semester\\Optimization_for_ML\\venv\\Lib\\site-packages\\optuna\\distributions.py:699: UserWarning: The distribution is specified by [2, 10] and step=3, but the range is not divisible by `step`. It will be replaced by [2, 8].\n",
      "  warnings.warn(\n",
      "[I 2025-03-29 01:42:29,857] Trial 6 finished with value: 0.9631176061238692 and parameters: {'n_estimators': 150, 'max_depth': None, 'min_samples_split': 5}. Best is trial 5 with value: 0.965205288796103.\n",
      "c:\\Users\\901219015\\Desktop\\UNI\\Master\\Spring_Semester\\Optimization_for_ML\\venv\\Lib\\site-packages\\optuna\\distributions.py:699: UserWarning: The distribution is specified by [2, 10] and step=3, but the range is not divisible by `step`. It will be replaced by [2, 8].\n",
      "  warnings.warn(\n",
      "[I 2025-03-29 01:42:30,190] Trial 7 finished with value: 0.9707724425887264 and parameters: {'n_estimators': 100, 'max_depth': 10, 'min_samples_split': 2}. Best is trial 7 with value: 0.9707724425887264.\n",
      "c:\\Users\\901219015\\Desktop\\UNI\\Master\\Spring_Semester\\Optimization_for_ML\\venv\\Lib\\site-packages\\optuna\\distributions.py:699: UserWarning: The distribution is specified by [2, 10] and step=3, but the range is not divisible by `step`. It will be replaced by [2, 8].\n",
      "  warnings.warn(\n",
      "[I 2025-03-29 01:42:30,799] Trial 8 finished with value: 0.964509394572025 and parameters: {'n_estimators': 200, 'max_depth': 20, 'min_samples_split': 5}. Best is trial 7 with value: 0.9707724425887264.\n",
      "c:\\Users\\901219015\\Desktop\\UNI\\Master\\Spring_Semester\\Optimization_for_ML\\venv\\Lib\\site-packages\\optuna\\distributions.py:699: UserWarning: The distribution is specified by [2, 10] and step=3, but the range is not divisible by `step`. It will be replaced by [2, 8].\n",
      "  warnings.warn(\n",
      "[I 2025-03-29 01:42:31,421] Trial 9 finished with value: 0.964509394572025 and parameters: {'n_estimators': 200, 'max_depth': None, 'min_samples_split': 5}. Best is trial 7 with value: 0.9707724425887264.\n",
      "c:\\Users\\901219015\\Desktop\\UNI\\Master\\Spring_Semester\\Optimization_for_ML\\venv\\Lib\\site-packages\\optuna\\distributions.py:699: UserWarning: The distribution is specified by [2, 10] and step=3, but the range is not divisible by `step`. It will be replaced by [2, 8].\n",
      "  warnings.warn(\n",
      "[I 2025-03-29 01:42:31,761] Trial 10 finished with value: 0.9700765483646486 and parameters: {'n_estimators': 100, 'max_depth': 20, 'min_samples_split': 2}. Best is trial 7 with value: 0.9707724425887264.\n",
      "c:\\Users\\901219015\\Desktop\\UNI\\Master\\Spring_Semester\\Optimization_for_ML\\venv\\Lib\\site-packages\\optuna\\distributions.py:699: UserWarning: The distribution is specified by [2, 10] and step=3, but the range is not divisible by `step`. It will be replaced by [2, 8].\n",
      "  warnings.warn(\n",
      "[I 2025-03-29 01:42:32,116] Trial 11 finished with value: 0.9700765483646486 and parameters: {'n_estimators': 100, 'max_depth': 20, 'min_samples_split': 2}. Best is trial 7 with value: 0.9707724425887264.\n",
      "c:\\Users\\901219015\\Desktop\\UNI\\Master\\Spring_Semester\\Optimization_for_ML\\venv\\Lib\\site-packages\\optuna\\distributions.py:699: UserWarning: The distribution is specified by [2, 10] and step=3, but the range is not divisible by `step`. It will be replaced by [2, 8].\n",
      "  warnings.warn(\n",
      "[I 2025-03-29 01:42:32,458] Trial 12 finished with value: 0.9700765483646486 and parameters: {'n_estimators': 100, 'max_depth': 20, 'min_samples_split': 2}. Best is trial 7 with value: 0.9707724425887264.\n",
      "c:\\Users\\901219015\\Desktop\\UNI\\Master\\Spring_Semester\\Optimization_for_ML\\venv\\Lib\\site-packages\\optuna\\distributions.py:699: UserWarning: The distribution is specified by [2, 10] and step=3, but the range is not divisible by `step`. It will be replaced by [2, 8].\n",
      "  warnings.warn(\n",
      "[I 2025-03-29 01:42:32,975] Trial 13 finished with value: 0.9665970772442588 and parameters: {'n_estimators': 150, 'max_depth': 20, 'min_samples_split': 2}. Best is trial 7 with value: 0.9707724425887264.\n",
      "c:\\Users\\901219015\\Desktop\\UNI\\Master\\Spring_Semester\\Optimization_for_ML\\venv\\Lib\\site-packages\\optuna\\distributions.py:699: UserWarning: The distribution is specified by [2, 10] and step=3, but the range is not divisible by `step`. It will be replaced by [2, 8].\n",
      "  warnings.warn(\n",
      "[I 2025-03-29 01:42:33,305] Trial 14 finished with value: 0.9700765483646486 and parameters: {'n_estimators': 100, 'max_depth': 20, 'min_samples_split': 2}. Best is trial 7 with value: 0.9707724425887264.\n",
      "c:\\Users\\901219015\\Desktop\\UNI\\Master\\Spring_Semester\\Optimization_for_ML\\venv\\Lib\\site-packages\\optuna\\distributions.py:699: UserWarning: The distribution is specified by [2, 10] and step=3, but the range is not divisible by `step`. It will be replaced by [2, 8].\n",
      "  warnings.warn(\n",
      "[I 2025-03-29 01:42:33,459] Trial 15 finished with value: 0.9561586638830898 and parameters: {'n_estimators': 50, 'max_depth': 10, 'min_samples_split': 8}. Best is trial 7 with value: 0.9707724425887264.\n",
      "c:\\Users\\901219015\\Desktop\\UNI\\Master\\Spring_Semester\\Optimization_for_ML\\venv\\Lib\\site-packages\\optuna\\distributions.py:699: UserWarning: The distribution is specified by [2, 10] and step=3, but the range is not divisible by `step`. It will be replaced by [2, 8].\n",
      "  warnings.warn(\n",
      "[I 2025-03-29 01:42:33,983] Trial 16 finished with value: 0.9665970772442588 and parameters: {'n_estimators': 150, 'max_depth': 20, 'min_samples_split': 2}. Best is trial 7 with value: 0.9707724425887264.\n",
      "c:\\Users\\901219015\\Desktop\\UNI\\Master\\Spring_Semester\\Optimization_for_ML\\venv\\Lib\\site-packages\\optuna\\distributions.py:699: UserWarning: The distribution is specified by [2, 10] and step=3, but the range is not divisible by `step`. It will be replaced by [2, 8].\n",
      "  warnings.warn(\n",
      "[I 2025-03-29 01:42:34,368] Trial 17 finished with value: 0.9707724425887264 and parameters: {'n_estimators': 100, 'max_depth': 10, 'min_samples_split': 2}. Best is trial 7 with value: 0.9707724425887264.\n",
      "c:\\Users\\901219015\\Desktop\\UNI\\Master\\Spring_Semester\\Optimization_for_ML\\venv\\Lib\\site-packages\\optuna\\distributions.py:699: UserWarning: The distribution is specified by [2, 10] and step=3, but the range is not divisible by `step`. It will be replaced by [2, 8].\n",
      "  warnings.warn(\n",
      "[I 2025-03-29 01:42:34,951] Trial 18 finished with value: 0.9700765483646485 and parameters: {'n_estimators': 150, 'max_depth': 10, 'min_samples_split': 2}. Best is trial 7 with value: 0.9707724425887264.\n",
      "c:\\Users\\901219015\\Desktop\\UNI\\Master\\Spring_Semester\\Optimization_for_ML\\venv\\Lib\\site-packages\\optuna\\distributions.py:699: UserWarning: The distribution is specified by [2, 10] and step=3, but the range is not divisible by `step`. It will be replaced by [2, 8].\n",
      "  warnings.warn(\n",
      "[I 2025-03-29 01:42:35,165] Trial 19 finished with value: 0.965205288796103 and parameters: {'n_estimators': 50, 'max_depth': 10, 'min_samples_split': 2}. Best is trial 7 with value: 0.9707724425887264.\n",
      "c:\\Users\\901219015\\Desktop\\UNI\\Master\\Spring_Semester\\Optimization_for_ML\\venv\\Lib\\site-packages\\optuna\\distributions.py:699: UserWarning: The distribution is specified by [2, 10] and step=3, but the range is not divisible by `step`. It will be replaced by [2, 8].\n",
      "  warnings.warn(\n",
      "[I 2025-03-29 01:42:35,531] Trial 20 finished with value: 0.9617258176757133 and parameters: {'n_estimators': 100, 'max_depth': 10, 'min_samples_split': 8}. Best is trial 7 with value: 0.9707724425887264.\n",
      "c:\\Users\\901219015\\Desktop\\UNI\\Master\\Spring_Semester\\Optimization_for_ML\\venv\\Lib\\site-packages\\optuna\\distributions.py:699: UserWarning: The distribution is specified by [2, 10] and step=3, but the range is not divisible by `step`. It will be replaced by [2, 8].\n",
      "  warnings.warn(\n",
      "[I 2025-03-29 01:42:35,868] Trial 21 finished with value: 0.9707724425887264 and parameters: {'n_estimators': 100, 'max_depth': 10, 'min_samples_split': 2}. Best is trial 7 with value: 0.9707724425887264.\n",
      "c:\\Users\\901219015\\Desktop\\UNI\\Master\\Spring_Semester\\Optimization_for_ML\\venv\\Lib\\site-packages\\optuna\\distributions.py:699: UserWarning: The distribution is specified by [2, 10] and step=3, but the range is not divisible by `step`. It will be replaced by [2, 8].\n",
      "  warnings.warn(\n",
      "[I 2025-03-29 01:42:36,200] Trial 22 finished with value: 0.9707724425887264 and parameters: {'n_estimators': 100, 'max_depth': 10, 'min_samples_split': 2}. Best is trial 7 with value: 0.9707724425887264.\n",
      "c:\\Users\\901219015\\Desktop\\UNI\\Master\\Spring_Semester\\Optimization_for_ML\\venv\\Lib\\site-packages\\optuna\\distributions.py:699: UserWarning: The distribution is specified by [2, 10] and step=3, but the range is not divisible by `step`. It will be replaced by [2, 8].\n",
      "  warnings.warn(\n",
      "[I 2025-03-29 01:42:36,508] Trial 23 finished with value: 0.9707724425887264 and parameters: {'n_estimators': 100, 'max_depth': 10, 'min_samples_split': 2}. Best is trial 7 with value: 0.9707724425887264.\n",
      "c:\\Users\\901219015\\Desktop\\UNI\\Master\\Spring_Semester\\Optimization_for_ML\\venv\\Lib\\site-packages\\optuna\\distributions.py:699: UserWarning: The distribution is specified by [2, 10] and step=3, but the range is not divisible by `step`. It will be replaced by [2, 8].\n",
      "  warnings.warn(\n",
      "[I 2025-03-29 01:42:36,982] Trial 24 finished with value: 0.9700765483646485 and parameters: {'n_estimators': 150, 'max_depth': 10, 'min_samples_split': 2}. Best is trial 7 with value: 0.9707724425887264.\n",
      "c:\\Users\\901219015\\Desktop\\UNI\\Master\\Spring_Semester\\Optimization_for_ML\\venv\\Lib\\site-packages\\optuna\\distributions.py:699: UserWarning: The distribution is specified by [2, 10] and step=3, but the range is not divisible by `step`. It will be replaced by [2, 8].\n",
      "  warnings.warn(\n",
      "[I 2025-03-29 01:42:37,148] Trial 25 finished with value: 0.965205288796103 and parameters: {'n_estimators': 50, 'max_depth': 10, 'min_samples_split': 2}. Best is trial 7 with value: 0.9707724425887264.\n",
      "c:\\Users\\901219015\\Desktop\\UNI\\Master\\Spring_Semester\\Optimization_for_ML\\venv\\Lib\\site-packages\\optuna\\distributions.py:699: UserWarning: The distribution is specified by [2, 10] and step=3, but the range is not divisible by `step`. It will be replaced by [2, 8].\n",
      "  warnings.warn(\n",
      "[I 2025-03-29 01:42:37,479] Trial 26 finished with value: 0.9700765483646486 and parameters: {'n_estimators': 100, 'max_depth': None, 'min_samples_split': 2}. Best is trial 7 with value: 0.9707724425887264.\n",
      "c:\\Users\\901219015\\Desktop\\UNI\\Master\\Spring_Semester\\Optimization_for_ML\\venv\\Lib\\site-packages\\optuna\\distributions.py:699: UserWarning: The distribution is specified by [2, 10] and step=3, but the range is not divisible by `step`. It will be replaced by [2, 8].\n",
      "  warnings.warn(\n",
      "[I 2025-03-29 01:42:37,943] Trial 27 finished with value: 0.9700765483646485 and parameters: {'n_estimators': 150, 'max_depth': 10, 'min_samples_split': 2}. Best is trial 7 with value: 0.9707724425887264.\n",
      "c:\\Users\\901219015\\Desktop\\UNI\\Master\\Spring_Semester\\Optimization_for_ML\\venv\\Lib\\site-packages\\optuna\\distributions.py:699: UserWarning: The distribution is specified by [2, 10] and step=3, but the range is not divisible by `step`. It will be replaced by [2, 8].\n",
      "  warnings.warn(\n",
      "[I 2025-03-29 01:42:38,252] Trial 28 finished with value: 0.9638135003479471 and parameters: {'n_estimators': 100, 'max_depth': 10, 'min_samples_split': 5}. Best is trial 7 with value: 0.9707724425887264.\n",
      "c:\\Users\\901219015\\Desktop\\UNI\\Master\\Spring_Semester\\Optimization_for_ML\\venv\\Lib\\site-packages\\optuna\\distributions.py:699: UserWarning: The distribution is specified by [2, 10] and step=3, but the range is not divisible by `step`. It will be replaced by [2, 8].\n",
      "  warnings.warn(\n",
      "[I 2025-03-29 01:42:38,420] Trial 29 finished with value: 0.9589422407794016 and parameters: {'n_estimators': 50, 'max_depth': 10, 'min_samples_split': 5}. Best is trial 7 with value: 0.9707724425887264.\n",
      "c:\\Users\\901219015\\Desktop\\UNI\\Master\\Spring_Semester\\Optimization_for_ML\\venv\\Lib\\site-packages\\optuna\\distributions.py:699: UserWarning: The distribution is specified by [2, 10] and step=3, but the range is not divisible by `step`. It will be replaced by [2, 8].\n",
      "  warnings.warn(\n",
      "[I 2025-03-29 01:42:38,596] Trial 30 finished with value: 0.965205288796103 and parameters: {'n_estimators': 50, 'max_depth': 10, 'min_samples_split': 2}. Best is trial 7 with value: 0.9707724425887264.\n",
      "c:\\Users\\901219015\\Desktop\\UNI\\Master\\Spring_Semester\\Optimization_for_ML\\venv\\Lib\\site-packages\\optuna\\distributions.py:699: UserWarning: The distribution is specified by [2, 10] and step=3, but the range is not divisible by `step`. It will be replaced by [2, 8].\n",
      "  warnings.warn(\n",
      "[I 2025-03-29 01:42:38,914] Trial 31 finished with value: 0.9707724425887264 and parameters: {'n_estimators': 100, 'max_depth': 10, 'min_samples_split': 2}. Best is trial 7 with value: 0.9707724425887264.\n",
      "c:\\Users\\901219015\\Desktop\\UNI\\Master\\Spring_Semester\\Optimization_for_ML\\venv\\Lib\\site-packages\\optuna\\distributions.py:699: UserWarning: The distribution is specified by [2, 10] and step=3, but the range is not divisible by `step`. It will be replaced by [2, 8].\n",
      "  warnings.warn(\n",
      "[I 2025-03-29 01:42:39,224] Trial 32 finished with value: 0.9707724425887264 and parameters: {'n_estimators': 100, 'max_depth': 10, 'min_samples_split': 2}. Best is trial 7 with value: 0.9707724425887264.\n",
      "c:\\Users\\901219015\\Desktop\\UNI\\Master\\Spring_Semester\\Optimization_for_ML\\venv\\Lib\\site-packages\\optuna\\distributions.py:699: UserWarning: The distribution is specified by [2, 10] and step=3, but the range is not divisible by `step`. It will be replaced by [2, 8].\n",
      "  warnings.warn(\n",
      "[I 2025-03-29 01:42:39,533] Trial 33 finished with value: 0.9707724425887264 and parameters: {'n_estimators': 100, 'max_depth': 10, 'min_samples_split': 2}. Best is trial 7 with value: 0.9707724425887264.\n",
      "c:\\Users\\901219015\\Desktop\\UNI\\Master\\Spring_Semester\\Optimization_for_ML\\venv\\Lib\\site-packages\\optuna\\distributions.py:699: UserWarning: The distribution is specified by [2, 10] and step=3, but the range is not divisible by `step`. It will be replaced by [2, 8].\n",
      "  warnings.warn(\n",
      "[I 2025-03-29 01:42:39,843] Trial 34 finished with value: 0.9707724425887264 and parameters: {'n_estimators': 100, 'max_depth': 10, 'min_samples_split': 2}. Best is trial 7 with value: 0.9707724425887264.\n",
      "c:\\Users\\901219015\\Desktop\\UNI\\Master\\Spring_Semester\\Optimization_for_ML\\venv\\Lib\\site-packages\\optuna\\distributions.py:699: UserWarning: The distribution is specified by [2, 10] and step=3, but the range is not divisible by `step`. It will be replaced by [2, 8].\n",
      "  warnings.warn(\n",
      "[I 2025-03-29 01:42:40,154] Trial 35 finished with value: 0.9707724425887264 and parameters: {'n_estimators': 100, 'max_depth': 10, 'min_samples_split': 2}. Best is trial 7 with value: 0.9707724425887264.\n",
      "c:\\Users\\901219015\\Desktop\\UNI\\Master\\Spring_Semester\\Optimization_for_ML\\venv\\Lib\\site-packages\\optuna\\distributions.py:699: UserWarning: The distribution is specified by [2, 10] and step=3, but the range is not divisible by `step`. It will be replaced by [2, 8].\n",
      "  warnings.warn(\n",
      "[I 2025-03-29 01:42:40,607] Trial 36 finished with value: 0.9631176061238692 and parameters: {'n_estimators': 150, 'max_depth': None, 'min_samples_split': 5}. Best is trial 7 with value: 0.9707724425887264.\n",
      "c:\\Users\\901219015\\Desktop\\UNI\\Master\\Spring_Semester\\Optimization_for_ML\\venv\\Lib\\site-packages\\optuna\\distributions.py:699: UserWarning: The distribution is specified by [2, 10] and step=3, but the range is not divisible by `step`. It will be replaced by [2, 8].\n",
      "  warnings.warn(\n",
      "[I 2025-03-29 01:42:40,774] Trial 37 finished with value: 0.965205288796103 and parameters: {'n_estimators': 50, 'max_depth': 10, 'min_samples_split': 2}. Best is trial 7 with value: 0.9707724425887264.\n",
      "c:\\Users\\901219015\\Desktop\\UNI\\Master\\Spring_Semester\\Optimization_for_ML\\venv\\Lib\\site-packages\\optuna\\distributions.py:699: UserWarning: The distribution is specified by [2, 10] and step=3, but the range is not divisible by `step`. It will be replaced by [2, 8].\n",
      "  warnings.warn(\n",
      "[I 2025-03-29 01:42:41,095] Trial 38 finished with value: 0.9638135003479471 and parameters: {'n_estimators': 100, 'max_depth': 10, 'min_samples_split': 5}. Best is trial 7 with value: 0.9707724425887264.\n",
      "c:\\Users\\901219015\\Desktop\\UNI\\Master\\Spring_Semester\\Optimization_for_ML\\venv\\Lib\\site-packages\\optuna\\distributions.py:699: UserWarning: The distribution is specified by [2, 10] and step=3, but the range is not divisible by `step`. It will be replaced by [2, 8].\n",
      "  warnings.warn(\n",
      "[I 2025-03-29 01:42:41,383] Trial 39 finished with value: 0.9631176061238692 and parameters: {'n_estimators': 100, 'max_depth': None, 'min_samples_split': 8}. Best is trial 7 with value: 0.9707724425887264.\n",
      "c:\\Users\\901219015\\Desktop\\UNI\\Master\\Spring_Semester\\Optimization_for_ML\\venv\\Lib\\site-packages\\optuna\\distributions.py:699: UserWarning: The distribution is specified by [2, 10] and step=3, but the range is not divisible by `step`. It will be replaced by [2, 8].\n",
      "  warnings.warn(\n",
      "[I 2025-03-29 01:42:41,560] Trial 40 finished with value: 0.965205288796103 and parameters: {'n_estimators': 50, 'max_depth': 10, 'min_samples_split': 2}. Best is trial 7 with value: 0.9707724425887264.\n",
      "c:\\Users\\901219015\\Desktop\\UNI\\Master\\Spring_Semester\\Optimization_for_ML\\venv\\Lib\\site-packages\\optuna\\distributions.py:699: UserWarning: The distribution is specified by [2, 10] and step=3, but the range is not divisible by `step`. It will be replaced by [2, 8].\n",
      "  warnings.warn(\n",
      "[I 2025-03-29 01:42:41,868] Trial 41 finished with value: 0.9707724425887264 and parameters: {'n_estimators': 100, 'max_depth': 10, 'min_samples_split': 2}. Best is trial 7 with value: 0.9707724425887264.\n",
      "c:\\Users\\901219015\\Desktop\\UNI\\Master\\Spring_Semester\\Optimization_for_ML\\venv\\Lib\\site-packages\\optuna\\distributions.py:699: UserWarning: The distribution is specified by [2, 10] and step=3, but the range is not divisible by `step`. It will be replaced by [2, 8].\n",
      "  warnings.warn(\n",
      "[I 2025-03-29 01:42:42,191] Trial 42 finished with value: 0.9707724425887264 and parameters: {'n_estimators': 100, 'max_depth': 10, 'min_samples_split': 2}. Best is trial 7 with value: 0.9707724425887264.\n",
      "c:\\Users\\901219015\\Desktop\\UNI\\Master\\Spring_Semester\\Optimization_for_ML\\venv\\Lib\\site-packages\\optuna\\distributions.py:699: UserWarning: The distribution is specified by [2, 10] and step=3, but the range is not divisible by `step`. It will be replaced by [2, 8].\n",
      "  warnings.warn(\n",
      "[I 2025-03-29 01:42:42,522] Trial 43 finished with value: 0.9707724425887264 and parameters: {'n_estimators': 100, 'max_depth': 10, 'min_samples_split': 2}. Best is trial 7 with value: 0.9707724425887264.\n",
      "c:\\Users\\901219015\\Desktop\\UNI\\Master\\Spring_Semester\\Optimization_for_ML\\venv\\Lib\\site-packages\\optuna\\distributions.py:699: UserWarning: The distribution is specified by [2, 10] and step=3, but the range is not divisible by `step`. It will be replaced by [2, 8].\n",
      "  warnings.warn(\n",
      "[I 2025-03-29 01:42:42,822] Trial 44 finished with value: 0.9638135003479471 and parameters: {'n_estimators': 100, 'max_depth': 10, 'min_samples_split': 5}. Best is trial 7 with value: 0.9707724425887264.\n",
      "c:\\Users\\901219015\\Desktop\\UNI\\Master\\Spring_Semester\\Optimization_for_ML\\venv\\Lib\\site-packages\\optuna\\distributions.py:699: UserWarning: The distribution is specified by [2, 10] and step=3, but the range is not divisible by `step`. It will be replaced by [2, 8].\n",
      "  warnings.warn(\n",
      "[I 2025-03-29 01:42:43,156] Trial 45 finished with value: 0.9707724425887264 and parameters: {'n_estimators': 100, 'max_depth': 10, 'min_samples_split': 2}. Best is trial 7 with value: 0.9707724425887264.\n",
      "c:\\Users\\901219015\\Desktop\\UNI\\Master\\Spring_Semester\\Optimization_for_ML\\venv\\Lib\\site-packages\\optuna\\distributions.py:699: UserWarning: The distribution is specified by [2, 10] and step=3, but the range is not divisible by `step`. It will be replaced by [2, 8].\n",
      "  warnings.warn(\n",
      "[I 2025-03-29 01:42:43,622] Trial 46 finished with value: 0.965205288796103 and parameters: {'n_estimators': 150, 'max_depth': 10, 'min_samples_split': 5}. Best is trial 7 with value: 0.9707724425887264.\n",
      "c:\\Users\\901219015\\Desktop\\UNI\\Master\\Spring_Semester\\Optimization_for_ML\\venv\\Lib\\site-packages\\optuna\\distributions.py:699: UserWarning: The distribution is specified by [2, 10] and step=3, but the range is not divisible by `step`. It will be replaced by [2, 8].\n",
      "  warnings.warn(\n",
      "[I 2025-03-29 01:42:43,951] Trial 47 finished with value: 0.9700765483646486 and parameters: {'n_estimators': 100, 'max_depth': None, 'min_samples_split': 2}. Best is trial 7 with value: 0.9707724425887264.\n",
      "c:\\Users\\901219015\\Desktop\\UNI\\Master\\Spring_Semester\\Optimization_for_ML\\venv\\Lib\\site-packages\\optuna\\distributions.py:699: UserWarning: The distribution is specified by [2, 10] and step=3, but the range is not divisible by `step`. It will be replaced by [2, 8].\n",
      "  warnings.warn(\n",
      "[I 2025-03-29 01:42:44,271] Trial 48 finished with value: 0.9707724425887264 and parameters: {'n_estimators': 100, 'max_depth': 10, 'min_samples_split': 2}. Best is trial 7 with value: 0.9707724425887264.\n",
      "c:\\Users\\901219015\\Desktop\\UNI\\Master\\Spring_Semester\\Optimization_for_ML\\venv\\Lib\\site-packages\\optuna\\distributions.py:699: UserWarning: The distribution is specified by [2, 10] and step=3, but the range is not divisible by `step`. It will be replaced by [2, 8].\n",
      "  warnings.warn(\n",
      "[I 2025-03-29 01:42:44,737] Trial 49 finished with value: 0.9665970772442588 and parameters: {'n_estimators': 150, 'max_depth': 20, 'min_samples_split': 2}. Best is trial 7 with value: 0.9707724425887264.\n"
     ]
    },
    {
     "name": "stdout",
     "output_type": "stream",
     "text": [
      "Best Parameters (Bayesian search): {'n_estimators': 100, 'max_depth': 10, 'min_samples_split': 2}, Time: 18.01s\n"
     ]
    }
   ],
   "source": [
    "def plot_results(studies):\n",
    "    optuna_studies = {name: study for name, study in studies.items() if name != \"Baseline\"}\n",
    "\n",
    "    for name, study in optuna_studies.items():\n",
    "        study.study_name = name  \n",
    "\n",
    "    vis.plot_optimization_history(list(optuna_studies.values())).show()\n",
    "\n",
    "    best_scores = {name: study.best_value for name, study in optuna_studies.items()}\n",
    "\n",
    "    print(\"Best Accuracy Scores:\")\n",
    "    for name, score in best_scores.items():\n",
    "        print(f\"{name}: {score:.4f}\")\n",
    "        \n",
    "studies, execution_times = run_optimization()"
   ]
  },
  {
   "cell_type": "code",
   "execution_count": 11,
   "metadata": {},
   "outputs": [
    {
     "data": {
      "image/png": "[encoded data removed]",
      "text/plain": [
       "<Figure size 800x600 with 1 Axes>"
      ]
     },
     "metadata": {},
     "output_type": "display_data"
    }
   ],
   "source": [
    "methods = list(execution_times.keys())\n",
    "times = list(execution_times.values())\n",
    "\n",
    "colors = ['lightgrey', '#FF9999', '#FFCC99', 'lightgreen']\n",
    "plt.figure(figsize=(8, 6))\n",
    "plt.barh(methods, times, color=colors)\n",
    "plt.xlabel(\"Time (seconds)\")\n",
    "plt.title(\"Execution Time Comparison\")\n",
    "plt.show()"
   ]
  },
  {
   "cell_type": "code",
   "execution_count": 12,
   "metadata": {},
   "outputs": [
    {
     "data": {
      "application/vnd.plotly.v1+json": {
       "config": {
        "plotlyServerURL": "https://plot.ly"
       },
       "data": [
        {
         "mode": "markers",
         "name": "Objective Value of Grid search",
         "type": "scatter",
         "x": [
          0,
          1,
          2,
          3,
          4,
          5,
          6,
          7,
          8,
          9,
          10,
          11,
          12,
          13,
          14,
          15,
          16,
          17,
          18,
          19,
          20,
          21,
          22,
          23,
          24,
          25,
          26,
          27,
          28,
          29,
          30,
          31,
          32,
          33,
          34,
          35,
          36,
          37,
          38,
          39,
          40,
          41,
          42,
          43,
          44,
          45,
          46,
          47,
          48,
          49
         ],
         "y": [
          0.9700765483646486,
          0.9659011830201809,
          0.9561586638830897,
          0.965205288796103,
          0.9561586638830897,
          0.9638135003479471,
          0.9561586638830897,
          0.9610299234516354,
          0.9686847599164926,
          0.9659011830201809,
          0.9631176061238692,
          0.9686847599164926,
          0.9686847599164926,
          0.9686847599164926,
          0.9686847599164926,
          0.9686847599164926,
          0.9631176061238692,
          0.9686847599164926,
          0.9728601252609604,
          0.9589422407794016,
          0.9728601252609604,
          0.9728601252609604,
          0.9728601252609604,
          0.9728601252609604,
          0.9728601252609604,
          0.9728601252609604,
          0.9728601252609604,
          0.964509394572025,
          0.9624217118997912,
          0.9728601252609604,
          0.9728601252609604,
          0.9728601252609604,
          0.9728601252609604,
          0.9686847599164926,
          0.9728601252609604,
          0.965205288796103,
          0.964509394572025,
          0.9624217118997912,
          0.9700765483646486,
          0.9624217118997912,
          0.965205288796103,
          0.9728601252609604,
          0.9728601252609604,
          0.9728601252609604,
          0.9707724425887264,
          0.964509394572025,
          0.9728601252609604,
          0.9700765483646486,
          0.9624217118997912,
          0.9728601252609604
         ]
        },
        {
         "mode": "lines",
         "name": "Best Value of Grid search",
         "type": "scatter",
         "x": [
          0,
          1,
          2,
          3,
          4,
          5,
          6,
          7,
          8,
          9,
          10,
          11,
          12,
          13,
          14,
          15,
          16,
          17,
          18,
          19,
          20,
          21,
          22,
          23,
          24,
          25,
          26,
          27,
          28,
          29,
          30,
          31,
          32,
          33,
          34,
          35,
          36,
          37,
          38,
          39,
          40,
          41,
          42,
          43,
          44,
          45,
          46,
          47,
          48,
          49
         ],
         "y": [
          0.9700765483646486,
          0.9700765483646486,
          0.9700765483646486,
          0.9700765483646486,
          0.9700765483646486,
          0.9700765483646486,
          0.9700765483646486,
          0.9700765483646486,
          0.9700765483646486,
          0.9700765483646486,
          0.9700765483646486,
          0.9700765483646486,
          0.9700765483646486,
          0.9700765483646486,
          0.9700765483646486,
          0.9700765483646486,
          0.9700765483646486,
          0.9700765483646486,
          0.9728601252609604,
          0.9728601252609604,
          0.9728601252609604,
          0.9728601252609604,
          0.9728601252609604,
          0.9728601252609604,
          0.9728601252609604,
          0.9728601252609604,
          0.9728601252609604,
          0.9728601252609604,
          0.9728601252609604,
          0.9728601252609604,
          0.9728601252609604,
          0.9728601252609604,
          0.9728601252609604,
          0.9728601252609604,
          0.9728601252609604,
          0.9728601252609604,
          0.9728601252609604,
          0.9728601252609604,
          0.9728601252609604,
          0.9728601252609604,
          0.9728601252609604,
          0.9728601252609604,
          0.9728601252609604,
          0.9728601252609604,
          0.9728601252609604,
          0.9728601252609604,
          0.9728601252609604,
          0.9728601252609604,
          0.9728601252609604,
          0.9728601252609604
         ]
        },
        {
         "marker": {
          "color": "#cccccc"
         },
         "mode": "markers",
         "name": "Infeasible Trial",
         "showlegend": false,
         "type": "scatter",
         "x": [],
         "y": []
        },
        {
         "mode": "markers",
         "name": "Objective Value of Random search",
         "type": "scatter",
         "x": [
          0,
          1,
          2,
          3,
          4,
          5,
          6,
          7,
          8,
          9,
          10,
          11,
          12,
          13,
          14,
          15,
          16,
          17,
          18,
          19,
          20,
          21,
          22,
          23,
          24,
          25,
          26,
          27,
          28,
          29,
          30,
          31,
          32,
          33,
          34,
          35,
          36,
          37,
          38,
          39,
          40,
          41,
          42,
          43,
          44,
          45,
          46,
          47,
          48,
          49
         ],
         "y": [
          0.964509394572025,
          0.9700765483646486,
          0.9631176061238692,
          0.9686847599164926,
          0.9617258176757133,
          0.964509394572025,
          0.9665970772442588,
          0.964509394572025,
          0.964509394572025,
          0.9659011830201809,
          0.965205288796103,
          0.9700765483646486,
          0.9700765483646486,
          0.9700765483646486,
          0.9624217118997912,
          0.9700765483646486,
          0.9631176061238692,
          0.9665970772442588,
          0.9617258176757133,
          0.9665970772442588,
          0.9631176061238692,
          0.9700765483646486,
          0.9700765483646486,
          0.9700765483646486,
          0.9700765483646486,
          0.9665970772442588,
          0.9631176061238692,
          0.9659011830201809,
          0.9700765483646485,
          0.9659011830201809,
          0.965205288796103,
          0.9700765483646486,
          0.9700765483646486,
          0.9700765483646486,
          0.9700765483646486,
          0.9631176061238692,
          0.9665970772442588,
          0.9631176061238692,
          0.9659011830201809,
          0.965205288796103,
          0.9631176061238692,
          0.9700765483646486,
          0.9700765483646486,
          0.9700765483646486,
          0.9700765483646486,
          0.9700765483646486,
          0.9700765483646486,
          0.9631176061238692,
          0.9631176061238692,
          0.9700765483646486
         ]
        },
        {
         "mode": "lines",
         "name": "Best Value of Random search",
         "type": "scatter",
         "x": [
          0,
          1,
          2,
          3,
          4,
          5,
          6,
          7,
          8,
          9,
          10,
          11,
          12,
          13,
          14,
          15,
          16,
          17,
          18,
          19,
          20,
          21,
          22,
          23,
          24,
          25,
          26,
          27,
          28,
          29,
          30,
          31,
          32,
          33,
          34,
          35,
          36,
          37,
          38,
          39,
          40,
          41,
          42,
          43,
          44,
          45,
          46,
          47,
          48,
          49
         ],
         "y": [
          0.964509394572025,
          0.9700765483646486,
          0.9700765483646486,
          0.9700765483646486,
          0.9700765483646486,
          0.9700765483646486,
          0.9700765483646486,
          0.9700765483646486,
          0.9700765483646486,
          0.9700765483646486,
          0.9700765483646486,
          0.9700765483646486,
          0.9700765483646486,
          0.9700765483646486,
          0.9700765483646486,
          0.9700765483646486,
          0.9700765483646486,
          0.9700765483646486,
          0.9700765483646486,
          0.9700765483646486,
          0.9700765483646486,
          0.9700765483646486,
          0.9700765483646486,
          0.9700765483646486,
          0.9700765483646486,
          0.9700765483646486,
          0.9700765483646486,
          0.9700765483646486,
          0.9700765483646486,
          0.9700765483646486,
          0.9700765483646486,
          0.9700765483646486,
          0.9700765483646486,
          0.9700765483646486,
          0.9700765483646486,
          0.9700765483646486,
          0.9700765483646486,
          0.9700765483646486,
          0.9700765483646486,
          0.9700765483646486,
          0.9700765483646486,
          0.9700765483646486,
          0.9700765483646486,
          0.9700765483646486,
          0.9700765483646486,
          0.9700765483646486,
          0.9700765483646486,
          0.9700765483646486,
          0.9700765483646486,
          0.9700765483646486
         ]
        },
        {
         "marker": {
          "color": "#cccccc"
         },
         "mode": "markers",
         "name": "Infeasible Trial",
         "showlegend": false,
         "type": "scatter",
         "x": [],
         "y": []
        },
        {
         "mode": "markers",
         "name": "Objective Value of Bayesian search",
         "type": "scatter",
         "x": [
          0,
          1,
          2,
          3,
          4,
          5,
          6,
          7,
          8,
          9,
          10,
          11,
          12,
          13,
          14,
          15,
          16,
          17,
          18,
          19,
          20,
          21,
          22,
          23,
          24,
          25,
          26,
          27,
          28,
          29,
          30,
          31,
          32,
          33,
          34,
          35,
          36,
          37,
          38,
          39,
          40,
          41,
          42,
          43,
          44,
          45,
          46,
          47,
          48,
          49
         ],
         "y": [
          0.9589422407794016,
          0.964509394572025,
          0.964509394572025,
          0.964509394572025,
          0.9617258176757133,
          0.965205288796103,
          0.9631176061238692,
          0.9707724425887264,
          0.964509394572025,
          0.964509394572025,
          0.9700765483646486,
          0.9700765483646486,
          0.9700765483646486,
          0.9665970772442588,
          0.9700765483646486,
          0.9561586638830898,
          0.9665970772442588,
          0.9707724425887264,
          0.9700765483646485,
          0.965205288796103,
          0.9617258176757133,
          0.9707724425887264,
          0.9707724425887264,
          0.9707724425887264,
          0.9700765483646485,
          0.965205288796103,
          0.9700765483646486,
          0.9700765483646485,
          0.9638135003479471,
          0.9589422407794016,
          0.965205288796103,
          0.9707724425887264,
          0.9707724425887264,
          0.9707724425887264,
          0.9707724425887264,
          0.9707724425887264,
          0.9631176061238692,
          0.965205288796103,
          0.9638135003479471,
          0.9631176061238692,
          0.965205288796103,
          0.9707724425887264,
          0.9707724425887264,
          0.9707724425887264,
          0.9638135003479471,
          0.9707724425887264,
          0.965205288796103,
          0.9700765483646486,
          0.9707724425887264,
          0.9665970772442588
         ]
        },
        {
         "mode": "lines",
         "name": "Best Value of Bayesian search",
         "type": "scatter",
         "x": [
          0,
          1,
          2,
          3,
          4,
          5,
          6,
          7,
          8,
          9,
          10,
          11,
          12,
          13,
          14,
          15,
          16,
          17,
          18,
          19,
          20,
          21,
          22,
          23,
          24,
          25,
          26,
          27,
          28,
          29,
          30,
          31,
          32,
          33,
          34,
          35,
          36,
          37,
          38,
          39,
          40,
          41,
          42,
          43,
          44,
          45,
          46,
          47,
          48,
          49
         ],
         "y": [
          0.9589422407794016,
          0.964509394572025,
          0.964509394572025,
          0.964509394572025,
          0.964509394572025,
          0.965205288796103,
          0.965205288796103,
          0.9707724425887264,
          0.9707724425887264,
          0.9707724425887264,
          0.9707724425887264,
          0.9707724425887264,
          0.9707724425887264,
          0.9707724425887264,
          0.9707724425887264,
          0.9707724425887264,
          0.9707724425887264,
          0.9707724425887264,
          0.9707724425887264,
          0.9707724425887264,
          0.9707724425887264,
          0.9707724425887264,
          0.9707724425887264,
          0.9707724425887264,
          0.9707724425887264,
          0.9707724425887264,
          0.9707724425887264,
          0.9707724425887264,
          0.9707724425887264,
          0.9707724425887264,
          0.9707724425887264,
          0.9707724425887264,
          0.9707724425887264,
          0.9707724425887264,
          0.9707724425887264,
          0.9707724425887264,
          0.9707724425887264,
          0.9707724425887264,
          0.9707724425887264,
          0.9707724425887264,
          0.9707724425887264,
          0.9707724425887264,
          0.9707724425887264,
          0.9707724425887264,
          0.9707724425887264,
          0.9707724425887264,
          0.9707724425887264,
          0.9707724425887264,
          0.9707724425887264,
          0.9707724425887264
         ]
        },
        {
         "marker": {
          "color": "#cccccc"
         },
         "mode": "markers",
         "name": "Infeasible Trial",
         "showlegend": false,
         "type": "scatter",
         "x": [],
         "y": []
        }
       ],
       "layout": {
        "template": {
         "data": {
          "bar": [
           {
            "error_x": {
             "color": "#2a3f5f"
            },
            "error_y": {
             "color": "#2a3f5f"
            },
            "marker": {
             "line": {
              "color": "#E5ECF6",
              "width": 0.5
             },
             "pattern": {
              "fillmode": "overlay",
              "size": 10,
              "solidity": 0.2
             }
            },
            "type": "bar"
           }
          ],
          "barpolar": [
           {
            "marker": {
             "line": {
              "color": "#E5ECF6",
              "width": 0.5
             },
             "pattern": {
              "fillmode": "overlay",
              "size": 10,
              "solidity": 0.2
             }
            },
            "type": "barpolar"
           }
          ],
          "carpet": [
           {
            "aaxis": {
             "endlinecolor": "#2a3f5f",
             "gridcolor": "white",
             "linecolor": "white",
             "minorgridcolor": "white",
             "startlinecolor": "#2a3f5f"
            },
            "baxis": {
             "endlinecolor": "#2a3f5f",
             "gridcolor": "white",
             "linecolor": "white",
             "minorgridcolor": "white",
             "startlinecolor": "#2a3f5f"
            },
            "type": "carpet"
           }
          ],
          "choropleth": [
           {
            "colorbar": {
             "outlinewidth": 0,
             "ticks": ""
            },
            "type": "choropleth"
           }
          ],
          "contour": [
           {
            "colorbar": {
             "outlinewidth": 0,
             "ticks": ""
            },
            "colorscale": [
             [
              0,
              "#0d0887"
             ],
             [
              0.1111111111111111,
              "#46039f"
             ],
             [
              0.2222222222222222,
              "#7201a8"
             ],
             [
              0.3333333333333333,
              "#9c179e"
             ],
             [
              0.4444444444444444,
              "#bd3786"
             ],
             [
              0.5555555555555556,
              "#d8576b"
             ],
             [
              0.6666666666666666,
              "#ed7953"
             ],
             [
              0.7777777777777778,
              "#fb9f3a"
             ],
             [
              0.8888888888888888,
              "#fdca26"
             ],
             [
              1,
              "#f0f921"
             ]
            ],
            "type": "contour"
           }
          ],
          "contourcarpet": [
           {
            "colorbar": {
             "outlinewidth": 0,
             "ticks": ""
            },
            "type": "contourcarpet"
           }
          ],
          "heatmap": [
           {
            "colorbar": {
             "outlinewidth": 0,
             "ticks": ""
            },
            "colorscale": [
             [
              0,
              "#0d0887"
             ],
             [
              0.1111111111111111,
              "#46039f"
             ],
             [
              0.2222222222222222,
              "#7201a8"
             ],
             [
              0.3333333333333333,
              "#9c179e"
             ],
             [
              0.4444444444444444,
              "#bd3786"
             ],
             [
              0.5555555555555556,
              "#d8576b"
             ],
             [
              0.6666666666666666,
              "#ed7953"
             ],
             [
              0.7777777777777778,
              "#fb9f3a"
             ],
             [
              0.8888888888888888,
              "#fdca26"
             ],
             [
              1,
              "#f0f921"
             ]
            ],
            "type": "heatmap"
           }
          ],
          "histogram": [
           {
            "marker": {
             "pattern": {
              "fillmode": "overlay",
              "size": 10,
              "solidity": 0.2
             }
            },
            "type": "histogram"
           }
          ],
          "histogram2d": [
           {
            "colorbar": {
             "outlinewidth": 0,
             "ticks": ""
            },
            "colorscale": [
             [
              0,
              "#0d0887"
             ],
             [
              0.1111111111111111,
              "#46039f"
             ],
             [
              0.2222222222222222,
              "#7201a8"
             ],
             [
              0.3333333333333333,
              "#9c179e"
             ],
             [
              0.4444444444444444,
              "#bd3786"
             ],
             [
              0.5555555555555556,
              "#d8576b"
             ],
             [
              0.6666666666666666,
              "#ed7953"
             ],
             [
              0.7777777777777778,
              "#fb9f3a"
             ],
             [
              0.8888888888888888,
              "#fdca26"
             ],
             [
              1,
              "#f0f921"
             ]
            ],
            "type": "histogram2d"
           }
          ],
          "histogram2dcontour": [
           {
            "colorbar": {
             "outlinewidth": 0,
             "ticks": ""
            },
            "colorscale": [
             [
              0,
              "#0d0887"
             ],
             [
              0.1111111111111111,
              "#46039f"
             ],
             [
              0.2222222222222222,
              "#7201a8"
             ],
             [
              0.3333333333333333,
              "#9c179e"
             ],
             [
              0.4444444444444444,
              "#bd3786"
             ],
             [
              0.5555555555555556,
              "#d8576b"
             ],
             [
              0.6666666666666666,
              "#ed7953"
             ],
             [
              0.7777777777777778,
              "#fb9f3a"
             ],
             [
              0.8888888888888888,
              "#fdca26"
             ],
             [
              1,
              "#f0f921"
             ]
            ],
            "type": "histogram2dcontour"
           }
          ],
          "mesh3d": [
           {
            "colorbar": {
             "outlinewidth": 0,
             "ticks": ""
            },
            "type": "mesh3d"
           }
          ],
          "parcoords": [
           {
            "line": {
             "colorbar": {
              "outlinewidth": 0,
              "ticks": ""
             }
            },
            "type": "parcoords"
           }
          ],
          "pie": [
           {
            "automargin": true,
            "type": "pie"
           }
          ],
          "scatter": [
           {
            "fillpattern": {
             "fillmode": "overlay",
             "size": 10,
             "solidity": 0.2
            },
            "type": "scatter"
           }
          ],
          "scatter3d": [
           {
            "line": {
             "colorbar": {
              "outlinewidth": 0,
              "ticks": ""
             }
            },
            "marker": {
             "colorbar": {
              "outlinewidth": 0,
              "ticks": ""
             }
            },
            "type": "scatter3d"
           }
          ],
          "scattercarpet": [
           {
            "marker": {
             "colorbar": {
              "outlinewidth": 0,
              "ticks": ""
             }
            },
            "type": "scattercarpet"
           }
          ],
          "scattergeo": [
           {
            "marker": {
             "colorbar": {
              "outlinewidth": 0,
              "ticks": ""
             }
            },
            "type": "scattergeo"
           }
          ],
          "scattergl": [
           {
            "marker": {
             "colorbar": {
              "outlinewidth": 0,
              "ticks": ""
             }
            },
            "type": "scattergl"
           }
          ],
          "scattermap": [
           {
            "marker": {
             "colorbar": {
              "outlinewidth": 0,
              "ticks": ""
             }
            },
            "type": "scattermap"
           }
          ],
          "scattermapbox": [
           {
            "marker": {
             "colorbar": {
              "outlinewidth": 0,
              "ticks": ""
             }
            },
            "type": "scattermapbox"
           }
          ],
          "scatterpolar": [
           {
            "marker": {
             "colorbar": {
              "outlinewidth": 0,
              "ticks": ""
             }
            },
            "type": "scatterpolar"
           }
          ],
          "scatterpolargl": [
           {
            "marker": {
             "colorbar": {
              "outlinewidth": 0,
              "ticks": ""
             }
            },
            "type": "scatterpolargl"
           }
          ],
          "scatterternary": [
           {
            "marker": {
             "colorbar": {
              "outlinewidth": 0,
              "ticks": ""
             }
            },
            "type": "scatterternary"
           }
          ],
          "surface": [
           {
            "colorbar": {
             "outlinewidth": 0,
             "ticks": ""
            },
            "colorscale": [
             [
              0,
              "#0d0887"
             ],
             [
              0.1111111111111111,
              "#46039f"
             ],
             [
              0.2222222222222222,
              "#7201a8"
             ],
             [
              0.3333333333333333,
              "#9c179e"
             ],
             [
              0.4444444444444444,
              "#bd3786"
             ],
             [
              0.5555555555555556,
              "#d8576b"
             ],
             [
              0.6666666666666666,
              "#ed7953"
             ],
             [
              0.7777777777777778,
              "#fb9f3a"
             ],
             [
              0.8888888888888888,
              "#fdca26"
             ],
             [
              1,
              "#f0f921"
             ]
            ],
            "type": "surface"
           }
          ],
          "table": [
           {
            "cells": {
             "fill": {
              "color": "#EBF0F8"
             },
             "line": {
              "color": "white"
             }
            },
            "header": {
             "fill": {
              "color": "#C8D4E3"
             },
             "line": {
              "color": "white"
             }
            },
            "type": "table"
           }
          ]
         },
         "layout": {
          "annotationdefaults": {
           "arrowcolor": "#2a3f5f",
           "arrowhead": 0,
           "arrowwidth": 1
          },
          "autotypenumbers": "strict",
          "coloraxis": {
           "colorbar": {
            "outlinewidth": 0,
            "ticks": ""
           }
          },
          "colorscale": {
           "diverging": [
            [
             0,
             "#8e0152"
            ],
            [
             0.1,
             "#c51b7d"
            ],
            [
             0.2,
             "#de77ae"
            ],
            [
             0.3,
             "#f1b6da"
            ],
            [
             0.4,
             "#fde0ef"
            ],
            [
             0.5,
             "#f7f7f7"
            ],
            [
             0.6,
             "#e6f5d0"
            ],
            [
             0.7,
             "#b8e186"
            ],
            [
             0.8,
             "#7fbc41"
            ],
            [
             0.9,
             "#4d9221"
            ],
            [
             1,
             "#276419"
            ]
           ],
           "sequential": [
            [
             0,
             "#0d0887"
            ],
            [
             0.1111111111111111,
             "#46039f"
            ],
            [
             0.2222222222222222,
             "#7201a8"
            ],
            [
             0.3333333333333333,
             "#9c179e"
            ],
            [
             0.4444444444444444,
             "#bd3786"
            ],
            [
             0.5555555555555556,
             "#d8576b"
            ],
            [
             0.6666666666666666,
             "#ed7953"
            ],
            [
             0.7777777777777778,
             "#fb9f3a"
            ],
            [
             0.8888888888888888,
             "#fdca26"
            ],
            [
             1,
             "#f0f921"
            ]
           ],
           "sequentialminus": [
            [
             0,
             "#0d0887"
            ],
            [
             0.1111111111111111,
             "#46039f"
            ],
            [
             0.2222222222222222,
             "#7201a8"
            ],
            [
             0.3333333333333333,
             "#9c179e"
            ],
            [
             0.4444444444444444,
             "#bd3786"
            ],
            [
             0.5555555555555556,
             "#d8576b"
            ],
            [
             0.6666666666666666,
             "#ed7953"
            ],
            [
             0.7777777777777778,
             "#fb9f3a"
            ],
            [
             0.8888888888888888,
             "#fdca26"
            ],
            [
             1,
             "#f0f921"
            ]
           ]
          },
          "colorway": [
           "#636efa",
           "#EF553B",
           "#00cc96",
           "#ab63fa",
           "#FFA15A",
           "#19d3f3",
           "#FF6692",
           "#B6E880",
           "#FF97FF",
           "#FECB52"
          ],
          "font": {
           "color": "#2a3f5f"
          },
          "geo": {
           "bgcolor": "white",
           "lakecolor": "white",
           "landcolor": "#E5ECF6",
           "showlakes": true,
           "showland": true,
           "subunitcolor": "white"
          },
          "hoverlabel": {
           "align": "left"
          },
          "hovermode": "closest",
          "mapbox": {
           "style": "light"
          },
          "paper_bgcolor": "white",
          "plot_bgcolor": "#E5ECF6",
          "polar": {
           "angularaxis": {
            "gridcolor": "white",
            "linecolor": "white",
            "ticks": ""
           },
           "bgcolor": "#E5ECF6",
           "radialaxis": {
            "gridcolor": "white",
            "linecolor": "white",
            "ticks": ""
           }
          },
          "scene": {
           "xaxis": {
            "backgroundcolor": "#E5ECF6",
            "gridcolor": "white",
            "gridwidth": 2,
            "linecolor": "white",
            "showbackground": true,
            "ticks": "",
            "zerolinecolor": "white"
           },
           "yaxis": {
            "backgroundcolor": "#E5ECF6",
            "gridcolor": "white",
            "gridwidth": 2,
            "linecolor": "white",
            "showbackground": true,
            "ticks": "",
            "zerolinecolor": "white"
           },
           "zaxis": {
            "backgroundcolor": "#E5ECF6",
            "gridcolor": "white",
            "gridwidth": 2,
            "linecolor": "white",
            "showbackground": true,
            "ticks": "",
            "zerolinecolor": "white"
           }
          },
          "shapedefaults": {
           "line": {
            "color": "#2a3f5f"
           }
          },
          "ternary": {
           "aaxis": {
            "gridcolor": "white",
            "linecolor": "white",
            "ticks": ""
           },
           "baxis": {
            "gridcolor": "white",
            "linecolor": "white",
            "ticks": ""
           },
           "bgcolor": "#E5ECF6",
           "caxis": {
            "gridcolor": "white",
            "linecolor": "white",
            "ticks": ""
           }
          },
          "title": {
           "x": 0.05
          },
          "xaxis": {
           "automargin": true,
           "gridcolor": "white",
           "linecolor": "white",
           "ticks": "",
           "title": {
            "standoff": 15
           },
           "zerolinecolor": "white",
           "zerolinewidth": 2
          },
          "yaxis": {
           "automargin": true,
           "gridcolor": "white",
           "linecolor": "white",
           "ticks": "",
           "title": {
            "standoff": 15
           },
           "zerolinecolor": "white",
           "zerolinewidth": 2
          }
         }
        },
        "title": {
         "text": "Optimization History Plot"
        },
        "xaxis": {
         "title": {
          "text": "Trial"
         }
        },
        "yaxis": {
         "title": {
          "text": "Objective Value"
         }
        }
       }
      }
     },
     "metadata": {},
     "output_type": "display_data"
    },
    {
     "name": "stdout",
     "output_type": "stream",
     "text": [
      "Best Accuracy Scores:\n",
      "Grid search: 0.9729\n",
      "Random search: 0.9701\n",
      "Bayesian search: 0.9708\n"
     ]
    }
   ],
   "source": [
    "plot_results(studies);        "
   ]
  },
  {
   "cell_type": "code",
   "execution_count": 13,
   "metadata": {},
   "outputs": [
    {
     "data": {
      "application/vnd.plotly.v1+json": {
       "config": {
        "plotlyServerURL": "https://plot.ly"
       },
       "data": [
        {
         "cliponaxis": false,
         "hovertemplate": [
          "max_depth (CategoricalDistribution): 0.07416779001096258<extra></extra>",
          "n_estimators (CategoricalDistribution): 0.22109492249869928<extra></extra>",
          "min_samples_split (CategoricalDistribution): 0.7047372874903381<extra></extra>"
         ],
         "name": "Objective Value",
         "orientation": "h",
         "text": [
          "0.07",
          "0.22",
          "0.70"
         ],
         "textposition": "outside",
         "type": "bar",
         "x": [
          0.07416779001096258,
          0.22109492249869928,
          0.7047372874903381
         ],
         "y": [
          "max_depth",
          "n_estimators",
          "min_samples_split"
         ]
        }
       ],
       "layout": {
        "template": {
         "data": {
          "bar": [
           {
            "error_x": {
             "color": "#2a3f5f"
            },
            "error_y": {
             "color": "#2a3f5f"
            },
            "marker": {
             "line": {
              "color": "#E5ECF6",
              "width": 0.5
             },
             "pattern": {
              "fillmode": "overlay",
              "size": 10,
              "solidity": 0.2
             }
            },
            "type": "bar"
           }
          ],
          "barpolar": [
           {
            "marker": {
             "line": {
              "color": "#E5ECF6",
              "width": 0.5
             },
             "pattern": {
              "fillmode": "overlay",
              "size": 10,
              "solidity": 0.2
             }
            },
            "type": "barpolar"
           }
          ],
          "carpet": [
           {
            "aaxis": {
             "endlinecolor": "#2a3f5f",
             "gridcolor": "white",
             "linecolor": "white",
             "minorgridcolor": "white",
             "startlinecolor": "#2a3f5f"
            },
            "baxis": {
             "endlinecolor": "#2a3f5f",
             "gridcolor": "white",
             "linecolor": "white",
             "minorgridcolor": "white",
             "startlinecolor": "#2a3f5f"
            },
            "type": "carpet"
           }
          ],
          "choropleth": [
           {
            "colorbar": {
             "outlinewidth": 0,
             "ticks": ""
            },
            "type": "choropleth"
           }
          ],
          "contour": [
           {
            "colorbar": {
             "outlinewidth": 0,
             "ticks": ""
            },
            "colorscale": [
             [
              0,
              "#0d0887"
             ],
             [
              0.1111111111111111,
              "#46039f"
             ],
             [
              0.2222222222222222,
              "#7201a8"
             ],
             [
              0.3333333333333333,
              "#9c179e"
             ],
             [
              0.4444444444444444,
              "#bd3786"
             ],
             [
              0.5555555555555556,
              "#d8576b"
             ],
             [
              0.6666666666666666,
              "#ed7953"
             ],
             [
              0.7777777777777778,
              "#fb9f3a"
             ],
             [
              0.8888888888888888,
              "#fdca26"
             ],
             [
              1,
              "#f0f921"
             ]
            ],
            "type": "contour"
           }
          ],
          "contourcarpet": [
           {
            "colorbar": {
             "outlinewidth": 0,
             "ticks": ""
            },
            "type": "contourcarpet"
           }
          ],
          "heatmap": [
           {
            "colorbar": {
             "outlinewidth": 0,
             "ticks": ""
            },
            "colorscale": [
             [
              0,
              "#0d0887"
             ],
             [
              0.1111111111111111,
              "#46039f"
             ],
             [
              0.2222222222222222,
              "#7201a8"
             ],
             [
              0.3333333333333333,
              "#9c179e"
             ],
             [
              0.4444444444444444,
              "#bd3786"
             ],
             [
              0.5555555555555556,
              "#d8576b"
             ],
             [
              0.6666666666666666,
              "#ed7953"
             ],
             [
              0.7777777777777778,
              "#fb9f3a"
             ],
             [
              0.8888888888888888,
              "#fdca26"
             ],
             [
              1,
              "#f0f921"
             ]
            ],
            "type": "heatmap"
           }
          ],
          "histogram": [
           {
            "marker": {
             "pattern": {
              "fillmode": "overlay",
              "size": 10,
              "solidity": 0.2
             }
            },
            "type": "histogram"
           }
          ],
          "histogram2d": [
           {
            "colorbar": {
             "outlinewidth": 0,
             "ticks": ""
            },
            "colorscale": [
             [
              0,
              "#0d0887"
             ],
             [
              0.1111111111111111,
              "#46039f"
             ],
             [
              0.2222222222222222,
              "#7201a8"
             ],
             [
              0.3333333333333333,
              "#9c179e"
             ],
             [
              0.4444444444444444,
              "#bd3786"
             ],
             [
              0.5555555555555556,
              "#d8576b"
             ],
             [
              0.6666666666666666,
              "#ed7953"
             ],
             [
              0.7777777777777778,
              "#fb9f3a"
             ],
             [
              0.8888888888888888,
              "#fdca26"
             ],
             [
              1,
              "#f0f921"
             ]
            ],
            "type": "histogram2d"
           }
          ],
          "histogram2dcontour": [
           {
            "colorbar": {
             "outlinewidth": 0,
             "ticks": ""
            },
            "colorscale": [
             [
              0,
              "#0d0887"
             ],
             [
              0.1111111111111111,
              "#46039f"
             ],
             [
              0.2222222222222222,
              "#7201a8"
             ],
             [
              0.3333333333333333,
              "#9c179e"
             ],
             [
              0.4444444444444444,
              "#bd3786"
             ],
             [
              0.5555555555555556,
              "#d8576b"
             ],
             [
              0.6666666666666666,
              "#ed7953"
             ],
             [
              0.7777777777777778,
              "#fb9f3a"
             ],
             [
              0.8888888888888888,
              "#fdca26"
             ],
             [
              1,
              "#f0f921"
             ]
            ],
            "type": "histogram2dcontour"
           }
          ],
          "mesh3d": [
           {
            "colorbar": {
             "outlinewidth": 0,
             "ticks": ""
            },
            "type": "mesh3d"
           }
          ],
          "parcoords": [
           {
            "line": {
             "colorbar": {
              "outlinewidth": 0,
              "ticks": ""
             }
            },
            "type": "parcoords"
           }
          ],
          "pie": [
           {
            "automargin": true,
            "type": "pie"
           }
          ],
          "scatter": [
           {
            "fillpattern": {
             "fillmode": "overlay",
             "size": 10,
             "solidity": 0.2
            },
            "type": "scatter"
           }
          ],
          "scatter3d": [
           {
            "line": {
             "colorbar": {
              "outlinewidth": 0,
              "ticks": ""
             }
            },
            "marker": {
             "colorbar": {
              "outlinewidth": 0,
              "ticks": ""
             }
            },
            "type": "scatter3d"
           }
          ],
          "scattercarpet": [
           {
            "marker": {
             "colorbar": {
              "outlinewidth": 0,
              "ticks": ""
             }
            },
            "type": "scattercarpet"
           }
          ],
          "scattergeo": [
           {
            "marker": {
             "colorbar": {
              "outlinewidth": 0,
              "ticks": ""
             }
            },
            "type": "scattergeo"
           }
          ],
          "scattergl": [
           {
            "marker": {
             "colorbar": {
              "outlinewidth": 0,
              "ticks": ""
             }
            },
            "type": "scattergl"
           }
          ],
          "scattermap": [
           {
            "marker": {
             "colorbar": {
              "outlinewidth": 0,
              "ticks": ""
             }
            },
            "type": "scattermap"
           }
          ],
          "scattermapbox": [
           {
            "marker": {
             "colorbar": {
              "outlinewidth": 0,
              "ticks": ""
             }
            },
            "type": "scattermapbox"
           }
          ],
          "scatterpolar": [
           {
            "marker": {
             "colorbar": {
              "outlinewidth": 0,
              "ticks": ""
             }
            },
            "type": "scatterpolar"
           }
          ],
          "scatterpolargl": [
           {
            "marker": {
             "colorbar": {
              "outlinewidth": 0,
              "ticks": ""
             }
            },
            "type": "scatterpolargl"
           }
          ],
          "scatterternary": [
           {
            "marker": {
             "colorbar": {
              "outlinewidth": 0,
              "ticks": ""
             }
            },
            "type": "scatterternary"
           }
          ],
          "surface": [
           {
            "colorbar": {
             "outlinewidth": 0,
             "ticks": ""
            },
            "colorscale": [
             [
              0,
              "#0d0887"
             ],
             [
              0.1111111111111111,
              "#46039f"
             ],
             [
              0.2222222222222222,
              "#7201a8"
             ],
             [
              0.3333333333333333,
              "#9c179e"
             ],
             [
              0.4444444444444444,
              "#bd3786"
             ],
             [
              0.5555555555555556,
              "#d8576b"
             ],
             [
              0.6666666666666666,
              "#ed7953"
             ],
             [
              0.7777777777777778,
              "#fb9f3a"
             ],
             [
              0.8888888888888888,
              "#fdca26"
             ],
             [
              1,
              "#f0f921"
             ]
            ],
            "type": "surface"
           }
          ],
          "table": [
           {
            "cells": {
             "fill": {
              "color": "#EBF0F8"
             },
             "line": {
              "color": "white"
             }
            },
            "header": {
             "fill": {
              "color": "#C8D4E3"
             },
             "line": {
              "color": "white"
             }
            },
            "type": "table"
           }
          ]
         },
         "layout": {
          "annotationdefaults": {
           "arrowcolor": "#2a3f5f",
           "arrowhead": 0,
           "arrowwidth": 1
          },
          "autotypenumbers": "strict",
          "coloraxis": {
           "colorbar": {
            "outlinewidth": 0,
            "ticks": ""
           }
          },
          "colorscale": {
           "diverging": [
            [
             0,
             "#8e0152"
            ],
            [
             0.1,
             "#c51b7d"
            ],
            [
             0.2,
             "#de77ae"
            ],
            [
             0.3,
             "#f1b6da"
            ],
            [
             0.4,
             "#fde0ef"
            ],
            [
             0.5,
             "#f7f7f7"
            ],
            [
             0.6,
             "#e6f5d0"
            ],
            [
             0.7,
             "#b8e186"
            ],
            [
             0.8,
             "#7fbc41"
            ],
            [
             0.9,
             "#4d9221"
            ],
            [
             1,
             "#276419"
            ]
           ],
           "sequential": [
            [
             0,
             "#0d0887"
            ],
            [
             0.1111111111111111,
             "#46039f"
            ],
            [
             0.2222222222222222,
             "#7201a8"
            ],
            [
             0.3333333333333333,
             "#9c179e"
            ],
            [
             0.4444444444444444,
             "#bd3786"
            ],
            [
             0.5555555555555556,
             "#d8576b"
            ],
            [
             0.6666666666666666,
             "#ed7953"
            ],
            [
             0.7777777777777778,
             "#fb9f3a"
            ],
            [
             0.8888888888888888,
             "#fdca26"
            ],
            [
             1,
             "#f0f921"
            ]
           ],
           "sequentialminus": [
            [
             0,
             "#0d0887"
            ],
            [
             0.1111111111111111,
             "#46039f"
            ],
            [
             0.2222222222222222,
             "#7201a8"
            ],
            [
             0.3333333333333333,
             "#9c179e"
            ],
            [
             0.4444444444444444,
             "#bd3786"
            ],
            [
             0.5555555555555556,
             "#d8576b"
            ],
            [
             0.6666666666666666,
             "#ed7953"
            ],
            [
             0.7777777777777778,
             "#fb9f3a"
            ],
            [
             0.8888888888888888,
             "#fdca26"
            ],
            [
             1,
             "#f0f921"
            ]
           ]
          },
          "colorway": [
           "#636efa",
           "#EF553B",
           "#00cc96",
           "#ab63fa",
           "#FFA15A",
           "#19d3f3",
           "#FF6692",
           "#B6E880",
           "#FF97FF",
           "#FECB52"
          ],
          "font": {
           "color": "#2a3f5f"
          },
          "geo": {
           "bgcolor": "white",
           "lakecolor": "white",
           "landcolor": "#E5ECF6",
           "showlakes": true,
           "showland": true,
           "subunitcolor": "white"
          },
          "hoverlabel": {
           "align": "left"
          },
          "hovermode": "closest",
          "mapbox": {
           "style": "light"
          },
          "paper_bgcolor": "white",
          "plot_bgcolor": "#E5ECF6",
          "polar": {
           "angularaxis": {
            "gridcolor": "white",
            "linecolor": "white",
            "ticks": ""
           },
           "bgcolor": "#E5ECF6",
           "radialaxis": {
            "gridcolor": "white",
            "linecolor": "white",
            "ticks": ""
           }
          },
          "scene": {
           "xaxis": {
            "backgroundcolor": "#E5ECF6",
            "gridcolor": "white",
            "gridwidth": 2,
            "linecolor": "white",
            "showbackground": true,
            "ticks": "",
            "zerolinecolor": "white"
           },
           "yaxis": {
            "backgroundcolor": "#E5ECF6",
            "gridcolor": "white",
            "gridwidth": 2,
            "linecolor": "white",
            "showbackground": true,
            "ticks": "",
            "zerolinecolor": "white"
           },
           "zaxis": {
            "backgroundcolor": "#E5ECF6",
            "gridcolor": "white",
            "gridwidth": 2,
            "linecolor": "white",
            "showbackground": true,
            "ticks": "",
            "zerolinecolor": "white"
           }
          },
          "shapedefaults": {
           "line": {
            "color": "#2a3f5f"
           }
          },
          "ternary": {
           "aaxis": {
            "gridcolor": "white",
            "linecolor": "white",
            "ticks": ""
           },
           "baxis": {
            "gridcolor": "white",
            "linecolor": "white",
            "ticks": ""
           },
           "bgcolor": "#E5ECF6",
           "caxis": {
            "gridcolor": "white",
            "linecolor": "white",
            "ticks": ""
           }
          },
          "title": {
           "x": 0.05
          },
          "xaxis": {
           "automargin": true,
           "gridcolor": "white",
           "linecolor": "white",
           "ticks": "",
           "title": {
            "standoff": 15
           },
           "zerolinecolor": "white",
           "zerolinewidth": 2
          },
          "yaxis": {
           "automargin": true,
           "gridcolor": "white",
           "linecolor": "white",
           "ticks": "",
           "title": {
            "standoff": 15
           },
           "zerolinecolor": "white",
           "zerolinewidth": 2
          }
         }
        },
        "title": {
         "text": "Grid search"
        },
        "xaxis": {
         "title": {
          "text": "Hyperparameter Importance"
         }
        },
        "yaxis": {
         "title": {
          "text": "Hyperparameter"
         }
        }
       }
      }
     },
     "metadata": {},
     "output_type": "display_data"
    },
    {
     "data": {
      "application/vnd.plotly.v1+json": {
       "config": {
        "plotlyServerURL": "https://plot.ly"
       },
       "data": [
        {
         "cliponaxis": false,
         "hovertemplate": [
          "max_depth (CategoricalDistribution): 0.012399110290939081<extra></extra>",
          "n_estimators (IntDistribution): 0.19823746743482537<extra></extra>",
          "min_samples_split (IntDistribution): 0.7893634222742356<extra></extra>"
         ],
         "name": "Objective Value",
         "orientation": "h",
         "text": [
          "0.01",
          "0.20",
          "0.79"
         ],
         "textposition": "outside",
         "type": "bar",
         "x": [
          0.012399110290939081,
          0.19823746743482537,
          0.7893634222742356
         ],
         "y": [
          "max_depth",
          "n_estimators",
          "min_samples_split"
         ]
        }
       ],
       "layout": {
        "template": {
         "data": {
          "bar": [
           {
            "error_x": {
             "color": "#2a3f5f"
            },
            "error_y": {
             "color": "#2a3f5f"
            },
            "marker": {
             "line": {
              "color": "#E5ECF6",
              "width": 0.5
             },
             "pattern": {
              "fillmode": "overlay",
              "size": 10,
              "solidity": 0.2
             }
            },
            "type": "bar"
           }
          ],
          "barpolar": [
           {
            "marker": {
             "line": {
              "color": "#E5ECF6",
              "width": 0.5
             },
             "pattern": {
              "fillmode": "overlay",
              "size": 10,
              "solidity": 0.2
             }
            },
            "type": "barpolar"
           }
          ],
          "carpet": [
           {
            "aaxis": {
             "endlinecolor": "#2a3f5f",
             "gridcolor": "white",
             "linecolor": "white",
             "minorgridcolor": "white",
             "startlinecolor": "#2a3f5f"
            },
            "baxis": {
             "endlinecolor": "#2a3f5f",
             "gridcolor": "white",
             "linecolor": "white",
             "minorgridcolor": "white",
             "startlinecolor": "#2a3f5f"
            },
            "type": "carpet"
           }
          ],
          "choropleth": [
           {
            "colorbar": {
             "outlinewidth": 0,
             "ticks": ""
            },
            "type": "choropleth"
           }
          ],
          "contour": [
           {
            "colorbar": {
             "outlinewidth": 0,
             "ticks": ""
            },
            "colorscale": [
             [
              0,
              "#0d0887"
             ],
             [
              0.1111111111111111,
              "#46039f"
             ],
             [
              0.2222222222222222,
              "#7201a8"
             ],
             [
              0.3333333333333333,
              "#9c179e"
             ],
             [
              0.4444444444444444,
              "#bd3786"
             ],
             [
              0.5555555555555556,
              "#d8576b"
             ],
             [
              0.6666666666666666,
              "#ed7953"
             ],
             [
              0.7777777777777778,
              "#fb9f3a"
             ],
             [
              0.8888888888888888,
              "#fdca26"
             ],
             [
              1,
              "#f0f921"
             ]
            ],
            "type": "contour"
           }
          ],
          "contourcarpet": [
           {
            "colorbar": {
             "outlinewidth": 0,
             "ticks": ""
            },
            "type": "contourcarpet"
           }
          ],
          "heatmap": [
           {
            "colorbar": {
             "outlinewidth": 0,
             "ticks": ""
            },
            "colorscale": [
             [
              0,
              "#0d0887"
             ],
             [
              0.1111111111111111,
              "#46039f"
             ],
             [
              0.2222222222222222,
              "#7201a8"
             ],
             [
              0.3333333333333333,
              "#9c179e"
             ],
             [
              0.4444444444444444,
              "#bd3786"
             ],
             [
              0.5555555555555556,
              "#d8576b"
             ],
             [
              0.6666666666666666,
              "#ed7953"
             ],
             [
              0.7777777777777778,
              "#fb9f3a"
             ],
             [
              0.8888888888888888,
              "#fdca26"
             ],
             [
              1,
              "#f0f921"
             ]
            ],
            "type": "heatmap"
           }
          ],
          "histogram": [
           {
            "marker": {
             "pattern": {
              "fillmode": "overlay",
              "size": 10,
              "solidity": 0.2
             }
            },
            "type": "histogram"
           }
          ],
          "histogram2d": [
           {
            "colorbar": {
             "outlinewidth": 0,
             "ticks": ""
            },
            "colorscale": [
             [
              0,
              "#0d0887"
             ],
             [
              0.1111111111111111,
              "#46039f"
             ],
             [
              0.2222222222222222,
              "#7201a8"
             ],
             [
              0.3333333333333333,
              "#9c179e"
             ],
             [
              0.4444444444444444,
              "#bd3786"
             ],
             [
              0.5555555555555556,
              "#d8576b"
             ],
             [
              0.6666666666666666,
              "#ed7953"
             ],
             [
              0.7777777777777778,
              "#fb9f3a"
             ],
             [
              0.8888888888888888,
              "#fdca26"
             ],
             [
              1,
              "#f0f921"
             ]
            ],
            "type": "histogram2d"
           }
          ],
          "histogram2dcontour": [
           {
            "colorbar": {
             "outlinewidth": 0,
             "ticks": ""
            },
            "colorscale": [
             [
              0,
              "#0d0887"
             ],
             [
              0.1111111111111111,
              "#46039f"
             ],
             [
              0.2222222222222222,
              "#7201a8"
             ],
             [
              0.3333333333333333,
              "#9c179e"
             ],
             [
              0.4444444444444444,
              "#bd3786"
             ],
             [
              0.5555555555555556,
              "#d8576b"
             ],
             [
              0.6666666666666666,
              "#ed7953"
             ],
             [
              0.7777777777777778,
              "#fb9f3a"
             ],
             [
              0.8888888888888888,
              "#fdca26"
             ],
             [
              1,
              "#f0f921"
             ]
            ],
            "type": "histogram2dcontour"
           }
          ],
          "mesh3d": [
           {
            "colorbar": {
             "outlinewidth": 0,
             "ticks": ""
            },
            "type": "mesh3d"
           }
          ],
          "parcoords": [
           {
            "line": {
             "colorbar": {
              "outlinewidth": 0,
              "ticks": ""
             }
            },
            "type": "parcoords"
           }
          ],
          "pie": [
           {
            "automargin": true,
            "type": "pie"
           }
          ],
          "scatter": [
           {
            "fillpattern": {
             "fillmode": "overlay",
             "size": 10,
             "solidity": 0.2
            },
            "type": "scatter"
           }
          ],
          "scatter3d": [
           {
            "line": {
             "colorbar": {
              "outlinewidth": 0,
              "ticks": ""
             }
            },
            "marker": {
             "colorbar": {
              "outlinewidth": 0,
              "ticks": ""
             }
            },
            "type": "scatter3d"
           }
          ],
          "scattercarpet": [
           {
            "marker": {
             "colorbar": {
              "outlinewidth": 0,
              "ticks": ""
             }
            },
            "type": "scattercarpet"
           }
          ],
          "scattergeo": [
           {
            "marker": {
             "colorbar": {
              "outlinewidth": 0,
              "ticks": ""
             }
            },
            "type": "scattergeo"
           }
          ],
          "scattergl": [
           {
            "marker": {
             "colorbar": {
              "outlinewidth": 0,
              "ticks": ""
             }
            },
            "type": "scattergl"
           }
          ],
          "scattermap": [
           {
            "marker": {
             "colorbar": {
              "outlinewidth": 0,
              "ticks": ""
             }
            },
            "type": "scattermap"
           }
          ],
          "scattermapbox": [
           {
            "marker": {
             "colorbar": {
              "outlinewidth": 0,
              "ticks": ""
             }
            },
            "type": "scattermapbox"
           }
          ],
          "scatterpolar": [
           {
            "marker": {
             "colorbar": {
              "outlinewidth": 0,
              "ticks": ""
             }
            },
            "type": "scatterpolar"
           }
          ],
          "scatterpolargl": [
           {
            "marker": {
             "colorbar": {
              "outlinewidth": 0,
              "ticks": ""
             }
            },
            "type": "scatterpolargl"
           }
          ],
          "scatterternary": [
           {
            "marker": {
             "colorbar": {
              "outlinewidth": 0,
              "ticks": ""
             }
            },
            "type": "scatterternary"
           }
          ],
          "surface": [
           {
            "colorbar": {
             "outlinewidth": 0,
             "ticks": ""
            },
            "colorscale": [
             [
              0,
              "#0d0887"
             ],
             [
              0.1111111111111111,
              "#46039f"
             ],
             [
              0.2222222222222222,
              "#7201a8"
             ],
             [
              0.3333333333333333,
              "#9c179e"
             ],
             [
              0.4444444444444444,
              "#bd3786"
             ],
             [
              0.5555555555555556,
              "#d8576b"
             ],
             [
              0.6666666666666666,
              "#ed7953"
             ],
             [
              0.7777777777777778,
              "#fb9f3a"
             ],
             [
              0.8888888888888888,
              "#fdca26"
             ],
             [
              1,
              "#f0f921"
             ]
            ],
            "type": "surface"
           }
          ],
          "table": [
           {
            "cells": {
             "fill": {
              "color": "#EBF0F8"
             },
             "line": {
              "color": "white"
             }
            },
            "header": {
             "fill": {
              "color": "#C8D4E3"
             },
             "line": {
              "color": "white"
             }
            },
            "type": "table"
           }
          ]
         },
         "layout": {
          "annotationdefaults": {
           "arrowcolor": "#2a3f5f",
           "arrowhead": 0,
           "arrowwidth": 1
          },
          "autotypenumbers": "strict",
          "coloraxis": {
           "colorbar": {
            "outlinewidth": 0,
            "ticks": ""
           }
          },
          "colorscale": {
           "diverging": [
            [
             0,
             "#8e0152"
            ],
            [
             0.1,
             "#c51b7d"
            ],
            [
             0.2,
             "#de77ae"
            ],
            [
             0.3,
             "#f1b6da"
            ],
            [
             0.4,
             "#fde0ef"
            ],
            [
             0.5,
             "#f7f7f7"
            ],
            [
             0.6,
             "#e6f5d0"
            ],
            [
             0.7,
             "#b8e186"
            ],
            [
             0.8,
             "#7fbc41"
            ],
            [
             0.9,
             "#4d9221"
            ],
            [
             1,
             "#276419"
            ]
           ],
           "sequential": [
            [
             0,
             "#0d0887"
            ],
            [
             0.1111111111111111,
             "#46039f"
            ],
            [
             0.2222222222222222,
             "#7201a8"
            ],
            [
             0.3333333333333333,
             "#9c179e"
            ],
            [
             0.4444444444444444,
             "#bd3786"
            ],
            [
             0.5555555555555556,
             "#d8576b"
            ],
            [
             0.6666666666666666,
             "#ed7953"
            ],
            [
             0.7777777777777778,
             "#fb9f3a"
            ],
            [
             0.8888888888888888,
             "#fdca26"
            ],
            [
             1,
             "#f0f921"
            ]
           ],
           "sequentialminus": [
            [
             0,
             "#0d0887"
            ],
            [
             0.1111111111111111,
             "#46039f"
            ],
            [
             0.2222222222222222,
             "#7201a8"
            ],
            [
             0.3333333333333333,
             "#9c179e"
            ],
            [
             0.4444444444444444,
             "#bd3786"
            ],
            [
             0.5555555555555556,
             "#d8576b"
            ],
            [
             0.6666666666666666,
             "#ed7953"
            ],
            [
             0.7777777777777778,
             "#fb9f3a"
            ],
            [
             0.8888888888888888,
             "#fdca26"
            ],
            [
             1,
             "#f0f921"
            ]
           ]
          },
          "colorway": [
           "#636efa",
           "#EF553B",
           "#00cc96",
           "#ab63fa",
           "#FFA15A",
           "#19d3f3",
           "#FF6692",
           "#B6E880",
           "#FF97FF",
           "#FECB52"
          ],
          "font": {
           "color": "#2a3f5f"
          },
          "geo": {
           "bgcolor": "white",
           "lakecolor": "white",
           "landcolor": "#E5ECF6",
           "showlakes": true,
           "showland": true,
           "subunitcolor": "white"
          },
          "hoverlabel": {
           "align": "left"
          },
          "hovermode": "closest",
          "mapbox": {
           "style": "light"
          },
          "paper_bgcolor": "white",
          "plot_bgcolor": "#E5ECF6",
          "polar": {
           "angularaxis": {
            "gridcolor": "white",
            "linecolor": "white",
            "ticks": ""
           },
           "bgcolor": "#E5ECF6",
           "radialaxis": {
            "gridcolor": "white",
            "linecolor": "white",
            "ticks": ""
           }
          },
          "scene": {
           "xaxis": {
            "backgroundcolor": "#E5ECF6",
            "gridcolor": "white",
            "gridwidth": 2,
            "linecolor": "white",
            "showbackground": true,
            "ticks": "",
            "zerolinecolor": "white"
           },
           "yaxis": {
            "backgroundcolor": "#E5ECF6",
            "gridcolor": "white",
            "gridwidth": 2,
            "linecolor": "white",
            "showbackground": true,
            "ticks": "",
            "zerolinecolor": "white"
           },
           "zaxis": {
            "backgroundcolor": "#E5ECF6",
            "gridcolor": "white",
            "gridwidth": 2,
            "linecolor": "white",
            "showbackground": true,
            "ticks": "",
            "zerolinecolor": "white"
           }
          },
          "shapedefaults": {
           "line": {
            "color": "#2a3f5f"
           }
          },
          "ternary": {
           "aaxis": {
            "gridcolor": "white",
            "linecolor": "white",
            "ticks": ""
           },
           "baxis": {
            "gridcolor": "white",
            "linecolor": "white",
            "ticks": ""
           },
           "bgcolor": "#E5ECF6",
           "caxis": {
            "gridcolor": "white",
            "linecolor": "white",
            "ticks": ""
           }
          },
          "title": {
           "x": 0.05
          },
          "xaxis": {
           "automargin": true,
           "gridcolor": "white",
           "linecolor": "white",
           "ticks": "",
           "title": {
            "standoff": 15
           },
           "zerolinecolor": "white",
           "zerolinewidth": 2
          },
          "yaxis": {
           "automargin": true,
           "gridcolor": "white",
           "linecolor": "white",
           "ticks": "",
           "title": {
            "standoff": 15
           },
           "zerolinecolor": "white",
           "zerolinewidth": 2
          }
         }
        },
        "title": {
         "text": "Random search"
        },
        "xaxis": {
         "title": {
          "text": "Hyperparameter Importance"
         }
        },
        "yaxis": {
         "title": {
          "text": "Hyperparameter"
         }
        }
       }
      }
     },
     "metadata": {},
     "output_type": "display_data"
    },
    {
     "data": {
      "application/vnd.plotly.v1+json": {
       "config": {
        "plotlyServerURL": "https://plot.ly"
       },
       "data": [
        {
         "cliponaxis": false,
         "hovertemplate": [
          "max_depth (CategoricalDistribution): 0.008853190726314254<extra></extra>",
          "n_estimators (IntDistribution): 0.317880814318582<extra></extra>",
          "min_samples_split (IntDistribution): 0.6732659949551039<extra></extra>"
         ],
         "name": "Objective Value",
         "orientation": "h",
         "text": [
          "<0.01",
          "0.32",
          "0.67"
         ],
         "textposition": "outside",
         "type": "bar",
         "x": [
          0.008853190726314254,
          0.317880814318582,
          0.6732659949551039
         ],
         "y": [
          "max_depth",
          "n_estimators",
          "min_samples_split"
         ]
        }
       ],
       "layout": {
        "template": {
         "data": {
          "bar": [
           {
            "error_x": {
             "color": "#2a3f5f"
            },
            "error_y": {
             "color": "#2a3f5f"
            },
            "marker": {
             "line": {
              "color": "#E5ECF6",
              "width": 0.5
             },
             "pattern": {
              "fillmode": "overlay",
              "size": 10,
              "solidity": 0.2
             }
            },
            "type": "bar"
           }
          ],
          "barpolar": [
           {
            "marker": {
             "line": {
              "color": "#E5ECF6",
              "width": 0.5
             },
             "pattern": {
              "fillmode": "overlay",
              "size": 10,
              "solidity": 0.2
             }
            },
            "type": "barpolar"
           }
          ],
          "carpet": [
           {
            "aaxis": {
             "endlinecolor": "#2a3f5f",
             "gridcolor": "white",
             "linecolor": "white",
             "minorgridcolor": "white",
             "startlinecolor": "#2a3f5f"
            },
            "baxis": {
             "endlinecolor": "#2a3f5f",
             "gridcolor": "white",
             "linecolor": "white",
             "minorgridcolor": "white",
             "startlinecolor": "#2a3f5f"
            },
            "type": "carpet"
           }
          ],
          "choropleth": [
           {
            "colorbar": {
             "outlinewidth": 0,
             "ticks": ""
            },
            "type": "choropleth"
           }
          ],
          "contour": [
           {
            "colorbar": {
             "outlinewidth": 0,
             "ticks": ""
            },
            "colorscale": [
             [
              0,
              "#0d0887"
             ],
             [
              0.1111111111111111,
              "#46039f"
             ],
             [
              0.2222222222222222,
              "#7201a8"
             ],
             [
              0.3333333333333333,
              "#9c179e"
             ],
             [
              0.4444444444444444,
              "#bd3786"
             ],
             [
              0.5555555555555556,
              "#d8576b"
             ],
             [
              0.6666666666666666,
              "#ed7953"
             ],
             [
              0.7777777777777778,
              "#fb9f3a"
             ],
             [
              0.8888888888888888,
              "#fdca26"
             ],
             [
              1,
              "#f0f921"
             ]
            ],
            "type": "contour"
           }
          ],
          "contourcarpet": [
           {
            "colorbar": {
             "outlinewidth": 0,
             "ticks": ""
            },
            "type": "contourcarpet"
           }
          ],
          "heatmap": [
           {
            "colorbar": {
             "outlinewidth": 0,
             "ticks": ""
            },
            "colorscale": [
             [
              0,
              "#0d0887"
             ],
             [
              0.1111111111111111,
              "#46039f"
             ],
             [
              0.2222222222222222,
              "#7201a8"
             ],
             [
              0.3333333333333333,
              "#9c179e"
             ],
             [
              0.4444444444444444,
              "#bd3786"
             ],
             [
              0.5555555555555556,
              "#d8576b"
             ],
             [
              0.6666666666666666,
              "#ed7953"
             ],
             [
              0.7777777777777778,
              "#fb9f3a"
             ],
             [
              0.8888888888888888,
              "#fdca26"
             ],
             [
              1,
              "#f0f921"
             ]
            ],
            "type": "heatmap"
           }
          ],
          "histogram": [
           {
            "marker": {
             "pattern": {
              "fillmode": "overlay",
              "size": 10,
              "solidity": 0.2
             }
            },
            "type": "histogram"
           }
          ],
          "histogram2d": [
           {
            "colorbar": {
             "outlinewidth": 0,
             "ticks": ""
            },
            "colorscale": [
             [
              0,
              "#0d0887"
             ],
             [
              0.1111111111111111,
              "#46039f"
             ],
             [
              0.2222222222222222,
              "#7201a8"
             ],
             [
              0.3333333333333333,
              "#9c179e"
             ],
             [
              0.4444444444444444,
              "#bd3786"
             ],
             [
              0.5555555555555556,
              "#d8576b"
             ],
             [
              0.6666666666666666,
              "#ed7953"
             ],
             [
              0.7777777777777778,
              "#fb9f3a"
             ],
             [
              0.8888888888888888,
              "#fdca26"
             ],
             [
              1,
              "#f0f921"
             ]
            ],
            "type": "histogram2d"
           }
          ],
          "histogram2dcontour": [
           {
            "colorbar": {
             "outlinewidth": 0,
             "ticks": ""
            },
            "colorscale": [
             [
              0,
              "#0d0887"
             ],
             [
              0.1111111111111111,
              "#46039f"
             ],
             [
              0.2222222222222222,
              "#7201a8"
             ],
             [
              0.3333333333333333,
              "#9c179e"
             ],
             [
              0.4444444444444444,
              "#bd3786"
             ],
             [
              0.5555555555555556,
              "#d8576b"
             ],
             [
              0.6666666666666666,
              "#ed7953"
             ],
             [
              0.7777777777777778,
              "#fb9f3a"
             ],
             [
              0.8888888888888888,
              "#fdca26"
             ],
             [
              1,
              "#f0f921"
             ]
            ],
            "type": "histogram2dcontour"
           }
          ],
          "mesh3d": [
           {
            "colorbar": {
             "outlinewidth": 0,
             "ticks": ""
            },
            "type": "mesh3d"
           }
          ],
          "parcoords": [
           {
            "line": {
             "colorbar": {
              "outlinewidth": 0,
              "ticks": ""
             }
            },
            "type": "parcoords"
           }
          ],
          "pie": [
           {
            "automargin": true,
            "type": "pie"
           }
          ],
          "scatter": [
           {
            "fillpattern": {
             "fillmode": "overlay",
             "size": 10,
             "solidity": 0.2
            },
            "type": "scatter"
           }
          ],
          "scatter3d": [
           {
            "line": {
             "colorbar": {
              "outlinewidth": 0,
              "ticks": ""
             }
            },
            "marker": {
             "colorbar": {
              "outlinewidth": 0,
              "ticks": ""
             }
            },
            "type": "scatter3d"
           }
          ],
          "scattercarpet": [
           {
            "marker": {
             "colorbar": {
              "outlinewidth": 0,
              "ticks": ""
             }
            },
            "type": "scattercarpet"
           }
          ],
          "scattergeo": [
           {
            "marker": {
             "colorbar": {
              "outlinewidth": 0,
              "ticks": ""
             }
            },
            "type": "scattergeo"
           }
          ],
          "scattergl": [
           {
            "marker": {
             "colorbar": {
              "outlinewidth": 0,
              "ticks": ""
             }
            },
            "type": "scattergl"
           }
          ],
          "scattermap": [
           {
            "marker": {
             "colorbar": {
              "outlinewidth": 0,
              "ticks": ""
             }
            },
            "type": "scattermap"
           }
          ],
          "scattermapbox": [
           {
            "marker": {
             "colorbar": {
              "outlinewidth": 0,
              "ticks": ""
             }
            },
            "type": "scattermapbox"
           }
          ],
          "scatterpolar": [
           {
            "marker": {
             "colorbar": {
              "outlinewidth": 0,
              "ticks": ""
             }
            },
            "type": "scatterpolar"
           }
          ],
          "scatterpolargl": [
           {
            "marker": {
             "colorbar": {
              "outlinewidth": 0,
              "ticks": ""
             }
            },
            "type": "scatterpolargl"
           }
          ],
          "scatterternary": [
           {
            "marker": {
             "colorbar": {
              "outlinewidth": 0,
              "ticks": ""
             }
            },
            "type": "scatterternary"
           }
          ],
          "surface": [
           {
            "colorbar": {
             "outlinewidth": 0,
             "ticks": ""
            },
            "colorscale": [
             [
              0,
              "#0d0887"
             ],
             [
              0.1111111111111111,
              "#46039f"
             ],
             [
              0.2222222222222222,
              "#7201a8"
             ],
             [
              0.3333333333333333,
              "#9c179e"
             ],
             [
              0.4444444444444444,
              "#bd3786"
             ],
             [
              0.5555555555555556,
              "#d8576b"
             ],
             [
              0.6666666666666666,
              "#ed7953"
             ],
             [
              0.7777777777777778,
              "#fb9f3a"
             ],
             [
              0.8888888888888888,
              "#fdca26"
             ],
             [
              1,
              "#f0f921"
             ]
            ],
            "type": "surface"
           }
          ],
          "table": [
           {
            "cells": {
             "fill": {
              "color": "#EBF0F8"
             },
             "line": {
              "color": "white"
             }
            },
            "header": {
             "fill": {
              "color": "#C8D4E3"
             },
             "line": {
              "color": "white"
             }
            },
            "type": "table"
           }
          ]
         },
         "layout": {
          "annotationdefaults": {
           "arrowcolor": "#2a3f5f",
           "arrowhead": 0,
           "arrowwidth": 1
          },
          "autotypenumbers": "strict",
          "coloraxis": {
           "colorbar": {
            "outlinewidth": 0,
            "ticks": ""
           }
          },
          "colorscale": {
           "diverging": [
            [
             0,
             "#8e0152"
            ],
            [
             0.1,
             "#c51b7d"
            ],
            [
             0.2,
             "#de77ae"
            ],
            [
             0.3,
             "#f1b6da"
            ],
            [
             0.4,
             "#fde0ef"
            ],
            [
             0.5,
             "#f7f7f7"
            ],
            [
             0.6,
             "#e6f5d0"
            ],
            [
             0.7,
             "#b8e186"
            ],
            [
             0.8,
             "#7fbc41"
            ],
            [
             0.9,
             "#4d9221"
            ],
            [
             1,
             "#276419"
            ]
           ],
           "sequential": [
            [
             0,
             "#0d0887"
            ],
            [
             0.1111111111111111,
             "#46039f"
            ],
            [
             0.2222222222222222,
             "#7201a8"
            ],
            [
             0.3333333333333333,
             "#9c179e"
            ],
            [
             0.4444444444444444,
             "#bd3786"
            ],
            [
             0.5555555555555556,
             "#d8576b"
            ],
            [
             0.6666666666666666,
             "#ed7953"
            ],
            [
             0.7777777777777778,
             "#fb9f3a"
            ],
            [
             0.8888888888888888,
             "#fdca26"
            ],
            [
             1,
             "#f0f921"
            ]
           ],
           "sequentialminus": [
            [
             0,
             "#0d0887"
            ],
            [
             0.1111111111111111,
             "#46039f"
            ],
            [
             0.2222222222222222,
             "#7201a8"
            ],
            [
             0.3333333333333333,
             "#9c179e"
            ],
            [
             0.4444444444444444,
             "#bd3786"
            ],
            [
             0.5555555555555556,
             "#d8576b"
            ],
            [
             0.6666666666666666,
             "#ed7953"
            ],
            [
             0.7777777777777778,
             "#fb9f3a"
            ],
            [
             0.8888888888888888,
             "#fdca26"
            ],
            [
             1,
             "#f0f921"
            ]
           ]
          },
          "colorway": [
           "#636efa",
           "#EF553B",
           "#00cc96",
           "#ab63fa",
           "#FFA15A",
           "#19d3f3",
           "#FF6692",
           "#B6E880",
           "#FF97FF",
           "#FECB52"
          ],
          "font": {
           "color": "#2a3f5f"
          },
          "geo": {
           "bgcolor": "white",
           "lakecolor": "white",
           "landcolor": "#E5ECF6",
           "showlakes": true,
           "showland": true,
           "subunitcolor": "white"
          },
          "hoverlabel": {
           "align": "left"
          },
          "hovermode": "closest",
          "mapbox": {
           "style": "light"
          },
          "paper_bgcolor": "white",
          "plot_bgcolor": "#E5ECF6",
          "polar": {
           "angularaxis": {
            "gridcolor": "white",
            "linecolor": "white",
            "ticks": ""
           },
           "bgcolor": "#E5ECF6",
           "radialaxis": {
            "gridcolor": "white",
            "linecolor": "white",
            "ticks": ""
           }
          },
          "scene": {
           "xaxis": {
            "backgroundcolor": "#E5ECF6",
            "gridcolor": "white",
            "gridwidth": 2,
            "linecolor": "white",
            "showbackground": true,
            "ticks": "",
            "zerolinecolor": "white"
           },
           "yaxis": {
            "backgroundcolor": "#E5ECF6",
            "gridcolor": "white",
            "gridwidth": 2,
            "linecolor": "white",
            "showbackground": true,
            "ticks": "",
            "zerolinecolor": "white"
           },
           "zaxis": {
            "backgroundcolor": "#E5ECF6",
            "gridcolor": "white",
            "gridwidth": 2,
            "linecolor": "white",
            "showbackground": true,
            "ticks": "",
            "zerolinecolor": "white"
           }
          },
          "shapedefaults": {
           "line": {
            "color": "#2a3f5f"
           }
          },
          "ternary": {
           "aaxis": {
            "gridcolor": "white",
            "linecolor": "white",
            "ticks": ""
           },
           "baxis": {
            "gridcolor": "white",
            "linecolor": "white",
            "ticks": ""
           },
           "bgcolor": "#E5ECF6",
           "caxis": {
            "gridcolor": "white",
            "linecolor": "white",
            "ticks": ""
           }
          },
          "title": {
           "x": 0.05
          },
          "xaxis": {
           "automargin": true,
           "gridcolor": "white",
           "linecolor": "white",
           "ticks": "",
           "title": {
            "standoff": 15
           },
           "zerolinecolor": "white",
           "zerolinewidth": 2
          },
          "yaxis": {
           "automargin": true,
           "gridcolor": "white",
           "linecolor": "white",
           "ticks": "",
           "title": {
            "standoff": 15
           },
           "zerolinecolor": "white",
           "zerolinewidth": 2
          }
         }
        },
        "title": {
         "text": "Bayesian search"
        },
        "xaxis": {
         "title": {
          "text": "Hyperparameter Importance"
         }
        },
        "yaxis": {
         "title": {
          "text": "Hyperparameter"
         }
        }
       }
      }
     },
     "metadata": {},
     "output_type": "display_data"
    }
   ],
   "source": [
    "def plot_params(studies):\n",
    "    for name, study in studies.items():\n",
    "        if name == \"Baseline\":\n",
    "            print(f\"Baseline Model Accuracy: {study:.4f}\")\n",
    "        else:\n",
    "            fig = vis.plot_param_importances(study)  # Get the Plotly figure\n",
    "            fig.update_layout(title_text=f\"{name}\")\n",
    "            fig.show()  # Display the figure\n",
    "\n",
    "plot_params(studies)"
   ]
  },
  {
   "cell_type": "code",
   "execution_count": 14,
   "metadata": {},
   "outputs": [
    {
     "data": {
      "image/png": "[encoded data removed]",
      "text/plain": [
       "<Figure size 800x500 with 1 Axes>"
      ]
     },
     "metadata": {},
     "output_type": "display_data"
    }
   ],
   "source": [
    "def calculate_overfitting_potential(studies):\n",
    "    train_accuracies = []\n",
    "    test_accuracies = []\n",
    "    method_names = []\n",
    "\n",
    "    for name, study in studies.items():\n",
    "        if name == \"Baseline\":\n",
    "            continue  # Skip baseline\n",
    "\n",
    "        if not study.best_params:\n",
    "            print(f\"Skipping {name} due to missing best parameters.\")\n",
    "            continue\n",
    "\n",
    "        # Get best parameters and train model\n",
    "        best_params = study.best_params\n",
    "        clf = RandomForestClassifier(**best_params, random_state=SEED)\n",
    "        clf.fit(X_train, y_train)\n",
    "\n",
    "        # Compute training and test accuracy\n",
    "        train_acc = accuracy_score(y_train, clf.predict(X_train))\n",
    "        test_acc = accuracy_score(y_test, clf.predict(X_test))\n",
    "\n",
    "        train_accuracies.append(train_acc)\n",
    "        test_accuracies.append(test_acc)\n",
    "        method_names.append(name)\n",
    "\n",
    "    # Compute overfitting potential (train-test accuracy gap)\n",
    "    overfitting_potential = [train - test for train, test in zip(train_accuracies, test_accuracies)]\n",
    "\n",
    "    # Plot Overfitting Potential\n",
    "    plt.figure(figsize=(8, 5))\n",
    "    bars = plt.bar(method_names, overfitting_potential, color=['#FF9999', '#FFCC99', 'lightgreen'])\n",
    "\n",
    "    # Add value labels on top of bars\n",
    "    for bar in bars:\n",
    "        plt.text(bar.get_x() + bar.get_width() / 2, bar.get_height(),\n",
    "                 f\"{bar.get_height():.4f}\", ha='center', va='bottom', fontsize=12)\n",
    "\n",
    "    plt.xlabel(\"Hyperparameter Search Method\")\n",
    "    plt.ylabel(\"Train-Test Accuracy Gap\")\n",
    "    plt.title(\"Overfitting Potential (Train-Test Gap)\")\n",
    "    plt.ylim(0, max(overfitting_potential) + 0.005)\n",
    "    plt.show()\n",
    "\n",
    "# Run the function after optimization\n",
    "calculate_overfitting_potential(studies)\n"
   ]
  }
 ],
 "metadata": {
  "kernelspec": {
   "display_name": "venv",
   "language": "python",
   "name": "python3"
  },
  "language_info": {
   "codemirror_mode": {
    "name": "ipython",
    "version": 3
   },
   "file_extension": ".py",
   "mimetype": "text/x-python",
   "name": "python",
   "nbconvert_exporter": "python",
   "pygments_lexer": "ipython3",
   "version": "3.12.6"
  }
 },
 "nbformat": 4,
 "nbformat_minor": 2
}
