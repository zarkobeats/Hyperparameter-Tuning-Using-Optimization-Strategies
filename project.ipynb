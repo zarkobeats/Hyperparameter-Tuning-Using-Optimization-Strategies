{
 "cells": [
  {
   "cell_type": "markdown",
   "metadata": {},
   "source": [
    "**Imports**"
   ]
  },
  {
   "cell_type": "code",
   "execution_count": 25,
   "metadata": {},
   "outputs": [],
   "source": [
    "import time\n",
    "import numpy as np\n",
    "import optuna\n",
    "import optuna.visualization as vis\n",
    "from sklearn.datasets import load_digits\n",
    "from sklearn.model_selection import train_test_split, cross_val_score\n",
    "from sklearn.ensemble import RandomForestClassifier\n",
    "from sklearn.metrics import accuracy_score\n",
    "import matplotlib.pyplot as plt"
   ]
  },
  {
   "cell_type": "markdown",
   "metadata": {},
   "source": [
    "**Load data**"
   ]
  },
  {
   "cell_type": "code",
   "execution_count": 26,
   "metadata": {},
   "outputs": [],
   "source": [
    "def load_data():\n",
    "    digits = load_digits()\n",
    "    X_train, X_test, y_train, y_test = train_test_split(\n",
    "        digits.data, digits.target, test_size=0.2, random_state=42\n",
    "    )\n",
    "    return X_train, X_test, y_train, y_test\n",
    "\n",
    "X_train, X_test, y_train, y_test = load_data()\n"
   ]
  },
  {
   "cell_type": "markdown",
   "metadata": {},
   "source": [
    "**OPTIMIZATIONS**"
   ]
  },
  {
   "cell_type": "markdown",
   "metadata": {},
   "source": [
    "**Grid Search**"
   ]
  },
  {
   "cell_type": "code",
   "execution_count": 27,
   "metadata": {},
   "outputs": [],
   "source": [
    "def grid_search(trial):\n",
    "    n_estimators = trial.suggest_categorical(\"n_estimators\", [50, 100, 200])\n",
    "    max_depth = trial.suggest_categorical(\"max_depth\", [None, 10, 20])\n",
    "    min_samples_split = trial.suggest_categorical(\"min_samples_split\", [2, 5, 10])\n",
    "    \n",
    "    clf = RandomForestClassifier(\n",
    "        n_estimators=n_estimators, max_depth=max_depth, min_samples_split=min_samples_split, random_state=42\n",
    "    )\n",
    "    return np.mean(cross_val_score(clf, X_train, y_train, cv=3, n_jobs=-1))"
   ]
  },
  {
   "cell_type": "markdown",
   "metadata": {},
   "source": [
    "**Random Search**"
   ]
  },
  {
   "cell_type": "code",
   "execution_count": 28,
   "metadata": {},
   "outputs": [],
   "source": [
    "def random_search(trial):\n",
    "    n_estimators = trial.suggest_int(\"n_estimators\", 50, 200, step=50)\n",
    "    max_depth = trial.suggest_categorical(\"max_depth\", [None, 10, 20])\n",
    "    min_samples_split = trial.suggest_int(\"min_samples_split\", 2, 10, step=3)\n",
    "    \n",
    "    clf = RandomForestClassifier(\n",
    "        n_estimators=n_estimators, max_depth=max_depth, min_samples_split=min_samples_split, random_state=42\n",
    "    )\n",
    "    return np.mean(cross_val_score(clf, X_train, y_train, cv=3, n_jobs=-1))"
   ]
  },
  {
   "cell_type": "markdown",
   "metadata": {},
   "source": [
    "**Bayesian Search**"
   ]
  },
  {
   "cell_type": "code",
   "execution_count": 29,
   "metadata": {},
   "outputs": [],
   "source": [
    "def bayesian_search(trial):\n",
    "    n_estimators = trial.suggest_int(\"n_estimators\", 50, 200, step=50)\n",
    "    max_depth = trial.suggest_categorical(\"max_depth\", [None, 10, 20])\n",
    "    min_samples_split = trial.suggest_int(\"min_samples_split\", 2, 10, step=3)\n",
    "    \n",
    "    clf = RandomForestClassifier(\n",
    "        n_estimators=n_estimators, max_depth=max_depth, min_samples_split=min_samples_split, random_state=42\n",
    "    )\n",
    "    return np.mean(cross_val_score(clf, X_train, y_train, cv=3, n_jobs=-1))"
   ]
  },
  {
   "cell_type": "markdown",
   "metadata": {},
   "source": [
    "**Base model**"
   ]
  },
  {
   "cell_type": "code",
   "execution_count": 30,
   "metadata": {},
   "outputs": [],
   "source": [
    "def baseline_model():\n",
    "    clf = RandomForestClassifier(random_state=42)\n",
    "    return np.mean(cross_val_score(clf, X_train, y_train, cv=3, n_jobs=-1))"
   ]
  },
  {
   "cell_type": "markdown",
   "metadata": {},
   "source": [
    "**Run the optimizations**"
   ]
  },
  {
   "cell_type": "code",
   "execution_count": 31,
   "metadata": {},
   "outputs": [],
   "source": [
    "def run_optimization():\n",
    "    global X_train, X_test, y_train, y_test\n",
    "    X_train, X_test, y_train, y_test = load_data()\n",
    "    \n",
    "    studies = {}\n",
    "    execution_times = {}\n",
    "    \n",
    "    print(\"Running Baseline Model...\")\n",
    "    start_time = time.time()\n",
    "    baseline_accuracy = baseline_model()\n",
    "    end_time = time.time()\n",
    "    baseline_time = end_time - start_time\n",
    "    print(f\"Baseline Model Accuracy: {baseline_accuracy:.4f}, Time: {baseline_time:.2f}s\")\n",
    "    \n",
    "    execution_times[\"Baseline\"] = baseline_time\n",
    "    \n",
    "    for name, objective in zip([\"Grid search\", \"Random search\", \"Bayesian search\"], \n",
    "                               [grid_search, random_search, bayesian_search]):\n",
    "        print(f\"Running {name} Optimization...\")\n",
    "        study = optuna.create_study(direction=\"maximize\")\n",
    "        start_time = time.time()\n",
    "        study.optimize(objective, n_trials=50)\n",
    "        end_time = time.time()\n",
    "        execution_time = end_time - start_time\n",
    "        print(f\"Best Parameters ({name}): {study.best_params}, Time: {execution_time:.2f}s\")\n",
    "        studies[name] = study\n",
    "        execution_times[name] = execution_time\n",
    "    \n",
    "    return studies, execution_times\n"
   ]
  },
  {
   "cell_type": "markdown",
   "metadata": {},
   "source": [
    "**List of Searches for the plotting**"
   ]
  },
  {
   "cell_type": "code",
   "execution_count": 32,
   "metadata": {},
   "outputs": [
    {
     "name": "stderr",
     "output_type": "stream",
     "text": [
      "[I 2025-03-28 23:14:38,861] A new study created in memory with name: no-name-29c68e3c-5a43-4f7b-b825-0bc58d744f95\n",
      "[I 2025-03-28 23:14:38,864] A new study created in memory with name: no-name-e4c834d9-2793-48a9-8c26-d7b68fb2ec87\n",
      "[I 2025-03-28 23:14:38,866] A new study created in memory with name: no-name-6612b7ef-5b91-4e49-b038-6b782fe4ac3d\n"
     ]
    }
   ],
   "source": [
    "execution_times = {}\n",
    "\n",
    "# Run the optimization and get the studies and execution times and set the seed to ensure reproducibility\n",
    "studies = {\n",
    "    \"grid\": optuna.create_study(direction=\"maximize\", sampler=optuna.samplers.TPESampler(seed=42)),\n",
    "    \"random\": optuna.create_study(direction=\"maximize\", sampler=optuna.samplers.TPESampler(seed=42)),\n",
    "    \"bayesian\": optuna.create_study(direction=\"maximize\", sampler=optuna.samplers.TPESampler(seed=42)),\n",
    "}\n",
    "\n",
    "for name, study in studies.items():\n",
    "    study.study_name = name"
   ]
  },
  {
   "cell_type": "markdown",
   "metadata": {},
   "source": [
    "**Plotting**"
   ]
  },
  {
   "cell_type": "code",
   "execution_count": 33,
   "metadata": {},
   "outputs": [
    {
     "name": "stdout",
     "output_type": "stream",
     "text": [
      "Running Baseline Model...\n"
     ]
    },
    {
     "name": "stderr",
     "output_type": "stream",
     "text": [
      "[I 2025-03-28 23:14:39,199] A new study created in memory with name: no-name-303228ec-013d-4259-80d9-489957e10d90\n"
     ]
    },
    {
     "name": "stdout",
     "output_type": "stream",
     "text": [
      "Baseline Model Accuracy: 0.9701, Time: 0.30s\n",
      "Running Grid search Optimization...\n"
     ]
    },
    {
     "name": "stderr",
     "output_type": "stream",
     "text": [
      "[I 2025-03-28 23:14:39,687] Trial 0 finished with value: 0.9728601252609604 and parameters: {'n_estimators': 200, 'max_depth': 10, 'min_samples_split': 2}. Best is trial 0 with value: 0.9728601252609604.\n",
      "[I 2025-03-28 23:14:40,195] Trial 1 finished with value: 0.9686847599164926 and parameters: {'n_estimators': 200, 'max_depth': None, 'min_samples_split': 2}. Best is trial 0 with value: 0.9728601252609604.\n",
      "[I 2025-03-28 23:14:40,319] Trial 2 finished with value: 0.9610299234516354 and parameters: {'n_estimators': 50, 'max_depth': 10, 'min_samples_split': 10}. Best is trial 0 with value: 0.9728601252609604.\n",
      "[I 2025-03-28 23:14:40,566] Trial 3 finished with value: 0.9659011830201809 and parameters: {'n_estimators': 100, 'max_depth': None, 'min_samples_split': 5}. Best is trial 0 with value: 0.9728601252609604.\n",
      "[I 2025-03-28 23:14:41,046] Trial 4 finished with value: 0.964509394572025 and parameters: {'n_estimators': 200, 'max_depth': 20, 'min_samples_split': 5}. Best is trial 0 with value: 0.9728601252609604.\n",
      "[I 2025-03-28 23:14:41,172] Trial 5 finished with value: 0.9540709812108559 and parameters: {'n_estimators': 50, 'max_depth': 20, 'min_samples_split': 10}. Best is trial 0 with value: 0.9728601252609604.\n",
      "[I 2025-03-28 23:14:41,675] Trial 6 finished with value: 0.9686847599164926 and parameters: {'n_estimators': 200, 'max_depth': None, 'min_samples_split': 2}. Best is trial 0 with value: 0.9728601252609604.\n",
      "[I 2025-03-28 23:14:41,921] Trial 7 finished with value: 0.9707724425887264 and parameters: {'n_estimators': 100, 'max_depth': 10, 'min_samples_split': 2}. Best is trial 0 with value: 0.9728601252609604.\n",
      "[I 2025-03-28 23:14:42,364] Trial 8 finished with value: 0.9575504523312456 and parameters: {'n_estimators': 200, 'max_depth': 20, 'min_samples_split': 10}. Best is trial 0 with value: 0.9728601252609604.\n",
      "[I 2025-03-28 23:14:42,619] Trial 9 finished with value: 0.9700765483646486 and parameters: {'n_estimators': 100, 'max_depth': None, 'min_samples_split': 2}. Best is trial 0 with value: 0.9728601252609604.\n",
      "[I 2025-03-28 23:14:43,075] Trial 10 finished with value: 0.9728601252609604 and parameters: {'n_estimators': 200, 'max_depth': 10, 'min_samples_split': 2}. Best is trial 0 with value: 0.9728601252609604.\n",
      "[I 2025-03-28 23:14:43,553] Trial 11 finished with value: 0.9728601252609604 and parameters: {'n_estimators': 200, 'max_depth': 10, 'min_samples_split': 2}. Best is trial 0 with value: 0.9728601252609604.\n",
      "[I 2025-03-28 23:14:44,029] Trial 12 finished with value: 0.9728601252609604 and parameters: {'n_estimators': 200, 'max_depth': 10, 'min_samples_split': 2}. Best is trial 0 with value: 0.9728601252609604.\n",
      "[I 2025-03-28 23:14:44,516] Trial 13 finished with value: 0.9728601252609604 and parameters: {'n_estimators': 200, 'max_depth': 10, 'min_samples_split': 2}. Best is trial 0 with value: 0.9728601252609604.\n",
      "[I 2025-03-28 23:14:44,984] Trial 14 finished with value: 0.9728601252609604 and parameters: {'n_estimators': 200, 'max_depth': 10, 'min_samples_split': 2}. Best is trial 0 with value: 0.9728601252609604.\n",
      "[I 2025-03-28 23:14:45,128] Trial 15 finished with value: 0.9589422407794016 and parameters: {'n_estimators': 50, 'max_depth': 10, 'min_samples_split': 5}. Best is trial 0 with value: 0.9728601252609604.\n",
      "[I 2025-03-28 23:14:45,622] Trial 16 finished with value: 0.9728601252609604 and parameters: {'n_estimators': 200, 'max_depth': 10, 'min_samples_split': 2}. Best is trial 0 with value: 0.9728601252609604.\n",
      "[I 2025-03-28 23:14:46,078] Trial 17 finished with value: 0.9728601252609604 and parameters: {'n_estimators': 200, 'max_depth': 10, 'min_samples_split': 2}. Best is trial 0 with value: 0.9728601252609604.\n",
      "[I 2025-03-28 23:14:46,323] Trial 18 finished with value: 0.9610299234516354 and parameters: {'n_estimators': 100, 'max_depth': 10, 'min_samples_split': 10}. Best is trial 0 with value: 0.9728601252609604.\n",
      "[I 2025-03-28 23:14:46,449] Trial 19 finished with value: 0.9631176061238692 and parameters: {'n_estimators': 50, 'max_depth': 20, 'min_samples_split': 5}. Best is trial 0 with value: 0.9728601252609604.\n",
      "[I 2025-03-28 23:14:46,927] Trial 20 finished with value: 0.9728601252609604 and parameters: {'n_estimators': 200, 'max_depth': 10, 'min_samples_split': 2}. Best is trial 0 with value: 0.9728601252609604.\n",
      "[I 2025-03-28 23:14:47,404] Trial 21 finished with value: 0.9728601252609604 and parameters: {'n_estimators': 200, 'max_depth': 10, 'min_samples_split': 2}. Best is trial 0 with value: 0.9728601252609604.\n",
      "[I 2025-03-28 23:14:47,871] Trial 22 finished with value: 0.9728601252609604 and parameters: {'n_estimators': 200, 'max_depth': 10, 'min_samples_split': 2}. Best is trial 0 with value: 0.9728601252609604.\n",
      "[I 2025-03-28 23:14:48,348] Trial 23 finished with value: 0.9728601252609604 and parameters: {'n_estimators': 200, 'max_depth': 10, 'min_samples_split': 2}. Best is trial 0 with value: 0.9728601252609604.\n",
      "[I 2025-03-28 23:14:48,824] Trial 24 finished with value: 0.9728601252609604 and parameters: {'n_estimators': 200, 'max_depth': 10, 'min_samples_split': 2}. Best is trial 0 with value: 0.9728601252609604.\n",
      "[I 2025-03-28 23:14:49,322] Trial 25 finished with value: 0.9728601252609604 and parameters: {'n_estimators': 200, 'max_depth': 10, 'min_samples_split': 2}. Best is trial 0 with value: 0.9728601252609604.\n",
      "[I 2025-03-28 23:14:49,808] Trial 26 finished with value: 0.9728601252609604 and parameters: {'n_estimators': 200, 'max_depth': 10, 'min_samples_split': 2}. Best is trial 0 with value: 0.9728601252609604.\n",
      "[I 2025-03-28 23:14:50,418] Trial 27 finished with value: 0.9728601252609604 and parameters: {'n_estimators': 200, 'max_depth': 10, 'min_samples_split': 2}. Best is trial 0 with value: 0.9728601252609604.\n",
      "[I 2025-03-28 23:14:50,558] Trial 28 finished with value: 0.9631176061238692 and parameters: {'n_estimators': 50, 'max_depth': 20, 'min_samples_split': 5}. Best is trial 0 with value: 0.9728601252609604.\n",
      "[I 2025-03-28 23:14:50,858] Trial 29 finished with value: 0.9561586638830897 and parameters: {'n_estimators': 100, 'max_depth': None, 'min_samples_split': 10}. Best is trial 0 with value: 0.9728601252609604.\n",
      "[I 2025-03-28 23:14:51,548] Trial 30 finished with value: 0.9686847599164926 and parameters: {'n_estimators': 200, 'max_depth': None, 'min_samples_split': 2}. Best is trial 0 with value: 0.9728601252609604.\n",
      "[I 2025-03-28 23:14:52,256] Trial 31 finished with value: 0.9728601252609604 and parameters: {'n_estimators': 200, 'max_depth': 10, 'min_samples_split': 2}. Best is trial 0 with value: 0.9728601252609604.\n",
      "[I 2025-03-28 23:14:52,823] Trial 32 finished with value: 0.9728601252609604 and parameters: {'n_estimators': 200, 'max_depth': 10, 'min_samples_split': 2}. Best is trial 0 with value: 0.9728601252609604.\n",
      "[I 2025-03-28 23:14:53,333] Trial 33 finished with value: 0.9728601252609604 and parameters: {'n_estimators': 200, 'max_depth': 10, 'min_samples_split': 2}. Best is trial 0 with value: 0.9728601252609604.\n",
      "[I 2025-03-28 23:14:53,834] Trial 34 finished with value: 0.9728601252609604 and parameters: {'n_estimators': 200, 'max_depth': 10, 'min_samples_split': 2}. Best is trial 0 with value: 0.9728601252609604.\n",
      "[I 2025-03-28 23:14:54,311] Trial 35 finished with value: 0.964509394572025 and parameters: {'n_estimators': 200, 'max_depth': 10, 'min_samples_split': 5}. Best is trial 0 with value: 0.9728601252609604.\n",
      "[I 2025-03-28 23:14:54,449] Trial 36 finished with value: 0.9610299234516354 and parameters: {'n_estimators': 50, 'max_depth': 10, 'min_samples_split': 10}. Best is trial 0 with value: 0.9728601252609604.\n",
      "[I 2025-03-28 23:14:54,947] Trial 37 finished with value: 0.9686847599164926 and parameters: {'n_estimators': 200, 'max_depth': 20, 'min_samples_split': 2}. Best is trial 0 with value: 0.9728601252609604.\n",
      "[I 2025-03-28 23:14:55,223] Trial 38 finished with value: 0.9700765483646486 and parameters: {'n_estimators': 100, 'max_depth': None, 'min_samples_split': 2}. Best is trial 0 with value: 0.9728601252609604.\n",
      "[I 2025-03-28 23:14:55,713] Trial 39 finished with value: 0.9624217118997912 and parameters: {'n_estimators': 200, 'max_depth': 10, 'min_samples_split': 10}. Best is trial 0 with value: 0.9728601252609604.\n",
      "[I 2025-03-28 23:14:56,232] Trial 40 finished with value: 0.9686847599164926 and parameters: {'n_estimators': 200, 'max_depth': 20, 'min_samples_split': 2}. Best is trial 0 with value: 0.9728601252609604.\n",
      "[I 2025-03-28 23:14:56,744] Trial 41 finished with value: 0.9728601252609604 and parameters: {'n_estimators': 200, 'max_depth': 10, 'min_samples_split': 2}. Best is trial 0 with value: 0.9728601252609604.\n",
      "[I 2025-03-28 23:14:57,241] Trial 42 finished with value: 0.9728601252609604 and parameters: {'n_estimators': 200, 'max_depth': 10, 'min_samples_split': 2}. Best is trial 0 with value: 0.9728601252609604.\n",
      "[I 2025-03-28 23:14:57,774] Trial 43 finished with value: 0.9728601252609604 and parameters: {'n_estimators': 200, 'max_depth': 10, 'min_samples_split': 2}. Best is trial 0 with value: 0.9728601252609604.\n",
      "[I 2025-03-28 23:14:58,284] Trial 44 finished with value: 0.9728601252609604 and parameters: {'n_estimators': 200, 'max_depth': 10, 'min_samples_split': 2}. Best is trial 0 with value: 0.9728601252609604.\n",
      "[I 2025-03-28 23:14:58,439] Trial 45 finished with value: 0.965205288796103 and parameters: {'n_estimators': 50, 'max_depth': 10, 'min_samples_split': 2}. Best is trial 0 with value: 0.9728601252609604.\n",
      "[I 2025-03-28 23:14:58,697] Trial 46 finished with value: 0.9659011830201809 and parameters: {'n_estimators': 100, 'max_depth': None, 'min_samples_split': 5}. Best is trial 0 with value: 0.9728601252609604.\n",
      "[I 2025-03-28 23:14:59,197] Trial 47 finished with value: 0.9728601252609604 and parameters: {'n_estimators': 200, 'max_depth': 10, 'min_samples_split': 2}. Best is trial 0 with value: 0.9728601252609604.\n",
      "[I 2025-03-28 23:14:59,730] Trial 48 finished with value: 0.9728601252609604 and parameters: {'n_estimators': 200, 'max_depth': 10, 'min_samples_split': 2}. Best is trial 0 with value: 0.9728601252609604.\n",
      "[I 2025-03-28 23:15:00,262] Trial 49 finished with value: 0.9624217118997912 and parameters: {'n_estimators': 200, 'max_depth': 10, 'min_samples_split': 10}. Best is trial 0 with value: 0.9728601252609604.\n",
      "[I 2025-03-28 23:15:00,263] A new study created in memory with name: no-name-33605754-1361-4a21-be47-3ada241d913b\n",
      "c:\\Users\\901219015\\Desktop\\UNI\\Master\\Spring_Semester\\Optimization_for_ML\\venv\\Lib\\site-packages\\optuna\\distributions.py:699: UserWarning:\n",
      "\n",
      "The distribution is specified by [2, 10] and step=3, but the range is not divisible by `step`. It will be replaced by [2, 8].\n",
      "\n"
     ]
    },
    {
     "name": "stdout",
     "output_type": "stream",
     "text": [
      "Best Parameters (Grid search): {'n_estimators': 200, 'max_depth': 10, 'min_samples_split': 2}, Time: 21.06s\n",
      "Running Random search Optimization...\n"
     ]
    },
    {
     "name": "stderr",
     "output_type": "stream",
     "text": [
      "[I 2025-03-28 23:15:00,674] Trial 0 finished with value: 0.965205288796103 and parameters: {'n_estimators': 150, 'max_depth': 10, 'min_samples_split': 5}. Best is trial 0 with value: 0.965205288796103.\n",
      "c:\\Users\\901219015\\Desktop\\UNI\\Master\\Spring_Semester\\Optimization_for_ML\\venv\\Lib\\site-packages\\optuna\\distributions.py:699: UserWarning:\n",
      "\n",
      "The distribution is specified by [2, 10] and step=3, but the range is not divisible by `step`. It will be replaced by [2, 8].\n",
      "\n",
      "[I 2025-03-28 23:15:01,074] Trial 1 finished with value: 0.9631176061238692 and parameters: {'n_estimators': 150, 'max_depth': 20, 'min_samples_split': 5}. Best is trial 0 with value: 0.965205288796103.\n",
      "c:\\Users\\901219015\\Desktop\\UNI\\Master\\Spring_Semester\\Optimization_for_ML\\venv\\Lib\\site-packages\\optuna\\distributions.py:699: UserWarning:\n",
      "\n",
      "The distribution is specified by [2, 10] and step=3, but the range is not divisible by `step`. It will be replaced by [2, 8].\n",
      "\n",
      "[I 2025-03-28 23:15:01,210] Trial 2 finished with value: 0.9617258176757133 and parameters: {'n_estimators': 50, 'max_depth': 20, 'min_samples_split': 8}. Best is trial 0 with value: 0.965205288796103.\n",
      "c:\\Users\\901219015\\Desktop\\UNI\\Master\\Spring_Semester\\Optimization_for_ML\\venv\\Lib\\site-packages\\optuna\\distributions.py:699: UserWarning:\n",
      "\n",
      "The distribution is specified by [2, 10] and step=3, but the range is not divisible by `step`. It will be replaced by [2, 8].\n",
      "\n",
      "[I 2025-03-28 23:15:01,478] Trial 3 finished with value: 0.9631176061238692 and parameters: {'n_estimators': 100, 'max_depth': None, 'min_samples_split': 8}. Best is trial 0 with value: 0.965205288796103.\n",
      "c:\\Users\\901219015\\Desktop\\UNI\\Master\\Spring_Semester\\Optimization_for_ML\\venv\\Lib\\site-packages\\optuna\\distributions.py:699: UserWarning:\n",
      "\n",
      "The distribution is specified by [2, 10] and step=3, but the range is not divisible by `step`. It will be replaced by [2, 8].\n",
      "\n",
      "[I 2025-03-28 23:15:01,734] Trial 4 finished with value: 0.9617258176757133 and parameters: {'n_estimators': 100, 'max_depth': 10, 'min_samples_split': 8}. Best is trial 0 with value: 0.965205288796103.\n",
      "c:\\Users\\901219015\\Desktop\\UNI\\Master\\Spring_Semester\\Optimization_for_ML\\venv\\Lib\\site-packages\\optuna\\distributions.py:699: UserWarning:\n",
      "\n",
      "The distribution is specified by [2, 10] and step=3, but the range is not divisible by `step`. It will be replaced by [2, 8].\n",
      "\n",
      "[I 2025-03-28 23:15:01,871] Trial 5 finished with value: 0.9589422407794016 and parameters: {'n_estimators': 50, 'max_depth': 10, 'min_samples_split': 5}. Best is trial 0 with value: 0.965205288796103.\n",
      "c:\\Users\\901219015\\Desktop\\UNI\\Master\\Spring_Semester\\Optimization_for_ML\\venv\\Lib\\site-packages\\optuna\\distributions.py:699: UserWarning:\n",
      "\n",
      "The distribution is specified by [2, 10] and step=3, but the range is not divisible by `step`. It will be replaced by [2, 8].\n",
      "\n",
      "[I 2025-03-28 23:15:02,261] Trial 6 finished with value: 0.9624217118997912 and parameters: {'n_estimators': 150, 'max_depth': None, 'min_samples_split': 8}. Best is trial 0 with value: 0.965205288796103.\n",
      "c:\\Users\\901219015\\Desktop\\UNI\\Master\\Spring_Semester\\Optimization_for_ML\\venv\\Lib\\site-packages\\optuna\\distributions.py:699: UserWarning:\n",
      "\n",
      "The distribution is specified by [2, 10] and step=3, but the range is not divisible by `step`. It will be replaced by [2, 8].\n",
      "\n",
      "[I 2025-03-28 23:15:02,637] Trial 7 finished with value: 0.9582463465553236 and parameters: {'n_estimators': 150, 'max_depth': 10, 'min_samples_split': 8}. Best is trial 0 with value: 0.965205288796103.\n",
      "c:\\Users\\901219015\\Desktop\\UNI\\Master\\Spring_Semester\\Optimization_for_ML\\venv\\Lib\\site-packages\\optuna\\distributions.py:699: UserWarning:\n",
      "\n",
      "The distribution is specified by [2, 10] and step=3, but the range is not divisible by `step`. It will be replaced by [2, 8].\n",
      "\n",
      "[I 2025-03-28 23:15:03,025] Trial 8 finished with value: 0.9665970772442588 and parameters: {'n_estimators': 150, 'max_depth': 20, 'min_samples_split': 2}. Best is trial 8 with value: 0.9665970772442588.\n",
      "c:\\Users\\901219015\\Desktop\\UNI\\Master\\Spring_Semester\\Optimization_for_ML\\venv\\Lib\\site-packages\\optuna\\distributions.py:699: UserWarning:\n",
      "\n",
      "The distribution is specified by [2, 10] and step=3, but the range is not divisible by `step`. It will be replaced by [2, 8].\n",
      "\n",
      "[I 2025-03-28 23:15:03,162] Trial 9 finished with value: 0.9561586638830898 and parameters: {'n_estimators': 50, 'max_depth': 10, 'min_samples_split': 8}. Best is trial 8 with value: 0.9665970772442588.\n",
      "c:\\Users\\901219015\\Desktop\\UNI\\Master\\Spring_Semester\\Optimization_for_ML\\venv\\Lib\\site-packages\\optuna\\distributions.py:699: UserWarning:\n",
      "\n",
      "The distribution is specified by [2, 10] and step=3, but the range is not divisible by `step`. It will be replaced by [2, 8].\n",
      "\n",
      "[I 2025-03-28 23:15:03,687] Trial 10 finished with value: 0.9686847599164926 and parameters: {'n_estimators': 200, 'max_depth': 20, 'min_samples_split': 2}. Best is trial 10 with value: 0.9686847599164926.\n",
      "c:\\Users\\901219015\\Desktop\\UNI\\Master\\Spring_Semester\\Optimization_for_ML\\venv\\Lib\\site-packages\\optuna\\distributions.py:699: UserWarning:\n",
      "\n",
      "The distribution is specified by [2, 10] and step=3, but the range is not divisible by `step`. It will be replaced by [2, 8].\n",
      "\n",
      "[I 2025-03-28 23:15:04,216] Trial 11 finished with value: 0.9686847599164926 and parameters: {'n_estimators': 200, 'max_depth': 20, 'min_samples_split': 2}. Best is trial 10 with value: 0.9686847599164926.\n",
      "c:\\Users\\901219015\\Desktop\\UNI\\Master\\Spring_Semester\\Optimization_for_ML\\venv\\Lib\\site-packages\\optuna\\distributions.py:699: UserWarning:\n",
      "\n",
      "The distribution is specified by [2, 10] and step=3, but the range is not divisible by `step`. It will be replaced by [2, 8].\n",
      "\n",
      "[I 2025-03-28 23:15:04,733] Trial 12 finished with value: 0.9686847599164926 and parameters: {'n_estimators': 200, 'max_depth': 20, 'min_samples_split': 2}. Best is trial 10 with value: 0.9686847599164926.\n",
      "c:\\Users\\901219015\\Desktop\\UNI\\Master\\Spring_Semester\\Optimization_for_ML\\venv\\Lib\\site-packages\\optuna\\distributions.py:699: UserWarning:\n",
      "\n",
      "The distribution is specified by [2, 10] and step=3, but the range is not divisible by `step`. It will be replaced by [2, 8].\n",
      "\n",
      "[I 2025-03-28 23:15:05,247] Trial 13 finished with value: 0.9686847599164926 and parameters: {'n_estimators': 200, 'max_depth': 20, 'min_samples_split': 2}. Best is trial 10 with value: 0.9686847599164926.\n",
      "c:\\Users\\901219015\\Desktop\\UNI\\Master\\Spring_Semester\\Optimization_for_ML\\venv\\Lib\\site-packages\\optuna\\distributions.py:699: UserWarning:\n",
      "\n",
      "The distribution is specified by [2, 10] and step=3, but the range is not divisible by `step`. It will be replaced by [2, 8].\n",
      "\n",
      "[I 2025-03-28 23:15:05,762] Trial 14 finished with value: 0.9686847599164926 and parameters: {'n_estimators': 200, 'max_depth': 20, 'min_samples_split': 2}. Best is trial 10 with value: 0.9686847599164926.\n",
      "c:\\Users\\901219015\\Desktop\\UNI\\Master\\Spring_Semester\\Optimization_for_ML\\venv\\Lib\\site-packages\\optuna\\distributions.py:699: UserWarning:\n",
      "\n",
      "The distribution is specified by [2, 10] and step=3, but the range is not divisible by `step`. It will be replaced by [2, 8].\n",
      "\n",
      "[I 2025-03-28 23:15:06,279] Trial 15 finished with value: 0.9686847599164926 and parameters: {'n_estimators': 200, 'max_depth': 20, 'min_samples_split': 2}. Best is trial 10 with value: 0.9686847599164926.\n",
      "c:\\Users\\901219015\\Desktop\\UNI\\Master\\Spring_Semester\\Optimization_for_ML\\venv\\Lib\\site-packages\\optuna\\distributions.py:699: UserWarning:\n",
      "\n",
      "The distribution is specified by [2, 10] and step=3, but the range is not divisible by `step`. It will be replaced by [2, 8].\n",
      "\n",
      "[I 2025-03-28 23:15:06,805] Trial 16 finished with value: 0.9686847599164926 and parameters: {'n_estimators': 200, 'max_depth': 20, 'min_samples_split': 2}. Best is trial 10 with value: 0.9686847599164926.\n",
      "c:\\Users\\901219015\\Desktop\\UNI\\Master\\Spring_Semester\\Optimization_for_ML\\venv\\Lib\\site-packages\\optuna\\distributions.py:699: UserWarning:\n",
      "\n",
      "The distribution is specified by [2, 10] and step=3, but the range is not divisible by `step`. It will be replaced by [2, 8].\n",
      "\n",
      "[I 2025-03-28 23:15:07,301] Trial 17 finished with value: 0.964509394572025 and parameters: {'n_estimators': 200, 'max_depth': None, 'min_samples_split': 5}. Best is trial 10 with value: 0.9686847599164926.\n",
      "c:\\Users\\901219015\\Desktop\\UNI\\Master\\Spring_Semester\\Optimization_for_ML\\venv\\Lib\\site-packages\\optuna\\distributions.py:699: UserWarning:\n",
      "\n",
      "The distribution is specified by [2, 10] and step=3, but the range is not divisible by `step`. It will be replaced by [2, 8].\n",
      "\n",
      "[I 2025-03-28 23:15:07,587] Trial 18 finished with value: 0.9700765483646486 and parameters: {'n_estimators': 100, 'max_depth': 20, 'min_samples_split': 2}. Best is trial 18 with value: 0.9700765483646486.\n",
      "c:\\Users\\901219015\\Desktop\\UNI\\Master\\Spring_Semester\\Optimization_for_ML\\venv\\Lib\\site-packages\\optuna\\distributions.py:699: UserWarning:\n",
      "\n",
      "The distribution is specified by [2, 10] and step=3, but the range is not divisible by `step`. It will be replaced by [2, 8].\n",
      "\n",
      "[I 2025-03-28 23:15:07,887] Trial 19 finished with value: 0.9659011830201809 and parameters: {'n_estimators': 100, 'max_depth': 20, 'min_samples_split': 5}. Best is trial 18 with value: 0.9700765483646486.\n",
      "c:\\Users\\901219015\\Desktop\\UNI\\Master\\Spring_Semester\\Optimization_for_ML\\venv\\Lib\\site-packages\\optuna\\distributions.py:699: UserWarning:\n",
      "\n",
      "The distribution is specified by [2, 10] and step=3, but the range is not divisible by `step`. It will be replaced by [2, 8].\n",
      "\n",
      "[I 2025-03-28 23:15:08,172] Trial 20 finished with value: 0.9700765483646486 and parameters: {'n_estimators': 100, 'max_depth': None, 'min_samples_split': 2}. Best is trial 18 with value: 0.9700765483646486.\n",
      "c:\\Users\\901219015\\Desktop\\UNI\\Master\\Spring_Semester\\Optimization_for_ML\\venv\\Lib\\site-packages\\optuna\\distributions.py:699: UserWarning:\n",
      "\n",
      "The distribution is specified by [2, 10] and step=3, but the range is not divisible by `step`. It will be replaced by [2, 8].\n",
      "\n",
      "[I 2025-03-28 23:15:08,447] Trial 21 finished with value: 0.9700765483646486 and parameters: {'n_estimators': 100, 'max_depth': None, 'min_samples_split': 2}. Best is trial 18 with value: 0.9700765483646486.\n",
      "c:\\Users\\901219015\\Desktop\\UNI\\Master\\Spring_Semester\\Optimization_for_ML\\venv\\Lib\\site-packages\\optuna\\distributions.py:699: UserWarning:\n",
      "\n",
      "The distribution is specified by [2, 10] and step=3, but the range is not divisible by `step`. It will be replaced by [2, 8].\n",
      "\n",
      "[I 2025-03-28 23:15:08,734] Trial 22 finished with value: 0.9700765483646486 and parameters: {'n_estimators': 100, 'max_depth': None, 'min_samples_split': 2}. Best is trial 18 with value: 0.9700765483646486.\n",
      "c:\\Users\\901219015\\Desktop\\UNI\\Master\\Spring_Semester\\Optimization_for_ML\\venv\\Lib\\site-packages\\optuna\\distributions.py:699: UserWarning:\n",
      "\n",
      "The distribution is specified by [2, 10] and step=3, but the range is not divisible by `step`. It will be replaced by [2, 8].\n",
      "\n",
      "[I 2025-03-28 23:15:08,998] Trial 23 finished with value: 0.9700765483646486 and parameters: {'n_estimators': 100, 'max_depth': None, 'min_samples_split': 2}. Best is trial 18 with value: 0.9700765483646486.\n",
      "c:\\Users\\901219015\\Desktop\\UNI\\Master\\Spring_Semester\\Optimization_for_ML\\venv\\Lib\\site-packages\\optuna\\distributions.py:699: UserWarning:\n",
      "\n",
      "The distribution is specified by [2, 10] and step=3, but the range is not divisible by `step`. It will be replaced by [2, 8].\n",
      "\n",
      "[I 2025-03-28 23:15:09,266] Trial 24 finished with value: 0.9659011830201809 and parameters: {'n_estimators': 100, 'max_depth': None, 'min_samples_split': 5}. Best is trial 18 with value: 0.9700765483646486.\n",
      "c:\\Users\\901219015\\Desktop\\UNI\\Master\\Spring_Semester\\Optimization_for_ML\\venv\\Lib\\site-packages\\optuna\\distributions.py:699: UserWarning:\n",
      "\n",
      "The distribution is specified by [2, 10] and step=3, but the range is not divisible by `step`. It will be replaced by [2, 8].\n",
      "\n",
      "[I 2025-03-28 23:15:09,421] Trial 25 finished with value: 0.9631176061238692 and parameters: {'n_estimators': 50, 'max_depth': None, 'min_samples_split': 2}. Best is trial 18 with value: 0.9700765483646486.\n",
      "c:\\Users\\901219015\\Desktop\\UNI\\Master\\Spring_Semester\\Optimization_for_ML\\venv\\Lib\\site-packages\\optuna\\distributions.py:699: UserWarning:\n",
      "\n",
      "The distribution is specified by [2, 10] and step=3, but the range is not divisible by `step`. It will be replaced by [2, 8].\n",
      "\n",
      "[I 2025-03-28 23:15:09,697] Trial 26 finished with value: 0.9700765483646486 and parameters: {'n_estimators': 100, 'max_depth': None, 'min_samples_split': 2}. Best is trial 18 with value: 0.9700765483646486.\n",
      "c:\\Users\\901219015\\Desktop\\UNI\\Master\\Spring_Semester\\Optimization_for_ML\\venv\\Lib\\site-packages\\optuna\\distributions.py:699: UserWarning:\n",
      "\n",
      "The distribution is specified by [2, 10] and step=3, but the range is not divisible by `step`. It will be replaced by [2, 8].\n",
      "\n",
      "[I 2025-03-28 23:15:09,987] Trial 27 finished with value: 0.9659011830201809 and parameters: {'n_estimators': 100, 'max_depth': None, 'min_samples_split': 5}. Best is trial 18 with value: 0.9700765483646486.\n",
      "c:\\Users\\901219015\\Desktop\\UNI\\Master\\Spring_Semester\\Optimization_for_ML\\venv\\Lib\\site-packages\\optuna\\distributions.py:699: UserWarning:\n",
      "\n",
      "The distribution is specified by [2, 10] and step=3, but the range is not divisible by `step`. It will be replaced by [2, 8].\n",
      "\n",
      "[I 2025-03-28 23:15:10,133] Trial 28 finished with value: 0.9631176061238692 and parameters: {'n_estimators': 50, 'max_depth': None, 'min_samples_split': 2}. Best is trial 18 with value: 0.9700765483646486.\n",
      "c:\\Users\\901219015\\Desktop\\UNI\\Master\\Spring_Semester\\Optimization_for_ML\\venv\\Lib\\site-packages\\optuna\\distributions.py:699: UserWarning:\n",
      "\n",
      "The distribution is specified by [2, 10] and step=3, but the range is not divisible by `step`. It will be replaced by [2, 8].\n",
      "\n",
      "[I 2025-03-28 23:15:10,520] Trial 29 finished with value: 0.9631176061238692 and parameters: {'n_estimators': 150, 'max_depth': None, 'min_samples_split': 5}. Best is trial 18 with value: 0.9700765483646486.\n",
      "c:\\Users\\901219015\\Desktop\\UNI\\Master\\Spring_Semester\\Optimization_for_ML\\venv\\Lib\\site-packages\\optuna\\distributions.py:699: UserWarning:\n",
      "\n",
      "The distribution is specified by [2, 10] and step=3, but the range is not divisible by `step`. It will be replaced by [2, 8].\n",
      "\n",
      "[I 2025-03-28 23:15:10,798] Trial 30 finished with value: 0.9700765483646486 and parameters: {'n_estimators': 100, 'max_depth': None, 'min_samples_split': 2}. Best is trial 18 with value: 0.9700765483646486.\n",
      "c:\\Users\\901219015\\Desktop\\UNI\\Master\\Spring_Semester\\Optimization_for_ML\\venv\\Lib\\site-packages\\optuna\\distributions.py:699: UserWarning:\n",
      "\n",
      "The distribution is specified by [2, 10] and step=3, but the range is not divisible by `step`. It will be replaced by [2, 8].\n",
      "\n",
      "[I 2025-03-28 23:15:11,071] Trial 31 finished with value: 0.9700765483646486 and parameters: {'n_estimators': 100, 'max_depth': None, 'min_samples_split': 2}. Best is trial 18 with value: 0.9700765483646486.\n",
      "c:\\Users\\901219015\\Desktop\\UNI\\Master\\Spring_Semester\\Optimization_for_ML\\venv\\Lib\\site-packages\\optuna\\distributions.py:699: UserWarning:\n",
      "\n",
      "The distribution is specified by [2, 10] and step=3, but the range is not divisible by `step`. It will be replaced by [2, 8].\n",
      "\n",
      "[I 2025-03-28 23:15:11,346] Trial 32 finished with value: 0.9700765483646486 and parameters: {'n_estimators': 100, 'max_depth': None, 'min_samples_split': 2}. Best is trial 18 with value: 0.9700765483646486.\n",
      "c:\\Users\\901219015\\Desktop\\UNI\\Master\\Spring_Semester\\Optimization_for_ML\\venv\\Lib\\site-packages\\optuna\\distributions.py:699: UserWarning:\n",
      "\n",
      "The distribution is specified by [2, 10] and step=3, but the range is not divisible by `step`. It will be replaced by [2, 8].\n",
      "\n",
      "[I 2025-03-28 23:15:11,623] Trial 33 finished with value: 0.9700765483646486 and parameters: {'n_estimators': 100, 'max_depth': None, 'min_samples_split': 2}. Best is trial 18 with value: 0.9700765483646486.\n",
      "c:\\Users\\901219015\\Desktop\\UNI\\Master\\Spring_Semester\\Optimization_for_ML\\venv\\Lib\\site-packages\\optuna\\distributions.py:699: UserWarning:\n",
      "\n",
      "The distribution is specified by [2, 10] and step=3, but the range is not divisible by `step`. It will be replaced by [2, 8].\n",
      "\n",
      "[I 2025-03-28 23:15:12,099] Trial 34 finished with value: 0.9665970772442588 and parameters: {'n_estimators': 150, 'max_depth': None, 'min_samples_split': 2}. Best is trial 18 with value: 0.9700765483646486.\n",
      "c:\\Users\\901219015\\Desktop\\UNI\\Master\\Spring_Semester\\Optimization_for_ML\\venv\\Lib\\site-packages\\optuna\\distributions.py:699: UserWarning:\n",
      "\n",
      "The distribution is specified by [2, 10] and step=3, but the range is not divisible by `step`. It will be replaced by [2, 8].\n",
      "\n",
      "[I 2025-03-28 23:15:12,254] Trial 35 finished with value: 0.9631176061238692 and parameters: {'n_estimators': 50, 'max_depth': None, 'min_samples_split': 2}. Best is trial 18 with value: 0.9700765483646486.\n",
      "c:\\Users\\901219015\\Desktop\\UNI\\Master\\Spring_Semester\\Optimization_for_ML\\venv\\Lib\\site-packages\\optuna\\distributions.py:699: UserWarning:\n",
      "\n",
      "The distribution is specified by [2, 10] and step=3, but the range is not divisible by `step`. It will be replaced by [2, 8].\n",
      "\n",
      "[I 2025-03-28 23:15:12,516] Trial 36 finished with value: 0.9707724425887264 and parameters: {'n_estimators': 100, 'max_depth': 10, 'min_samples_split': 2}. Best is trial 36 with value: 0.9707724425887264.\n",
      "c:\\Users\\901219015\\Desktop\\UNI\\Master\\Spring_Semester\\Optimization_for_ML\\venv\\Lib\\site-packages\\optuna\\distributions.py:699: UserWarning:\n",
      "\n",
      "The distribution is specified by [2, 10] and step=3, but the range is not divisible by `step`. It will be replaced by [2, 8].\n",
      "\n",
      "[I 2025-03-28 23:15:12,770] Trial 37 finished with value: 0.9638135003479471 and parameters: {'n_estimators': 100, 'max_depth': 10, 'min_samples_split': 5}. Best is trial 36 with value: 0.9707724425887264.\n",
      "c:\\Users\\901219015\\Desktop\\UNI\\Master\\Spring_Semester\\Optimization_for_ML\\venv\\Lib\\site-packages\\optuna\\distributions.py:699: UserWarning:\n",
      "\n",
      "The distribution is specified by [2, 10] and step=3, but the range is not divisible by `step`. It will be replaced by [2, 8].\n",
      "\n",
      "[I 2025-03-28 23:15:13,178] Trial 38 finished with value: 0.9700765483646485 and parameters: {'n_estimators': 150, 'max_depth': 10, 'min_samples_split': 2}. Best is trial 36 with value: 0.9707724425887264.\n",
      "c:\\Users\\901219015\\Desktop\\UNI\\Master\\Spring_Semester\\Optimization_for_ML\\venv\\Lib\\site-packages\\optuna\\distributions.py:699: UserWarning:\n",
      "\n",
      "The distribution is specified by [2, 10] and step=3, but the range is not divisible by `step`. It will be replaced by [2, 8].\n",
      "\n",
      "[I 2025-03-28 23:15:13,321] Trial 39 finished with value: 0.9589422407794016 and parameters: {'n_estimators': 50, 'max_depth': 10, 'min_samples_split': 5}. Best is trial 36 with value: 0.9707724425887264.\n",
      "c:\\Users\\901219015\\Desktop\\UNI\\Master\\Spring_Semester\\Optimization_for_ML\\venv\\Lib\\site-packages\\optuna\\distributions.py:699: UserWarning:\n",
      "\n",
      "The distribution is specified by [2, 10] and step=3, but the range is not divisible by `step`. It will be replaced by [2, 8].\n",
      "\n",
      "[I 2025-03-28 23:15:13,595] Trial 40 finished with value: 0.9707724425887264 and parameters: {'n_estimators': 100, 'max_depth': 10, 'min_samples_split': 2}. Best is trial 36 with value: 0.9707724425887264.\n",
      "c:\\Users\\901219015\\Desktop\\UNI\\Master\\Spring_Semester\\Optimization_for_ML\\venv\\Lib\\site-packages\\optuna\\distributions.py:699: UserWarning:\n",
      "\n",
      "The distribution is specified by [2, 10] and step=3, but the range is not divisible by `step`. It will be replaced by [2, 8].\n",
      "\n",
      "[I 2025-03-28 23:15:13,860] Trial 41 finished with value: 0.9707724425887264 and parameters: {'n_estimators': 100, 'max_depth': 10, 'min_samples_split': 2}. Best is trial 36 with value: 0.9707724425887264.\n",
      "c:\\Users\\901219015\\Desktop\\UNI\\Master\\Spring_Semester\\Optimization_for_ML\\venv\\Lib\\site-packages\\optuna\\distributions.py:699: UserWarning:\n",
      "\n",
      "The distribution is specified by [2, 10] and step=3, but the range is not divisible by `step`. It will be replaced by [2, 8].\n",
      "\n",
      "[I 2025-03-28 23:15:14,144] Trial 42 finished with value: 0.9707724425887264 and parameters: {'n_estimators': 100, 'max_depth': 10, 'min_samples_split': 2}. Best is trial 36 with value: 0.9707724425887264.\n",
      "c:\\Users\\901219015\\Desktop\\UNI\\Master\\Spring_Semester\\Optimization_for_ML\\venv\\Lib\\site-packages\\optuna\\distributions.py:699: UserWarning:\n",
      "\n",
      "The distribution is specified by [2, 10] and step=3, but the range is not divisible by `step`. It will be replaced by [2, 8].\n",
      "\n",
      "[I 2025-03-28 23:15:14,408] Trial 43 finished with value: 0.9707724425887264 and parameters: {'n_estimators': 100, 'max_depth': 10, 'min_samples_split': 2}. Best is trial 36 with value: 0.9707724425887264.\n",
      "c:\\Users\\901219015\\Desktop\\UNI\\Master\\Spring_Semester\\Optimization_for_ML\\venv\\Lib\\site-packages\\optuna\\distributions.py:699: UserWarning:\n",
      "\n",
      "The distribution is specified by [2, 10] and step=3, but the range is not divisible by `step`. It will be replaced by [2, 8].\n",
      "\n",
      "[I 2025-03-28 23:15:14,695] Trial 44 finished with value: 0.9707724425887264 and parameters: {'n_estimators': 100, 'max_depth': 10, 'min_samples_split': 2}. Best is trial 36 with value: 0.9707724425887264.\n",
      "c:\\Users\\901219015\\Desktop\\UNI\\Master\\Spring_Semester\\Optimization_for_ML\\venv\\Lib\\site-packages\\optuna\\distributions.py:699: UserWarning:\n",
      "\n",
      "The distribution is specified by [2, 10] and step=3, but the range is not divisible by `step`. It will be replaced by [2, 8].\n",
      "\n",
      "[I 2025-03-28 23:15:15,069] Trial 45 finished with value: 0.9700765483646485 and parameters: {'n_estimators': 150, 'max_depth': 10, 'min_samples_split': 2}. Best is trial 36 with value: 0.9707724425887264.\n",
      "c:\\Users\\901219015\\Desktop\\UNI\\Master\\Spring_Semester\\Optimization_for_ML\\venv\\Lib\\site-packages\\optuna\\distributions.py:699: UserWarning:\n",
      "\n",
      "The distribution is specified by [2, 10] and step=3, but the range is not divisible by `step`. It will be replaced by [2, 8].\n",
      "\n",
      "[I 2025-03-28 23:15:15,224] Trial 46 finished with value: 0.965205288796103 and parameters: {'n_estimators': 50, 'max_depth': 10, 'min_samples_split': 2}. Best is trial 36 with value: 0.9707724425887264.\n",
      "c:\\Users\\901219015\\Desktop\\UNI\\Master\\Spring_Semester\\Optimization_for_ML\\venv\\Lib\\site-packages\\optuna\\distributions.py:699: UserWarning:\n",
      "\n",
      "The distribution is specified by [2, 10] and step=3, but the range is not divisible by `step`. It will be replaced by [2, 8].\n",
      "\n",
      "[I 2025-03-28 23:15:15,498] Trial 47 finished with value: 0.9707724425887264 and parameters: {'n_estimators': 100, 'max_depth': 10, 'min_samples_split': 2}. Best is trial 36 with value: 0.9707724425887264.\n",
      "c:\\Users\\901219015\\Desktop\\UNI\\Master\\Spring_Semester\\Optimization_for_ML\\venv\\Lib\\site-packages\\optuna\\distributions.py:699: UserWarning:\n",
      "\n",
      "The distribution is specified by [2, 10] and step=3, but the range is not divisible by `step`. It will be replaced by [2, 8].\n",
      "\n",
      "[I 2025-03-28 23:15:15,874] Trial 48 finished with value: 0.9700765483646485 and parameters: {'n_estimators': 150, 'max_depth': 10, 'min_samples_split': 2}. Best is trial 36 with value: 0.9707724425887264.\n",
      "c:\\Users\\901219015\\Desktop\\UNI\\Master\\Spring_Semester\\Optimization_for_ML\\venv\\Lib\\site-packages\\optuna\\distributions.py:699: UserWarning:\n",
      "\n",
      "The distribution is specified by [2, 10] and step=3, but the range is not divisible by `step`. It will be replaced by [2, 8].\n",
      "\n",
      "[I 2025-03-28 23:15:16,140] Trial 49 finished with value: 0.9638135003479471 and parameters: {'n_estimators': 100, 'max_depth': 10, 'min_samples_split': 5}. Best is trial 36 with value: 0.9707724425887264.\n",
      "[I 2025-03-28 23:15:16,142] A new study created in memory with name: no-name-8c640b1b-ca55-420d-9e19-768e6610500e\n"
     ]
    },
    {
     "name": "stdout",
     "output_type": "stream",
     "text": [
      "Best Parameters (Random search): {'n_estimators': 100, 'max_depth': 10, 'min_samples_split': 2}, Time: 15.88s\n",
      "Running Bayesian search Optimization...\n"
     ]
    },
    {
     "name": "stderr",
     "output_type": "stream",
     "text": [
      "c:\\Users\\901219015\\Desktop\\UNI\\Master\\Spring_Semester\\Optimization_for_ML\\venv\\Lib\\site-packages\\optuna\\distributions.py:699: UserWarning:\n",
      "\n",
      "The distribution is specified by [2, 10] and step=3, but the range is not divisible by `step`. It will be replaced by [2, 8].\n",
      "\n",
      "[I 2025-03-28 23:15:16,523] Trial 0 finished with value: 0.9624217118997912 and parameters: {'n_estimators': 150, 'max_depth': None, 'min_samples_split': 8}. Best is trial 0 with value: 0.9624217118997912.\n",
      "c:\\Users\\901219015\\Desktop\\UNI\\Master\\Spring_Semester\\Optimization_for_ML\\venv\\Lib\\site-packages\\optuna\\distributions.py:699: UserWarning:\n",
      "\n",
      "The distribution is specified by [2, 10] and step=3, but the range is not divisible by `step`. It will be replaced by [2, 8].\n",
      "\n",
      "[I 2025-03-28 23:15:16,920] Trial 1 finished with value: 0.9631176061238692 and parameters: {'n_estimators': 150, 'max_depth': None, 'min_samples_split': 5}. Best is trial 1 with value: 0.9631176061238692.\n",
      "c:\\Users\\901219015\\Desktop\\UNI\\Master\\Spring_Semester\\Optimization_for_ML\\venv\\Lib\\site-packages\\optuna\\distributions.py:699: UserWarning:\n",
      "\n",
      "The distribution is specified by [2, 10] and step=3, but the range is not divisible by `step`. It will be replaced by [2, 8].\n",
      "\n",
      "[I 2025-03-28 23:15:17,321] Trial 2 finished with value: 0.965205288796103 and parameters: {'n_estimators': 150, 'max_depth': 10, 'min_samples_split': 5}. Best is trial 2 with value: 0.965205288796103.\n",
      "c:\\Users\\901219015\\Desktop\\UNI\\Master\\Spring_Semester\\Optimization_for_ML\\venv\\Lib\\site-packages\\optuna\\distributions.py:699: UserWarning:\n",
      "\n",
      "The distribution is specified by [2, 10] and step=3, but the range is not divisible by `step`. It will be replaced by [2, 8].\n",
      "\n",
      "[I 2025-03-28 23:15:17,826] Trial 3 finished with value: 0.964509394572025 and parameters: {'n_estimators': 200, 'max_depth': 20, 'min_samples_split': 5}. Best is trial 2 with value: 0.965205288796103.\n",
      "c:\\Users\\901219015\\Desktop\\UNI\\Master\\Spring_Semester\\Optimization_for_ML\\venv\\Lib\\site-packages\\optuna\\distributions.py:699: UserWarning:\n",
      "\n",
      "The distribution is specified by [2, 10] and step=3, but the range is not divisible by `step`. It will be replaced by [2, 8].\n",
      "\n",
      "[I 2025-03-28 23:15:18,082] Trial 4 finished with value: 0.9638135003479471 and parameters: {'n_estimators': 100, 'max_depth': 10, 'min_samples_split': 5}. Best is trial 2 with value: 0.965205288796103.\n",
      "c:\\Users\\901219015\\Desktop\\UNI\\Master\\Spring_Semester\\Optimization_for_ML\\venv\\Lib\\site-packages\\optuna\\distributions.py:699: UserWarning:\n",
      "\n",
      "The distribution is specified by [2, 10] and step=3, but the range is not divisible by `step`. It will be replaced by [2, 8].\n",
      "\n",
      "[I 2025-03-28 23:15:18,218] Trial 5 finished with value: 0.9589422407794016 and parameters: {'n_estimators': 50, 'max_depth': 10, 'min_samples_split': 5}. Best is trial 2 with value: 0.965205288796103.\n",
      "c:\\Users\\901219015\\Desktop\\UNI\\Master\\Spring_Semester\\Optimization_for_ML\\venv\\Lib\\site-packages\\optuna\\distributions.py:699: UserWarning:\n",
      "\n",
      "The distribution is specified by [2, 10] and step=3, but the range is not divisible by `step`. It will be replaced by [2, 8].\n",
      "\n",
      "[I 2025-03-28 23:15:18,487] Trial 6 finished with value: 0.9700765483646486 and parameters: {'n_estimators': 100, 'max_depth': 20, 'min_samples_split': 2}. Best is trial 6 with value: 0.9700765483646486.\n",
      "c:\\Users\\901219015\\Desktop\\UNI\\Master\\Spring_Semester\\Optimization_for_ML\\venv\\Lib\\site-packages\\optuna\\distributions.py:699: UserWarning:\n",
      "\n",
      "The distribution is specified by [2, 10] and step=3, but the range is not divisible by `step`. It will be replaced by [2, 8].\n",
      "\n",
      "[I 2025-03-28 23:15:18,952] Trial 7 finished with value: 0.9617258176757133 and parameters: {'n_estimators': 200, 'max_depth': 10, 'min_samples_split': 8}. Best is trial 6 with value: 0.9700765483646486.\n",
      "c:\\Users\\901219015\\Desktop\\UNI\\Master\\Spring_Semester\\Optimization_for_ML\\venv\\Lib\\site-packages\\optuna\\distributions.py:699: UserWarning:\n",
      "\n",
      "The distribution is specified by [2, 10] and step=3, but the range is not divisible by `step`. It will be replaced by [2, 8].\n",
      "\n",
      "[I 2025-03-28 23:15:19,209] Trial 8 finished with value: 0.9631176061238692 and parameters: {'n_estimators': 100, 'max_depth': None, 'min_samples_split': 8}. Best is trial 6 with value: 0.9700765483646486.\n",
      "c:\\Users\\901219015\\Desktop\\UNI\\Master\\Spring_Semester\\Optimization_for_ML\\venv\\Lib\\site-packages\\optuna\\distributions.py:699: UserWarning:\n",
      "\n",
      "The distribution is specified by [2, 10] and step=3, but the range is not divisible by `step`. It will be replaced by [2, 8].\n",
      "\n",
      "[I 2025-03-28 23:15:19,663] Trial 9 finished with value: 0.9665970772442588 and parameters: {'n_estimators': 200, 'max_depth': None, 'min_samples_split': 8}. Best is trial 6 with value: 0.9700765483646486.\n",
      "c:\\Users\\901219015\\Desktop\\UNI\\Master\\Spring_Semester\\Optimization_for_ML\\venv\\Lib\\site-packages\\optuna\\distributions.py:699: UserWarning:\n",
      "\n",
      "The distribution is specified by [2, 10] and step=3, but the range is not divisible by `step`. It will be replaced by [2, 8].\n",
      "\n",
      "[I 2025-03-28 23:15:19,815] Trial 10 finished with value: 0.9631176061238692 and parameters: {'n_estimators': 50, 'max_depth': 20, 'min_samples_split': 2}. Best is trial 6 with value: 0.9700765483646486.\n",
      "c:\\Users\\901219015\\Desktop\\UNI\\Master\\Spring_Semester\\Optimization_for_ML\\venv\\Lib\\site-packages\\optuna\\distributions.py:699: UserWarning:\n",
      "\n",
      "The distribution is specified by [2, 10] and step=3, but the range is not divisible by `step`. It will be replaced by [2, 8].\n",
      "\n",
      "[I 2025-03-28 23:15:20,066] Trial 11 finished with value: 0.9700765483646486 and parameters: {'n_estimators': 100, 'max_depth': 20, 'min_samples_split': 2}. Best is trial 6 with value: 0.9700765483646486.\n",
      "c:\\Users\\901219015\\Desktop\\UNI\\Master\\Spring_Semester\\Optimization_for_ML\\venv\\Lib\\site-packages\\optuna\\distributions.py:699: UserWarning:\n",
      "\n",
      "The distribution is specified by [2, 10] and step=3, but the range is not divisible by `step`. It will be replaced by [2, 8].\n",
      "\n",
      "[I 2025-03-28 23:15:20,339] Trial 12 finished with value: 0.9700765483646486 and parameters: {'n_estimators': 100, 'max_depth': 20, 'min_samples_split': 2}. Best is trial 6 with value: 0.9700765483646486.\n",
      "c:\\Users\\901219015\\Desktop\\UNI\\Master\\Spring_Semester\\Optimization_for_ML\\venv\\Lib\\site-packages\\optuna\\distributions.py:699: UserWarning:\n",
      "\n",
      "The distribution is specified by [2, 10] and step=3, but the range is not divisible by `step`. It will be replaced by [2, 8].\n",
      "\n",
      "[I 2025-03-28 23:15:20,591] Trial 13 finished with value: 0.9700765483646486 and parameters: {'n_estimators': 100, 'max_depth': 20, 'min_samples_split': 2}. Best is trial 6 with value: 0.9700765483646486.\n",
      "c:\\Users\\901219015\\Desktop\\UNI\\Master\\Spring_Semester\\Optimization_for_ML\\venv\\Lib\\site-packages\\optuna\\distributions.py:699: UserWarning:\n",
      "\n",
      "The distribution is specified by [2, 10] and step=3, but the range is not divisible by `step`. It will be replaced by [2, 8].\n",
      "\n",
      "[I 2025-03-28 23:15:20,743] Trial 14 finished with value: 0.9631176061238692 and parameters: {'n_estimators': 50, 'max_depth': 20, 'min_samples_split': 2}. Best is trial 6 with value: 0.9700765483646486.\n",
      "c:\\Users\\901219015\\Desktop\\UNI\\Master\\Spring_Semester\\Optimization_for_ML\\venv\\Lib\\site-packages\\optuna\\distributions.py:699: UserWarning:\n",
      "\n",
      "The distribution is specified by [2, 10] and step=3, but the range is not divisible by `step`. It will be replaced by [2, 8].\n",
      "\n",
      "[I 2025-03-28 23:15:20,996] Trial 15 finished with value: 0.9700765483646486 and parameters: {'n_estimators': 100, 'max_depth': 20, 'min_samples_split': 2}. Best is trial 6 with value: 0.9700765483646486.\n",
      "c:\\Users\\901219015\\Desktop\\UNI\\Master\\Spring_Semester\\Optimization_for_ML\\venv\\Lib\\site-packages\\optuna\\distributions.py:699: UserWarning:\n",
      "\n",
      "The distribution is specified by [2, 10] and step=3, but the range is not divisible by `step`. It will be replaced by [2, 8].\n",
      "\n",
      "[I 2025-03-28 23:15:21,382] Trial 16 finished with value: 0.9665970772442588 and parameters: {'n_estimators': 150, 'max_depth': 20, 'min_samples_split': 2}. Best is trial 6 with value: 0.9700765483646486.\n",
      "c:\\Users\\901219015\\Desktop\\UNI\\Master\\Spring_Semester\\Optimization_for_ML\\venv\\Lib\\site-packages\\optuna\\distributions.py:699: UserWarning:\n",
      "\n",
      "The distribution is specified by [2, 10] and step=3, but the range is not divisible by `step`. It will be replaced by [2, 8].\n",
      "\n",
      "[I 2025-03-28 23:15:21,525] Trial 17 finished with value: 0.9631176061238692 and parameters: {'n_estimators': 50, 'max_depth': 20, 'min_samples_split': 2}. Best is trial 6 with value: 0.9700765483646486.\n",
      "c:\\Users\\901219015\\Desktop\\UNI\\Master\\Spring_Semester\\Optimization_for_ML\\venv\\Lib\\site-packages\\optuna\\distributions.py:699: UserWarning:\n",
      "\n",
      "The distribution is specified by [2, 10] and step=3, but the range is not divisible by `step`. It will be replaced by [2, 8].\n",
      "\n",
      "[I 2025-03-28 23:15:21,777] Trial 18 finished with value: 0.9700765483646486 and parameters: {'n_estimators': 100, 'max_depth': 20, 'min_samples_split': 2}. Best is trial 6 with value: 0.9700765483646486.\n",
      "c:\\Users\\901219015\\Desktop\\UNI\\Master\\Spring_Semester\\Optimization_for_ML\\venv\\Lib\\site-packages\\optuna\\distributions.py:699: UserWarning:\n",
      "\n",
      "The distribution is specified by [2, 10] and step=3, but the range is not divisible by `step`. It will be replaced by [2, 8].\n",
      "\n",
      "[I 2025-03-28 23:15:22,183] Trial 19 finished with value: 0.9631176061238692 and parameters: {'n_estimators': 150, 'max_depth': 20, 'min_samples_split': 5}. Best is trial 6 with value: 0.9700765483646486.\n",
      "c:\\Users\\901219015\\Desktop\\UNI\\Master\\Spring_Semester\\Optimization_for_ML\\venv\\Lib\\site-packages\\optuna\\distributions.py:699: UserWarning:\n",
      "\n",
      "The distribution is specified by [2, 10] and step=3, but the range is not divisible by `step`. It will be replaced by [2, 8].\n",
      "\n",
      "[I 2025-03-28 23:15:22,346] Trial 20 finished with value: 0.9631176061238692 and parameters: {'n_estimators': 50, 'max_depth': 20, 'min_samples_split': 2}. Best is trial 6 with value: 0.9700765483646486.\n",
      "c:\\Users\\901219015\\Desktop\\UNI\\Master\\Spring_Semester\\Optimization_for_ML\\venv\\Lib\\site-packages\\optuna\\distributions.py:699: UserWarning:\n",
      "\n",
      "The distribution is specified by [2, 10] and step=3, but the range is not divisible by `step`. It will be replaced by [2, 8].\n",
      "\n",
      "[I 2025-03-28 23:15:22,639] Trial 21 finished with value: 0.9700765483646486 and parameters: {'n_estimators': 100, 'max_depth': 20, 'min_samples_split': 2}. Best is trial 6 with value: 0.9700765483646486.\n",
      "c:\\Users\\901219015\\Desktop\\UNI\\Master\\Spring_Semester\\Optimization_for_ML\\venv\\Lib\\site-packages\\optuna\\distributions.py:699: UserWarning:\n",
      "\n",
      "The distribution is specified by [2, 10] and step=3, but the range is not divisible by `step`. It will be replaced by [2, 8].\n",
      "\n",
      "[I 2025-03-28 23:15:22,912] Trial 22 finished with value: 0.9700765483646486 and parameters: {'n_estimators': 100, 'max_depth': 20, 'min_samples_split': 2}. Best is trial 6 with value: 0.9700765483646486.\n",
      "c:\\Users\\901219015\\Desktop\\UNI\\Master\\Spring_Semester\\Optimization_for_ML\\venv\\Lib\\site-packages\\optuna\\distributions.py:699: UserWarning:\n",
      "\n",
      "The distribution is specified by [2, 10] and step=3, but the range is not divisible by `step`. It will be replaced by [2, 8].\n",
      "\n",
      "[I 2025-03-28 23:15:23,186] Trial 23 finished with value: 0.9700765483646486 and parameters: {'n_estimators': 100, 'max_depth': 20, 'min_samples_split': 2}. Best is trial 6 with value: 0.9700765483646486.\n",
      "c:\\Users\\901219015\\Desktop\\UNI\\Master\\Spring_Semester\\Optimization_for_ML\\venv\\Lib\\site-packages\\optuna\\distributions.py:699: UserWarning:\n",
      "\n",
      "The distribution is specified by [2, 10] and step=3, but the range is not divisible by `step`. It will be replaced by [2, 8].\n",
      "\n",
      "[I 2025-03-28 23:15:23,458] Trial 24 finished with value: 0.9700765483646486 and parameters: {'n_estimators': 100, 'max_depth': 20, 'min_samples_split': 2}. Best is trial 6 with value: 0.9700765483646486.\n",
      "c:\\Users\\901219015\\Desktop\\UNI\\Master\\Spring_Semester\\Optimization_for_ML\\venv\\Lib\\site-packages\\optuna\\distributions.py:699: UserWarning:\n",
      "\n",
      "The distribution is specified by [2, 10] and step=3, but the range is not divisible by `step`. It will be replaced by [2, 8].\n",
      "\n",
      "[I 2025-03-28 23:15:23,864] Trial 25 finished with value: 0.9665970772442588 and parameters: {'n_estimators': 150, 'max_depth': 20, 'min_samples_split': 2}. Best is trial 6 with value: 0.9700765483646486.\n",
      "c:\\Users\\901219015\\Desktop\\UNI\\Master\\Spring_Semester\\Optimization_for_ML\\venv\\Lib\\site-packages\\optuna\\distributions.py:699: UserWarning:\n",
      "\n",
      "The distribution is specified by [2, 10] and step=3, but the range is not divisible by `step`. It will be replaced by [2, 8].\n",
      "\n",
      "[I 2025-03-28 23:15:24,127] Trial 26 finished with value: 0.9659011830201809 and parameters: {'n_estimators': 100, 'max_depth': 20, 'min_samples_split': 5}. Best is trial 6 with value: 0.9700765483646486.\n",
      "c:\\Users\\901219015\\Desktop\\UNI\\Master\\Spring_Semester\\Optimization_for_ML\\venv\\Lib\\site-packages\\optuna\\distributions.py:699: UserWarning:\n",
      "\n",
      "The distribution is specified by [2, 10] and step=3, but the range is not divisible by `step`. It will be replaced by [2, 8].\n",
      "\n",
      "[I 2025-03-28 23:15:24,281] Trial 27 finished with value: 0.9631176061238692 and parameters: {'n_estimators': 50, 'max_depth': 20, 'min_samples_split': 2}. Best is trial 6 with value: 0.9700765483646486.\n",
      "c:\\Users\\901219015\\Desktop\\UNI\\Master\\Spring_Semester\\Optimization_for_ML\\venv\\Lib\\site-packages\\optuna\\distributions.py:699: UserWarning:\n",
      "\n",
      "The distribution is specified by [2, 10] and step=3, but the range is not divisible by `step`. It will be replaced by [2, 8].\n",
      "\n",
      "[I 2025-03-28 23:15:24,544] Trial 28 finished with value: 0.9659011830201809 and parameters: {'n_estimators': 100, 'max_depth': None, 'min_samples_split': 5}. Best is trial 6 with value: 0.9700765483646486.\n",
      "c:\\Users\\901219015\\Desktop\\UNI\\Master\\Spring_Semester\\Optimization_for_ML\\venv\\Lib\\site-packages\\optuna\\distributions.py:699: UserWarning:\n",
      "\n",
      "The distribution is specified by [2, 10] and step=3, but the range is not divisible by `step`. It will be replaced by [2, 8].\n",
      "\n",
      "[I 2025-03-28 23:15:24,928] Trial 29 finished with value: 0.9700765483646485 and parameters: {'n_estimators': 150, 'max_depth': 10, 'min_samples_split': 2}. Best is trial 6 with value: 0.9700765483646486.\n",
      "c:\\Users\\901219015\\Desktop\\UNI\\Master\\Spring_Semester\\Optimization_for_ML\\venv\\Lib\\site-packages\\optuna\\distributions.py:699: UserWarning:\n",
      "\n",
      "The distribution is specified by [2, 10] and step=3, but the range is not divisible by `step`. It will be replaced by [2, 8].\n",
      "\n",
      "[I 2025-03-28 23:15:25,321] Trial 30 finished with value: 0.9665970772442588 and parameters: {'n_estimators': 150, 'max_depth': None, 'min_samples_split': 2}. Best is trial 6 with value: 0.9700765483646486.\n",
      "c:\\Users\\901219015\\Desktop\\UNI\\Master\\Spring_Semester\\Optimization_for_ML\\venv\\Lib\\site-packages\\optuna\\distributions.py:699: UserWarning:\n",
      "\n",
      "The distribution is specified by [2, 10] and step=3, but the range is not divisible by `step`. It will be replaced by [2, 8].\n",
      "\n",
      "[I 2025-03-28 23:15:25,585] Trial 31 finished with value: 0.9700765483646486 and parameters: {'n_estimators': 100, 'max_depth': 20, 'min_samples_split': 2}. Best is trial 6 with value: 0.9700765483646486.\n",
      "c:\\Users\\901219015\\Desktop\\UNI\\Master\\Spring_Semester\\Optimization_for_ML\\venv\\Lib\\site-packages\\optuna\\distributions.py:699: UserWarning:\n",
      "\n",
      "The distribution is specified by [2, 10] and step=3, but the range is not divisible by `step`. It will be replaced by [2, 8].\n",
      "\n",
      "[I 2025-03-28 23:15:25,848] Trial 32 finished with value: 0.9700765483646486 and parameters: {'n_estimators': 100, 'max_depth': 20, 'min_samples_split': 2}. Best is trial 6 with value: 0.9700765483646486.\n",
      "c:\\Users\\901219015\\Desktop\\UNI\\Master\\Spring_Semester\\Optimization_for_ML\\venv\\Lib\\site-packages\\optuna\\distributions.py:699: UserWarning:\n",
      "\n",
      "The distribution is specified by [2, 10] and step=3, but the range is not divisible by `step`. It will be replaced by [2, 8].\n",
      "\n",
      "[I 2025-03-28 23:15:26,119] Trial 33 finished with value: 0.9700765483646486 and parameters: {'n_estimators': 100, 'max_depth': 20, 'min_samples_split': 2}. Best is trial 6 with value: 0.9700765483646486.\n",
      "c:\\Users\\901219015\\Desktop\\UNI\\Master\\Spring_Semester\\Optimization_for_ML\\venv\\Lib\\site-packages\\optuna\\distributions.py:699: UserWarning:\n",
      "\n",
      "The distribution is specified by [2, 10] and step=3, but the range is not divisible by `step`. It will be replaced by [2, 8].\n",
      "\n",
      "[I 2025-03-28 23:15:26,392] Trial 34 finished with value: 0.9700765483646486 and parameters: {'n_estimators': 100, 'max_depth': 20, 'min_samples_split': 2}. Best is trial 6 with value: 0.9700765483646486.\n",
      "c:\\Users\\901219015\\Desktop\\UNI\\Master\\Spring_Semester\\Optimization_for_ML\\venv\\Lib\\site-packages\\optuna\\distributions.py:699: UserWarning:\n",
      "\n",
      "The distribution is specified by [2, 10] and step=3, but the range is not divisible by `step`. It will be replaced by [2, 8].\n",
      "\n",
      "[I 2025-03-28 23:15:26,766] Trial 35 finished with value: 0.9631176061238692 and parameters: {'n_estimators': 150, 'max_depth': 20, 'min_samples_split': 5}. Best is trial 6 with value: 0.9700765483646486.\n",
      "c:\\Users\\901219015\\Desktop\\UNI\\Master\\Spring_Semester\\Optimization_for_ML\\venv\\Lib\\site-packages\\optuna\\distributions.py:699: UserWarning:\n",
      "\n",
      "The distribution is specified by [2, 10] and step=3, but the range is not divisible by `step`. It will be replaced by [2, 8].\n",
      "\n",
      "[I 2025-03-28 23:15:27,030] Trial 36 finished with value: 0.9707724425887264 and parameters: {'n_estimators': 100, 'max_depth': 10, 'min_samples_split': 2}. Best is trial 36 with value: 0.9707724425887264.\n",
      "c:\\Users\\901219015\\Desktop\\UNI\\Master\\Spring_Semester\\Optimization_for_ML\\venv\\Lib\\site-packages\\optuna\\distributions.py:699: UserWarning:\n",
      "\n",
      "The distribution is specified by [2, 10] and step=3, but the range is not divisible by `step`. It will be replaced by [2, 8].\n",
      "\n",
      "[I 2025-03-28 23:15:27,171] Trial 37 finished with value: 0.9589422407794016 and parameters: {'n_estimators': 50, 'max_depth': 10, 'min_samples_split': 5}. Best is trial 36 with value: 0.9707724425887264.\n",
      "c:\\Users\\901219015\\Desktop\\UNI\\Master\\Spring_Semester\\Optimization_for_ML\\venv\\Lib\\site-packages\\optuna\\distributions.py:699: UserWarning:\n",
      "\n",
      "The distribution is specified by [2, 10] and step=3, but the range is not divisible by `step`. It will be replaced by [2, 8].\n",
      "\n",
      "[I 2025-03-28 23:15:27,425] Trial 38 finished with value: 0.9638135003479471 and parameters: {'n_estimators': 100, 'max_depth': 10, 'min_samples_split': 5}. Best is trial 36 with value: 0.9707724425887264.\n",
      "c:\\Users\\901219015\\Desktop\\UNI\\Master\\Spring_Semester\\Optimization_for_ML\\venv\\Lib\\site-packages\\optuna\\distributions.py:699: UserWarning:\n",
      "\n",
      "The distribution is specified by [2, 10] and step=3, but the range is not divisible by `step`. It will be replaced by [2, 8].\n",
      "\n",
      "[I 2025-03-28 23:15:27,834] Trial 39 finished with value: 0.9700765483646485 and parameters: {'n_estimators': 150, 'max_depth': 10, 'min_samples_split': 2}. Best is trial 36 with value: 0.9707724425887264.\n",
      "c:\\Users\\901219015\\Desktop\\UNI\\Master\\Spring_Semester\\Optimization_for_ML\\venv\\Lib\\site-packages\\optuna\\distributions.py:699: UserWarning:\n",
      "\n",
      "The distribution is specified by [2, 10] and step=3, but the range is not divisible by `step`. It will be replaced by [2, 8].\n",
      "\n",
      "[I 2025-03-28 23:15:27,968] Trial 40 finished with value: 0.9561586638830898 and parameters: {'n_estimators': 50, 'max_depth': 10, 'min_samples_split': 8}. Best is trial 36 with value: 0.9707724425887264.\n",
      "c:\\Users\\901219015\\Desktop\\UNI\\Master\\Spring_Semester\\Optimization_for_ML\\venv\\Lib\\site-packages\\optuna\\distributions.py:699: UserWarning:\n",
      "\n",
      "The distribution is specified by [2, 10] and step=3, but the range is not divisible by `step`. It will be replaced by [2, 8].\n",
      "\n",
      "[I 2025-03-28 23:15:28,255] Trial 41 finished with value: 0.9707724425887264 and parameters: {'n_estimators': 100, 'max_depth': 10, 'min_samples_split': 2}. Best is trial 36 with value: 0.9707724425887264.\n",
      "c:\\Users\\901219015\\Desktop\\UNI\\Master\\Spring_Semester\\Optimization_for_ML\\venv\\Lib\\site-packages\\optuna\\distributions.py:699: UserWarning:\n",
      "\n",
      "The distribution is specified by [2, 10] and step=3, but the range is not divisible by `step`. It will be replaced by [2, 8].\n",
      "\n",
      "[I 2025-03-28 23:15:28,510] Trial 42 finished with value: 0.9707724425887264 and parameters: {'n_estimators': 100, 'max_depth': 10, 'min_samples_split': 2}. Best is trial 36 with value: 0.9707724425887264.\n",
      "c:\\Users\\901219015\\Desktop\\UNI\\Master\\Spring_Semester\\Optimization_for_ML\\venv\\Lib\\site-packages\\optuna\\distributions.py:699: UserWarning:\n",
      "\n",
      "The distribution is specified by [2, 10] and step=3, but the range is not divisible by `step`. It will be replaced by [2, 8].\n",
      "\n",
      "[I 2025-03-28 23:15:28,783] Trial 43 finished with value: 0.9707724425887264 and parameters: {'n_estimators': 100, 'max_depth': 10, 'min_samples_split': 2}. Best is trial 36 with value: 0.9707724425887264.\n",
      "c:\\Users\\901219015\\Desktop\\UNI\\Master\\Spring_Semester\\Optimization_for_ML\\venv\\Lib\\site-packages\\optuna\\distributions.py:699: UserWarning:\n",
      "\n",
      "The distribution is specified by [2, 10] and step=3, but the range is not divisible by `step`. It will be replaced by [2, 8].\n",
      "\n",
      "[I 2025-03-28 23:15:29,048] Trial 44 finished with value: 0.9707724425887264 and parameters: {'n_estimators': 100, 'max_depth': 10, 'min_samples_split': 2}. Best is trial 36 with value: 0.9707724425887264.\n",
      "c:\\Users\\901219015\\Desktop\\UNI\\Master\\Spring_Semester\\Optimization_for_ML\\venv\\Lib\\site-packages\\optuna\\distributions.py:699: UserWarning:\n",
      "\n",
      "The distribution is specified by [2, 10] and step=3, but the range is not divisible by `step`. It will be replaced by [2, 8].\n",
      "\n",
      "[I 2025-03-28 23:15:29,324] Trial 45 finished with value: 0.9707724425887264 and parameters: {'n_estimators': 100, 'max_depth': 10, 'min_samples_split': 2}. Best is trial 36 with value: 0.9707724425887264.\n",
      "c:\\Users\\901219015\\Desktop\\UNI\\Master\\Spring_Semester\\Optimization_for_ML\\venv\\Lib\\site-packages\\optuna\\distributions.py:699: UserWarning:\n",
      "\n",
      "The distribution is specified by [2, 10] and step=3, but the range is not divisible by `step`. It will be replaced by [2, 8].\n",
      "\n",
      "[I 2025-03-28 23:15:29,600] Trial 46 finished with value: 0.9707724425887264 and parameters: {'n_estimators': 100, 'max_depth': 10, 'min_samples_split': 2}. Best is trial 36 with value: 0.9707724425887264.\n",
      "c:\\Users\\901219015\\Desktop\\UNI\\Master\\Spring_Semester\\Optimization_for_ML\\venv\\Lib\\site-packages\\optuna\\distributions.py:699: UserWarning:\n",
      "\n",
      "The distribution is specified by [2, 10] and step=3, but the range is not divisible by `step`. It will be replaced by [2, 8].\n",
      "\n",
      "[I 2025-03-28 23:15:29,875] Trial 47 finished with value: 0.9707724425887264 and parameters: {'n_estimators': 100, 'max_depth': 10, 'min_samples_split': 2}. Best is trial 36 with value: 0.9707724425887264.\n",
      "c:\\Users\\901219015\\Desktop\\UNI\\Master\\Spring_Semester\\Optimization_for_ML\\venv\\Lib\\site-packages\\optuna\\distributions.py:699: UserWarning:\n",
      "\n",
      "The distribution is specified by [2, 10] and step=3, but the range is not divisible by `step`. It will be replaced by [2, 8].\n",
      "\n",
      "[I 2025-03-28 23:15:30,140] Trial 48 finished with value: 0.9638135003479471 and parameters: {'n_estimators': 100, 'max_depth': 10, 'min_samples_split': 5}. Best is trial 36 with value: 0.9707724425887264.\n",
      "c:\\Users\\901219015\\Desktop\\UNI\\Master\\Spring_Semester\\Optimization_for_ML\\venv\\Lib\\site-packages\\optuna\\distributions.py:699: UserWarning:\n",
      "\n",
      "The distribution is specified by [2, 10] and step=3, but the range is not divisible by `step`. It will be replaced by [2, 8].\n",
      "\n",
      "[I 2025-03-28 23:15:30,644] Trial 49 finished with value: 0.9728601252609604 and parameters: {'n_estimators': 200, 'max_depth': 10, 'min_samples_split': 2}. Best is trial 49 with value: 0.9728601252609604.\n"
     ]
    },
    {
     "name": "stdout",
     "output_type": "stream",
     "text": [
      "Best Parameters (Bayesian search): {'n_estimators': 200, 'max_depth': 10, 'min_samples_split': 2}, Time: 14.50s\n"
     ]
    }
   ],
   "source": [
    "def plot_results(studies):\n",
    "    optuna_studies = {name: study for name, study in studies.items() if name != \"Baseline\"}\n",
    "\n",
    "    for name, study in optuna_studies.items():\n",
    "        study.study_name = name  \n",
    "\n",
    "    vis.plot_optimization_history(list(optuna_studies.values())).show()\n",
    "\n",
    "    best_scores = {name: study.best_value for name, study in optuna_studies.items()}\n",
    "\n",
    "    print(\"Best Accuracy Scores:\")\n",
    "    for name, score in best_scores.items():\n",
    "        print(f\"{name}: {score:.4f}\")\n",
    "        \n",
    "studies, execution_times = run_optimization()"
   ]
  },
  {
   "cell_type": "code",
   "execution_count": 34,
   "metadata": {},
   "outputs": [
    {
     "data": {
      "image/png": "[encoded data removed]",
      "text/plain": [
       "<Figure size 800x600 with 1 Axes>"
      ]
     },
     "metadata": {},
     "output_type": "display_data"
    }
   ],
   "source": [
    "methods = list(execution_times.keys())\n",
    "times = list(execution_times.values())\n",
    "\n",
    "colors = ['lightgrey', '#FF9999', '#FFCC99', 'lightgreen']\n",
    "plt.figure(figsize=(8, 6))\n",
    "plt.barh(methods, times, color=colors)\n",
    "plt.xlabel(\"Time (seconds)\")\n",
    "plt.title(\"Execution Time Comparison\")\n",
    "plt.show()"
   ]
  },
  {
   "cell_type": "code",
   "execution_count": 35,
   "metadata": {},
   "outputs": [
    {
     "data": {
      "application/vnd.plotly.v1+json": {
       "config": {
        "plotlyServerURL": "https://plot.ly"
       },
       "data": [
        {
         "mode": "markers",
         "name": "Objective Value of Grid search",
         "type": "scatter",
         "x": [
          0,
          1,
          2,
          3,
          4,
          5,
          6,
          7,
          8,
          9,
          10,
          11,
          12,
          13,
          14,
          15,
          16,
          17,
          18,
          19,
          20,
          21,
          22,
          23,
          24,
          25,
          26,
          27,
          28,
          29,
          30,
          31,
          32,
          33,
          34,
          35,
          36,
          37,
          38,
          39,
          40,
          41,
          42,
          43,
          44,
          45,
          46,
          47,
          48,
          49
         ],
         "y": [
          0.9728601252609604,
          0.9686847599164926,
          0.9610299234516354,
          0.9659011830201809,
          0.964509394572025,
          0.9540709812108559,
          0.9686847599164926,
          0.9707724425887264,
          0.9575504523312456,
          0.9700765483646486,
          0.9728601252609604,
          0.9728601252609604,
          0.9728601252609604,
          0.9728601252609604,
          0.9728601252609604,
          0.9589422407794016,
          0.9728601252609604,
          0.9728601252609604,
          0.9610299234516354,
          0.9631176061238692,
          0.9728601252609604,
          0.9728601252609604,
          0.9728601252609604,
          0.9728601252609604,
          0.9728601252609604,
          0.9728601252609604,
          0.9728601252609604,
          0.9728601252609604,
          0.9631176061238692,
          0.9561586638830897,
          0.9686847599164926,
          0.9728601252609604,
          0.9728601252609604,
          0.9728601252609604,
          0.9728601252609604,
          0.964509394572025,
          0.9610299234516354,
          0.9686847599164926,
          0.9700765483646486,
          0.9624217118997912,
          0.9686847599164926,
          0.9728601252609604,
          0.9728601252609604,
          0.9728601252609604,
          0.9728601252609604,
          0.965205288796103,
          0.9659011830201809,
          0.9728601252609604,
          0.9728601252609604,
          0.9624217118997912
         ]
        },
        {
         "mode": "lines",
         "name": "Best Value of Grid search",
         "type": "scatter",
         "x": [
          0,
          1,
          2,
          3,
          4,
          5,
          6,
          7,
          8,
          9,
          10,
          11,
          12,
          13,
          14,
          15,
          16,
          17,
          18,
          19,
          20,
          21,
          22,
          23,
          24,
          25,
          26,
          27,
          28,
          29,
          30,
          31,
          32,
          33,
          34,
          35,
          36,
          37,
          38,
          39,
          40,
          41,
          42,
          43,
          44,
          45,
          46,
          47,
          48,
          49
         ],
         "y": [
          0.9728601252609604,
          0.9728601252609604,
          0.9728601252609604,
          0.9728601252609604,
          0.9728601252609604,
          0.9728601252609604,
          0.9728601252609604,
          0.9728601252609604,
          0.9728601252609604,
          0.9728601252609604,
          0.9728601252609604,
          0.9728601252609604,
          0.9728601252609604,
          0.9728601252609604,
          0.9728601252609604,
          0.9728601252609604,
          0.9728601252609604,
          0.9728601252609604,
          0.9728601252609604,
          0.9728601252609604,
          0.9728601252609604,
          0.9728601252609604,
          0.9728601252609604,
          0.9728601252609604,
          0.9728601252609604,
          0.9728601252609604,
          0.9728601252609604,
          0.9728601252609604,
          0.9728601252609604,
          0.9728601252609604,
          0.9728601252609604,
          0.9728601252609604,
          0.9728601252609604,
          0.9728601252609604,
          0.9728601252609604,
          0.9728601252609604,
          0.9728601252609604,
          0.9728601252609604,
          0.9728601252609604,
          0.9728601252609604,
          0.9728601252609604,
          0.9728601252609604,
          0.9728601252609604,
          0.9728601252609604,
          0.9728601252609604,
          0.9728601252609604,
          0.9728601252609604,
          0.9728601252609604,
          0.9728601252609604,
          0.9728601252609604
         ]
        },
        {
         "marker": {
          "color": "#cccccc"
         },
         "mode": "markers",
         "name": "Infeasible Trial",
         "showlegend": false,
         "type": "scatter",
         "x": [],
         "y": []
        },
        {
         "mode": "markers",
         "name": "Objective Value of Random search",
         "type": "scatter",
         "x": [
          0,
          1,
          2,
          3,
          4,
          5,
          6,
          7,
          8,
          9,
          10,
          11,
          12,
          13,
          14,
          15,
          16,
          17,
          18,
          19,
          20,
          21,
          22,
          23,
          24,
          25,
          26,
          27,
          28,
          29,
          30,
          31,
          32,
          33,
          34,
          35,
          36,
          37,
          38,
          39,
          40,
          41,
          42,
          43,
          44,
          45,
          46,
          47,
          48,
          49
         ],
         "y": [
          0.965205288796103,
          0.9631176061238692,
          0.9617258176757133,
          0.9631176061238692,
          0.9617258176757133,
          0.9589422407794016,
          0.9624217118997912,
          0.9582463465553236,
          0.9665970772442588,
          0.9561586638830898,
          0.9686847599164926,
          0.9686847599164926,
          0.9686847599164926,
          0.9686847599164926,
          0.9686847599164926,
          0.9686847599164926,
          0.9686847599164926,
          0.964509394572025,
          0.9700765483646486,
          0.9659011830201809,
          0.9700765483646486,
          0.9700765483646486,
          0.9700765483646486,
          0.9700765483646486,
          0.9659011830201809,
          0.9631176061238692,
          0.9700765483646486,
          0.9659011830201809,
          0.9631176061238692,
          0.9631176061238692,
          0.9700765483646486,
          0.9700765483646486,
          0.9700765483646486,
          0.9700765483646486,
          0.9665970772442588,
          0.9631176061238692,
          0.9707724425887264,
          0.9638135003479471,
          0.9700765483646485,
          0.9589422407794016,
          0.9707724425887264,
          0.9707724425887264,
          0.9707724425887264,
          0.9707724425887264,
          0.9707724425887264,
          0.9700765483646485,
          0.965205288796103,
          0.9707724425887264,
          0.9700765483646485,
          0.9638135003479471
         ]
        },
        {
         "mode": "lines",
         "name": "Best Value of Random search",
         "type": "scatter",
         "x": [
          0,
          1,
          2,
          3,
          4,
          5,
          6,
          7,
          8,
          9,
          10,
          11,
          12,
          13,
          14,
          15,
          16,
          17,
          18,
          19,
          20,
          21,
          22,
          23,
          24,
          25,
          26,
          27,
          28,
          29,
          30,
          31,
          32,
          33,
          34,
          35,
          36,
          37,
          38,
          39,
          40,
          41,
          42,
          43,
          44,
          45,
          46,
          47,
          48,
          49
         ],
         "y": [
          0.965205288796103,
          0.965205288796103,
          0.965205288796103,
          0.965205288796103,
          0.965205288796103,
          0.965205288796103,
          0.965205288796103,
          0.965205288796103,
          0.9665970772442588,
          0.9665970772442588,
          0.9686847599164926,
          0.9686847599164926,
          0.9686847599164926,
          0.9686847599164926,
          0.9686847599164926,
          0.9686847599164926,
          0.9686847599164926,
          0.9686847599164926,
          0.9700765483646486,
          0.9700765483646486,
          0.9700765483646486,
          0.9700765483646486,
          0.9700765483646486,
          0.9700765483646486,
          0.9700765483646486,
          0.9700765483646486,
          0.9700765483646486,
          0.9700765483646486,
          0.9700765483646486,
          0.9700765483646486,
          0.9700765483646486,
          0.9700765483646486,
          0.9700765483646486,
          0.9700765483646486,
          0.9700765483646486,
          0.9700765483646486,
          0.9707724425887264,
          0.9707724425887264,
          0.9707724425887264,
          0.9707724425887264,
          0.9707724425887264,
          0.9707724425887264,
          0.9707724425887264,
          0.9707724425887264,
          0.9707724425887264,
          0.9707724425887264,
          0.9707724425887264,
          0.9707724425887264,
          0.9707724425887264,
          0.9707724425887264
         ]
        },
        {
         "marker": {
          "color": "#cccccc"
         },
         "mode": "markers",
         "name": "Infeasible Trial",
         "showlegend": false,
         "type": "scatter",
         "x": [],
         "y": []
        },
        {
         "mode": "markers",
         "name": "Objective Value of Bayesian search",
         "type": "scatter",
         "x": [
          0,
          1,
          2,
          3,
          4,
          5,
          6,
          7,
          8,
          9,
          10,
          11,
          12,
          13,
          14,
          15,
          16,
          17,
          18,
          19,
          20,
          21,
          22,
          23,
          24,
          25,
          26,
          27,
          28,
          29,
          30,
          31,
          32,
          33,
          34,
          35,
          36,
          37,
          38,
          39,
          40,
          41,
          42,
          43,
          44,
          45,
          46,
          47,
          48,
          49
         ],
         "y": [
          0.9624217118997912,
          0.9631176061238692,
          0.965205288796103,
          0.964509394572025,
          0.9638135003479471,
          0.9589422407794016,
          0.9700765483646486,
          0.9617258176757133,
          0.9631176061238692,
          0.9665970772442588,
          0.9631176061238692,
          0.9700765483646486,
          0.9700765483646486,
          0.9700765483646486,
          0.9631176061238692,
          0.9700765483646486,
          0.9665970772442588,
          0.9631176061238692,
          0.9700765483646486,
          0.9631176061238692,
          0.9631176061238692,
          0.9700765483646486,
          0.9700765483646486,
          0.9700765483646486,
          0.9700765483646486,
          0.9665970772442588,
          0.9659011830201809,
          0.9631176061238692,
          0.9659011830201809,
          0.9700765483646485,
          0.9665970772442588,
          0.9700765483646486,
          0.9700765483646486,
          0.9700765483646486,
          0.9700765483646486,
          0.9631176061238692,
          0.9707724425887264,
          0.9589422407794016,
          0.9638135003479471,
          0.9700765483646485,
          0.9561586638830898,
          0.9707724425887264,
          0.9707724425887264,
          0.9707724425887264,
          0.9707724425887264,
          0.9707724425887264,
          0.9707724425887264,
          0.9707724425887264,
          0.9638135003479471,
          0.9728601252609604
         ]
        },
        {
         "mode": "lines",
         "name": "Best Value of Bayesian search",
         "type": "scatter",
         "x": [
          0,
          1,
          2,
          3,
          4,
          5,
          6,
          7,
          8,
          9,
          10,
          11,
          12,
          13,
          14,
          15,
          16,
          17,
          18,
          19,
          20,
          21,
          22,
          23,
          24,
          25,
          26,
          27,
          28,
          29,
          30,
          31,
          32,
          33,
          34,
          35,
          36,
          37,
          38,
          39,
          40,
          41,
          42,
          43,
          44,
          45,
          46,
          47,
          48,
          49
         ],
         "y": [
          0.9624217118997912,
          0.9631176061238692,
          0.965205288796103,
          0.965205288796103,
          0.965205288796103,
          0.965205288796103,
          0.9700765483646486,
          0.9700765483646486,
          0.9700765483646486,
          0.9700765483646486,
          0.9700765483646486,
          0.9700765483646486,
          0.9700765483646486,
          0.9700765483646486,
          0.9700765483646486,
          0.9700765483646486,
          0.9700765483646486,
          0.9700765483646486,
          0.9700765483646486,
          0.9700765483646486,
          0.9700765483646486,
          0.9700765483646486,
          0.9700765483646486,
          0.9700765483646486,
          0.9700765483646486,
          0.9700765483646486,
          0.9700765483646486,
          0.9700765483646486,
          0.9700765483646486,
          0.9700765483646486,
          0.9700765483646486,
          0.9700765483646486,
          0.9700765483646486,
          0.9700765483646486,
          0.9700765483646486,
          0.9700765483646486,
          0.9707724425887264,
          0.9707724425887264,
          0.9707724425887264,
          0.9707724425887264,
          0.9707724425887264,
          0.9707724425887264,
          0.9707724425887264,
          0.9707724425887264,
          0.9707724425887264,
          0.9707724425887264,
          0.9707724425887264,
          0.9707724425887264,
          0.9707724425887264,
          0.9728601252609604
         ]
        },
        {
         "marker": {
          "color": "#cccccc"
         },
         "mode": "markers",
         "name": "Infeasible Trial",
         "showlegend": false,
         "type": "scatter",
         "x": [],
         "y": []
        }
       ],
       "layout": {
        "template": {
         "data": {
          "bar": [
           {
            "error_x": {
             "color": "#2a3f5f"
            },
            "error_y": {
             "color": "#2a3f5f"
            },
            "marker": {
             "line": {
              "color": "#E5ECF6",
              "width": 0.5
             },
             "pattern": {
              "fillmode": "overlay",
              "size": 10,
              "solidity": 0.2
             }
            },
            "type": "bar"
           }
          ],
          "barpolar": [
           {
            "marker": {
             "line": {
              "color": "#E5ECF6",
              "width": 0.5
             },
             "pattern": {
              "fillmode": "overlay",
              "size": 10,
              "solidity": 0.2
             }
            },
            "type": "barpolar"
           }
          ],
          "carpet": [
           {
            "aaxis": {
             "endlinecolor": "#2a3f5f",
             "gridcolor": "white",
             "linecolor": "white",
             "minorgridcolor": "white",
             "startlinecolor": "#2a3f5f"
            },
            "baxis": {
             "endlinecolor": "#2a3f5f",
             "gridcolor": "white",
             "linecolor": "white",
             "minorgridcolor": "white",
             "startlinecolor": "#2a3f5f"
            },
            "type": "carpet"
           }
          ],
          "choropleth": [
           {
            "colorbar": {
             "outlinewidth": 0,
             "ticks": ""
            },
            "type": "choropleth"
           }
          ],
          "contour": [
           {
            "colorbar": {
             "outlinewidth": 0,
             "ticks": ""
            },
            "colorscale": [
             [
              0,
              "#0d0887"
             ],
             [
              0.1111111111111111,
              "#46039f"
             ],
             [
              0.2222222222222222,
              "#7201a8"
             ],
             [
              0.3333333333333333,
              "#9c179e"
             ],
             [
              0.4444444444444444,
              "#bd3786"
             ],
             [
              0.5555555555555556,
              "#d8576b"
             ],
             [
              0.6666666666666666,
              "#ed7953"
             ],
             [
              0.7777777777777778,
              "#fb9f3a"
             ],
             [
              0.8888888888888888,
              "#fdca26"
             ],
             [
              1,
              "#f0f921"
             ]
            ],
            "type": "contour"
           }
          ],
          "contourcarpet": [
           {
            "colorbar": {
             "outlinewidth": 0,
             "ticks": ""
            },
            "type": "contourcarpet"
           }
          ],
          "heatmap": [
           {
            "colorbar": {
             "outlinewidth": 0,
             "ticks": ""
            },
            "colorscale": [
             [
              0,
              "#0d0887"
             ],
             [
              0.1111111111111111,
              "#46039f"
             ],
             [
              0.2222222222222222,
              "#7201a8"
             ],
             [
              0.3333333333333333,
              "#9c179e"
             ],
             [
              0.4444444444444444,
              "#bd3786"
             ],
             [
              0.5555555555555556,
              "#d8576b"
             ],
             [
              0.6666666666666666,
              "#ed7953"
             ],
             [
              0.7777777777777778,
              "#fb9f3a"
             ],
             [
              0.8888888888888888,
              "#fdca26"
             ],
             [
              1,
              "#f0f921"
             ]
            ],
            "type": "heatmap"
           }
          ],
          "histogram": [
           {
            "marker": {
             "pattern": {
              "fillmode": "overlay",
              "size": 10,
              "solidity": 0.2
             }
            },
            "type": "histogram"
           }
          ],
          "histogram2d": [
           {
            "colorbar": {
             "outlinewidth": 0,
             "ticks": ""
            },
            "colorscale": [
             [
              0,
              "#0d0887"
             ],
             [
              0.1111111111111111,
              "#46039f"
             ],
             [
              0.2222222222222222,
              "#7201a8"
             ],
             [
              0.3333333333333333,
              "#9c179e"
             ],
             [
              0.4444444444444444,
              "#bd3786"
             ],
             [
              0.5555555555555556,
              "#d8576b"
             ],
             [
              0.6666666666666666,
              "#ed7953"
             ],
             [
              0.7777777777777778,
              "#fb9f3a"
             ],
             [
              0.8888888888888888,
              "#fdca26"
             ],
             [
              1,
              "#f0f921"
             ]
            ],
            "type": "histogram2d"
           }
          ],
          "histogram2dcontour": [
           {
            "colorbar": {
             "outlinewidth": 0,
             "ticks": ""
            },
            "colorscale": [
             [
              0,
              "#0d0887"
             ],
             [
              0.1111111111111111,
              "#46039f"
             ],
             [
              0.2222222222222222,
              "#7201a8"
             ],
             [
              0.3333333333333333,
              "#9c179e"
             ],
             [
              0.4444444444444444,
              "#bd3786"
             ],
             [
              0.5555555555555556,
              "#d8576b"
             ],
             [
              0.6666666666666666,
              "#ed7953"
             ],
             [
              0.7777777777777778,
              "#fb9f3a"
             ],
             [
              0.8888888888888888,
              "#fdca26"
             ],
             [
              1,
              "#f0f921"
             ]
            ],
            "type": "histogram2dcontour"
           }
          ],
          "mesh3d": [
           {
            "colorbar": {
             "outlinewidth": 0,
             "ticks": ""
            },
            "type": "mesh3d"
           }
          ],
          "parcoords": [
           {
            "line": {
             "colorbar": {
              "outlinewidth": 0,
              "ticks": ""
             }
            },
            "type": "parcoords"
           }
          ],
          "pie": [
           {
            "automargin": true,
            "type": "pie"
           }
          ],
          "scatter": [
           {
            "fillpattern": {
             "fillmode": "overlay",
             "size": 10,
             "solidity": 0.2
            },
            "type": "scatter"
           }
          ],
          "scatter3d": [
           {
            "line": {
             "colorbar": {
              "outlinewidth": 0,
              "ticks": ""
             }
            },
            "marker": {
             "colorbar": {
              "outlinewidth": 0,
              "ticks": ""
             }
            },
            "type": "scatter3d"
           }
          ],
          "scattercarpet": [
           {
            "marker": {
             "colorbar": {
              "outlinewidth": 0,
              "ticks": ""
             }
            },
            "type": "scattercarpet"
           }
          ],
          "scattergeo": [
           {
            "marker": {
             "colorbar": {
              "outlinewidth": 0,
              "ticks": ""
             }
            },
            "type": "scattergeo"
           }
          ],
          "scattergl": [
           {
            "marker": {
             "colorbar": {
              "outlinewidth": 0,
              "ticks": ""
             }
            },
            "type": "scattergl"
           }
          ],
          "scattermap": [
           {
            "marker": {
             "colorbar": {
              "outlinewidth": 0,
              "ticks": ""
             }
            },
            "type": "scattermap"
           }
          ],
          "scattermapbox": [
           {
            "marker": {
             "colorbar": {
              "outlinewidth": 0,
              "ticks": ""
             }
            },
            "type": "scattermapbox"
           }
          ],
          "scatterpolar": [
           {
            "marker": {
             "colorbar": {
              "outlinewidth": 0,
              "ticks": ""
             }
            },
            "type": "scatterpolar"
           }
          ],
          "scatterpolargl": [
           {
            "marker": {
             "colorbar": {
              "outlinewidth": 0,
              "ticks": ""
             }
            },
            "type": "scatterpolargl"
           }
          ],
          "scatterternary": [
           {
            "marker": {
             "colorbar": {
              "outlinewidth": 0,
              "ticks": ""
             }
            },
            "type": "scatterternary"
           }
          ],
          "surface": [
           {
            "colorbar": {
             "outlinewidth": 0,
             "ticks": ""
            },
            "colorscale": [
             [
              0,
              "#0d0887"
             ],
             [
              0.1111111111111111,
              "#46039f"
             ],
             [
              0.2222222222222222,
              "#7201a8"
             ],
             [
              0.3333333333333333,
              "#9c179e"
             ],
             [
              0.4444444444444444,
              "#bd3786"
             ],
             [
              0.5555555555555556,
              "#d8576b"
             ],
             [
              0.6666666666666666,
              "#ed7953"
             ],
             [
              0.7777777777777778,
              "#fb9f3a"
             ],
             [
              0.8888888888888888,
              "#fdca26"
             ],
             [
              1,
              "#f0f921"
             ]
            ],
            "type": "surface"
           }
          ],
          "table": [
           {
            "cells": {
             "fill": {
              "color": "#EBF0F8"
             },
             "line": {
              "color": "white"
             }
            },
            "header": {
             "fill": {
              "color": "#C8D4E3"
             },
             "line": {
              "color": "white"
             }
            },
            "type": "table"
           }
          ]
         },
         "layout": {
          "annotationdefaults": {
           "arrowcolor": "#2a3f5f",
           "arrowhead": 0,
           "arrowwidth": 1
          },
          "autotypenumbers": "strict",
          "coloraxis": {
           "colorbar": {
            "outlinewidth": 0,
            "ticks": ""
           }
          },
          "colorscale": {
           "diverging": [
            [
             0,
             "#8e0152"
            ],
            [
             0.1,
             "#c51b7d"
            ],
            [
             0.2,
             "#de77ae"
            ],
            [
             0.3,
             "#f1b6da"
            ],
            [
             0.4,
             "#fde0ef"
            ],
            [
             0.5,
             "#f7f7f7"
            ],
            [
             0.6,
             "#e6f5d0"
            ],
            [
             0.7,
             "#b8e186"
            ],
            [
             0.8,
             "#7fbc41"
            ],
            [
             0.9,
             "#4d9221"
            ],
            [
             1,
             "#276419"
            ]
           ],
           "sequential": [
            [
             0,
             "#0d0887"
            ],
            [
             0.1111111111111111,
             "#46039f"
            ],
            [
             0.2222222222222222,
             "#7201a8"
            ],
            [
             0.3333333333333333,
             "#9c179e"
            ],
            [
             0.4444444444444444,
             "#bd3786"
            ],
            [
             0.5555555555555556,
             "#d8576b"
            ],
            [
             0.6666666666666666,
             "#ed7953"
            ],
            [
             0.7777777777777778,
             "#fb9f3a"
            ],
            [
             0.8888888888888888,
             "#fdca26"
            ],
            [
             1,
             "#f0f921"
            ]
           ],
           "sequentialminus": [
            [
             0,
             "#0d0887"
            ],
            [
             0.1111111111111111,
             "#46039f"
            ],
            [
             0.2222222222222222,
             "#7201a8"
            ],
            [
             0.3333333333333333,
             "#9c179e"
            ],
            [
             0.4444444444444444,
             "#bd3786"
            ],
            [
             0.5555555555555556,
             "#d8576b"
            ],
            [
             0.6666666666666666,
             "#ed7953"
            ],
            [
             0.7777777777777778,
             "#fb9f3a"
            ],
            [
             0.8888888888888888,
             "#fdca26"
            ],
            [
             1,
             "#f0f921"
            ]
           ]
          },
          "colorway": [
           "#636efa",
           "#EF553B",
           "#00cc96",
           "#ab63fa",
           "#FFA15A",
           "#19d3f3",
           "#FF6692",
           "#B6E880",
           "#FF97FF",
           "#FECB52"
          ],
          "font": {
           "color": "#2a3f5f"
          },
          "geo": {
           "bgcolor": "white",
           "lakecolor": "white",
           "landcolor": "#E5ECF6",
           "showlakes": true,
           "showland": true,
           "subunitcolor": "white"
          },
          "hoverlabel": {
           "align": "left"
          },
          "hovermode": "closest",
          "mapbox": {
           "style": "light"
          },
          "paper_bgcolor": "white",
          "plot_bgcolor": "#E5ECF6",
          "polar": {
           "angularaxis": {
            "gridcolor": "white",
            "linecolor": "white",
            "ticks": ""
           },
           "bgcolor": "#E5ECF6",
           "radialaxis": {
            "gridcolor": "white",
            "linecolor": "white",
            "ticks": ""
           }
          },
          "scene": {
           "xaxis": {
            "backgroundcolor": "#E5ECF6",
            "gridcolor": "white",
            "gridwidth": 2,
            "linecolor": "white",
            "showbackground": true,
            "ticks": "",
            "zerolinecolor": "white"
           },
           "yaxis": {
            "backgroundcolor": "#E5ECF6",
            "gridcolor": "white",
            "gridwidth": 2,
            "linecolor": "white",
            "showbackground": true,
            "ticks": "",
            "zerolinecolor": "white"
           },
           "zaxis": {
            "backgroundcolor": "#E5ECF6",
            "gridcolor": "white",
            "gridwidth": 2,
            "linecolor": "white",
            "showbackground": true,
            "ticks": "",
            "zerolinecolor": "white"
           }
          },
          "shapedefaults": {
           "line": {
            "color": "#2a3f5f"
           }
          },
          "ternary": {
           "aaxis": {
            "gridcolor": "white",
            "linecolor": "white",
            "ticks": ""
           },
           "baxis": {
            "gridcolor": "white",
            "linecolor": "white",
            "ticks": ""
           },
           "bgcolor": "#E5ECF6",
           "caxis": {
            "gridcolor": "white",
            "linecolor": "white",
            "ticks": ""
           }
          },
          "title": {
           "x": 0.05
          },
          "xaxis": {
           "automargin": true,
           "gridcolor": "white",
           "linecolor": "white",
           "ticks": "",
           "title": {
            "standoff": 15
           },
           "zerolinecolor": "white",
           "zerolinewidth": 2
          },
          "yaxis": {
           "automargin": true,
           "gridcolor": "white",
           "linecolor": "white",
           "ticks": "",
           "title": {
            "standoff": 15
           },
           "zerolinecolor": "white",
           "zerolinewidth": 2
          }
         }
        },
        "title": {
         "text": "Optimization History Plot"
        },
        "xaxis": {
         "title": {
          "text": "Trial"
         }
        },
        "yaxis": {
         "title": {
          "text": "Objective Value"
         }
        }
       }
      }
     },
     "metadata": {},
     "output_type": "display_data"
    },
    {
     "name": "stdout",
     "output_type": "stream",
     "text": [
      "Best Accuracy Scores:\n",
      "Grid search: 0.9729\n",
      "Random search: 0.9708\n",
      "Bayesian search: 0.9729\n"
     ]
    }
   ],
   "source": [
    "plot_results(studies);        "
   ]
  },
  {
   "cell_type": "code",
   "execution_count": 36,
   "metadata": {},
   "outputs": [
    {
     "data": {
      "application/vnd.plotly.v1+json": {
       "config": {
        "plotlyServerURL": "https://plot.ly"
       },
       "data": [
        {
         "cliponaxis": false,
         "hovertemplate": [
          "max_depth (CategoricalDistribution): 0.04763528225011211<extra></extra>",
          "n_estimators (CategoricalDistribution): 0.07407155681453453<extra></extra>",
          "min_samples_split (CategoricalDistribution): 0.8782931609353534<extra></extra>"
         ],
         "name": "Objective Value",
         "orientation": "h",
         "text": [
          "0.05",
          "0.07",
          "0.88"
         ],
         "textposition": "outside",
         "type": "bar",
         "x": [
          0.04763528225011211,
          0.07407155681453453,
          0.8782931609353534
         ],
         "y": [
          "max_depth",
          "n_estimators",
          "min_samples_split"
         ]
        }
       ],
       "layout": {
        "template": {
         "data": {
          "bar": [
           {
            "error_x": {
             "color": "#2a3f5f"
            },
            "error_y": {
             "color": "#2a3f5f"
            },
            "marker": {
             "line": {
              "color": "#E5ECF6",
              "width": 0.5
             },
             "pattern": {
              "fillmode": "overlay",
              "size": 10,
              "solidity": 0.2
             }
            },
            "type": "bar"
           }
          ],
          "barpolar": [
           {
            "marker": {
             "line": {
              "color": "#E5ECF6",
              "width": 0.5
             },
             "pattern": {
              "fillmode": "overlay",
              "size": 10,
              "solidity": 0.2
             }
            },
            "type": "barpolar"
           }
          ],
          "carpet": [
           {
            "aaxis": {
             "endlinecolor": "#2a3f5f",
             "gridcolor": "white",
             "linecolor": "white",
             "minorgridcolor": "white",
             "startlinecolor": "#2a3f5f"
            },
            "baxis": {
             "endlinecolor": "#2a3f5f",
             "gridcolor": "white",
             "linecolor": "white",
             "minorgridcolor": "white",
             "startlinecolor": "#2a3f5f"
            },
            "type": "carpet"
           }
          ],
          "choropleth": [
           {
            "colorbar": {
             "outlinewidth": 0,
             "ticks": ""
            },
            "type": "choropleth"
           }
          ],
          "contour": [
           {
            "colorbar": {
             "outlinewidth": 0,
             "ticks": ""
            },
            "colorscale": [
             [
              0,
              "#0d0887"
             ],
             [
              0.1111111111111111,
              "#46039f"
             ],
             [
              0.2222222222222222,
              "#7201a8"
             ],
             [
              0.3333333333333333,
              "#9c179e"
             ],
             [
              0.4444444444444444,
              "#bd3786"
             ],
             [
              0.5555555555555556,
              "#d8576b"
             ],
             [
              0.6666666666666666,
              "#ed7953"
             ],
             [
              0.7777777777777778,
              "#fb9f3a"
             ],
             [
              0.8888888888888888,
              "#fdca26"
             ],
             [
              1,
              "#f0f921"
             ]
            ],
            "type": "contour"
           }
          ],
          "contourcarpet": [
           {
            "colorbar": {
             "outlinewidth": 0,
             "ticks": ""
            },
            "type": "contourcarpet"
           }
          ],
          "heatmap": [
           {
            "colorbar": {
             "outlinewidth": 0,
             "ticks": ""
            },
            "colorscale": [
             [
              0,
              "#0d0887"
             ],
             [
              0.1111111111111111,
              "#46039f"
             ],
             [
              0.2222222222222222,
              "#7201a8"
             ],
             [
              0.3333333333333333,
              "#9c179e"
             ],
             [
              0.4444444444444444,
              "#bd3786"
             ],
             [
              0.5555555555555556,
              "#d8576b"
             ],
             [
              0.6666666666666666,
              "#ed7953"
             ],
             [
              0.7777777777777778,
              "#fb9f3a"
             ],
             [
              0.8888888888888888,
              "#fdca26"
             ],
             [
              1,
              "#f0f921"
             ]
            ],
            "type": "heatmap"
           }
          ],
          "histogram": [
           {
            "marker": {
             "pattern": {
              "fillmode": "overlay",
              "size": 10,
              "solidity": 0.2
             }
            },
            "type": "histogram"
           }
          ],
          "histogram2d": [
           {
            "colorbar": {
             "outlinewidth": 0,
             "ticks": ""
            },
            "colorscale": [
             [
              0,
              "#0d0887"
             ],
             [
              0.1111111111111111,
              "#46039f"
             ],
             [
              0.2222222222222222,
              "#7201a8"
             ],
             [
              0.3333333333333333,
              "#9c179e"
             ],
             [
              0.4444444444444444,
              "#bd3786"
             ],
             [
              0.5555555555555556,
              "#d8576b"
             ],
             [
              0.6666666666666666,
              "#ed7953"
             ],
             [
              0.7777777777777778,
              "#fb9f3a"
             ],
             [
              0.8888888888888888,
              "#fdca26"
             ],
             [
              1,
              "#f0f921"
             ]
            ],
            "type": "histogram2d"
           }
          ],
          "histogram2dcontour": [
           {
            "colorbar": {
             "outlinewidth": 0,
             "ticks": ""
            },
            "colorscale": [
             [
              0,
              "#0d0887"
             ],
             [
              0.1111111111111111,
              "#46039f"
             ],
             [
              0.2222222222222222,
              "#7201a8"
             ],
             [
              0.3333333333333333,
              "#9c179e"
             ],
             [
              0.4444444444444444,
              "#bd3786"
             ],
             [
              0.5555555555555556,
              "#d8576b"
             ],
             [
              0.6666666666666666,
              "#ed7953"
             ],
             [
              0.7777777777777778,
              "#fb9f3a"
             ],
             [
              0.8888888888888888,
              "#fdca26"
             ],
             [
              1,
              "#f0f921"
             ]
            ],
            "type": "histogram2dcontour"
           }
          ],
          "mesh3d": [
           {
            "colorbar": {
             "outlinewidth": 0,
             "ticks": ""
            },
            "type": "mesh3d"
           }
          ],
          "parcoords": [
           {
            "line": {
             "colorbar": {
              "outlinewidth": 0,
              "ticks": ""
             }
            },
            "type": "parcoords"
           }
          ],
          "pie": [
           {
            "automargin": true,
            "type": "pie"
           }
          ],
          "scatter": [
           {
            "fillpattern": {
             "fillmode": "overlay",
             "size": 10,
             "solidity": 0.2
            },
            "type": "scatter"
           }
          ],
          "scatter3d": [
           {
            "line": {
             "colorbar": {
              "outlinewidth": 0,
              "ticks": ""
             }
            },
            "marker": {
             "colorbar": {
              "outlinewidth": 0,
              "ticks": ""
             }
            },
            "type": "scatter3d"
           }
          ],
          "scattercarpet": [
           {
            "marker": {
             "colorbar": {
              "outlinewidth": 0,
              "ticks": ""
             }
            },
            "type": "scattercarpet"
           }
          ],
          "scattergeo": [
           {
            "marker": {
             "colorbar": {
              "outlinewidth": 0,
              "ticks": ""
             }
            },
            "type": "scattergeo"
           }
          ],
          "scattergl": [
           {
            "marker": {
             "colorbar": {
              "outlinewidth": 0,
              "ticks": ""
             }
            },
            "type": "scattergl"
           }
          ],
          "scattermap": [
           {
            "marker": {
             "colorbar": {
              "outlinewidth": 0,
              "ticks": ""
             }
            },
            "type": "scattermap"
           }
          ],
          "scattermapbox": [
           {
            "marker": {
             "colorbar": {
              "outlinewidth": 0,
              "ticks": ""
             }
            },
            "type": "scattermapbox"
           }
          ],
          "scatterpolar": [
           {
            "marker": {
             "colorbar": {
              "outlinewidth": 0,
              "ticks": ""
             }
            },
            "type": "scatterpolar"
           }
          ],
          "scatterpolargl": [
           {
            "marker": {
             "colorbar": {
              "outlinewidth": 0,
              "ticks": ""
             }
            },
            "type": "scatterpolargl"
           }
          ],
          "scatterternary": [
           {
            "marker": {
             "colorbar": {
              "outlinewidth": 0,
              "ticks": ""
             }
            },
            "type": "scatterternary"
           }
          ],
          "surface": [
           {
            "colorbar": {
             "outlinewidth": 0,
             "ticks": ""
            },
            "colorscale": [
             [
              0,
              "#0d0887"
             ],
             [
              0.1111111111111111,
              "#46039f"
             ],
             [
              0.2222222222222222,
              "#7201a8"
             ],
             [
              0.3333333333333333,
              "#9c179e"
             ],
             [
              0.4444444444444444,
              "#bd3786"
             ],
             [
              0.5555555555555556,
              "#d8576b"
             ],
             [
              0.6666666666666666,
              "#ed7953"
             ],
             [
              0.7777777777777778,
              "#fb9f3a"
             ],
             [
              0.8888888888888888,
              "#fdca26"
             ],
             [
              1,
              "#f0f921"
             ]
            ],
            "type": "surface"
           }
          ],
          "table": [
           {
            "cells": {
             "fill": {
              "color": "#EBF0F8"
             },
             "line": {
              "color": "white"
             }
            },
            "header": {
             "fill": {
              "color": "#C8D4E3"
             },
             "line": {
              "color": "white"
             }
            },
            "type": "table"
           }
          ]
         },
         "layout": {
          "annotationdefaults": {
           "arrowcolor": "#2a3f5f",
           "arrowhead": 0,
           "arrowwidth": 1
          },
          "autotypenumbers": "strict",
          "coloraxis": {
           "colorbar": {
            "outlinewidth": 0,
            "ticks": ""
           }
          },
          "colorscale": {
           "diverging": [
            [
             0,
             "#8e0152"
            ],
            [
             0.1,
             "#c51b7d"
            ],
            [
             0.2,
             "#de77ae"
            ],
            [
             0.3,
             "#f1b6da"
            ],
            [
             0.4,
             "#fde0ef"
            ],
            [
             0.5,
             "#f7f7f7"
            ],
            [
             0.6,
             "#e6f5d0"
            ],
            [
             0.7,
             "#b8e186"
            ],
            [
             0.8,
             "#7fbc41"
            ],
            [
             0.9,
             "#4d9221"
            ],
            [
             1,
             "#276419"
            ]
           ],
           "sequential": [
            [
             0,
             "#0d0887"
            ],
            [
             0.1111111111111111,
             "#46039f"
            ],
            [
             0.2222222222222222,
             "#7201a8"
            ],
            [
             0.3333333333333333,
             "#9c179e"
            ],
            [
             0.4444444444444444,
             "#bd3786"
            ],
            [
             0.5555555555555556,
             "#d8576b"
            ],
            [
             0.6666666666666666,
             "#ed7953"
            ],
            [
             0.7777777777777778,
             "#fb9f3a"
            ],
            [
             0.8888888888888888,
             "#fdca26"
            ],
            [
             1,
             "#f0f921"
            ]
           ],
           "sequentialminus": [
            [
             0,
             "#0d0887"
            ],
            [
             0.1111111111111111,
             "#46039f"
            ],
            [
             0.2222222222222222,
             "#7201a8"
            ],
            [
             0.3333333333333333,
             "#9c179e"
            ],
            [
             0.4444444444444444,
             "#bd3786"
            ],
            [
             0.5555555555555556,
             "#d8576b"
            ],
            [
             0.6666666666666666,
             "#ed7953"
            ],
            [
             0.7777777777777778,
             "#fb9f3a"
            ],
            [
             0.8888888888888888,
             "#fdca26"
            ],
            [
             1,
             "#f0f921"
            ]
           ]
          },
          "colorway": [
           "#636efa",
           "#EF553B",
           "#00cc96",
           "#ab63fa",
           "#FFA15A",
           "#19d3f3",
           "#FF6692",
           "#B6E880",
           "#FF97FF",
           "#FECB52"
          ],
          "font": {
           "color": "#2a3f5f"
          },
          "geo": {
           "bgcolor": "white",
           "lakecolor": "white",
           "landcolor": "#E5ECF6",
           "showlakes": true,
           "showland": true,
           "subunitcolor": "white"
          },
          "hoverlabel": {
           "align": "left"
          },
          "hovermode": "closest",
          "mapbox": {
           "style": "light"
          },
          "paper_bgcolor": "white",
          "plot_bgcolor": "#E5ECF6",
          "polar": {
           "angularaxis": {
            "gridcolor": "white",
            "linecolor": "white",
            "ticks": ""
           },
           "bgcolor": "#E5ECF6",
           "radialaxis": {
            "gridcolor": "white",
            "linecolor": "white",
            "ticks": ""
           }
          },
          "scene": {
           "xaxis": {
            "backgroundcolor": "#E5ECF6",
            "gridcolor": "white",
            "gridwidth": 2,
            "linecolor": "white",
            "showbackground": true,
            "ticks": "",
            "zerolinecolor": "white"
           },
           "yaxis": {
            "backgroundcolor": "#E5ECF6",
            "gridcolor": "white",
            "gridwidth": 2,
            "linecolor": "white",
            "showbackground": true,
            "ticks": "",
            "zerolinecolor": "white"
           },
           "zaxis": {
            "backgroundcolor": "#E5ECF6",
            "gridcolor": "white",
            "gridwidth": 2,
            "linecolor": "white",
            "showbackground": true,
            "ticks": "",
            "zerolinecolor": "white"
           }
          },
          "shapedefaults": {
           "line": {
            "color": "#2a3f5f"
           }
          },
          "ternary": {
           "aaxis": {
            "gridcolor": "white",
            "linecolor": "white",
            "ticks": ""
           },
           "baxis": {
            "gridcolor": "white",
            "linecolor": "white",
            "ticks": ""
           },
           "bgcolor": "#E5ECF6",
           "caxis": {
            "gridcolor": "white",
            "linecolor": "white",
            "ticks": ""
           }
          },
          "title": {
           "x": 0.05
          },
          "xaxis": {
           "automargin": true,
           "gridcolor": "white",
           "linecolor": "white",
           "ticks": "",
           "title": {
            "standoff": 15
           },
           "zerolinecolor": "white",
           "zerolinewidth": 2
          },
          "yaxis": {
           "automargin": true,
           "gridcolor": "white",
           "linecolor": "white",
           "ticks": "",
           "title": {
            "standoff": 15
           },
           "zerolinecolor": "white",
           "zerolinewidth": 2
          }
         }
        },
        "title": {
         "text": "Grid search"
        },
        "xaxis": {
         "title": {
          "text": "Hyperparameter Importance"
         }
        },
        "yaxis": {
         "title": {
          "text": "Hyperparameter"
         }
        }
       }
      }
     },
     "metadata": {},
     "output_type": "display_data"
    },
    {
     "data": {
      "application/vnd.plotly.v1+json": {
       "config": {
        "plotlyServerURL": "https://plot.ly"
       },
       "data": [
        {
         "cliponaxis": false,
         "hovertemplate": [
          "max_depth (CategoricalDistribution): 0.038003418703795144<extra></extra>",
          "n_estimators (IntDistribution): 0.2648525705757697<extra></extra>",
          "min_samples_split (IntDistribution): 0.6971440107204352<extra></extra>"
         ],
         "name": "Objective Value",
         "orientation": "h",
         "text": [
          "0.04",
          "0.26",
          "0.70"
         ],
         "textposition": "outside",
         "type": "bar",
         "x": [
          0.038003418703795144,
          0.2648525705757697,
          0.6971440107204352
         ],
         "y": [
          "max_depth",
          "n_estimators",
          "min_samples_split"
         ]
        }
       ],
       "layout": {
        "template": {
         "data": {
          "bar": [
           {
            "error_x": {
             "color": "#2a3f5f"
            },
            "error_y": {
             "color": "#2a3f5f"
            },
            "marker": {
             "line": {
              "color": "#E5ECF6",
              "width": 0.5
             },
             "pattern": {
              "fillmode": "overlay",
              "size": 10,
              "solidity": 0.2
             }
            },
            "type": "bar"
           }
          ],
          "barpolar": [
           {
            "marker": {
             "line": {
              "color": "#E5ECF6",
              "width": 0.5
             },
             "pattern": {
              "fillmode": "overlay",
              "size": 10,
              "solidity": 0.2
             }
            },
            "type": "barpolar"
           }
          ],
          "carpet": [
           {
            "aaxis": {
             "endlinecolor": "#2a3f5f",
             "gridcolor": "white",
             "linecolor": "white",
             "minorgridcolor": "white",
             "startlinecolor": "#2a3f5f"
            },
            "baxis": {
             "endlinecolor": "#2a3f5f",
             "gridcolor": "white",
             "linecolor": "white",
             "minorgridcolor": "white",
             "startlinecolor": "#2a3f5f"
            },
            "type": "carpet"
           }
          ],
          "choropleth": [
           {
            "colorbar": {
             "outlinewidth": 0,
             "ticks": ""
            },
            "type": "choropleth"
           }
          ],
          "contour": [
           {
            "colorbar": {
             "outlinewidth": 0,
             "ticks": ""
            },
            "colorscale": [
             [
              0,
              "#0d0887"
             ],
             [
              0.1111111111111111,
              "#46039f"
             ],
             [
              0.2222222222222222,
              "#7201a8"
             ],
             [
              0.3333333333333333,
              "#9c179e"
             ],
             [
              0.4444444444444444,
              "#bd3786"
             ],
             [
              0.5555555555555556,
              "#d8576b"
             ],
             [
              0.6666666666666666,
              "#ed7953"
             ],
             [
              0.7777777777777778,
              "#fb9f3a"
             ],
             [
              0.8888888888888888,
              "#fdca26"
             ],
             [
              1,
              "#f0f921"
             ]
            ],
            "type": "contour"
           }
          ],
          "contourcarpet": [
           {
            "colorbar": {
             "outlinewidth": 0,
             "ticks": ""
            },
            "type": "contourcarpet"
           }
          ],
          "heatmap": [
           {
            "colorbar": {
             "outlinewidth": 0,
             "ticks": ""
            },
            "colorscale": [
             [
              0,
              "#0d0887"
             ],
             [
              0.1111111111111111,
              "#46039f"
             ],
             [
              0.2222222222222222,
              "#7201a8"
             ],
             [
              0.3333333333333333,
              "#9c179e"
             ],
             [
              0.4444444444444444,
              "#bd3786"
             ],
             [
              0.5555555555555556,
              "#d8576b"
             ],
             [
              0.6666666666666666,
              "#ed7953"
             ],
             [
              0.7777777777777778,
              "#fb9f3a"
             ],
             [
              0.8888888888888888,
              "#fdca26"
             ],
             [
              1,
              "#f0f921"
             ]
            ],
            "type": "heatmap"
           }
          ],
          "histogram": [
           {
            "marker": {
             "pattern": {
              "fillmode": "overlay",
              "size": 10,
              "solidity": 0.2
             }
            },
            "type": "histogram"
           }
          ],
          "histogram2d": [
           {
            "colorbar": {
             "outlinewidth": 0,
             "ticks": ""
            },
            "colorscale": [
             [
              0,
              "#0d0887"
             ],
             [
              0.1111111111111111,
              "#46039f"
             ],
             [
              0.2222222222222222,
              "#7201a8"
             ],
             [
              0.3333333333333333,
              "#9c179e"
             ],
             [
              0.4444444444444444,
              "#bd3786"
             ],
             [
              0.5555555555555556,
              "#d8576b"
             ],
             [
              0.6666666666666666,
              "#ed7953"
             ],
             [
              0.7777777777777778,
              "#fb9f3a"
             ],
             [
              0.8888888888888888,
              "#fdca26"
             ],
             [
              1,
              "#f0f921"
             ]
            ],
            "type": "histogram2d"
           }
          ],
          "histogram2dcontour": [
           {
            "colorbar": {
             "outlinewidth": 0,
             "ticks": ""
            },
            "colorscale": [
             [
              0,
              "#0d0887"
             ],
             [
              0.1111111111111111,
              "#46039f"
             ],
             [
              0.2222222222222222,
              "#7201a8"
             ],
             [
              0.3333333333333333,
              "#9c179e"
             ],
             [
              0.4444444444444444,
              "#bd3786"
             ],
             [
              0.5555555555555556,
              "#d8576b"
             ],
             [
              0.6666666666666666,
              "#ed7953"
             ],
             [
              0.7777777777777778,
              "#fb9f3a"
             ],
             [
              0.8888888888888888,
              "#fdca26"
             ],
             [
              1,
              "#f0f921"
             ]
            ],
            "type": "histogram2dcontour"
           }
          ],
          "mesh3d": [
           {
            "colorbar": {
             "outlinewidth": 0,
             "ticks": ""
            },
            "type": "mesh3d"
           }
          ],
          "parcoords": [
           {
            "line": {
             "colorbar": {
              "outlinewidth": 0,
              "ticks": ""
             }
            },
            "type": "parcoords"
           }
          ],
          "pie": [
           {
            "automargin": true,
            "type": "pie"
           }
          ],
          "scatter": [
           {
            "fillpattern": {
             "fillmode": "overlay",
             "size": 10,
             "solidity": 0.2
            },
            "type": "scatter"
           }
          ],
          "scatter3d": [
           {
            "line": {
             "colorbar": {
              "outlinewidth": 0,
              "ticks": ""
             }
            },
            "marker": {
             "colorbar": {
              "outlinewidth": 0,
              "ticks": ""
             }
            },
            "type": "scatter3d"
           }
          ],
          "scattercarpet": [
           {
            "marker": {
             "colorbar": {
              "outlinewidth": 0,
              "ticks": ""
             }
            },
            "type": "scattercarpet"
           }
          ],
          "scattergeo": [
           {
            "marker": {
             "colorbar": {
              "outlinewidth": 0,
              "ticks": ""
             }
            },
            "type": "scattergeo"
           }
          ],
          "scattergl": [
           {
            "marker": {
             "colorbar": {
              "outlinewidth": 0,
              "ticks": ""
             }
            },
            "type": "scattergl"
           }
          ],
          "scattermap": [
           {
            "marker": {
             "colorbar": {
              "outlinewidth": 0,
              "ticks": ""
             }
            },
            "type": "scattermap"
           }
          ],
          "scattermapbox": [
           {
            "marker": {
             "colorbar": {
              "outlinewidth": 0,
              "ticks": ""
             }
            },
            "type": "scattermapbox"
           }
          ],
          "scatterpolar": [
           {
            "marker": {
             "colorbar": {
              "outlinewidth": 0,
              "ticks": ""
             }
            },
            "type": "scatterpolar"
           }
          ],
          "scatterpolargl": [
           {
            "marker": {
             "colorbar": {
              "outlinewidth": 0,
              "ticks": ""
             }
            },
            "type": "scatterpolargl"
           }
          ],
          "scatterternary": [
           {
            "marker": {
             "colorbar": {
              "outlinewidth": 0,
              "ticks": ""
             }
            },
            "type": "scatterternary"
           }
          ],
          "surface": [
           {
            "colorbar": {
             "outlinewidth": 0,
             "ticks": ""
            },
            "colorscale": [
             [
              0,
              "#0d0887"
             ],
             [
              0.1111111111111111,
              "#46039f"
             ],
             [
              0.2222222222222222,
              "#7201a8"
             ],
             [
              0.3333333333333333,
              "#9c179e"
             ],
             [
              0.4444444444444444,
              "#bd3786"
             ],
             [
              0.5555555555555556,
              "#d8576b"
             ],
             [
              0.6666666666666666,
              "#ed7953"
             ],
             [
              0.7777777777777778,
              "#fb9f3a"
             ],
             [
              0.8888888888888888,
              "#fdca26"
             ],
             [
              1,
              "#f0f921"
             ]
            ],
            "type": "surface"
           }
          ],
          "table": [
           {
            "cells": {
             "fill": {
              "color": "#EBF0F8"
             },
             "line": {
              "color": "white"
             }
            },
            "header": {
             "fill": {
              "color": "#C8D4E3"
             },
             "line": {
              "color": "white"
             }
            },
            "type": "table"
           }
          ]
         },
         "layout": {
          "annotationdefaults": {
           "arrowcolor": "#2a3f5f",
           "arrowhead": 0,
           "arrowwidth": 1
          },
          "autotypenumbers": "strict",
          "coloraxis": {
           "colorbar": {
            "outlinewidth": 0,
            "ticks": ""
           }
          },
          "colorscale": {
           "diverging": [
            [
             0,
             "#8e0152"
            ],
            [
             0.1,
             "#c51b7d"
            ],
            [
             0.2,
             "#de77ae"
            ],
            [
             0.3,
             "#f1b6da"
            ],
            [
             0.4,
             "#fde0ef"
            ],
            [
             0.5,
             "#f7f7f7"
            ],
            [
             0.6,
             "#e6f5d0"
            ],
            [
             0.7,
             "#b8e186"
            ],
            [
             0.8,
             "#7fbc41"
            ],
            [
             0.9,
             "#4d9221"
            ],
            [
             1,
             "#276419"
            ]
           ],
           "sequential": [
            [
             0,
             "#0d0887"
            ],
            [
             0.1111111111111111,
             "#46039f"
            ],
            [
             0.2222222222222222,
             "#7201a8"
            ],
            [
             0.3333333333333333,
             "#9c179e"
            ],
            [
             0.4444444444444444,
             "#bd3786"
            ],
            [
             0.5555555555555556,
             "#d8576b"
            ],
            [
             0.6666666666666666,
             "#ed7953"
            ],
            [
             0.7777777777777778,
             "#fb9f3a"
            ],
            [
             0.8888888888888888,
             "#fdca26"
            ],
            [
             1,
             "#f0f921"
            ]
           ],
           "sequentialminus": [
            [
             0,
             "#0d0887"
            ],
            [
             0.1111111111111111,
             "#46039f"
            ],
            [
             0.2222222222222222,
             "#7201a8"
            ],
            [
             0.3333333333333333,
             "#9c179e"
            ],
            [
             0.4444444444444444,
             "#bd3786"
            ],
            [
             0.5555555555555556,
             "#d8576b"
            ],
            [
             0.6666666666666666,
             "#ed7953"
            ],
            [
             0.7777777777777778,
             "#fb9f3a"
            ],
            [
             0.8888888888888888,
             "#fdca26"
            ],
            [
             1,
             "#f0f921"
            ]
           ]
          },
          "colorway": [
           "#636efa",
           "#EF553B",
           "#00cc96",
           "#ab63fa",
           "#FFA15A",
           "#19d3f3",
           "#FF6692",
           "#B6E880",
           "#FF97FF",
           "#FECB52"
          ],
          "font": {
           "color": "#2a3f5f"
          },
          "geo": {
           "bgcolor": "white",
           "lakecolor": "white",
           "landcolor": "#E5ECF6",
           "showlakes": true,
           "showland": true,
           "subunitcolor": "white"
          },
          "hoverlabel": {
           "align": "left"
          },
          "hovermode": "closest",
          "mapbox": {
           "style": "light"
          },
          "paper_bgcolor": "white",
          "plot_bgcolor": "#E5ECF6",
          "polar": {
           "angularaxis": {
            "gridcolor": "white",
            "linecolor": "white",
            "ticks": ""
           },
           "bgcolor": "#E5ECF6",
           "radialaxis": {
            "gridcolor": "white",
            "linecolor": "white",
            "ticks": ""
           }
          },
          "scene": {
           "xaxis": {
            "backgroundcolor": "#E5ECF6",
            "gridcolor": "white",
            "gridwidth": 2,
            "linecolor": "white",
            "showbackground": true,
            "ticks": "",
            "zerolinecolor": "white"
           },
           "yaxis": {
            "backgroundcolor": "#E5ECF6",
            "gridcolor": "white",
            "gridwidth": 2,
            "linecolor": "white",
            "showbackground": true,
            "ticks": "",
            "zerolinecolor": "white"
           },
           "zaxis": {
            "backgroundcolor": "#E5ECF6",
            "gridcolor": "white",
            "gridwidth": 2,
            "linecolor": "white",
            "showbackground": true,
            "ticks": "",
            "zerolinecolor": "white"
           }
          },
          "shapedefaults": {
           "line": {
            "color": "#2a3f5f"
           }
          },
          "ternary": {
           "aaxis": {
            "gridcolor": "white",
            "linecolor": "white",
            "ticks": ""
           },
           "baxis": {
            "gridcolor": "white",
            "linecolor": "white",
            "ticks": ""
           },
           "bgcolor": "#E5ECF6",
           "caxis": {
            "gridcolor": "white",
            "linecolor": "white",
            "ticks": ""
           }
          },
          "title": {
           "x": 0.05
          },
          "xaxis": {
           "automargin": true,
           "gridcolor": "white",
           "linecolor": "white",
           "ticks": "",
           "title": {
            "standoff": 15
           },
           "zerolinecolor": "white",
           "zerolinewidth": 2
          },
          "yaxis": {
           "automargin": true,
           "gridcolor": "white",
           "linecolor": "white",
           "ticks": "",
           "title": {
            "standoff": 15
           },
           "zerolinecolor": "white",
           "zerolinewidth": 2
          }
         }
        },
        "title": {
         "text": "Random search"
        },
        "xaxis": {
         "title": {
          "text": "Hyperparameter Importance"
         }
        },
        "yaxis": {
         "title": {
          "text": "Hyperparameter"
         }
        }
       }
      }
     },
     "metadata": {},
     "output_type": "display_data"
    },
    {
     "data": {
      "application/vnd.plotly.v1+json": {
       "config": {
        "plotlyServerURL": "https://plot.ly"
       },
       "data": [
        {
         "cliponaxis": false,
         "hovertemplate": [
          "max_depth (CategoricalDistribution): 0.02412463806835216<extra></extra>",
          "min_samples_split (IntDistribution): 0.4823294272226256<extra></extra>",
          "n_estimators (IntDistribution): 0.49354593470902225<extra></extra>"
         ],
         "name": "Objective Value",
         "orientation": "h",
         "text": [
          "0.02",
          "0.48",
          "0.49"
         ],
         "textposition": "outside",
         "type": "bar",
         "x": [
          0.02412463806835216,
          0.4823294272226256,
          0.49354593470902225
         ],
         "y": [
          "max_depth",
          "min_samples_split",
          "n_estimators"
         ]
        }
       ],
       "layout": {
        "template": {
         "data": {
          "bar": [
           {
            "error_x": {
             "color": "#2a3f5f"
            },
            "error_y": {
             "color": "#2a3f5f"
            },
            "marker": {
             "line": {
              "color": "#E5ECF6",
              "width": 0.5
             },
             "pattern": {
              "fillmode": "overlay",
              "size": 10,
              "solidity": 0.2
             }
            },
            "type": "bar"
           }
          ],
          "barpolar": [
           {
            "marker": {
             "line": {
              "color": "#E5ECF6",
              "width": 0.5
             },
             "pattern": {
              "fillmode": "overlay",
              "size": 10,
              "solidity": 0.2
             }
            },
            "type": "barpolar"
           }
          ],
          "carpet": [
           {
            "aaxis": {
             "endlinecolor": "#2a3f5f",
             "gridcolor": "white",
             "linecolor": "white",
             "minorgridcolor": "white",
             "startlinecolor": "#2a3f5f"
            },
            "baxis": {
             "endlinecolor": "#2a3f5f",
             "gridcolor": "white",
             "linecolor": "white",
             "minorgridcolor": "white",
             "startlinecolor": "#2a3f5f"
            },
            "type": "carpet"
           }
          ],
          "choropleth": [
           {
            "colorbar": {
             "outlinewidth": 0,
             "ticks": ""
            },
            "type": "choropleth"
           }
          ],
          "contour": [
           {
            "colorbar": {
             "outlinewidth": 0,
             "ticks": ""
            },
            "colorscale": [
             [
              0,
              "#0d0887"
             ],
             [
              0.1111111111111111,
              "#46039f"
             ],
             [
              0.2222222222222222,
              "#7201a8"
             ],
             [
              0.3333333333333333,
              "#9c179e"
             ],
             [
              0.4444444444444444,
              "#bd3786"
             ],
             [
              0.5555555555555556,
              "#d8576b"
             ],
             [
              0.6666666666666666,
              "#ed7953"
             ],
             [
              0.7777777777777778,
              "#fb9f3a"
             ],
             [
              0.8888888888888888,
              "#fdca26"
             ],
             [
              1,
              "#f0f921"
             ]
            ],
            "type": "contour"
           }
          ],
          "contourcarpet": [
           {
            "colorbar": {
             "outlinewidth": 0,
             "ticks": ""
            },
            "type": "contourcarpet"
           }
          ],
          "heatmap": [
           {
            "colorbar": {
             "outlinewidth": 0,
             "ticks": ""
            },
            "colorscale": [
             [
              0,
              "#0d0887"
             ],
             [
              0.1111111111111111,
              "#46039f"
             ],
             [
              0.2222222222222222,
              "#7201a8"
             ],
             [
              0.3333333333333333,
              "#9c179e"
             ],
             [
              0.4444444444444444,
              "#bd3786"
             ],
             [
              0.5555555555555556,
              "#d8576b"
             ],
             [
              0.6666666666666666,
              "#ed7953"
             ],
             [
              0.7777777777777778,
              "#fb9f3a"
             ],
             [
              0.8888888888888888,
              "#fdca26"
             ],
             [
              1,
              "#f0f921"
             ]
            ],
            "type": "heatmap"
           }
          ],
          "histogram": [
           {
            "marker": {
             "pattern": {
              "fillmode": "overlay",
              "size": 10,
              "solidity": 0.2
             }
            },
            "type": "histogram"
           }
          ],
          "histogram2d": [
           {
            "colorbar": {
             "outlinewidth": 0,
             "ticks": ""
            },
            "colorscale": [
             [
              0,
              "#0d0887"
             ],
             [
              0.1111111111111111,
              "#46039f"
             ],
             [
              0.2222222222222222,
              "#7201a8"
             ],
             [
              0.3333333333333333,
              "#9c179e"
             ],
             [
              0.4444444444444444,
              "#bd3786"
             ],
             [
              0.5555555555555556,
              "#d8576b"
             ],
             [
              0.6666666666666666,
              "#ed7953"
             ],
             [
              0.7777777777777778,
              "#fb9f3a"
             ],
             [
              0.8888888888888888,
              "#fdca26"
             ],
             [
              1,
              "#f0f921"
             ]
            ],
            "type": "histogram2d"
           }
          ],
          "histogram2dcontour": [
           {
            "colorbar": {
             "outlinewidth": 0,
             "ticks": ""
            },
            "colorscale": [
             [
              0,
              "#0d0887"
             ],
             [
              0.1111111111111111,
              "#46039f"
             ],
             [
              0.2222222222222222,
              "#7201a8"
             ],
             [
              0.3333333333333333,
              "#9c179e"
             ],
             [
              0.4444444444444444,
              "#bd3786"
             ],
             [
              0.5555555555555556,
              "#d8576b"
             ],
             [
              0.6666666666666666,
              "#ed7953"
             ],
             [
              0.7777777777777778,
              "#fb9f3a"
             ],
             [
              0.8888888888888888,
              "#fdca26"
             ],
             [
              1,
              "#f0f921"
             ]
            ],
            "type": "histogram2dcontour"
           }
          ],
          "mesh3d": [
           {
            "colorbar": {
             "outlinewidth": 0,
             "ticks": ""
            },
            "type": "mesh3d"
           }
          ],
          "parcoords": [
           {
            "line": {
             "colorbar": {
              "outlinewidth": 0,
              "ticks": ""
             }
            },
            "type": "parcoords"
           }
          ],
          "pie": [
           {
            "automargin": true,
            "type": "pie"
           }
          ],
          "scatter": [
           {
            "fillpattern": {
             "fillmode": "overlay",
             "size": 10,
             "solidity": 0.2
            },
            "type": "scatter"
           }
          ],
          "scatter3d": [
           {
            "line": {
             "colorbar": {
              "outlinewidth": 0,
              "ticks": ""
             }
            },
            "marker": {
             "colorbar": {
              "outlinewidth": 0,
              "ticks": ""
             }
            },
            "type": "scatter3d"
           }
          ],
          "scattercarpet": [
           {
            "marker": {
             "colorbar": {
              "outlinewidth": 0,
              "ticks": ""
             }
            },
            "type": "scattercarpet"
           }
          ],
          "scattergeo": [
           {
            "marker": {
             "colorbar": {
              "outlinewidth": 0,
              "ticks": ""
             }
            },
            "type": "scattergeo"
           }
          ],
          "scattergl": [
           {
            "marker": {
             "colorbar": {
              "outlinewidth": 0,
              "ticks": ""
             }
            },
            "type": "scattergl"
           }
          ],
          "scattermap": [
           {
            "marker": {
             "colorbar": {
              "outlinewidth": 0,
              "ticks": ""
             }
            },
            "type": "scattermap"
           }
          ],
          "scattermapbox": [
           {
            "marker": {
             "colorbar": {
              "outlinewidth": 0,
              "ticks": ""
             }
            },
            "type": "scattermapbox"
           }
          ],
          "scatterpolar": [
           {
            "marker": {
             "colorbar": {
              "outlinewidth": 0,
              "ticks": ""
             }
            },
            "type": "scatterpolar"
           }
          ],
          "scatterpolargl": [
           {
            "marker": {
             "colorbar": {
              "outlinewidth": 0,
              "ticks": ""
             }
            },
            "type": "scatterpolargl"
           }
          ],
          "scatterternary": [
           {
            "marker": {
             "colorbar": {
              "outlinewidth": 0,
              "ticks": ""
             }
            },
            "type": "scatterternary"
           }
          ],
          "surface": [
           {
            "colorbar": {
             "outlinewidth": 0,
             "ticks": ""
            },
            "colorscale": [
             [
              0,
              "#0d0887"
             ],
             [
              0.1111111111111111,
              "#46039f"
             ],
             [
              0.2222222222222222,
              "#7201a8"
             ],
             [
              0.3333333333333333,
              "#9c179e"
             ],
             [
              0.4444444444444444,
              "#bd3786"
             ],
             [
              0.5555555555555556,
              "#d8576b"
             ],
             [
              0.6666666666666666,
              "#ed7953"
             ],
             [
              0.7777777777777778,
              "#fb9f3a"
             ],
             [
              0.8888888888888888,
              "#fdca26"
             ],
             [
              1,
              "#f0f921"
             ]
            ],
            "type": "surface"
           }
          ],
          "table": [
           {
            "cells": {
             "fill": {
              "color": "#EBF0F8"
             },
             "line": {
              "color": "white"
             }
            },
            "header": {
             "fill": {
              "color": "#C8D4E3"
             },
             "line": {
              "color": "white"
             }
            },
            "type": "table"
           }
          ]
         },
         "layout": {
          "annotationdefaults": {
           "arrowcolor": "#2a3f5f",
           "arrowhead": 0,
           "arrowwidth": 1
          },
          "autotypenumbers": "strict",
          "coloraxis": {
           "colorbar": {
            "outlinewidth": 0,
            "ticks": ""
           }
          },
          "colorscale": {
           "diverging": [
            [
             0,
             "#8e0152"
            ],
            [
             0.1,
             "#c51b7d"
            ],
            [
             0.2,
             "#de77ae"
            ],
            [
             0.3,
             "#f1b6da"
            ],
            [
             0.4,
             "#fde0ef"
            ],
            [
             0.5,
             "#f7f7f7"
            ],
            [
             0.6,
             "#e6f5d0"
            ],
            [
             0.7,
             "#b8e186"
            ],
            [
             0.8,
             "#7fbc41"
            ],
            [
             0.9,
             "#4d9221"
            ],
            [
             1,
             "#276419"
            ]
           ],
           "sequential": [
            [
             0,
             "#0d0887"
            ],
            [
             0.1111111111111111,
             "#46039f"
            ],
            [
             0.2222222222222222,
             "#7201a8"
            ],
            [
             0.3333333333333333,
             "#9c179e"
            ],
            [
             0.4444444444444444,
             "#bd3786"
            ],
            [
             0.5555555555555556,
             "#d8576b"
            ],
            [
             0.6666666666666666,
             "#ed7953"
            ],
            [
             0.7777777777777778,
             "#fb9f3a"
            ],
            [
             0.8888888888888888,
             "#fdca26"
            ],
            [
             1,
             "#f0f921"
            ]
           ],
           "sequentialminus": [
            [
             0,
             "#0d0887"
            ],
            [
             0.1111111111111111,
             "#46039f"
            ],
            [
             0.2222222222222222,
             "#7201a8"
            ],
            [
             0.3333333333333333,
             "#9c179e"
            ],
            [
             0.4444444444444444,
             "#bd3786"
            ],
            [
             0.5555555555555556,
             "#d8576b"
            ],
            [
             0.6666666666666666,
             "#ed7953"
            ],
            [
             0.7777777777777778,
             "#fb9f3a"
            ],
            [
             0.8888888888888888,
             "#fdca26"
            ],
            [
             1,
             "#f0f921"
            ]
           ]
          },
          "colorway": [
           "#636efa",
           "#EF553B",
           "#00cc96",
           "#ab63fa",
           "#FFA15A",
           "#19d3f3",
           "#FF6692",
           "#B6E880",
           "#FF97FF",
           "#FECB52"
          ],
          "font": {
           "color": "#2a3f5f"
          },
          "geo": {
           "bgcolor": "white",
           "lakecolor": "white",
           "landcolor": "#E5ECF6",
           "showlakes": true,
           "showland": true,
           "subunitcolor": "white"
          },
          "hoverlabel": {
           "align": "left"
          },
          "hovermode": "closest",
          "mapbox": {
           "style": "light"
          },
          "paper_bgcolor": "white",
          "plot_bgcolor": "#E5ECF6",
          "polar": {
           "angularaxis": {
            "gridcolor": "white",
            "linecolor": "white",
            "ticks": ""
           },
           "bgcolor": "#E5ECF6",
           "radialaxis": {
            "gridcolor": "white",
            "linecolor": "white",
            "ticks": ""
           }
          },
          "scene": {
           "xaxis": {
            "backgroundcolor": "#E5ECF6",
            "gridcolor": "white",
            "gridwidth": 2,
            "linecolor": "white",
            "showbackground": true,
            "ticks": "",
            "zerolinecolor": "white"
           },
           "yaxis": {
            "backgroundcolor": "#E5ECF6",
            "gridcolor": "white",
            "gridwidth": 2,
            "linecolor": "white",
            "showbackground": true,
            "ticks": "",
            "zerolinecolor": "white"
           },
           "zaxis": {
            "backgroundcolor": "#E5ECF6",
            "gridcolor": "white",
            "gridwidth": 2,
            "linecolor": "white",
            "showbackground": true,
            "ticks": "",
            "zerolinecolor": "white"
           }
          },
          "shapedefaults": {
           "line": {
            "color": "#2a3f5f"
           }
          },
          "ternary": {
           "aaxis": {
            "gridcolor": "white",
            "linecolor": "white",
            "ticks": ""
           },
           "baxis": {
            "gridcolor": "white",
            "linecolor": "white",
            "ticks": ""
           },
           "bgcolor": "#E5ECF6",
           "caxis": {
            "gridcolor": "white",
            "linecolor": "white",
            "ticks": ""
           }
          },
          "title": {
           "x": 0.05
          },
          "xaxis": {
           "automargin": true,
           "gridcolor": "white",
           "linecolor": "white",
           "ticks": "",
           "title": {
            "standoff": 15
           },
           "zerolinecolor": "white",
           "zerolinewidth": 2
          },
          "yaxis": {
           "automargin": true,
           "gridcolor": "white",
           "linecolor": "white",
           "ticks": "",
           "title": {
            "standoff": 15
           },
           "zerolinecolor": "white",
           "zerolinewidth": 2
          }
         }
        },
        "title": {
         "text": "Bayesian search"
        },
        "xaxis": {
         "title": {
          "text": "Hyperparameter Importance"
         }
        },
        "yaxis": {
         "title": {
          "text": "Hyperparameter"
         }
        }
       }
      }
     },
     "metadata": {},
     "output_type": "display_data"
    }
   ],
   "source": [
    "def plot_params(studies):\n",
    "    for name, study in studies.items():\n",
    "        if name == \"Baseline\":\n",
    "            print(f\"Baseline Model Accuracy: {study:.4f}\")\n",
    "        else:\n",
    "            fig = vis.plot_param_importances(study)  # Get the Plotly figure\n",
    "            fig.update_layout(title_text=f\"{name}\")\n",
    "            fig.show()  # Display the figure\n",
    "\n",
    "plot_params(studies)"
   ]
  }
 ],
 "metadata": {
  "kernelspec": {
   "display_name": "Python 3",
   "language": "python",
   "name": "python3"
  },
  "language_info": {
   "codemirror_mode": {
    "name": "ipython",
    "version": 3
   },
   "file_extension": ".py",
   "mimetype": "text/x-python",
   "name": "python",
   "nbconvert_exporter": "python",
   "pygments_lexer": "ipython3",
   "version": "3.12.6"
  }
 },
 "nbformat": 4,
 "nbformat_minor": 2
}
